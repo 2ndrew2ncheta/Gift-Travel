{
 "cells": [
  {
   "cell_type": "code",
   "execution_count": 1,
   "id": "9ef3d460",
   "metadata": {},
   "outputs": [],
   "source": [
    "#import libraries\n",
    "import pandas as pd\n",
    "import requests\n",
    "from random import randrange\n",
    "import time\n",
    "from bs4 import BeautifulSoup"
   ]
  },
  {
   "cell_type": "code",
   "execution_count": 2,
   "id": "d806177f",
   "metadata": {},
   "outputs": [],
   "source": [
    "base_url=\"https://projects.propublica.org/represent/privately-funded-travel?page=\""
   ]
  },
  {
   "cell_type": "code",
   "execution_count": 3,
   "id": "13cd2918",
   "metadata": {},
   "outputs": [
    {
     "data": {
      "text/plain": [
       "200"
      ]
     },
     "execution_count": 3,
     "metadata": {},
     "output_type": "execute_result"
    }
   ],
   "source": [
    "response=requests.get(base_url+\"1\")\n",
    "response.status_code"
   ]
  },
  {
   "cell_type": "code",
   "execution_count": 4,
   "id": "9e0c2e20",
   "metadata": {},
   "outputs": [],
   "source": [
    "def snooze():\n",
    "    min=10\n",
    "    max=20\n",
    "    timer=randrange(min,max)\n",
    "    print(f\"now snoozing for {timer} secs\")\n",
    "    time.sleep(timer)\n",
    "#makes a snoozer!"
   ]
  },
  {
   "cell_type": "code",
   "execution_count": 5,
   "id": "0629345f",
   "metadata": {},
   "outputs": [
    {
     "data": {
      "text/html": [
       "<div>\n",
       "<style scoped>\n",
       "    .dataframe tbody tr th:only-of-type {\n",
       "        vertical-align: middle;\n",
       "    }\n",
       "\n",
       "    .dataframe tbody tr th {\n",
       "        vertical-align: top;\n",
       "    }\n",
       "\n",
       "    .dataframe thead th {\n",
       "        text-align: right;\n",
       "    }\n",
       "</style>\n",
       "<table border=\"1\" class=\"dataframe\">\n",
       "  <thead>\n",
       "    <tr style=\"text-align: right;\">\n",
       "      <th></th>\n",
       "      <th>Dates</th>\n",
       "      <th>Traveler</th>\n",
       "      <th>Member</th>\n",
       "      <th>Party</th>\n",
       "      <th>State / District</th>\n",
       "      <th>Destination</th>\n",
       "      <th>Sponsor</th>\n",
       "      <th>Filing Type</th>\n",
       "    </tr>\n",
       "  </thead>\n",
       "  <tbody>\n",
       "    <tr>\n",
       "      <th>0</th>\n",
       "      <td>Oct. 26, 2023 - Oct. 29, 2023</td>\n",
       "      <td>Steven Horsford</td>\n",
       "      <td>Steven Horsford</td>\n",
       "      <td>D</td>\n",
       "      <td>NV-4</td>\n",
       "      <td>Houston, TX</td>\n",
       "      <td>Congressional Black Caucus Institute</td>\n",
       "      <td>Original</td>\n",
       "    </tr>\n",
       "    <tr>\n",
       "      <th>1</th>\n",
       "      <td>Oct. 22, 2023 - Oct. 23, 2023</td>\n",
       "      <td>Derek Kilmer</td>\n",
       "      <td>Derek Kilmer</td>\n",
       "      <td>D</td>\n",
       "      <td>WA-6</td>\n",
       "      <td>New York, NY</td>\n",
       "      <td>United Nations Foundation</td>\n",
       "      <td>Original</td>\n",
       "    </tr>\n",
       "    <tr>\n",
       "      <th>2</th>\n",
       "      <td>Oct. 22, 2023 - Oct. 23, 2023</td>\n",
       "      <td>Ted Lieu</td>\n",
       "      <td>Ted Lieu</td>\n",
       "      <td>D</td>\n",
       "      <td>CA-36</td>\n",
       "      <td>New York, NY</td>\n",
       "      <td>United</td>\n",
       "      <td>Original</td>\n",
       "    </tr>\n",
       "    <tr>\n",
       "      <th>3</th>\n",
       "      <td>Oct. 20, 2023 - Oct. 22, 2023</td>\n",
       "      <td>Gregory Smith</td>\n",
       "      <td>Eli Crane</td>\n",
       "      <td>R</td>\n",
       "      <td>AZ-2</td>\n",
       "      <td>Charlottesville, VA</td>\n",
       "      <td>Pew Charitable Trusts</td>\n",
       "      <td>Original</td>\n",
       "    </tr>\n",
       "    <tr>\n",
       "      <th>4</th>\n",
       "      <td>Oct. 20, 2023 - Oct. 21, 2023</td>\n",
       "      <td>Marcus Dunn</td>\n",
       "      <td>George Santos</td>\n",
       "      <td>R</td>\n",
       "      <td>NY-3</td>\n",
       "      <td>Charlottesville, VA</td>\n",
       "      <td>Pew Charitable Trusts</td>\n",
       "      <td>Original</td>\n",
       "    </tr>\n",
       "    <tr>\n",
       "      <th>5</th>\n",
       "      <td>Oct. 20, 2023 - Oct. 21, 2023</td>\n",
       "      <td>Christina Mahoney</td>\n",
       "      <td>Emanuel Cleaver II</td>\n",
       "      <td>D</td>\n",
       "      <td>MO-5</td>\n",
       "      <td>Charlottesville, VA</td>\n",
       "      <td>Pew Charitable Trusts and the Joyce Foundation</td>\n",
       "      <td>Original</td>\n",
       "    </tr>\n",
       "    <tr>\n",
       "      <th>6</th>\n",
       "      <td>Oct. 20, 2023 - Oct. 21, 2023</td>\n",
       "      <td>Cara Camacho</td>\n",
       "      <td>Jim Himes</td>\n",
       "      <td>D</td>\n",
       "      <td>CT-4</td>\n",
       "      <td>Charlottesville, VA</td>\n",
       "      <td>Pew Charitable Trusts and the Joyce Foundation</td>\n",
       "      <td>Original</td>\n",
       "    </tr>\n",
       "    <tr>\n",
       "      <th>7</th>\n",
       "      <td>Oct. 20, 2023 - Oct. 21, 2023</td>\n",
       "      <td>Hunter Ridgway</td>\n",
       "      <td>Matt Cartwright</td>\n",
       "      <td>D</td>\n",
       "      <td>PA-8</td>\n",
       "      <td>Charlottesville, VA</td>\n",
       "      <td>Pew Charitable Trusts and the Joyce Foundation</td>\n",
       "      <td>Original</td>\n",
       "    </tr>\n",
       "    <tr>\n",
       "      <th>8</th>\n",
       "      <td>Oct. 20, 2023 - Oct. 21, 2023</td>\n",
       "      <td>Katherine Bonner</td>\n",
       "      <td>Lloyd Smucker</td>\n",
       "      <td>R</td>\n",
       "      <td>PA-11</td>\n",
       "      <td>Charlottesville, VA</td>\n",
       "      <td>Pew Charitable Trusts and the Joyce Foundation</td>\n",
       "      <td>Original</td>\n",
       "    </tr>\n",
       "    <tr>\n",
       "      <th>9</th>\n",
       "      <td>Oct. 20, 2023 - Oct. 21, 2023</td>\n",
       "      <td>Liana Guerra</td>\n",
       "      <td>Darren Soto</td>\n",
       "      <td>D</td>\n",
       "      <td>FL-9</td>\n",
       "      <td>Charlottesville, VA</td>\n",
       "      <td>Pew Charitable Trusts and the Joyce Foundation</td>\n",
       "      <td>Original</td>\n",
       "    </tr>\n",
       "    <tr>\n",
       "      <th>10</th>\n",
       "      <td>Oct. 20, 2023 - Oct. 21, 2023</td>\n",
       "      <td>Margaret McInnis</td>\n",
       "      <td>Marcy Kaptur</td>\n",
       "      <td>D</td>\n",
       "      <td>OH-9</td>\n",
       "      <td>Charlottesville, VA</td>\n",
       "      <td>Pew Charitable Trusts and the Joyce Foundation</td>\n",
       "      <td>Original</td>\n",
       "    </tr>\n",
       "    <tr>\n",
       "      <th>11</th>\n",
       "      <td>Oct. 20, 2023 - Oct. 21, 2023</td>\n",
       "      <td>Matthew McMurray</td>\n",
       "      <td>Robin Kelly</td>\n",
       "      <td>D</td>\n",
       "      <td>IL-2</td>\n",
       "      <td>Charlottesville, VA</td>\n",
       "      <td>Pew Charitable Trusts and the Joyce Foundation</td>\n",
       "      <td>Original</td>\n",
       "    </tr>\n",
       "    <tr>\n",
       "      <th>12</th>\n",
       "      <td>Oct. 20, 2023 - Oct. 21, 2023</td>\n",
       "      <td>Robert Edmonson</td>\n",
       "      <td>Robert Garcia</td>\n",
       "      <td>D</td>\n",
       "      <td>CA-42</td>\n",
       "      <td>Charlottesville, VA</td>\n",
       "      <td>Pew Charitable Trusts and the Joyce Foundation</td>\n",
       "      <td>Original</td>\n",
       "    </tr>\n",
       "    <tr>\n",
       "      <th>13</th>\n",
       "      <td>Oct. 20, 2023 - Oct. 21, 2023</td>\n",
       "      <td>Steven Carlson</td>\n",
       "      <td>Chris Pappas</td>\n",
       "      <td>D</td>\n",
       "      <td>NH-1</td>\n",
       "      <td>Charlottesville, VA</td>\n",
       "      <td>Pew Charitable Trusts and the Joyce Foundation</td>\n",
       "      <td>Original</td>\n",
       "    </tr>\n",
       "    <tr>\n",
       "      <th>14</th>\n",
       "      <td>Oct. 20, 2023 - Oct. 21, 2023</td>\n",
       "      <td>Shana Teehan</td>\n",
       "      <td>Barry Moore</td>\n",
       "      <td>R</td>\n",
       "      <td>AL-2</td>\n",
       "      <td>Charlottesville, VA</td>\n",
       "      <td>Pew Charitable Trusts and the Joyce Foundation</td>\n",
       "      <td>Original</td>\n",
       "    </tr>\n",
       "    <tr>\n",
       "      <th>15</th>\n",
       "      <td>Oct. 7, 2023 - Oct. 16, 2023</td>\n",
       "      <td>Tiffany Haverly</td>\n",
       "      <td>Adrian Smith</td>\n",
       "      <td>R</td>\n",
       "      <td>NE-3</td>\n",
       "      <td>Zambia</td>\n",
       "      <td>International Republican Institute</td>\n",
       "      <td>Original</td>\n",
       "    </tr>\n",
       "    <tr>\n",
       "      <th>16</th>\n",
       "      <td>Oct. 7, 2023 - Oct. 16, 2023</td>\n",
       "      <td>Leslie Reagan</td>\n",
       "      <td>Michael McCaul</td>\n",
       "      <td>R</td>\n",
       "      <td>TX-10</td>\n",
       "      <td>Zambia</td>\n",
       "      <td>International Republican Institute</td>\n",
       "      <td>Original</td>\n",
       "    </tr>\n",
       "    <tr>\n",
       "      <th>17</th>\n",
       "      <td>Oct. 7, 2023 - Oct. 16, 2023</td>\n",
       "      <td>Mitchell Moonier</td>\n",
       "      <td>Dina Titus</td>\n",
       "      <td>D</td>\n",
       "      <td>NV-1</td>\n",
       "      <td>Zambia</td>\n",
       "      <td>International Republican Institute</td>\n",
       "      <td>Original</td>\n",
       "    </tr>\n",
       "    <tr>\n",
       "      <th>18</th>\n",
       "      <td>Oct. 11, 2023 - Oct. 15, 2023</td>\n",
       "      <td>Alicia Porile</td>\n",
       "      <td>Lisa Blunt Rochester</td>\n",
       "      <td>D</td>\n",
       "      <td>DE-1</td>\n",
       "      <td>Sunnyvale, CA</td>\n",
       "      <td>Information Technology and Innovation Foundation</td>\n",
       "      <td>Original</td>\n",
       "    </tr>\n",
       "    <tr>\n",
       "      <th>19</th>\n",
       "      <td>Oct. 5, 2023 - Oct. 15, 2023</td>\n",
       "      <td>Christopher Ringer</td>\n",
       "      <td>Jeffrey Duncan</td>\n",
       "      <td>R</td>\n",
       "      <td>SC-3</td>\n",
       "      <td>Japan</td>\n",
       "      <td>Japan Center for International Exchange</td>\n",
       "      <td>Original</td>\n",
       "    </tr>\n",
       "    <tr>\n",
       "      <th>20</th>\n",
       "      <td>Oct. 8, 2023 - Oct. 15, 2023</td>\n",
       "      <td>Rahmon Ross</td>\n",
       "      <td>Jennifer McClellan</td>\n",
       "      <td>D</td>\n",
       "      <td>VA-4</td>\n",
       "      <td>Japan</td>\n",
       "      <td>Japan Center for International Exchange</td>\n",
       "      <td>Original</td>\n",
       "    </tr>\n",
       "    <tr>\n",
       "      <th>21</th>\n",
       "      <td>Oct. 7, 2023 - Oct. 15, 2023</td>\n",
       "      <td>Steven Clark</td>\n",
       "      <td>Alex Mooney</td>\n",
       "      <td>R</td>\n",
       "      <td>WV-2</td>\n",
       "      <td>Japan</td>\n",
       "      <td>Japan Center for International Exchange</td>\n",
       "      <td>Original</td>\n",
       "    </tr>\n",
       "    <tr>\n",
       "      <th>22</th>\n",
       "      <td>Oct. 10, 2023 - Oct. 14, 2023</td>\n",
       "      <td>Shaina Zarkin-Scott</td>\n",
       "      <td>Marie Gluesenkamp Perez</td>\n",
       "      <td>D</td>\n",
       "      <td>WA-3</td>\n",
       "      <td>Cambridge, MA</td>\n",
       "      <td>Massachusetts Institute of Technology</td>\n",
       "      <td>Original</td>\n",
       "    </tr>\n",
       "    <tr>\n",
       "      <th>23</th>\n",
       "      <td>Oct. 12, 2023 - Oct. 14, 2023</td>\n",
       "      <td>Constantinos \"Dean\" Ischiropoulos</td>\n",
       "      <td>Mary Gay Scanlon</td>\n",
       "      <td>D</td>\n",
       "      <td>PA-5</td>\n",
       "      <td>Philadelphia, PA</td>\n",
       "      <td>Federal Home</td>\n",
       "      <td>Original</td>\n",
       "    </tr>\n",
       "    <tr>\n",
       "      <th>24</th>\n",
       "      <td>Oct. 7, 2023 - Oct. 14, 2023</td>\n",
       "      <td>Caleb Kostreva</td>\n",
       "      <td>Cory Mills</td>\n",
       "      <td>R</td>\n",
       "      <td>FL-7</td>\n",
       "      <td>China</td>\n",
       "      <td>American Foreign Policy Council, and Sarah Sca...</td>\n",
       "      <td>Original</td>\n",
       "    </tr>\n",
       "    <tr>\n",
       "      <th>25</th>\n",
       "      <td>Oct. 4, 2023 - Oct. 14, 2023</td>\n",
       "      <td>Jooeun Kim</td>\n",
       "      <td>Jennifer Wexton</td>\n",
       "      <td>D</td>\n",
       "      <td>VA-10</td>\n",
       "      <td>China</td>\n",
       "      <td>American Foreign Policy Council and Sarah Scai...</td>\n",
       "      <td>Original</td>\n",
       "    </tr>\n",
       "    <tr>\n",
       "      <th>26</th>\n",
       "      <td>Oct. 11, 2023 - Oct. 14, 2023</td>\n",
       "      <td>Jeffrey Nowill</td>\n",
       "      <td>Stacey Plaskett</td>\n",
       "      <td>D</td>\n",
       "      <td>VI</td>\n",
       "      <td>San Francisco, CA</td>\n",
       "      <td>Software Education Foundation d.b.a. Software....</td>\n",
       "      <td>Original</td>\n",
       "    </tr>\n",
       "    <tr>\n",
       "      <th>27</th>\n",
       "      <td>Oct. 11, 2023 - Oct. 13, 2023</td>\n",
       "      <td>Dev Jhaveri</td>\n",
       "      <td>Lori Trahan</td>\n",
       "      <td>D</td>\n",
       "      <td>MA-3</td>\n",
       "      <td>Sunnyvale, CA</td>\n",
       "      <td>Information Technology and Innovation Foundation</td>\n",
       "      <td>Original</td>\n",
       "    </tr>\n",
       "    <tr>\n",
       "      <th>28</th>\n",
       "      <td>Oct. 11, 2023 - Oct. 13, 2023</td>\n",
       "      <td>Darian Harbeck</td>\n",
       "      <td>Paul Tonko</td>\n",
       "      <td>D</td>\n",
       "      <td>NY-20</td>\n",
       "      <td>Sunnyvale, CA</td>\n",
       "      <td>Information Technology and Innovation Foundation</td>\n",
       "      <td>Original</td>\n",
       "    </tr>\n",
       "    <tr>\n",
       "      <th>29</th>\n",
       "      <td>Oct. 7, 2023 - Oct. 13, 2023</td>\n",
       "      <td>Jessica Larsen</td>\n",
       "      <td>Dean Phillips</td>\n",
       "      <td>D</td>\n",
       "      <td>MN-3</td>\n",
       "      <td>South Korea</td>\n",
       "      <td>Woodrow Wilson International Center for Schola...</td>\n",
       "      <td>Original</td>\n",
       "    </tr>\n",
       "    <tr>\n",
       "      <th>30</th>\n",
       "      <td>Oct. 7, 2023 - Oct. 13, 2023</td>\n",
       "      <td>Max Price</td>\n",
       "      <td>Debbie Wasserman Schultz</td>\n",
       "      <td>D</td>\n",
       "      <td>FL-25</td>\n",
       "      <td>South Korea</td>\n",
       "      <td>Woodrow Wilson International Center for Schola...</td>\n",
       "      <td>Original</td>\n",
       "    </tr>\n",
       "    <tr>\n",
       "      <th>31</th>\n",
       "      <td>Oct. 7, 2023 - Oct. 13, 2023</td>\n",
       "      <td>Monika Konrad</td>\n",
       "      <td>Mark Amodei</td>\n",
       "      <td>R</td>\n",
       "      <td>NV-2</td>\n",
       "      <td>South Korea</td>\n",
       "      <td>Woodrow Wilson International Center for Schola...</td>\n",
       "      <td>Original</td>\n",
       "    </tr>\n",
       "    <tr>\n",
       "      <th>32</th>\n",
       "      <td>Oct. 11, 2023 - Oct. 13, 2023</td>\n",
       "      <td>Sierra Fuller</td>\n",
       "      <td>Yvette D. Clarke</td>\n",
       "      <td>D</td>\n",
       "      <td>NY-9</td>\n",
       "      <td>Sunnyvale, CA</td>\n",
       "      <td>Information Technology and Innovation Foundation</td>\n",
       "      <td>Original</td>\n",
       "    </tr>\n",
       "    <tr>\n",
       "      <th>33</th>\n",
       "      <td>Oct. 11, 2023 - Oct. 13, 2023</td>\n",
       "      <td>Theodore Tanzer</td>\n",
       "      <td>Cathy McMorris Rodgers</td>\n",
       "      <td>R</td>\n",
       "      <td>WA-5</td>\n",
       "      <td>Sunnyvale, CA</td>\n",
       "      <td>Information Technology and Innovation Foundation</td>\n",
       "      <td>Original</td>\n",
       "    </tr>\n",
       "    <tr>\n",
       "      <th>34</th>\n",
       "      <td>Oct. 7, 2023 - Oct. 13, 2023</td>\n",
       "      <td>Elizabeth Mount</td>\n",
       "      <td>Elise Stefanik</td>\n",
       "      <td>R</td>\n",
       "      <td>NY-21</td>\n",
       "      <td>South Korea</td>\n",
       "      <td>Woodrow Wilson International Center for Schola...</td>\n",
       "      <td>Original</td>\n",
       "    </tr>\n",
       "    <tr>\n",
       "      <th>35</th>\n",
       "      <td>Oct. 7, 2023 - Oct. 13, 2023</td>\n",
       "      <td>Jack Lincoln</td>\n",
       "      <td>Ken Calvert</td>\n",
       "      <td>R</td>\n",
       "      <td>CA-41</td>\n",
       "      <td>South Korea</td>\n",
       "      <td>Woodrow Wilson International Center for Schola...</td>\n",
       "      <td>Original</td>\n",
       "    </tr>\n",
       "    <tr>\n",
       "      <th>36</th>\n",
       "      <td>Oct. 12, 2023 - Oct. 13, 2023</td>\n",
       "      <td>Christian Kerr</td>\n",
       "      <td>Robert Garcia</td>\n",
       "      <td>D</td>\n",
       "      <td>CA-42</td>\n",
       "      <td>Philadelphia, PA</td>\n",
       "      <td>Federal Home Loan Bank of Pittsburgh, Federal ...</td>\n",
       "      <td>Original</td>\n",
       "    </tr>\n",
       "    <tr>\n",
       "      <th>37</th>\n",
       "      <td>Oct. 7, 2023 - Oct. 13, 2023</td>\n",
       "      <td>James Dolbow</td>\n",
       "      <td>Austin Scott</td>\n",
       "      <td>R</td>\n",
       "      <td>GA-8</td>\n",
       "      <td>South Korea</td>\n",
       "      <td>Woodrow Wilson International Center for Schola...</td>\n",
       "      <td>Original</td>\n",
       "    </tr>\n",
       "    <tr>\n",
       "      <th>38</th>\n",
       "      <td>Oct. 12, 2023 - Oct. 13, 2023</td>\n",
       "      <td>Iyanla Kollock</td>\n",
       "      <td>Nikema Williams</td>\n",
       "      <td>D</td>\n",
       "      <td>GA-5</td>\n",
       "      <td>Philadelphia, PA</td>\n",
       "      <td>Federal Home Loan Bank of Pittsburgh, Federal ...</td>\n",
       "      <td>Original</td>\n",
       "    </tr>\n",
       "    <tr>\n",
       "      <th>39</th>\n",
       "      <td>Oct. 11, 2023 - Oct. 13, 2023</td>\n",
       "      <td>Edwin Kindler</td>\n",
       "      <td>Bill Foster</td>\n",
       "      <td>D</td>\n",
       "      <td>IL-11</td>\n",
       "      <td>Sunnyvale, CA</td>\n",
       "      <td>Information Technology and Innovation Foundation</td>\n",
       "      <td>Original</td>\n",
       "    </tr>\n",
       "    <tr>\n",
       "      <th>40</th>\n",
       "      <td>Oct. 11, 2023 - Oct. 13, 2023</td>\n",
       "      <td>Earl Flood</td>\n",
       "      <td>Robin Kelly</td>\n",
       "      <td>D</td>\n",
       "      <td>IL-2</td>\n",
       "      <td>San Francisco, CA</td>\n",
       "      <td>Software Education Foundation d.b.a. Software....</td>\n",
       "      <td>Original</td>\n",
       "    </tr>\n",
       "    <tr>\n",
       "      <th>41</th>\n",
       "      <td>Oct. 7, 2023 - Oct. 13, 2023</td>\n",
       "      <td>Mary Croghan</td>\n",
       "      <td>Jim Jordan</td>\n",
       "      <td>R</td>\n",
       "      <td>OH-4</td>\n",
       "      <td>South Korea</td>\n",
       "      <td>Woodrow Wilson International Center for Schola...</td>\n",
       "      <td>Original</td>\n",
       "    </tr>\n",
       "    <tr>\n",
       "      <th>42</th>\n",
       "      <td>Oct. 3, 2023 - Oct. 13, 2023</td>\n",
       "      <td>Maura Weaver</td>\n",
       "      <td>Melanie Stansbury</td>\n",
       "      <td>D</td>\n",
       "      <td>NM-1</td>\n",
       "      <td>South Korea</td>\n",
       "      <td>Woodrow Wilson International Center for Schola...</td>\n",
       "      <td>Original</td>\n",
       "    </tr>\n",
       "    <tr>\n",
       "      <th>43</th>\n",
       "      <td>Oct. 11, 2023 - Oct. 13, 2023</td>\n",
       "      <td>Peter Warren</td>\n",
       "      <td>James Comer</td>\n",
       "      <td>R</td>\n",
       "      <td>KY-1</td>\n",
       "      <td>San Francisco, CA</td>\n",
       "      <td>Software Education Foundation d.b.a. Software....</td>\n",
       "      <td>Original</td>\n",
       "    </tr>\n",
       "    <tr>\n",
       "      <th>44</th>\n",
       "      <td>Oct. 11, 2023 - Oct. 13, 2023</td>\n",
       "      <td>Slate Herman</td>\n",
       "      <td>Cathy McMorris Rodgers</td>\n",
       "      <td>R</td>\n",
       "      <td>WA-5</td>\n",
       "      <td>San Francisco, CA</td>\n",
       "      <td>Software Education Foundation d.b.a. Software....</td>\n",
       "      <td>Original</td>\n",
       "    </tr>\n",
       "    <tr>\n",
       "      <th>45</th>\n",
       "      <td>Oct. 12, 2023 - Oct. 13, 2023</td>\n",
       "      <td>Sarah Jacobs</td>\n",
       "      <td>Madeleine Dean</td>\n",
       "      <td>D</td>\n",
       "      <td>PA-4</td>\n",
       "      <td>Philadelphia, PA</td>\n",
       "      <td>Federal Home Loan Bank of Pittsburgh, Federal ...</td>\n",
       "      <td>Original</td>\n",
       "    </tr>\n",
       "    <tr>\n",
       "      <th>46</th>\n",
       "      <td>Oct. 11, 2023 - Oct. 13, 2023</td>\n",
       "      <td>Daniel Greene</td>\n",
       "      <td>Frank Pallone</td>\n",
       "      <td>D</td>\n",
       "      <td>NJ-6</td>\n",
       "      <td>San Francisco, CA</td>\n",
       "      <td>Software Education Foundation d.b.a. Software....</td>\n",
       "      <td>Original</td>\n",
       "    </tr>\n",
       "    <tr>\n",
       "      <th>47</th>\n",
       "      <td>Oct. 11, 2023 - Oct. 13, 2023</td>\n",
       "      <td>Rajesh Bharwani</td>\n",
       "      <td>James Comer</td>\n",
       "      <td>R</td>\n",
       "      <td>KY-1</td>\n",
       "      <td>San Francisco, CA</td>\n",
       "      <td>Software Education Foundation d.b.a. Software....</td>\n",
       "      <td>Original</td>\n",
       "    </tr>\n",
       "    <tr>\n",
       "      <th>48</th>\n",
       "      <td>Oct. 10, 2023 - Oct. 12, 2023</td>\n",
       "      <td>Ashley Lund</td>\n",
       "      <td>Raja Krishnamoorthi</td>\n",
       "      <td>D</td>\n",
       "      <td>IL-8</td>\n",
       "      <td>Cambridge, MA</td>\n",
       "      <td>Massachusetts Institute of Technology</td>\n",
       "      <td>Original</td>\n",
       "    </tr>\n",
       "    <tr>\n",
       "      <th>49</th>\n",
       "      <td>Oct. 10, 2023 - Oct. 12, 2023</td>\n",
       "      <td>Christopher Koya</td>\n",
       "      <td>Summer Lee</td>\n",
       "      <td>D</td>\n",
       "      <td>PA-12</td>\n",
       "      <td>Cambridge, MA</td>\n",
       "      <td>Massachusetts Institute of Technology</td>\n",
       "      <td>Original</td>\n",
       "    </tr>\n",
       "  </tbody>\n",
       "</table>\n",
       "</div>"
      ],
      "text/plain": [
       "                            Dates                           Traveler  \\\n",
       "0   Oct. 26, 2023 - Oct. 29, 2023                    Steven Horsford   \n",
       "1   Oct. 22, 2023 - Oct. 23, 2023                       Derek Kilmer   \n",
       "2   Oct. 22, 2023 - Oct. 23, 2023                           Ted Lieu   \n",
       "3   Oct. 20, 2023 - Oct. 22, 2023                      Gregory Smith   \n",
       "4   Oct. 20, 2023 - Oct. 21, 2023                        Marcus Dunn   \n",
       "5   Oct. 20, 2023 - Oct. 21, 2023                  Christina Mahoney   \n",
       "6   Oct. 20, 2023 - Oct. 21, 2023                       Cara Camacho   \n",
       "7   Oct. 20, 2023 - Oct. 21, 2023                     Hunter Ridgway   \n",
       "8   Oct. 20, 2023 - Oct. 21, 2023                   Katherine Bonner   \n",
       "9   Oct. 20, 2023 - Oct. 21, 2023                       Liana Guerra   \n",
       "10  Oct. 20, 2023 - Oct. 21, 2023                   Margaret McInnis   \n",
       "11  Oct. 20, 2023 - Oct. 21, 2023                   Matthew McMurray   \n",
       "12  Oct. 20, 2023 - Oct. 21, 2023                    Robert Edmonson   \n",
       "13  Oct. 20, 2023 - Oct. 21, 2023                     Steven Carlson   \n",
       "14  Oct. 20, 2023 - Oct. 21, 2023                       Shana Teehan   \n",
       "15   Oct. 7, 2023 - Oct. 16, 2023                    Tiffany Haverly   \n",
       "16   Oct. 7, 2023 - Oct. 16, 2023                      Leslie Reagan   \n",
       "17   Oct. 7, 2023 - Oct. 16, 2023                   Mitchell Moonier   \n",
       "18  Oct. 11, 2023 - Oct. 15, 2023                      Alicia Porile   \n",
       "19   Oct. 5, 2023 - Oct. 15, 2023                 Christopher Ringer   \n",
       "20   Oct. 8, 2023 - Oct. 15, 2023                        Rahmon Ross   \n",
       "21   Oct. 7, 2023 - Oct. 15, 2023                       Steven Clark   \n",
       "22  Oct. 10, 2023 - Oct. 14, 2023                Shaina Zarkin-Scott   \n",
       "23  Oct. 12, 2023 - Oct. 14, 2023  Constantinos \"Dean\" Ischiropoulos   \n",
       "24   Oct. 7, 2023 - Oct. 14, 2023                     Caleb Kostreva   \n",
       "25   Oct. 4, 2023 - Oct. 14, 2023                         Jooeun Kim   \n",
       "26  Oct. 11, 2023 - Oct. 14, 2023                     Jeffrey Nowill   \n",
       "27  Oct. 11, 2023 - Oct. 13, 2023                        Dev Jhaveri   \n",
       "28  Oct. 11, 2023 - Oct. 13, 2023                     Darian Harbeck   \n",
       "29   Oct. 7, 2023 - Oct. 13, 2023                     Jessica Larsen   \n",
       "30   Oct. 7, 2023 - Oct. 13, 2023                          Max Price   \n",
       "31   Oct. 7, 2023 - Oct. 13, 2023                      Monika Konrad   \n",
       "32  Oct. 11, 2023 - Oct. 13, 2023                      Sierra Fuller   \n",
       "33  Oct. 11, 2023 - Oct. 13, 2023                    Theodore Tanzer   \n",
       "34   Oct. 7, 2023 - Oct. 13, 2023                    Elizabeth Mount   \n",
       "35   Oct. 7, 2023 - Oct. 13, 2023                       Jack Lincoln   \n",
       "36  Oct. 12, 2023 - Oct. 13, 2023                     Christian Kerr   \n",
       "37   Oct. 7, 2023 - Oct. 13, 2023                       James Dolbow   \n",
       "38  Oct. 12, 2023 - Oct. 13, 2023                     Iyanla Kollock   \n",
       "39  Oct. 11, 2023 - Oct. 13, 2023                      Edwin Kindler   \n",
       "40  Oct. 11, 2023 - Oct. 13, 2023                         Earl Flood   \n",
       "41   Oct. 7, 2023 - Oct. 13, 2023                       Mary Croghan   \n",
       "42   Oct. 3, 2023 - Oct. 13, 2023                       Maura Weaver   \n",
       "43  Oct. 11, 2023 - Oct. 13, 2023                       Peter Warren   \n",
       "44  Oct. 11, 2023 - Oct. 13, 2023                       Slate Herman   \n",
       "45  Oct. 12, 2023 - Oct. 13, 2023                       Sarah Jacobs   \n",
       "46  Oct. 11, 2023 - Oct. 13, 2023                      Daniel Greene   \n",
       "47  Oct. 11, 2023 - Oct. 13, 2023                    Rajesh Bharwani   \n",
       "48  Oct. 10, 2023 - Oct. 12, 2023                        Ashley Lund   \n",
       "49  Oct. 10, 2023 - Oct. 12, 2023                   Christopher Koya   \n",
       "\n",
       "                      Member Party State / District          Destination  \\\n",
       "0            Steven Horsford     D             NV-4          Houston, TX   \n",
       "1               Derek Kilmer     D             WA-6         New York, NY   \n",
       "2                   Ted Lieu     D            CA-36         New York, NY   \n",
       "3                  Eli Crane     R             AZ-2  Charlottesville, VA   \n",
       "4              George Santos     R             NY-3  Charlottesville, VA   \n",
       "5         Emanuel Cleaver II     D             MO-5  Charlottesville, VA   \n",
       "6                  Jim Himes     D             CT-4  Charlottesville, VA   \n",
       "7            Matt Cartwright     D             PA-8  Charlottesville, VA   \n",
       "8              Lloyd Smucker     R            PA-11  Charlottesville, VA   \n",
       "9                Darren Soto     D             FL-9  Charlottesville, VA   \n",
       "10              Marcy Kaptur     D             OH-9  Charlottesville, VA   \n",
       "11               Robin Kelly     D             IL-2  Charlottesville, VA   \n",
       "12             Robert Garcia     D            CA-42  Charlottesville, VA   \n",
       "13              Chris Pappas     D             NH-1  Charlottesville, VA   \n",
       "14               Barry Moore     R             AL-2  Charlottesville, VA   \n",
       "15              Adrian Smith     R             NE-3               Zambia   \n",
       "16            Michael McCaul     R            TX-10               Zambia   \n",
       "17                Dina Titus     D             NV-1               Zambia   \n",
       "18      Lisa Blunt Rochester     D             DE-1        Sunnyvale, CA   \n",
       "19            Jeffrey Duncan     R             SC-3                Japan   \n",
       "20        Jennifer McClellan     D             VA-4                Japan   \n",
       "21               Alex Mooney     R             WV-2                Japan   \n",
       "22   Marie Gluesenkamp Perez     D             WA-3        Cambridge, MA   \n",
       "23          Mary Gay Scanlon     D             PA-5     Philadelphia, PA   \n",
       "24                Cory Mills     R             FL-7                China   \n",
       "25           Jennifer Wexton     D            VA-10                China   \n",
       "26           Stacey Plaskett     D               VI    San Francisco, CA   \n",
       "27               Lori Trahan     D             MA-3        Sunnyvale, CA   \n",
       "28                Paul Tonko     D            NY-20        Sunnyvale, CA   \n",
       "29             Dean Phillips     D             MN-3          South Korea   \n",
       "30  Debbie Wasserman Schultz     D            FL-25          South Korea   \n",
       "31               Mark Amodei     R             NV-2          South Korea   \n",
       "32          Yvette D. Clarke     D             NY-9        Sunnyvale, CA   \n",
       "33    Cathy McMorris Rodgers     R             WA-5        Sunnyvale, CA   \n",
       "34            Elise Stefanik     R            NY-21          South Korea   \n",
       "35               Ken Calvert     R            CA-41          South Korea   \n",
       "36             Robert Garcia     D            CA-42     Philadelphia, PA   \n",
       "37              Austin Scott     R             GA-8          South Korea   \n",
       "38           Nikema Williams     D             GA-5     Philadelphia, PA   \n",
       "39               Bill Foster     D            IL-11        Sunnyvale, CA   \n",
       "40               Robin Kelly     D             IL-2    San Francisco, CA   \n",
       "41                Jim Jordan     R             OH-4          South Korea   \n",
       "42         Melanie Stansbury     D             NM-1          South Korea   \n",
       "43               James Comer     R             KY-1    San Francisco, CA   \n",
       "44    Cathy McMorris Rodgers     R             WA-5    San Francisco, CA   \n",
       "45            Madeleine Dean     D             PA-4     Philadelphia, PA   \n",
       "46             Frank Pallone     D             NJ-6    San Francisco, CA   \n",
       "47               James Comer     R             KY-1    San Francisco, CA   \n",
       "48       Raja Krishnamoorthi     D             IL-8        Cambridge, MA   \n",
       "49                Summer Lee     D            PA-12        Cambridge, MA   \n",
       "\n",
       "                                              Sponsor Filing Type  \n",
       "0                Congressional Black Caucus Institute    Original  \n",
       "1                           United Nations Foundation    Original  \n",
       "2                                              United    Original  \n",
       "3                               Pew Charitable Trusts    Original  \n",
       "4                               Pew Charitable Trusts    Original  \n",
       "5      Pew Charitable Trusts and the Joyce Foundation    Original  \n",
       "6      Pew Charitable Trusts and the Joyce Foundation    Original  \n",
       "7      Pew Charitable Trusts and the Joyce Foundation    Original  \n",
       "8      Pew Charitable Trusts and the Joyce Foundation    Original  \n",
       "9      Pew Charitable Trusts and the Joyce Foundation    Original  \n",
       "10     Pew Charitable Trusts and the Joyce Foundation    Original  \n",
       "11     Pew Charitable Trusts and the Joyce Foundation    Original  \n",
       "12     Pew Charitable Trusts and the Joyce Foundation    Original  \n",
       "13     Pew Charitable Trusts and the Joyce Foundation    Original  \n",
       "14     Pew Charitable Trusts and the Joyce Foundation    Original  \n",
       "15                 International Republican Institute    Original  \n",
       "16                 International Republican Institute    Original  \n",
       "17                 International Republican Institute    Original  \n",
       "18   Information Technology and Innovation Foundation    Original  \n",
       "19            Japan Center for International Exchange    Original  \n",
       "20            Japan Center for International Exchange    Original  \n",
       "21            Japan Center for International Exchange    Original  \n",
       "22              Massachusetts Institute of Technology    Original  \n",
       "23                                       Federal Home    Original  \n",
       "24  American Foreign Policy Council, and Sarah Sca...    Original  \n",
       "25  American Foreign Policy Council and Sarah Scai...    Original  \n",
       "26  Software Education Foundation d.b.a. Software....    Original  \n",
       "27   Information Technology and Innovation Foundation    Original  \n",
       "28   Information Technology and Innovation Foundation    Original  \n",
       "29  Woodrow Wilson International Center for Schola...    Original  \n",
       "30  Woodrow Wilson International Center for Schola...    Original  \n",
       "31  Woodrow Wilson International Center for Schola...    Original  \n",
       "32   Information Technology and Innovation Foundation    Original  \n",
       "33   Information Technology and Innovation Foundation    Original  \n",
       "34  Woodrow Wilson International Center for Schola...    Original  \n",
       "35  Woodrow Wilson International Center for Schola...    Original  \n",
       "36  Federal Home Loan Bank of Pittsburgh, Federal ...    Original  \n",
       "37  Woodrow Wilson International Center for Schola...    Original  \n",
       "38  Federal Home Loan Bank of Pittsburgh, Federal ...    Original  \n",
       "39   Information Technology and Innovation Foundation    Original  \n",
       "40  Software Education Foundation d.b.a. Software....    Original  \n",
       "41  Woodrow Wilson International Center for Schola...    Original  \n",
       "42  Woodrow Wilson International Center for Schola...    Original  \n",
       "43  Software Education Foundation d.b.a. Software....    Original  \n",
       "44  Software Education Foundation d.b.a. Software....    Original  \n",
       "45  Federal Home Loan Bank of Pittsburgh, Federal ...    Original  \n",
       "46  Software Education Foundation d.b.a. Software....    Original  \n",
       "47  Software Education Foundation d.b.a. Software....    Original  \n",
       "48              Massachusetts Institute of Technology    Original  \n",
       "49              Massachusetts Institute of Technology    Original  "
      ]
     },
     "execution_count": 5,
     "metadata": {},
     "output_type": "execute_result"
    }
   ],
   "source": [
    "response=requests.get(base_url+\"1\")\n",
    "table=pd.read_html(response.text)\n",
    "df=table[0]\n",
    "df\n",
    "#Let's try one page"
   ]
  },
  {
   "cell_type": "code",
   "execution_count": 6,
   "id": "7b1acb93",
   "metadata": {},
   "outputs": [
    {
     "data": {
      "text/plain": [
       "(50, 8)"
      ]
     },
     "execution_count": 6,
     "metadata": {},
     "output_type": "execute_result"
    }
   ],
   "source": [
    "df.shape"
   ]
  },
  {
   "cell_type": "code",
   "execution_count": 7,
   "id": "a5b64b50",
   "metadata": {},
   "outputs": [
    {
     "data": {
      "text/plain": [
       "pandas.core.frame.DataFrame"
      ]
     },
     "execution_count": 7,
     "metadata": {},
     "output_type": "execute_result"
    }
   ],
   "source": [
    "type(table[0])"
   ]
  },
  {
   "cell_type": "code",
   "execution_count": 8,
   "id": "0dc6d3dc",
   "metadata": {},
   "outputs": [
    {
     "data": {
      "text/html": [
       "<div>\n",
       "<style scoped>\n",
       "    .dataframe tbody tr th:only-of-type {\n",
       "        vertical-align: middle;\n",
       "    }\n",
       "\n",
       "    .dataframe tbody tr th {\n",
       "        vertical-align: top;\n",
       "    }\n",
       "\n",
       "    .dataframe thead th {\n",
       "        text-align: right;\n",
       "    }\n",
       "</style>\n",
       "<table border=\"1\" class=\"dataframe\">\n",
       "  <thead>\n",
       "    <tr style=\"text-align: right;\">\n",
       "      <th></th>\n",
       "      <th>Dates</th>\n",
       "      <th>Traveler</th>\n",
       "      <th>Member</th>\n",
       "      <th>Party</th>\n",
       "      <th>State / District</th>\n",
       "      <th>Destination</th>\n",
       "      <th>Sponsor</th>\n",
       "      <th>Filing Type</th>\n",
       "    </tr>\n",
       "  </thead>\n",
       "  <tbody>\n",
       "    <tr>\n",
       "      <th>0</th>\n",
       "      <td>Oct. 10, 2023 - Oct. 12, 2023</td>\n",
       "      <td>Lester Spencer</td>\n",
       "      <td>Emanuel Cleaver II</td>\n",
       "      <td>D</td>\n",
       "      <td>MO-5</td>\n",
       "      <td>Cambridge, MD</td>\n",
       "      <td>Massachusetts Institute of Technology</td>\n",
       "      <td>Original</td>\n",
       "    </tr>\n",
       "    <tr>\n",
       "      <th>1</th>\n",
       "      <td>Oct. 10, 2023 - Oct. 12, 2023</td>\n",
       "      <td>Melody Tan</td>\n",
       "      <td>Jennifer McClellan</td>\n",
       "      <td>D</td>\n",
       "      <td>VA-4</td>\n",
       "      <td>Cambridge, MA</td>\n",
       "      <td>Massachusetts Institute of Technology</td>\n",
       "      <td>Original</td>\n",
       "    </tr>\n",
       "    <tr>\n",
       "      <th>2</th>\n",
       "      <td>Oct. 10, 2023 - Oct. 12, 2023</td>\n",
       "      <td>Mitchell Heidenreich</td>\n",
       "      <td>Jill Tokuda</td>\n",
       "      <td>D</td>\n",
       "      <td>HI-2</td>\n",
       "      <td>Cambridge, MA</td>\n",
       "      <td>Massachusetts Institute of Technology</td>\n",
       "      <td>Original</td>\n",
       "    </tr>\n",
       "    <tr>\n",
       "      <th>3</th>\n",
       "      <td>Oct. 10, 2023 - Oct. 12, 2023</td>\n",
       "      <td>Noelle Gasper</td>\n",
       "      <td>Rick Larsen</td>\n",
       "      <td>D</td>\n",
       "      <td>WA-2</td>\n",
       "      <td>Cambridge, MD</td>\n",
       "      <td>Massachusetts Institute of Technology</td>\n",
       "      <td>Original</td>\n",
       "    </tr>\n",
       "    <tr>\n",
       "      <th>4</th>\n",
       "      <td>Oct. 10, 2023 - Oct. 12, 2023</td>\n",
       "      <td>William Dwyer</td>\n",
       "      <td>Robin Kelly</td>\n",
       "      <td>D</td>\n",
       "      <td>IL-2</td>\n",
       "      <td>Cambridge, MA</td>\n",
       "      <td>Massachusetts Institute of Technology</td>\n",
       "      <td>Original</td>\n",
       "    </tr>\n",
       "    <tr>\n",
       "      <th>5</th>\n",
       "      <td>Oct. 12, 2023 - Oct. 12, 2023</td>\n",
       "      <td>Andrew Bambrick</td>\n",
       "      <td>Bruce Westerman</td>\n",
       "      <td>R</td>\n",
       "      <td>AR-4</td>\n",
       "      <td>Baltimore, MD</td>\n",
       "      <td>National Park Foundation, Coca-Cola Company, a...</td>\n",
       "      <td>Original</td>\n",
       "    </tr>\n",
       "    <tr>\n",
       "      <th>6</th>\n",
       "      <td>Oct. 10, 2023 - Oct. 12, 2023</td>\n",
       "      <td>Lester Spencer</td>\n",
       "      <td>Emanuel Cleaver II</td>\n",
       "      <td>D</td>\n",
       "      <td>MO-5</td>\n",
       "      <td>Cambridge, MA</td>\n",
       "      <td>Massachusetts Institute of Technology</td>\n",
       "      <td>Original</td>\n",
       "    </tr>\n",
       "    <tr>\n",
       "      <th>7</th>\n",
       "      <td>Oct. 8, 2023 - Oct. 12, 2023</td>\n",
       "      <td>Brendan Larkin</td>\n",
       "      <td>Paul Tonko</td>\n",
       "      <td>D</td>\n",
       "      <td>NY-20</td>\n",
       "      <td>France</td>\n",
       "      <td>Foundation for Nuclear Studies</td>\n",
       "      <td>Original</td>\n",
       "    </tr>\n",
       "    <tr>\n",
       "      <th>8</th>\n",
       "      <td>Oct. 10, 2023 - Oct. 12, 2023</td>\n",
       "      <td>Emma Reidy</td>\n",
       "      <td>Ruben Gallego</td>\n",
       "      <td>D</td>\n",
       "      <td>AZ-3</td>\n",
       "      <td>Cambridge, MA</td>\n",
       "      <td>Massachusetts Institute of Technology</td>\n",
       "      <td>Original</td>\n",
       "    </tr>\n",
       "    <tr>\n",
       "      <th>9</th>\n",
       "      <td>Oct. 8, 2023 - Oct. 12, 2023</td>\n",
       "      <td>Elise Krekorian</td>\n",
       "      <td>Cathy McMorris Rodgers</td>\n",
       "      <td>R</td>\n",
       "      <td>WA-5</td>\n",
       "      <td>France</td>\n",
       "      <td>Foundation for Nuclear Studies</td>\n",
       "      <td>Original</td>\n",
       "    </tr>\n",
       "    <tr>\n",
       "      <th>10</th>\n",
       "      <td>Oct. 8, 2023 - Oct. 12, 2023</td>\n",
       "      <td>Hillary O'Brien</td>\n",
       "      <td>Frank D. Lucas</td>\n",
       "      <td>R</td>\n",
       "      <td>OK-3</td>\n",
       "      <td>France</td>\n",
       "      <td>Foundation for Nuclear Studies</td>\n",
       "      <td>Original</td>\n",
       "    </tr>\n",
       "    <tr>\n",
       "      <th>11</th>\n",
       "      <td>Oct. 6, 2023 - Oct. 12, 2023</td>\n",
       "      <td>Kristopher Pittard</td>\n",
       "      <td>Frank Pallone</td>\n",
       "      <td>D</td>\n",
       "      <td>NJ-6</td>\n",
       "      <td>France</td>\n",
       "      <td>Foundation for Nuclear Studies</td>\n",
       "      <td>Original</td>\n",
       "    </tr>\n",
       "    <tr>\n",
       "      <th>12</th>\n",
       "      <td>Oct. 10, 2023 - Oct. 12, 2023</td>\n",
       "      <td>Brian Rogers</td>\n",
       "      <td>Kevin Mullin</td>\n",
       "      <td>D</td>\n",
       "      <td>CA-15</td>\n",
       "      <td>Cambridge, MA</td>\n",
       "      <td>Massachusetts Institute of Technology</td>\n",
       "      <td>Original</td>\n",
       "    </tr>\n",
       "    <tr>\n",
       "      <th>13</th>\n",
       "      <td>Oct. 4, 2023 - Oct. 11, 2023</td>\n",
       "      <td>Tim Walberg</td>\n",
       "      <td>Tim Walberg</td>\n",
       "      <td>R</td>\n",
       "      <td>MI-5</td>\n",
       "      <td>Uganda</td>\n",
       "      <td>Fellowship Foundation (d.b.a. International</td>\n",
       "      <td>Original</td>\n",
       "    </tr>\n",
       "    <tr>\n",
       "      <th>14</th>\n",
       "      <td>Oct. 8, 2023 - Oct. 9, 2023</td>\n",
       "      <td>Michael Bauman</td>\n",
       "      <td>Rick Larsen</td>\n",
       "      <td>D</td>\n",
       "      <td>WA-2</td>\n",
       "      <td>Orlando, FL</td>\n",
       "      <td>American Public Transportation Association</td>\n",
       "      <td>Original</td>\n",
       "    </tr>\n",
       "    <tr>\n",
       "      <th>15</th>\n",
       "      <td>Oct. 3, 2023 - Oct. 5, 2023</td>\n",
       "      <td>Charles McGrath</td>\n",
       "      <td>Patrick T. McHenry</td>\n",
       "      <td>R</td>\n",
       "      <td>NC-10</td>\n",
       "      <td>St. Louis, MO</td>\n",
       "      <td>Conference of State Bank Supervisors and the F...</td>\n",
       "      <td>Original</td>\n",
       "    </tr>\n",
       "    <tr>\n",
       "      <th>16</th>\n",
       "      <td>Oct. 3, 2023 - Oct. 5, 2023</td>\n",
       "      <td>Megan Guiltinan</td>\n",
       "      <td>Andy Barr</td>\n",
       "      <td>R</td>\n",
       "      <td>KY-6</td>\n",
       "      <td>St. Louis, MO</td>\n",
       "      <td>Conference of State Bank Supervisors and the F...</td>\n",
       "      <td>Original</td>\n",
       "    </tr>\n",
       "    <tr>\n",
       "      <th>17</th>\n",
       "      <td>Sept. 25, 2023 - Sept. 27, 2023</td>\n",
       "      <td>David Bean</td>\n",
       "      <td>Larry Bucshon</td>\n",
       "      <td>R</td>\n",
       "      <td>IN-8</td>\n",
       "      <td>Las Vegas, NV</td>\n",
       "      <td>CTIA</td>\n",
       "      <td>Original</td>\n",
       "    </tr>\n",
       "    <tr>\n",
       "      <th>18</th>\n",
       "      <td>Sept. 25, 2023 - Sept. 27, 2023</td>\n",
       "      <td>David Horsley</td>\n",
       "      <td>August Pfluger</td>\n",
       "      <td>R</td>\n",
       "      <td>TX-11</td>\n",
       "      <td>Las Vegas, NV</td>\n",
       "      <td>CTIA</td>\n",
       "      <td>Original</td>\n",
       "    </tr>\n",
       "    <tr>\n",
       "      <th>19</th>\n",
       "      <td>Sept. 25, 2023 - Sept. 27, 2023</td>\n",
       "      <td>Reagan Harrison</td>\n",
       "      <td>John Joyce</td>\n",
       "      <td>R</td>\n",
       "      <td>PA-13</td>\n",
       "      <td>Las Vegas, NV</td>\n",
       "      <td>CTIA</td>\n",
       "      <td>Original</td>\n",
       "    </tr>\n",
       "    <tr>\n",
       "      <th>20</th>\n",
       "      <td>Sept. 16, 2023 - Sept. 17, 2023</td>\n",
       "      <td>Joyce Beatty</td>\n",
       "      <td>Joyce Beatty</td>\n",
       "      <td>D</td>\n",
       "      <td>OH-3</td>\n",
       "      <td>Rapid City, SD</td>\n",
       "      <td>Ripon Society and the Franklin Center for Glob...</td>\n",
       "      <td>Original</td>\n",
       "    </tr>\n",
       "    <tr>\n",
       "      <th>21</th>\n",
       "      <td>Sept. 16, 2023 - Sept. 17, 2023</td>\n",
       "      <td>Kelly Armstrong</td>\n",
       "      <td>Kelly Armstrong</td>\n",
       "      <td>R</td>\n",
       "      <td>ND-1</td>\n",
       "      <td>Rapid City, SD</td>\n",
       "      <td>Ripon Society and the Franklin Center for Glob...</td>\n",
       "      <td>Original</td>\n",
       "    </tr>\n",
       "    <tr>\n",
       "      <th>22</th>\n",
       "      <td>Sept. 16, 2023 - Sept. 17, 2023</td>\n",
       "      <td>Adrian Smith</td>\n",
       "      <td>Adrian Smith</td>\n",
       "      <td>R</td>\n",
       "      <td>NE-3</td>\n",
       "      <td>Rapid City, SD</td>\n",
       "      <td>Ripon Society and the Franklin Center for Glob...</td>\n",
       "      <td>Original</td>\n",
       "    </tr>\n",
       "    <tr>\n",
       "      <th>23</th>\n",
       "      <td>Sept. 1, 2023 - Sept. 10, 2023</td>\n",
       "      <td>Valerie Foushee</td>\n",
       "      <td>Valerie Foushee</td>\n",
       "      <td>D</td>\n",
       "      <td>NC-4</td>\n",
       "      <td>Israel</td>\n",
       "      <td>American Israel Education Foundation</td>\n",
       "      <td>Original</td>\n",
       "    </tr>\n",
       "    <tr>\n",
       "      <th>24</th>\n",
       "      <td>Sept. 1, 2023 - Sept. 10, 2023</td>\n",
       "      <td>Valerie Foushee</td>\n",
       "      <td>Valerie Foushee</td>\n",
       "      <td>D</td>\n",
       "      <td>NC-4</td>\n",
       "      <td>Rwanda</td>\n",
       "      <td>American Israel Education Foundation</td>\n",
       "      <td>Original</td>\n",
       "    </tr>\n",
       "    <tr>\n",
       "      <th>25</th>\n",
       "      <td>Sept. 1, 2023 - Sept. 10, 2023</td>\n",
       "      <td>Troy A. Carter, Sr.</td>\n",
       "      <td>Troy Carter</td>\n",
       "      <td>D</td>\n",
       "      <td>LA-2</td>\n",
       "      <td>Rwanda</td>\n",
       "      <td>American Israel Education Foundation</td>\n",
       "      <td>Original</td>\n",
       "    </tr>\n",
       "    <tr>\n",
       "      <th>26</th>\n",
       "      <td>Sept. 1, 2023 - Sept. 10, 2023</td>\n",
       "      <td>Sheila Cherfilus-McCormick</td>\n",
       "      <td>Sheila Cherfilus-McCormick</td>\n",
       "      <td>D</td>\n",
       "      <td>FL-20</td>\n",
       "      <td>Israel</td>\n",
       "      <td>American Israel Education Foundation</td>\n",
       "      <td>Original</td>\n",
       "    </tr>\n",
       "    <tr>\n",
       "      <th>27</th>\n",
       "      <td>Sept. 1, 2023 - Sept. 10, 2023</td>\n",
       "      <td>Sheila Cherfilus-McCormick</td>\n",
       "      <td>Sheila Cherfilus-McCormick</td>\n",
       "      <td>D</td>\n",
       "      <td>FL-20</td>\n",
       "      <td>Rwanda</td>\n",
       "      <td>American Israel Education Foundation</td>\n",
       "      <td>Original</td>\n",
       "    </tr>\n",
       "    <tr>\n",
       "      <th>28</th>\n",
       "      <td>Sept. 1, 2023 - Sept. 10, 2023</td>\n",
       "      <td>Lucy McBath</td>\n",
       "      <td>Lucy McBath</td>\n",
       "      <td>D</td>\n",
       "      <td>GA-7</td>\n",
       "      <td>Israel</td>\n",
       "      <td>American Israel Education Foundation</td>\n",
       "      <td>Original</td>\n",
       "    </tr>\n",
       "    <tr>\n",
       "      <th>29</th>\n",
       "      <td>Sept. 1, 2023 - Sept. 10, 2023</td>\n",
       "      <td>Alma S. Adams</td>\n",
       "      <td>Alma Adams</td>\n",
       "      <td>D</td>\n",
       "      <td>NC-12</td>\n",
       "      <td>Israel</td>\n",
       "      <td>American Israel Education Foundation</td>\n",
       "      <td>Original</td>\n",
       "    </tr>\n",
       "    <tr>\n",
       "      <th>30</th>\n",
       "      <td>Sept. 1, 2023 - Sept. 10, 2023</td>\n",
       "      <td>Lucy McBath</td>\n",
       "      <td>Lucy McBath</td>\n",
       "      <td>D</td>\n",
       "      <td>GA-7</td>\n",
       "      <td>Rwanda</td>\n",
       "      <td>American Israel Education Foundation</td>\n",
       "      <td>Original</td>\n",
       "    </tr>\n",
       "    <tr>\n",
       "      <th>31</th>\n",
       "      <td>Sept. 1, 2023 - Sept. 10, 2023</td>\n",
       "      <td>Alma S. Adams</td>\n",
       "      <td>Alma Adams</td>\n",
       "      <td>D</td>\n",
       "      <td>NC-12</td>\n",
       "      <td>Rwanda</td>\n",
       "      <td>American Israel Education Foundation</td>\n",
       "      <td>Original</td>\n",
       "    </tr>\n",
       "    <tr>\n",
       "      <th>32</th>\n",
       "      <td>Sept. 1, 2023 - Sept. 10, 2023</td>\n",
       "      <td>Nikema Williams</td>\n",
       "      <td>Nikema Williams</td>\n",
       "      <td>D</td>\n",
       "      <td>GA-5</td>\n",
       "      <td>Israel</td>\n",
       "      <td>American Israel Education Foundation</td>\n",
       "      <td>Original</td>\n",
       "    </tr>\n",
       "    <tr>\n",
       "      <th>33</th>\n",
       "      <td>Sept. 1, 2023 - Sept. 10, 2023</td>\n",
       "      <td>Nikema Williams</td>\n",
       "      <td>Nikema Williams</td>\n",
       "      <td>D</td>\n",
       "      <td>GA-5</td>\n",
       "      <td>Rwanda</td>\n",
       "      <td>American Israel Education Foundation</td>\n",
       "      <td>Original</td>\n",
       "    </tr>\n",
       "    <tr>\n",
       "      <th>34</th>\n",
       "      <td>Sept. 1, 2023 - Sept. 10, 2023</td>\n",
       "      <td>Sheila Cherfilus-McCormick</td>\n",
       "      <td>Sheila Cherfilus-McCormick</td>\n",
       "      <td>D</td>\n",
       "      <td>FL-20</td>\n",
       "      <td>Israel, Rwanda</td>\n",
       "      <td>American Israel Education Foundation</td>\n",
       "      <td>Original</td>\n",
       "    </tr>\n",
       "    <tr>\n",
       "      <th>35</th>\n",
       "      <td>Sept. 1, 2023 - Sept. 10, 2023</td>\n",
       "      <td>Glenn Ivey</td>\n",
       "      <td>Glenn Ivey</td>\n",
       "      <td>D</td>\n",
       "      <td>MD-4</td>\n",
       "      <td>Israel</td>\n",
       "      <td>American Israel Education Foundation</td>\n",
       "      <td>Original</td>\n",
       "    </tr>\n",
       "    <tr>\n",
       "      <th>36</th>\n",
       "      <td>Sept. 1, 2023 - Sept. 10, 2023</td>\n",
       "      <td>Glenn Ivey</td>\n",
       "      <td>Glenn Ivey</td>\n",
       "      <td>D</td>\n",
       "      <td>MD-4</td>\n",
       "      <td>Rwanda</td>\n",
       "      <td>American Israel Education Foundation</td>\n",
       "      <td>Original</td>\n",
       "    </tr>\n",
       "    <tr>\n",
       "      <th>37</th>\n",
       "      <td>Sept. 6, 2023 - Sept. 10, 2023</td>\n",
       "      <td>Jim Costa</td>\n",
       "      <td>Jim Costa</td>\n",
       "      <td>D</td>\n",
       "      <td>CA-21</td>\n",
       "      <td>Ukraine</td>\n",
       "      <td>Yalta European Strategy Limited</td>\n",
       "      <td>Original</td>\n",
       "    </tr>\n",
       "    <tr>\n",
       "      <th>38</th>\n",
       "      <td>Sept. 1, 2023 - Sept. 10, 2023</td>\n",
       "      <td>Jonathan L. Jackson</td>\n",
       "      <td>Jonathan Jackson</td>\n",
       "      <td>D</td>\n",
       "      <td>IL-1</td>\n",
       "      <td>Israel</td>\n",
       "      <td>American Israel Education Foundation</td>\n",
       "      <td>Original</td>\n",
       "    </tr>\n",
       "    <tr>\n",
       "      <th>39</th>\n",
       "      <td>Sept. 1, 2023 - Sept. 10, 2023</td>\n",
       "      <td>Jonathan L. Jackson</td>\n",
       "      <td>Jonathan Jackson</td>\n",
       "      <td>D</td>\n",
       "      <td>IL-1</td>\n",
       "      <td>Rwanda</td>\n",
       "      <td>American Israel Education Foundation</td>\n",
       "      <td>Original</td>\n",
       "    </tr>\n",
       "    <tr>\n",
       "      <th>40</th>\n",
       "      <td>Sept. 1, 2023 - Sept. 10, 2023</td>\n",
       "      <td>Troy A. Carter, Sr.</td>\n",
       "      <td>Troy Carter</td>\n",
       "      <td>D</td>\n",
       "      <td>LA-2</td>\n",
       "      <td>Israel</td>\n",
       "      <td>American Israel Education Foundation</td>\n",
       "      <td>Original</td>\n",
       "    </tr>\n",
       "    <tr>\n",
       "      <th>41</th>\n",
       "      <td>Sept. 1, 2023 - Sept. 10, 2023</td>\n",
       "      <td>Ritchie Torres</td>\n",
       "      <td>Ritchie Torres</td>\n",
       "      <td>D</td>\n",
       "      <td>NY-15</td>\n",
       "      <td>Israel</td>\n",
       "      <td>American Israel Education Foundation</td>\n",
       "      <td>Original</td>\n",
       "    </tr>\n",
       "    <tr>\n",
       "      <th>42</th>\n",
       "      <td>Sept. 1, 2023 - Sept. 10, 2023</td>\n",
       "      <td>Ritchie Torres</td>\n",
       "      <td>Ritchie Torres</td>\n",
       "      <td>D</td>\n",
       "      <td>NY-15</td>\n",
       "      <td>Rwanda</td>\n",
       "      <td>American Israel Education Foundation</td>\n",
       "      <td>Original</td>\n",
       "    </tr>\n",
       "    <tr>\n",
       "      <th>43</th>\n",
       "      <td>Sept. 7, 2023 - Sept. 9, 2023</td>\n",
       "      <td>Robert Powell</td>\n",
       "      <td>Greg Steube</td>\n",
       "      <td>R</td>\n",
       "      <td>FL-17</td>\n",
       "      <td>Los Angeles, CA</td>\n",
       "      <td>Clean Fuels Alliance Foundation (F/K/A Nationa...</td>\n",
       "      <td>Original</td>\n",
       "    </tr>\n",
       "    <tr>\n",
       "      <th>44</th>\n",
       "      <td>Sept. 7, 2023 - Sept. 9, 2023</td>\n",
       "      <td>Shawn Rusterholz</td>\n",
       "      <td>Pete Stauber</td>\n",
       "      <td>R</td>\n",
       "      <td>MN-8</td>\n",
       "      <td>Los Angeles, CA</td>\n",
       "      <td>Clean Fuels Alliance Foundation (F/K/A Nationa...</td>\n",
       "      <td>Original</td>\n",
       "    </tr>\n",
       "    <tr>\n",
       "      <th>45</th>\n",
       "      <td>Sept. 7, 2023 - Sept. 9, 2023</td>\n",
       "      <td>Christopher Koya</td>\n",
       "      <td>Summer Lee</td>\n",
       "      <td>D</td>\n",
       "      <td>PA-12</td>\n",
       "      <td>Los Angeles, CA</td>\n",
       "      <td>Clean Fuels Alliance Foundation (F/K/A Nationa...</td>\n",
       "      <td>Original</td>\n",
       "    </tr>\n",
       "    <tr>\n",
       "      <th>46</th>\n",
       "      <td>Sept. 7, 2023 - Sept. 9, 2023</td>\n",
       "      <td>Jacquline Anderson</td>\n",
       "      <td>Larry Bucshon</td>\n",
       "      <td>R</td>\n",
       "      <td>IN-8</td>\n",
       "      <td>Los Angeles, CA</td>\n",
       "      <td>Clean Fuels Alliance Foundation (F/K/A Nationa...</td>\n",
       "      <td>Original</td>\n",
       "    </tr>\n",
       "    <tr>\n",
       "      <th>47</th>\n",
       "      <td>Sept. 7, 2023 - Sept. 9, 2023</td>\n",
       "      <td>John Rayburn</td>\n",
       "      <td>Rosa DeLauro</td>\n",
       "      <td>D</td>\n",
       "      <td>CT-3</td>\n",
       "      <td>Los Angeles, CA</td>\n",
       "      <td>Clean Fuels Alliance Foundation (F/K/A Nationa...</td>\n",
       "      <td>Original</td>\n",
       "    </tr>\n",
       "    <tr>\n",
       "      <th>48</th>\n",
       "      <td>Sept. 7, 2023 - Sept. 9, 2023</td>\n",
       "      <td>Mitchell Heidenreich</td>\n",
       "      <td>Jill Tokuda</td>\n",
       "      <td>D</td>\n",
       "      <td>HI-2</td>\n",
       "      <td>Los Angeles, CA</td>\n",
       "      <td>Clean Fuels Alliance Foundation (F/K/A Nationa...</td>\n",
       "      <td>Original</td>\n",
       "    </tr>\n",
       "    <tr>\n",
       "      <th>49</th>\n",
       "      <td>Sept. 7, 2023 - Sept. 9, 2023</td>\n",
       "      <td>Zachary Settle</td>\n",
       "      <td>James Comer</td>\n",
       "      <td>R</td>\n",
       "      <td>KY-1</td>\n",
       "      <td>Los Angeles, CA</td>\n",
       "      <td>Clean Fuels Alliance Foundation (F/K/A Nationa...</td>\n",
       "      <td>Original</td>\n",
       "    </tr>\n",
       "  </tbody>\n",
       "</table>\n",
       "</div>"
      ],
      "text/plain": [
       "                              Dates                    Traveler  \\\n",
       "0     Oct. 10, 2023 - Oct. 12, 2023              Lester Spencer   \n",
       "1     Oct. 10, 2023 - Oct. 12, 2023                  Melody Tan   \n",
       "2     Oct. 10, 2023 - Oct. 12, 2023        Mitchell Heidenreich   \n",
       "3     Oct. 10, 2023 - Oct. 12, 2023               Noelle Gasper   \n",
       "4     Oct. 10, 2023 - Oct. 12, 2023               William Dwyer   \n",
       "5     Oct. 12, 2023 - Oct. 12, 2023             Andrew Bambrick   \n",
       "6     Oct. 10, 2023 - Oct. 12, 2023              Lester Spencer   \n",
       "7      Oct. 8, 2023 - Oct. 12, 2023              Brendan Larkin   \n",
       "8     Oct. 10, 2023 - Oct. 12, 2023                  Emma Reidy   \n",
       "9      Oct. 8, 2023 - Oct. 12, 2023             Elise Krekorian   \n",
       "10     Oct. 8, 2023 - Oct. 12, 2023             Hillary O'Brien   \n",
       "11     Oct. 6, 2023 - Oct. 12, 2023          Kristopher Pittard   \n",
       "12    Oct. 10, 2023 - Oct. 12, 2023                Brian Rogers   \n",
       "13     Oct. 4, 2023 - Oct. 11, 2023                 Tim Walberg   \n",
       "14      Oct. 8, 2023 - Oct. 9, 2023              Michael Bauman   \n",
       "15      Oct. 3, 2023 - Oct. 5, 2023             Charles McGrath   \n",
       "16      Oct. 3, 2023 - Oct. 5, 2023             Megan Guiltinan   \n",
       "17  Sept. 25, 2023 - Sept. 27, 2023                  David Bean   \n",
       "18  Sept. 25, 2023 - Sept. 27, 2023               David Horsley   \n",
       "19  Sept. 25, 2023 - Sept. 27, 2023             Reagan Harrison   \n",
       "20  Sept. 16, 2023 - Sept. 17, 2023                Joyce Beatty   \n",
       "21  Sept. 16, 2023 - Sept. 17, 2023             Kelly Armstrong   \n",
       "22  Sept. 16, 2023 - Sept. 17, 2023                Adrian Smith   \n",
       "23   Sept. 1, 2023 - Sept. 10, 2023             Valerie Foushee   \n",
       "24   Sept. 1, 2023 - Sept. 10, 2023             Valerie Foushee   \n",
       "25   Sept. 1, 2023 - Sept. 10, 2023         Troy A. Carter, Sr.   \n",
       "26   Sept. 1, 2023 - Sept. 10, 2023  Sheila Cherfilus-McCormick   \n",
       "27   Sept. 1, 2023 - Sept. 10, 2023  Sheila Cherfilus-McCormick   \n",
       "28   Sept. 1, 2023 - Sept. 10, 2023                 Lucy McBath   \n",
       "29   Sept. 1, 2023 - Sept. 10, 2023               Alma S. Adams   \n",
       "30   Sept. 1, 2023 - Sept. 10, 2023                 Lucy McBath   \n",
       "31   Sept. 1, 2023 - Sept. 10, 2023               Alma S. Adams   \n",
       "32   Sept. 1, 2023 - Sept. 10, 2023             Nikema Williams   \n",
       "33   Sept. 1, 2023 - Sept. 10, 2023             Nikema Williams   \n",
       "34   Sept. 1, 2023 - Sept. 10, 2023  Sheila Cherfilus-McCormick   \n",
       "35   Sept. 1, 2023 - Sept. 10, 2023                  Glenn Ivey   \n",
       "36   Sept. 1, 2023 - Sept. 10, 2023                  Glenn Ivey   \n",
       "37   Sept. 6, 2023 - Sept. 10, 2023                   Jim Costa   \n",
       "38   Sept. 1, 2023 - Sept. 10, 2023         Jonathan L. Jackson   \n",
       "39   Sept. 1, 2023 - Sept. 10, 2023         Jonathan L. Jackson   \n",
       "40   Sept. 1, 2023 - Sept. 10, 2023         Troy A. Carter, Sr.   \n",
       "41   Sept. 1, 2023 - Sept. 10, 2023              Ritchie Torres   \n",
       "42   Sept. 1, 2023 - Sept. 10, 2023              Ritchie Torres   \n",
       "43    Sept. 7, 2023 - Sept. 9, 2023               Robert Powell   \n",
       "44    Sept. 7, 2023 - Sept. 9, 2023            Shawn Rusterholz   \n",
       "45    Sept. 7, 2023 - Sept. 9, 2023            Christopher Koya   \n",
       "46    Sept. 7, 2023 - Sept. 9, 2023          Jacquline Anderson   \n",
       "47    Sept. 7, 2023 - Sept. 9, 2023                John Rayburn   \n",
       "48    Sept. 7, 2023 - Sept. 9, 2023        Mitchell Heidenreich   \n",
       "49    Sept. 7, 2023 - Sept. 9, 2023              Zachary Settle   \n",
       "\n",
       "                        Member Party State / District      Destination  \\\n",
       "0           Emanuel Cleaver II     D             MO-5    Cambridge, MD   \n",
       "1           Jennifer McClellan     D             VA-4    Cambridge, MA   \n",
       "2                  Jill Tokuda     D             HI-2    Cambridge, MA   \n",
       "3                  Rick Larsen     D             WA-2    Cambridge, MD   \n",
       "4                  Robin Kelly     D             IL-2    Cambridge, MA   \n",
       "5              Bruce Westerman     R             AR-4    Baltimore, MD   \n",
       "6           Emanuel Cleaver II     D             MO-5    Cambridge, MA   \n",
       "7                   Paul Tonko     D            NY-20           France   \n",
       "8                Ruben Gallego     D             AZ-3    Cambridge, MA   \n",
       "9       Cathy McMorris Rodgers     R             WA-5           France   \n",
       "10              Frank D. Lucas     R             OK-3           France   \n",
       "11               Frank Pallone     D             NJ-6           France   \n",
       "12                Kevin Mullin     D            CA-15    Cambridge, MA   \n",
       "13                 Tim Walberg     R             MI-5           Uganda   \n",
       "14                 Rick Larsen     D             WA-2      Orlando, FL   \n",
       "15          Patrick T. McHenry     R            NC-10    St. Louis, MO   \n",
       "16                   Andy Barr     R             KY-6    St. Louis, MO   \n",
       "17               Larry Bucshon     R             IN-8    Las Vegas, NV   \n",
       "18              August Pfluger     R            TX-11    Las Vegas, NV   \n",
       "19                  John Joyce     R            PA-13    Las Vegas, NV   \n",
       "20                Joyce Beatty     D             OH-3   Rapid City, SD   \n",
       "21             Kelly Armstrong     R             ND-1   Rapid City, SD   \n",
       "22                Adrian Smith     R             NE-3   Rapid City, SD   \n",
       "23             Valerie Foushee     D             NC-4           Israel   \n",
       "24             Valerie Foushee     D             NC-4           Rwanda   \n",
       "25                 Troy Carter     D             LA-2           Rwanda   \n",
       "26  Sheila Cherfilus-McCormick     D            FL-20           Israel   \n",
       "27  Sheila Cherfilus-McCormick     D            FL-20           Rwanda   \n",
       "28                 Lucy McBath     D             GA-7           Israel   \n",
       "29                  Alma Adams     D            NC-12           Israel   \n",
       "30                 Lucy McBath     D             GA-7           Rwanda   \n",
       "31                  Alma Adams     D            NC-12           Rwanda   \n",
       "32             Nikema Williams     D             GA-5           Israel   \n",
       "33             Nikema Williams     D             GA-5           Rwanda   \n",
       "34  Sheila Cherfilus-McCormick     D            FL-20   Israel, Rwanda   \n",
       "35                  Glenn Ivey     D             MD-4           Israel   \n",
       "36                  Glenn Ivey     D             MD-4           Rwanda   \n",
       "37                   Jim Costa     D            CA-21          Ukraine   \n",
       "38            Jonathan Jackson     D             IL-1           Israel   \n",
       "39            Jonathan Jackson     D             IL-1           Rwanda   \n",
       "40                 Troy Carter     D             LA-2           Israel   \n",
       "41              Ritchie Torres     D            NY-15           Israel   \n",
       "42              Ritchie Torres     D            NY-15           Rwanda   \n",
       "43                 Greg Steube     R            FL-17  Los Angeles, CA   \n",
       "44                Pete Stauber     R             MN-8  Los Angeles, CA   \n",
       "45                  Summer Lee     D            PA-12  Los Angeles, CA   \n",
       "46               Larry Bucshon     R             IN-8  Los Angeles, CA   \n",
       "47                Rosa DeLauro     D             CT-3  Los Angeles, CA   \n",
       "48                 Jill Tokuda     D             HI-2  Los Angeles, CA   \n",
       "49                 James Comer     R             KY-1  Los Angeles, CA   \n",
       "\n",
       "                                              Sponsor Filing Type  \n",
       "0               Massachusetts Institute of Technology    Original  \n",
       "1               Massachusetts Institute of Technology    Original  \n",
       "2               Massachusetts Institute of Technology    Original  \n",
       "3               Massachusetts Institute of Technology    Original  \n",
       "4               Massachusetts Institute of Technology    Original  \n",
       "5   National Park Foundation, Coca-Cola Company, a...    Original  \n",
       "6               Massachusetts Institute of Technology    Original  \n",
       "7                      Foundation for Nuclear Studies    Original  \n",
       "8               Massachusetts Institute of Technology    Original  \n",
       "9                      Foundation for Nuclear Studies    Original  \n",
       "10                     Foundation for Nuclear Studies    Original  \n",
       "11                     Foundation for Nuclear Studies    Original  \n",
       "12              Massachusetts Institute of Technology    Original  \n",
       "13        Fellowship Foundation (d.b.a. International    Original  \n",
       "14         American Public Transportation Association    Original  \n",
       "15  Conference of State Bank Supervisors and the F...    Original  \n",
       "16  Conference of State Bank Supervisors and the F...    Original  \n",
       "17                                               CTIA    Original  \n",
       "18                                               CTIA    Original  \n",
       "19                                               CTIA    Original  \n",
       "20  Ripon Society and the Franklin Center for Glob...    Original  \n",
       "21  Ripon Society and the Franklin Center for Glob...    Original  \n",
       "22  Ripon Society and the Franklin Center for Glob...    Original  \n",
       "23               American Israel Education Foundation    Original  \n",
       "24               American Israel Education Foundation    Original  \n",
       "25               American Israel Education Foundation    Original  \n",
       "26               American Israel Education Foundation    Original  \n",
       "27               American Israel Education Foundation    Original  \n",
       "28               American Israel Education Foundation    Original  \n",
       "29               American Israel Education Foundation    Original  \n",
       "30               American Israel Education Foundation    Original  \n",
       "31               American Israel Education Foundation    Original  \n",
       "32               American Israel Education Foundation    Original  \n",
       "33               American Israel Education Foundation    Original  \n",
       "34               American Israel Education Foundation    Original  \n",
       "35               American Israel Education Foundation    Original  \n",
       "36               American Israel Education Foundation    Original  \n",
       "37                    Yalta European Strategy Limited    Original  \n",
       "38               American Israel Education Foundation    Original  \n",
       "39               American Israel Education Foundation    Original  \n",
       "40               American Israel Education Foundation    Original  \n",
       "41               American Israel Education Foundation    Original  \n",
       "42               American Israel Education Foundation    Original  \n",
       "43  Clean Fuels Alliance Foundation (F/K/A Nationa...    Original  \n",
       "44  Clean Fuels Alliance Foundation (F/K/A Nationa...    Original  \n",
       "45  Clean Fuels Alliance Foundation (F/K/A Nationa...    Original  \n",
       "46  Clean Fuels Alliance Foundation (F/K/A Nationa...    Original  \n",
       "47  Clean Fuels Alliance Foundation (F/K/A Nationa...    Original  \n",
       "48  Clean Fuels Alliance Foundation (F/K/A Nationa...    Original  \n",
       "49  Clean Fuels Alliance Foundation (F/K/A Nationa...    Original  "
      ]
     },
     "execution_count": 8,
     "metadata": {},
     "output_type": "execute_result"
    }
   ],
   "source": [
    "response=requests.get(base_url+\"2\")\n",
    "table2=pd.read_html(response.text)\n",
    "df2=table2[0]\n",
    "df2\n",
    "#Let's try a second page"
   ]
  },
  {
   "cell_type": "code",
   "execution_count": 9,
   "id": "9975c95c",
   "metadata": {},
   "outputs": [
    {
     "data": {
      "text/plain": [
       "(50, 8)"
      ]
     },
     "execution_count": 9,
     "metadata": {},
     "output_type": "execute_result"
    }
   ],
   "source": [
    "df2.shape"
   ]
  },
  {
   "cell_type": "code",
   "execution_count": 62,
   "id": "23b9c51f",
   "metadata": {},
   "outputs": [
    {
     "name": "stderr",
     "output_type": "stream",
     "text": [
      "/var/folders/61/68rz41055xg7sv4h43532jh00000gn/T/ipykernel_13232/4063217748.py:1: FutureWarning: The frame.append method is deprecated and will be removed from pandas in a future version. Use pandas.concat instead.\n",
      "  df=df.append(df2)\n"
     ]
    },
    {
     "data": {
      "text/html": [
       "<div>\n",
       "<style scoped>\n",
       "    .dataframe tbody tr th:only-of-type {\n",
       "        vertical-align: middle;\n",
       "    }\n",
       "\n",
       "    .dataframe tbody tr th {\n",
       "        vertical-align: top;\n",
       "    }\n",
       "\n",
       "    .dataframe thead th {\n",
       "        text-align: right;\n",
       "    }\n",
       "</style>\n",
       "<table border=\"1\" class=\"dataframe\">\n",
       "  <thead>\n",
       "    <tr style=\"text-align: right;\">\n",
       "      <th></th>\n",
       "      <th>Dates</th>\n",
       "      <th>Traveler</th>\n",
       "      <th>Member</th>\n",
       "      <th>Party</th>\n",
       "      <th>State / District</th>\n",
       "      <th>Destination</th>\n",
       "      <th>Sponsor</th>\n",
       "      <th>Filing Type</th>\n",
       "    </tr>\n",
       "  </thead>\n",
       "  <tbody>\n",
       "    <tr>\n",
       "      <th>0</th>\n",
       "      <td>Oct. 20, 2023 - Oct. 21, 2023</td>\n",
       "      <td>Christina Mahoney</td>\n",
       "      <td>Emanuel Cleaver II</td>\n",
       "      <td>D</td>\n",
       "      <td>MO-5</td>\n",
       "      <td>Charlottesville, VA</td>\n",
       "      <td>Pew Charitable Trusts and the Joyce Foundation</td>\n",
       "      <td>Original</td>\n",
       "    </tr>\n",
       "    <tr>\n",
       "      <th>1</th>\n",
       "      <td>Oct. 7, 2023 - Oct. 16, 2023</td>\n",
       "      <td>Tiffany Haverly</td>\n",
       "      <td>Adrian Smith</td>\n",
       "      <td>R</td>\n",
       "      <td>NE-3</td>\n",
       "      <td>Zambia</td>\n",
       "      <td>International Republican Institute</td>\n",
       "      <td>Original</td>\n",
       "    </tr>\n",
       "    <tr>\n",
       "      <th>2</th>\n",
       "      <td>Oct. 7, 2023 - Oct. 16, 2023</td>\n",
       "      <td>Leslie Reagan</td>\n",
       "      <td>Michael McCaul</td>\n",
       "      <td>R</td>\n",
       "      <td>TX-10</td>\n",
       "      <td>Zambia</td>\n",
       "      <td>International Republican Institute</td>\n",
       "      <td>Original</td>\n",
       "    </tr>\n",
       "    <tr>\n",
       "      <th>3</th>\n",
       "      <td>Oct. 7, 2023 - Oct. 16, 2023</td>\n",
       "      <td>Mitchell Moonier</td>\n",
       "      <td>Dina Titus</td>\n",
       "      <td>D</td>\n",
       "      <td>NV-1</td>\n",
       "      <td>Zambia</td>\n",
       "      <td>International Republican Institute</td>\n",
       "      <td>Original</td>\n",
       "    </tr>\n",
       "    <tr>\n",
       "      <th>4</th>\n",
       "      <td>Oct. 11, 2023 - Oct. 15, 2023</td>\n",
       "      <td>Alicia Porile</td>\n",
       "      <td>Lisa Blunt Rochester</td>\n",
       "      <td>D</td>\n",
       "      <td>DE-1</td>\n",
       "      <td>Sunnyvale, CA</td>\n",
       "      <td>Information Technology and Innovation Foundation</td>\n",
       "      <td>Original</td>\n",
       "    </tr>\n",
       "    <tr>\n",
       "      <th>...</th>\n",
       "      <td>...</td>\n",
       "      <td>...</td>\n",
       "      <td>...</td>\n",
       "      <td>...</td>\n",
       "      <td>...</td>\n",
       "      <td>...</td>\n",
       "      <td>...</td>\n",
       "      <td>...</td>\n",
       "    </tr>\n",
       "    <tr>\n",
       "      <th>45</th>\n",
       "      <td>Sept. 6, 2023 - Sept. 8, 2023</td>\n",
       "      <td>Travis Rowland</td>\n",
       "      <td>Dan Bishop</td>\n",
       "      <td>R</td>\n",
       "      <td>NC-8</td>\n",
       "      <td>Cambridge, MD</td>\n",
       "      <td>Conservative Partnership Institute, Inc.</td>\n",
       "      <td>Original</td>\n",
       "    </tr>\n",
       "    <tr>\n",
       "      <th>46</th>\n",
       "      <td>Sept. 7, 2023 - Sept. 7, 2023</td>\n",
       "      <td>Gabrielle Sheitelman</td>\n",
       "      <td>Juan Ciscomani</td>\n",
       "      <td>R</td>\n",
       "      <td>AZ-6</td>\n",
       "      <td>Los Angeles, CA</td>\n",
       "      <td>Clean Fuels Alliance Foundation (F/K/A Nationa...</td>\n",
       "      <td>Original</td>\n",
       "    </tr>\n",
       "    <tr>\n",
       "      <th>47</th>\n",
       "      <td>Aug. 26, 2023 - Sept. 5, 2023</td>\n",
       "      <td>Chellie Pingree</td>\n",
       "      <td>Chellie Pingree</td>\n",
       "      <td>D</td>\n",
       "      <td>ME-1</td>\n",
       "      <td>Norway</td>\n",
       "      <td>Aspen Institute, Inc., Breakthrough Energy Fou...</td>\n",
       "      <td>Original</td>\n",
       "    </tr>\n",
       "    <tr>\n",
       "      <th>48</th>\n",
       "      <td>Aug. 25, 2023 - Sept. 4, 2023</td>\n",
       "      <td>Mark Pocan</td>\n",
       "      <td>Mark Pocan</td>\n",
       "      <td>D</td>\n",
       "      <td>WI-2</td>\n",
       "      <td>Nepal</td>\n",
       "      <td>Cooperative for Assistance and Relief Everywhe...</td>\n",
       "      <td>Original</td>\n",
       "    </tr>\n",
       "    <tr>\n",
       "      <th>49</th>\n",
       "      <td>Aug. 26, 2023 - Sept. 4, 2023</td>\n",
       "      <td>Earl Blumenauer</td>\n",
       "      <td>Earl Blumenauer</td>\n",
       "      <td>D</td>\n",
       "      <td>OR-3</td>\n",
       "      <td>Norway</td>\n",
       "      <td>Aspen Institute Inc.</td>\n",
       "      <td>Original</td>\n",
       "    </tr>\n",
       "  </tbody>\n",
       "</table>\n",
       "<p>100 rows × 8 columns</p>\n",
       "</div>"
      ],
      "text/plain": [
       "                            Dates              Traveler                Member  \\\n",
       "0   Oct. 20, 2023 - Oct. 21, 2023     Christina Mahoney    Emanuel Cleaver II   \n",
       "1    Oct. 7, 2023 - Oct. 16, 2023       Tiffany Haverly          Adrian Smith   \n",
       "2    Oct. 7, 2023 - Oct. 16, 2023         Leslie Reagan        Michael McCaul   \n",
       "3    Oct. 7, 2023 - Oct. 16, 2023      Mitchell Moonier            Dina Titus   \n",
       "4   Oct. 11, 2023 - Oct. 15, 2023         Alicia Porile  Lisa Blunt Rochester   \n",
       "..                            ...                   ...                   ...   \n",
       "45  Sept. 6, 2023 - Sept. 8, 2023        Travis Rowland            Dan Bishop   \n",
       "46  Sept. 7, 2023 - Sept. 7, 2023  Gabrielle Sheitelman        Juan Ciscomani   \n",
       "47  Aug. 26, 2023 - Sept. 5, 2023       Chellie Pingree       Chellie Pingree   \n",
       "48  Aug. 25, 2023 - Sept. 4, 2023            Mark Pocan            Mark Pocan   \n",
       "49  Aug. 26, 2023 - Sept. 4, 2023       Earl Blumenauer       Earl Blumenauer   \n",
       "\n",
       "   Party State / District          Destination  \\\n",
       "0      D             MO-5  Charlottesville, VA   \n",
       "1      R             NE-3               Zambia   \n",
       "2      R            TX-10               Zambia   \n",
       "3      D             NV-1               Zambia   \n",
       "4      D             DE-1        Sunnyvale, CA   \n",
       "..   ...              ...                  ...   \n",
       "45     R             NC-8        Cambridge, MD   \n",
       "46     R             AZ-6      Los Angeles, CA   \n",
       "47     D             ME-1               Norway   \n",
       "48     D             WI-2                Nepal   \n",
       "49     D             OR-3               Norway   \n",
       "\n",
       "                                              Sponsor Filing Type  \n",
       "0      Pew Charitable Trusts and the Joyce Foundation    Original  \n",
       "1                  International Republican Institute    Original  \n",
       "2                  International Republican Institute    Original  \n",
       "3                  International Republican Institute    Original  \n",
       "4    Information Technology and Innovation Foundation    Original  \n",
       "..                                                ...         ...  \n",
       "45           Conservative Partnership Institute, Inc.    Original  \n",
       "46  Clean Fuels Alliance Foundation (F/K/A Nationa...    Original  \n",
       "47  Aspen Institute, Inc., Breakthrough Energy Fou...    Original  \n",
       "48  Cooperative for Assistance and Relief Everywhe...    Original  \n",
       "49                               Aspen Institute Inc.    Original  \n",
       "\n",
       "[100 rows x 8 columns]"
      ]
     },
     "execution_count": 62,
     "metadata": {},
     "output_type": "execute_result"
    }
   ],
   "source": [
    "df=df.append(df2)\n",
    "df\n",
    "#Try appending them together and see if it works."
   ]
  },
  {
   "cell_type": "code",
   "execution_count": 10,
   "id": "fd0cb10d",
   "metadata": {},
   "outputs": [
    {
     "data": {
      "text/html": [
       "<div>\n",
       "<style scoped>\n",
       "    .dataframe tbody tr th:only-of-type {\n",
       "        vertical-align: middle;\n",
       "    }\n",
       "\n",
       "    .dataframe tbody tr th {\n",
       "        vertical-align: top;\n",
       "    }\n",
       "\n",
       "    .dataframe thead th {\n",
       "        text-align: right;\n",
       "    }\n",
       "</style>\n",
       "<table border=\"1\" class=\"dataframe\">\n",
       "  <thead>\n",
       "    <tr style=\"text-align: right;\">\n",
       "      <th></th>\n",
       "      <th>Dates</th>\n",
       "      <th>Traveler</th>\n",
       "      <th>Member</th>\n",
       "      <th>Party</th>\n",
       "      <th>State / District</th>\n",
       "      <th>Destination</th>\n",
       "      <th>Sponsor</th>\n",
       "      <th>Filing Type</th>\n",
       "    </tr>\n",
       "  </thead>\n",
       "  <tbody>\n",
       "    <tr>\n",
       "      <th>0</th>\n",
       "      <td>Oct. 10, 2023 - Oct. 12, 2023</td>\n",
       "      <td>Lester Spencer</td>\n",
       "      <td>Emanuel Cleaver II</td>\n",
       "      <td>D</td>\n",
       "      <td>MO-5</td>\n",
       "      <td>Cambridge, MD</td>\n",
       "      <td>Massachusetts Institute of Technology</td>\n",
       "      <td>Original</td>\n",
       "    </tr>\n",
       "    <tr>\n",
       "      <th>1</th>\n",
       "      <td>Oct. 10, 2023 - Oct. 12, 2023</td>\n",
       "      <td>Melody Tan</td>\n",
       "      <td>Jennifer McClellan</td>\n",
       "      <td>D</td>\n",
       "      <td>VA-4</td>\n",
       "      <td>Cambridge, MA</td>\n",
       "      <td>Massachusetts Institute of Technology</td>\n",
       "      <td>Original</td>\n",
       "    </tr>\n",
       "    <tr>\n",
       "      <th>2</th>\n",
       "      <td>Oct. 10, 2023 - Oct. 12, 2023</td>\n",
       "      <td>Mitchell Heidenreich</td>\n",
       "      <td>Jill Tokuda</td>\n",
       "      <td>D</td>\n",
       "      <td>HI-2</td>\n",
       "      <td>Cambridge, MA</td>\n",
       "      <td>Massachusetts Institute of Technology</td>\n",
       "      <td>Original</td>\n",
       "    </tr>\n",
       "    <tr>\n",
       "      <th>3</th>\n",
       "      <td>Oct. 10, 2023 - Oct. 12, 2023</td>\n",
       "      <td>Noelle Gasper</td>\n",
       "      <td>Rick Larsen</td>\n",
       "      <td>D</td>\n",
       "      <td>WA-2</td>\n",
       "      <td>Cambridge, MD</td>\n",
       "      <td>Massachusetts Institute of Technology</td>\n",
       "      <td>Original</td>\n",
       "    </tr>\n",
       "    <tr>\n",
       "      <th>4</th>\n",
       "      <td>Oct. 10, 2023 - Oct. 12, 2023</td>\n",
       "      <td>William Dwyer</td>\n",
       "      <td>Robin Kelly</td>\n",
       "      <td>D</td>\n",
       "      <td>IL-2</td>\n",
       "      <td>Cambridge, MA</td>\n",
       "      <td>Massachusetts Institute of Technology</td>\n",
       "      <td>Original</td>\n",
       "    </tr>\n",
       "    <tr>\n",
       "      <th>5</th>\n",
       "      <td>Oct. 12, 2023 - Oct. 12, 2023</td>\n",
       "      <td>Andrew Bambrick</td>\n",
       "      <td>Bruce Westerman</td>\n",
       "      <td>R</td>\n",
       "      <td>AR-4</td>\n",
       "      <td>Baltimore, MD</td>\n",
       "      <td>National Park Foundation, Coca-Cola Company, a...</td>\n",
       "      <td>Original</td>\n",
       "    </tr>\n",
       "    <tr>\n",
       "      <th>6</th>\n",
       "      <td>Oct. 10, 2023 - Oct. 12, 2023</td>\n",
       "      <td>Lester Spencer</td>\n",
       "      <td>Emanuel Cleaver II</td>\n",
       "      <td>D</td>\n",
       "      <td>MO-5</td>\n",
       "      <td>Cambridge, MA</td>\n",
       "      <td>Massachusetts Institute of Technology</td>\n",
       "      <td>Original</td>\n",
       "    </tr>\n",
       "    <tr>\n",
       "      <th>7</th>\n",
       "      <td>Oct. 8, 2023 - Oct. 12, 2023</td>\n",
       "      <td>Brendan Larkin</td>\n",
       "      <td>Paul Tonko</td>\n",
       "      <td>D</td>\n",
       "      <td>NY-20</td>\n",
       "      <td>France</td>\n",
       "      <td>Foundation for Nuclear Studies</td>\n",
       "      <td>Original</td>\n",
       "    </tr>\n",
       "    <tr>\n",
       "      <th>8</th>\n",
       "      <td>Oct. 10, 2023 - Oct. 12, 2023</td>\n",
       "      <td>Emma Reidy</td>\n",
       "      <td>Ruben Gallego</td>\n",
       "      <td>D</td>\n",
       "      <td>AZ-3</td>\n",
       "      <td>Cambridge, MA</td>\n",
       "      <td>Massachusetts Institute of Technology</td>\n",
       "      <td>Original</td>\n",
       "    </tr>\n",
       "    <tr>\n",
       "      <th>9</th>\n",
       "      <td>Oct. 8, 2023 - Oct. 12, 2023</td>\n",
       "      <td>Elise Krekorian</td>\n",
       "      <td>Cathy McMorris Rodgers</td>\n",
       "      <td>R</td>\n",
       "      <td>WA-5</td>\n",
       "      <td>France</td>\n",
       "      <td>Foundation for Nuclear Studies</td>\n",
       "      <td>Original</td>\n",
       "    </tr>\n",
       "    <tr>\n",
       "      <th>10</th>\n",
       "      <td>Oct. 8, 2023 - Oct. 12, 2023</td>\n",
       "      <td>Hillary O'Brien</td>\n",
       "      <td>Frank D. Lucas</td>\n",
       "      <td>R</td>\n",
       "      <td>OK-3</td>\n",
       "      <td>France</td>\n",
       "      <td>Foundation for Nuclear Studies</td>\n",
       "      <td>Original</td>\n",
       "    </tr>\n",
       "    <tr>\n",
       "      <th>11</th>\n",
       "      <td>Oct. 6, 2023 - Oct. 12, 2023</td>\n",
       "      <td>Kristopher Pittard</td>\n",
       "      <td>Frank Pallone</td>\n",
       "      <td>D</td>\n",
       "      <td>NJ-6</td>\n",
       "      <td>France</td>\n",
       "      <td>Foundation for Nuclear Studies</td>\n",
       "      <td>Original</td>\n",
       "    </tr>\n",
       "    <tr>\n",
       "      <th>12</th>\n",
       "      <td>Oct. 10, 2023 - Oct. 12, 2023</td>\n",
       "      <td>Brian Rogers</td>\n",
       "      <td>Kevin Mullin</td>\n",
       "      <td>D</td>\n",
       "      <td>CA-15</td>\n",
       "      <td>Cambridge, MA</td>\n",
       "      <td>Massachusetts Institute of Technology</td>\n",
       "      <td>Original</td>\n",
       "    </tr>\n",
       "    <tr>\n",
       "      <th>13</th>\n",
       "      <td>Oct. 4, 2023 - Oct. 11, 2023</td>\n",
       "      <td>Tim Walberg</td>\n",
       "      <td>Tim Walberg</td>\n",
       "      <td>R</td>\n",
       "      <td>MI-5</td>\n",
       "      <td>Uganda</td>\n",
       "      <td>Fellowship Foundation (d.b.a. International</td>\n",
       "      <td>Original</td>\n",
       "    </tr>\n",
       "    <tr>\n",
       "      <th>14</th>\n",
       "      <td>Oct. 8, 2023 - Oct. 9, 2023</td>\n",
       "      <td>Michael Bauman</td>\n",
       "      <td>Rick Larsen</td>\n",
       "      <td>D</td>\n",
       "      <td>WA-2</td>\n",
       "      <td>Orlando, FL</td>\n",
       "      <td>American Public Transportation Association</td>\n",
       "      <td>Original</td>\n",
       "    </tr>\n",
       "    <tr>\n",
       "      <th>15</th>\n",
       "      <td>Oct. 3, 2023 - Oct. 5, 2023</td>\n",
       "      <td>Charles McGrath</td>\n",
       "      <td>Patrick T. McHenry</td>\n",
       "      <td>R</td>\n",
       "      <td>NC-10</td>\n",
       "      <td>St. Louis, MO</td>\n",
       "      <td>Conference of State Bank Supervisors and the F...</td>\n",
       "      <td>Original</td>\n",
       "    </tr>\n",
       "    <tr>\n",
       "      <th>16</th>\n",
       "      <td>Oct. 3, 2023 - Oct. 5, 2023</td>\n",
       "      <td>Megan Guiltinan</td>\n",
       "      <td>Andy Barr</td>\n",
       "      <td>R</td>\n",
       "      <td>KY-6</td>\n",
       "      <td>St. Louis, MO</td>\n",
       "      <td>Conference of State Bank Supervisors and the F...</td>\n",
       "      <td>Original</td>\n",
       "    </tr>\n",
       "    <tr>\n",
       "      <th>17</th>\n",
       "      <td>Sept. 25, 2023 - Sept. 27, 2023</td>\n",
       "      <td>David Bean</td>\n",
       "      <td>Larry Bucshon</td>\n",
       "      <td>R</td>\n",
       "      <td>IN-8</td>\n",
       "      <td>Las Vegas, NV</td>\n",
       "      <td>CTIA</td>\n",
       "      <td>Original</td>\n",
       "    </tr>\n",
       "    <tr>\n",
       "      <th>18</th>\n",
       "      <td>Sept. 25, 2023 - Sept. 27, 2023</td>\n",
       "      <td>David Horsley</td>\n",
       "      <td>August Pfluger</td>\n",
       "      <td>R</td>\n",
       "      <td>TX-11</td>\n",
       "      <td>Las Vegas, NV</td>\n",
       "      <td>CTIA</td>\n",
       "      <td>Original</td>\n",
       "    </tr>\n",
       "    <tr>\n",
       "      <th>19</th>\n",
       "      <td>Sept. 25, 2023 - Sept. 27, 2023</td>\n",
       "      <td>Reagan Harrison</td>\n",
       "      <td>John Joyce</td>\n",
       "      <td>R</td>\n",
       "      <td>PA-13</td>\n",
       "      <td>Las Vegas, NV</td>\n",
       "      <td>CTIA</td>\n",
       "      <td>Original</td>\n",
       "    </tr>\n",
       "    <tr>\n",
       "      <th>20</th>\n",
       "      <td>Sept. 16, 2023 - Sept. 17, 2023</td>\n",
       "      <td>Joyce Beatty</td>\n",
       "      <td>Joyce Beatty</td>\n",
       "      <td>D</td>\n",
       "      <td>OH-3</td>\n",
       "      <td>Rapid City, SD</td>\n",
       "      <td>Ripon Society and the Franklin Center for Glob...</td>\n",
       "      <td>Original</td>\n",
       "    </tr>\n",
       "    <tr>\n",
       "      <th>21</th>\n",
       "      <td>Sept. 16, 2023 - Sept. 17, 2023</td>\n",
       "      <td>Kelly Armstrong</td>\n",
       "      <td>Kelly Armstrong</td>\n",
       "      <td>R</td>\n",
       "      <td>ND-1</td>\n",
       "      <td>Rapid City, SD</td>\n",
       "      <td>Ripon Society and the Franklin Center for Glob...</td>\n",
       "      <td>Original</td>\n",
       "    </tr>\n",
       "    <tr>\n",
       "      <th>22</th>\n",
       "      <td>Sept. 16, 2023 - Sept. 17, 2023</td>\n",
       "      <td>Adrian Smith</td>\n",
       "      <td>Adrian Smith</td>\n",
       "      <td>R</td>\n",
       "      <td>NE-3</td>\n",
       "      <td>Rapid City, SD</td>\n",
       "      <td>Ripon Society and the Franklin Center for Glob...</td>\n",
       "      <td>Original</td>\n",
       "    </tr>\n",
       "    <tr>\n",
       "      <th>23</th>\n",
       "      <td>Sept. 1, 2023 - Sept. 10, 2023</td>\n",
       "      <td>Valerie Foushee</td>\n",
       "      <td>Valerie Foushee</td>\n",
       "      <td>D</td>\n",
       "      <td>NC-4</td>\n",
       "      <td>Israel</td>\n",
       "      <td>American Israel Education Foundation</td>\n",
       "      <td>Original</td>\n",
       "    </tr>\n",
       "    <tr>\n",
       "      <th>24</th>\n",
       "      <td>Sept. 1, 2023 - Sept. 10, 2023</td>\n",
       "      <td>Valerie Foushee</td>\n",
       "      <td>Valerie Foushee</td>\n",
       "      <td>D</td>\n",
       "      <td>NC-4</td>\n",
       "      <td>Rwanda</td>\n",
       "      <td>American Israel Education Foundation</td>\n",
       "      <td>Original</td>\n",
       "    </tr>\n",
       "    <tr>\n",
       "      <th>25</th>\n",
       "      <td>Sept. 1, 2023 - Sept. 10, 2023</td>\n",
       "      <td>Troy A. Carter, Sr.</td>\n",
       "      <td>Troy Carter</td>\n",
       "      <td>D</td>\n",
       "      <td>LA-2</td>\n",
       "      <td>Rwanda</td>\n",
       "      <td>American Israel Education Foundation</td>\n",
       "      <td>Original</td>\n",
       "    </tr>\n",
       "    <tr>\n",
       "      <th>26</th>\n",
       "      <td>Sept. 1, 2023 - Sept. 10, 2023</td>\n",
       "      <td>Sheila Cherfilus-McCormick</td>\n",
       "      <td>Sheila Cherfilus-McCormick</td>\n",
       "      <td>D</td>\n",
       "      <td>FL-20</td>\n",
       "      <td>Israel</td>\n",
       "      <td>American Israel Education Foundation</td>\n",
       "      <td>Original</td>\n",
       "    </tr>\n",
       "    <tr>\n",
       "      <th>27</th>\n",
       "      <td>Sept. 1, 2023 - Sept. 10, 2023</td>\n",
       "      <td>Sheila Cherfilus-McCormick</td>\n",
       "      <td>Sheila Cherfilus-McCormick</td>\n",
       "      <td>D</td>\n",
       "      <td>FL-20</td>\n",
       "      <td>Rwanda</td>\n",
       "      <td>American Israel Education Foundation</td>\n",
       "      <td>Original</td>\n",
       "    </tr>\n",
       "    <tr>\n",
       "      <th>28</th>\n",
       "      <td>Sept. 1, 2023 - Sept. 10, 2023</td>\n",
       "      <td>Lucy McBath</td>\n",
       "      <td>Lucy McBath</td>\n",
       "      <td>D</td>\n",
       "      <td>GA-7</td>\n",
       "      <td>Israel</td>\n",
       "      <td>American Israel Education Foundation</td>\n",
       "      <td>Original</td>\n",
       "    </tr>\n",
       "    <tr>\n",
       "      <th>29</th>\n",
       "      <td>Sept. 1, 2023 - Sept. 10, 2023</td>\n",
       "      <td>Alma S. Adams</td>\n",
       "      <td>Alma Adams</td>\n",
       "      <td>D</td>\n",
       "      <td>NC-12</td>\n",
       "      <td>Israel</td>\n",
       "      <td>American Israel Education Foundation</td>\n",
       "      <td>Original</td>\n",
       "    </tr>\n",
       "    <tr>\n",
       "      <th>30</th>\n",
       "      <td>Sept. 1, 2023 - Sept. 10, 2023</td>\n",
       "      <td>Lucy McBath</td>\n",
       "      <td>Lucy McBath</td>\n",
       "      <td>D</td>\n",
       "      <td>GA-7</td>\n",
       "      <td>Rwanda</td>\n",
       "      <td>American Israel Education Foundation</td>\n",
       "      <td>Original</td>\n",
       "    </tr>\n",
       "    <tr>\n",
       "      <th>31</th>\n",
       "      <td>Sept. 1, 2023 - Sept. 10, 2023</td>\n",
       "      <td>Alma S. Adams</td>\n",
       "      <td>Alma Adams</td>\n",
       "      <td>D</td>\n",
       "      <td>NC-12</td>\n",
       "      <td>Rwanda</td>\n",
       "      <td>American Israel Education Foundation</td>\n",
       "      <td>Original</td>\n",
       "    </tr>\n",
       "    <tr>\n",
       "      <th>32</th>\n",
       "      <td>Sept. 1, 2023 - Sept. 10, 2023</td>\n",
       "      <td>Nikema Williams</td>\n",
       "      <td>Nikema Williams</td>\n",
       "      <td>D</td>\n",
       "      <td>GA-5</td>\n",
       "      <td>Israel</td>\n",
       "      <td>American Israel Education Foundation</td>\n",
       "      <td>Original</td>\n",
       "    </tr>\n",
       "    <tr>\n",
       "      <th>33</th>\n",
       "      <td>Sept. 1, 2023 - Sept. 10, 2023</td>\n",
       "      <td>Nikema Williams</td>\n",
       "      <td>Nikema Williams</td>\n",
       "      <td>D</td>\n",
       "      <td>GA-5</td>\n",
       "      <td>Rwanda</td>\n",
       "      <td>American Israel Education Foundation</td>\n",
       "      <td>Original</td>\n",
       "    </tr>\n",
       "    <tr>\n",
       "      <th>34</th>\n",
       "      <td>Sept. 1, 2023 - Sept. 10, 2023</td>\n",
       "      <td>Sheila Cherfilus-McCormick</td>\n",
       "      <td>Sheila Cherfilus-McCormick</td>\n",
       "      <td>D</td>\n",
       "      <td>FL-20</td>\n",
       "      <td>Israel, Rwanda</td>\n",
       "      <td>American Israel Education Foundation</td>\n",
       "      <td>Original</td>\n",
       "    </tr>\n",
       "    <tr>\n",
       "      <th>35</th>\n",
       "      <td>Sept. 1, 2023 - Sept. 10, 2023</td>\n",
       "      <td>Glenn Ivey</td>\n",
       "      <td>Glenn Ivey</td>\n",
       "      <td>D</td>\n",
       "      <td>MD-4</td>\n",
       "      <td>Israel</td>\n",
       "      <td>American Israel Education Foundation</td>\n",
       "      <td>Original</td>\n",
       "    </tr>\n",
       "    <tr>\n",
       "      <th>36</th>\n",
       "      <td>Sept. 1, 2023 - Sept. 10, 2023</td>\n",
       "      <td>Glenn Ivey</td>\n",
       "      <td>Glenn Ivey</td>\n",
       "      <td>D</td>\n",
       "      <td>MD-4</td>\n",
       "      <td>Rwanda</td>\n",
       "      <td>American Israel Education Foundation</td>\n",
       "      <td>Original</td>\n",
       "    </tr>\n",
       "    <tr>\n",
       "      <th>37</th>\n",
       "      <td>Sept. 6, 2023 - Sept. 10, 2023</td>\n",
       "      <td>Jim Costa</td>\n",
       "      <td>Jim Costa</td>\n",
       "      <td>D</td>\n",
       "      <td>CA-21</td>\n",
       "      <td>Ukraine</td>\n",
       "      <td>Yalta European Strategy Limited</td>\n",
       "      <td>Original</td>\n",
       "    </tr>\n",
       "    <tr>\n",
       "      <th>38</th>\n",
       "      <td>Sept. 1, 2023 - Sept. 10, 2023</td>\n",
       "      <td>Jonathan L. Jackson</td>\n",
       "      <td>Jonathan Jackson</td>\n",
       "      <td>D</td>\n",
       "      <td>IL-1</td>\n",
       "      <td>Israel</td>\n",
       "      <td>American Israel Education Foundation</td>\n",
       "      <td>Original</td>\n",
       "    </tr>\n",
       "    <tr>\n",
       "      <th>39</th>\n",
       "      <td>Sept. 1, 2023 - Sept. 10, 2023</td>\n",
       "      <td>Jonathan L. Jackson</td>\n",
       "      <td>Jonathan Jackson</td>\n",
       "      <td>D</td>\n",
       "      <td>IL-1</td>\n",
       "      <td>Rwanda</td>\n",
       "      <td>American Israel Education Foundation</td>\n",
       "      <td>Original</td>\n",
       "    </tr>\n",
       "    <tr>\n",
       "      <th>40</th>\n",
       "      <td>Sept. 1, 2023 - Sept. 10, 2023</td>\n",
       "      <td>Troy A. Carter, Sr.</td>\n",
       "      <td>Troy Carter</td>\n",
       "      <td>D</td>\n",
       "      <td>LA-2</td>\n",
       "      <td>Israel</td>\n",
       "      <td>American Israel Education Foundation</td>\n",
       "      <td>Original</td>\n",
       "    </tr>\n",
       "    <tr>\n",
       "      <th>41</th>\n",
       "      <td>Sept. 1, 2023 - Sept. 10, 2023</td>\n",
       "      <td>Ritchie Torres</td>\n",
       "      <td>Ritchie Torres</td>\n",
       "      <td>D</td>\n",
       "      <td>NY-15</td>\n",
       "      <td>Israel</td>\n",
       "      <td>American Israel Education Foundation</td>\n",
       "      <td>Original</td>\n",
       "    </tr>\n",
       "    <tr>\n",
       "      <th>42</th>\n",
       "      <td>Sept. 1, 2023 - Sept. 10, 2023</td>\n",
       "      <td>Ritchie Torres</td>\n",
       "      <td>Ritchie Torres</td>\n",
       "      <td>D</td>\n",
       "      <td>NY-15</td>\n",
       "      <td>Rwanda</td>\n",
       "      <td>American Israel Education Foundation</td>\n",
       "      <td>Original</td>\n",
       "    </tr>\n",
       "    <tr>\n",
       "      <th>43</th>\n",
       "      <td>Sept. 7, 2023 - Sept. 9, 2023</td>\n",
       "      <td>Robert Powell</td>\n",
       "      <td>Greg Steube</td>\n",
       "      <td>R</td>\n",
       "      <td>FL-17</td>\n",
       "      <td>Los Angeles, CA</td>\n",
       "      <td>Clean Fuels Alliance Foundation (F/K/A Nationa...</td>\n",
       "      <td>Original</td>\n",
       "    </tr>\n",
       "    <tr>\n",
       "      <th>44</th>\n",
       "      <td>Sept. 7, 2023 - Sept. 9, 2023</td>\n",
       "      <td>Shawn Rusterholz</td>\n",
       "      <td>Pete Stauber</td>\n",
       "      <td>R</td>\n",
       "      <td>MN-8</td>\n",
       "      <td>Los Angeles, CA</td>\n",
       "      <td>Clean Fuels Alliance Foundation (F/K/A Nationa...</td>\n",
       "      <td>Original</td>\n",
       "    </tr>\n",
       "    <tr>\n",
       "      <th>45</th>\n",
       "      <td>Sept. 7, 2023 - Sept. 9, 2023</td>\n",
       "      <td>Christopher Koya</td>\n",
       "      <td>Summer Lee</td>\n",
       "      <td>D</td>\n",
       "      <td>PA-12</td>\n",
       "      <td>Los Angeles, CA</td>\n",
       "      <td>Clean Fuels Alliance Foundation (F/K/A Nationa...</td>\n",
       "      <td>Original</td>\n",
       "    </tr>\n",
       "    <tr>\n",
       "      <th>46</th>\n",
       "      <td>Sept. 7, 2023 - Sept. 9, 2023</td>\n",
       "      <td>Jacquline Anderson</td>\n",
       "      <td>Larry Bucshon</td>\n",
       "      <td>R</td>\n",
       "      <td>IN-8</td>\n",
       "      <td>Los Angeles, CA</td>\n",
       "      <td>Clean Fuels Alliance Foundation (F/K/A Nationa...</td>\n",
       "      <td>Original</td>\n",
       "    </tr>\n",
       "    <tr>\n",
       "      <th>47</th>\n",
       "      <td>Sept. 7, 2023 - Sept. 9, 2023</td>\n",
       "      <td>John Rayburn</td>\n",
       "      <td>Rosa DeLauro</td>\n",
       "      <td>D</td>\n",
       "      <td>CT-3</td>\n",
       "      <td>Los Angeles, CA</td>\n",
       "      <td>Clean Fuels Alliance Foundation (F/K/A Nationa...</td>\n",
       "      <td>Original</td>\n",
       "    </tr>\n",
       "    <tr>\n",
       "      <th>48</th>\n",
       "      <td>Sept. 7, 2023 - Sept. 9, 2023</td>\n",
       "      <td>Mitchell Heidenreich</td>\n",
       "      <td>Jill Tokuda</td>\n",
       "      <td>D</td>\n",
       "      <td>HI-2</td>\n",
       "      <td>Los Angeles, CA</td>\n",
       "      <td>Clean Fuels Alliance Foundation (F/K/A Nationa...</td>\n",
       "      <td>Original</td>\n",
       "    </tr>\n",
       "    <tr>\n",
       "      <th>49</th>\n",
       "      <td>Sept. 7, 2023 - Sept. 9, 2023</td>\n",
       "      <td>Zachary Settle</td>\n",
       "      <td>James Comer</td>\n",
       "      <td>R</td>\n",
       "      <td>KY-1</td>\n",
       "      <td>Los Angeles, CA</td>\n",
       "      <td>Clean Fuels Alliance Foundation (F/K/A Nationa...</td>\n",
       "      <td>Original</td>\n",
       "    </tr>\n",
       "  </tbody>\n",
       "</table>\n",
       "</div>"
      ],
      "text/plain": [
       "                              Dates                    Traveler  \\\n",
       "0     Oct. 10, 2023 - Oct. 12, 2023              Lester Spencer   \n",
       "1     Oct. 10, 2023 - Oct. 12, 2023                  Melody Tan   \n",
       "2     Oct. 10, 2023 - Oct. 12, 2023        Mitchell Heidenreich   \n",
       "3     Oct. 10, 2023 - Oct. 12, 2023               Noelle Gasper   \n",
       "4     Oct. 10, 2023 - Oct. 12, 2023               William Dwyer   \n",
       "5     Oct. 12, 2023 - Oct. 12, 2023             Andrew Bambrick   \n",
       "6     Oct. 10, 2023 - Oct. 12, 2023              Lester Spencer   \n",
       "7      Oct. 8, 2023 - Oct. 12, 2023              Brendan Larkin   \n",
       "8     Oct. 10, 2023 - Oct. 12, 2023                  Emma Reidy   \n",
       "9      Oct. 8, 2023 - Oct. 12, 2023             Elise Krekorian   \n",
       "10     Oct. 8, 2023 - Oct. 12, 2023             Hillary O'Brien   \n",
       "11     Oct. 6, 2023 - Oct. 12, 2023          Kristopher Pittard   \n",
       "12    Oct. 10, 2023 - Oct. 12, 2023                Brian Rogers   \n",
       "13     Oct. 4, 2023 - Oct. 11, 2023                 Tim Walberg   \n",
       "14      Oct. 8, 2023 - Oct. 9, 2023              Michael Bauman   \n",
       "15      Oct. 3, 2023 - Oct. 5, 2023             Charles McGrath   \n",
       "16      Oct. 3, 2023 - Oct. 5, 2023             Megan Guiltinan   \n",
       "17  Sept. 25, 2023 - Sept. 27, 2023                  David Bean   \n",
       "18  Sept. 25, 2023 - Sept. 27, 2023               David Horsley   \n",
       "19  Sept. 25, 2023 - Sept. 27, 2023             Reagan Harrison   \n",
       "20  Sept. 16, 2023 - Sept. 17, 2023                Joyce Beatty   \n",
       "21  Sept. 16, 2023 - Sept. 17, 2023             Kelly Armstrong   \n",
       "22  Sept. 16, 2023 - Sept. 17, 2023                Adrian Smith   \n",
       "23   Sept. 1, 2023 - Sept. 10, 2023             Valerie Foushee   \n",
       "24   Sept. 1, 2023 - Sept. 10, 2023             Valerie Foushee   \n",
       "25   Sept. 1, 2023 - Sept. 10, 2023         Troy A. Carter, Sr.   \n",
       "26   Sept. 1, 2023 - Sept. 10, 2023  Sheila Cherfilus-McCormick   \n",
       "27   Sept. 1, 2023 - Sept. 10, 2023  Sheila Cherfilus-McCormick   \n",
       "28   Sept. 1, 2023 - Sept. 10, 2023                 Lucy McBath   \n",
       "29   Sept. 1, 2023 - Sept. 10, 2023               Alma S. Adams   \n",
       "30   Sept. 1, 2023 - Sept. 10, 2023                 Lucy McBath   \n",
       "31   Sept. 1, 2023 - Sept. 10, 2023               Alma S. Adams   \n",
       "32   Sept. 1, 2023 - Sept. 10, 2023             Nikema Williams   \n",
       "33   Sept. 1, 2023 - Sept. 10, 2023             Nikema Williams   \n",
       "34   Sept. 1, 2023 - Sept. 10, 2023  Sheila Cherfilus-McCormick   \n",
       "35   Sept. 1, 2023 - Sept. 10, 2023                  Glenn Ivey   \n",
       "36   Sept. 1, 2023 - Sept. 10, 2023                  Glenn Ivey   \n",
       "37   Sept. 6, 2023 - Sept. 10, 2023                   Jim Costa   \n",
       "38   Sept. 1, 2023 - Sept. 10, 2023         Jonathan L. Jackson   \n",
       "39   Sept. 1, 2023 - Sept. 10, 2023         Jonathan L. Jackson   \n",
       "40   Sept. 1, 2023 - Sept. 10, 2023         Troy A. Carter, Sr.   \n",
       "41   Sept. 1, 2023 - Sept. 10, 2023              Ritchie Torres   \n",
       "42   Sept. 1, 2023 - Sept. 10, 2023              Ritchie Torres   \n",
       "43    Sept. 7, 2023 - Sept. 9, 2023               Robert Powell   \n",
       "44    Sept. 7, 2023 - Sept. 9, 2023            Shawn Rusterholz   \n",
       "45    Sept. 7, 2023 - Sept. 9, 2023            Christopher Koya   \n",
       "46    Sept. 7, 2023 - Sept. 9, 2023          Jacquline Anderson   \n",
       "47    Sept. 7, 2023 - Sept. 9, 2023                John Rayburn   \n",
       "48    Sept. 7, 2023 - Sept. 9, 2023        Mitchell Heidenreich   \n",
       "49    Sept. 7, 2023 - Sept. 9, 2023              Zachary Settle   \n",
       "\n",
       "                        Member Party State / District      Destination  \\\n",
       "0           Emanuel Cleaver II     D             MO-5    Cambridge, MD   \n",
       "1           Jennifer McClellan     D             VA-4    Cambridge, MA   \n",
       "2                  Jill Tokuda     D             HI-2    Cambridge, MA   \n",
       "3                  Rick Larsen     D             WA-2    Cambridge, MD   \n",
       "4                  Robin Kelly     D             IL-2    Cambridge, MA   \n",
       "5              Bruce Westerman     R             AR-4    Baltimore, MD   \n",
       "6           Emanuel Cleaver II     D             MO-5    Cambridge, MA   \n",
       "7                   Paul Tonko     D            NY-20           France   \n",
       "8                Ruben Gallego     D             AZ-3    Cambridge, MA   \n",
       "9       Cathy McMorris Rodgers     R             WA-5           France   \n",
       "10              Frank D. Lucas     R             OK-3           France   \n",
       "11               Frank Pallone     D             NJ-6           France   \n",
       "12                Kevin Mullin     D            CA-15    Cambridge, MA   \n",
       "13                 Tim Walberg     R             MI-5           Uganda   \n",
       "14                 Rick Larsen     D             WA-2      Orlando, FL   \n",
       "15          Patrick T. McHenry     R            NC-10    St. Louis, MO   \n",
       "16                   Andy Barr     R             KY-6    St. Louis, MO   \n",
       "17               Larry Bucshon     R             IN-8    Las Vegas, NV   \n",
       "18              August Pfluger     R            TX-11    Las Vegas, NV   \n",
       "19                  John Joyce     R            PA-13    Las Vegas, NV   \n",
       "20                Joyce Beatty     D             OH-3   Rapid City, SD   \n",
       "21             Kelly Armstrong     R             ND-1   Rapid City, SD   \n",
       "22                Adrian Smith     R             NE-3   Rapid City, SD   \n",
       "23             Valerie Foushee     D             NC-4           Israel   \n",
       "24             Valerie Foushee     D             NC-4           Rwanda   \n",
       "25                 Troy Carter     D             LA-2           Rwanda   \n",
       "26  Sheila Cherfilus-McCormick     D            FL-20           Israel   \n",
       "27  Sheila Cherfilus-McCormick     D            FL-20           Rwanda   \n",
       "28                 Lucy McBath     D             GA-7           Israel   \n",
       "29                  Alma Adams     D            NC-12           Israel   \n",
       "30                 Lucy McBath     D             GA-7           Rwanda   \n",
       "31                  Alma Adams     D            NC-12           Rwanda   \n",
       "32             Nikema Williams     D             GA-5           Israel   \n",
       "33             Nikema Williams     D             GA-5           Rwanda   \n",
       "34  Sheila Cherfilus-McCormick     D            FL-20   Israel, Rwanda   \n",
       "35                  Glenn Ivey     D             MD-4           Israel   \n",
       "36                  Glenn Ivey     D             MD-4           Rwanda   \n",
       "37                   Jim Costa     D            CA-21          Ukraine   \n",
       "38            Jonathan Jackson     D             IL-1           Israel   \n",
       "39            Jonathan Jackson     D             IL-1           Rwanda   \n",
       "40                 Troy Carter     D             LA-2           Israel   \n",
       "41              Ritchie Torres     D            NY-15           Israel   \n",
       "42              Ritchie Torres     D            NY-15           Rwanda   \n",
       "43                 Greg Steube     R            FL-17  Los Angeles, CA   \n",
       "44                Pete Stauber     R             MN-8  Los Angeles, CA   \n",
       "45                  Summer Lee     D            PA-12  Los Angeles, CA   \n",
       "46               Larry Bucshon     R             IN-8  Los Angeles, CA   \n",
       "47                Rosa DeLauro     D             CT-3  Los Angeles, CA   \n",
       "48                 Jill Tokuda     D             HI-2  Los Angeles, CA   \n",
       "49                 James Comer     R             KY-1  Los Angeles, CA   \n",
       "\n",
       "                                              Sponsor Filing Type  \n",
       "0               Massachusetts Institute of Technology    Original  \n",
       "1               Massachusetts Institute of Technology    Original  \n",
       "2               Massachusetts Institute of Technology    Original  \n",
       "3               Massachusetts Institute of Technology    Original  \n",
       "4               Massachusetts Institute of Technology    Original  \n",
       "5   National Park Foundation, Coca-Cola Company, a...    Original  \n",
       "6               Massachusetts Institute of Technology    Original  \n",
       "7                      Foundation for Nuclear Studies    Original  \n",
       "8               Massachusetts Institute of Technology    Original  \n",
       "9                      Foundation for Nuclear Studies    Original  \n",
       "10                     Foundation for Nuclear Studies    Original  \n",
       "11                     Foundation for Nuclear Studies    Original  \n",
       "12              Massachusetts Institute of Technology    Original  \n",
       "13        Fellowship Foundation (d.b.a. International    Original  \n",
       "14         American Public Transportation Association    Original  \n",
       "15  Conference of State Bank Supervisors and the F...    Original  \n",
       "16  Conference of State Bank Supervisors and the F...    Original  \n",
       "17                                               CTIA    Original  \n",
       "18                                               CTIA    Original  \n",
       "19                                               CTIA    Original  \n",
       "20  Ripon Society and the Franklin Center for Glob...    Original  \n",
       "21  Ripon Society and the Franklin Center for Glob...    Original  \n",
       "22  Ripon Society and the Franklin Center for Glob...    Original  \n",
       "23               American Israel Education Foundation    Original  \n",
       "24               American Israel Education Foundation    Original  \n",
       "25               American Israel Education Foundation    Original  \n",
       "26               American Israel Education Foundation    Original  \n",
       "27               American Israel Education Foundation    Original  \n",
       "28               American Israel Education Foundation    Original  \n",
       "29               American Israel Education Foundation    Original  \n",
       "30               American Israel Education Foundation    Original  \n",
       "31               American Israel Education Foundation    Original  \n",
       "32               American Israel Education Foundation    Original  \n",
       "33               American Israel Education Foundation    Original  \n",
       "34               American Israel Education Foundation    Original  \n",
       "35               American Israel Education Foundation    Original  \n",
       "36               American Israel Education Foundation    Original  \n",
       "37                    Yalta European Strategy Limited    Original  \n",
       "38               American Israel Education Foundation    Original  \n",
       "39               American Israel Education Foundation    Original  \n",
       "40               American Israel Education Foundation    Original  \n",
       "41               American Israel Education Foundation    Original  \n",
       "42               American Israel Education Foundation    Original  \n",
       "43  Clean Fuels Alliance Foundation (F/K/A Nationa...    Original  \n",
       "44  Clean Fuels Alliance Foundation (F/K/A Nationa...    Original  \n",
       "45  Clean Fuels Alliance Foundation (F/K/A Nationa...    Original  \n",
       "46  Clean Fuels Alliance Foundation (F/K/A Nationa...    Original  \n",
       "47  Clean Fuels Alliance Foundation (F/K/A Nationa...    Original  \n",
       "48  Clean Fuels Alliance Foundation (F/K/A Nationa...    Original  \n",
       "49  Clean Fuels Alliance Foundation (F/K/A Nationa...    Original  "
      ]
     },
     "execution_count": 10,
     "metadata": {},
     "output_type": "execute_result"
    }
   ],
   "source": [
    "table2[0]"
   ]
  },
  {
   "cell_type": "code",
   "execution_count": 11,
   "id": "0e772573",
   "metadata": {},
   "outputs": [
    {
     "name": "stdout",
     "output_type": "stream",
     "text": [
      "now scraping page 2\n"
     ]
    },
    {
     "name": "stderr",
     "output_type": "stream",
     "text": [
      "/var/folders/61/68rz41055xg7sv4h43532jh00000gn/T/ipykernel_25630/43093296.py:6: FutureWarning: The frame.append method is deprecated and will be removed from pandas in a future version. Use pandas.concat instead.\n",
      "  df=df.append(table[0])\n"
     ]
    },
    {
     "name": "stdout",
     "output_type": "stream",
     "text": [
      "now snoozing for 11 secs\n",
      "now scraping page 3\n"
     ]
    },
    {
     "name": "stderr",
     "output_type": "stream",
     "text": [
      "/var/folders/61/68rz41055xg7sv4h43532jh00000gn/T/ipykernel_25630/43093296.py:6: FutureWarning: The frame.append method is deprecated and will be removed from pandas in a future version. Use pandas.concat instead.\n",
      "  df=df.append(table[0])\n"
     ]
    },
    {
     "name": "stdout",
     "output_type": "stream",
     "text": [
      "now snoozing for 16 secs\n",
      "now scraping page 4\n"
     ]
    },
    {
     "name": "stderr",
     "output_type": "stream",
     "text": [
      "/var/folders/61/68rz41055xg7sv4h43532jh00000gn/T/ipykernel_25630/43093296.py:6: FutureWarning: The frame.append method is deprecated and will be removed from pandas in a future version. Use pandas.concat instead.\n",
      "  df=df.append(table[0])\n"
     ]
    },
    {
     "name": "stdout",
     "output_type": "stream",
     "text": [
      "now snoozing for 16 secs\n"
     ]
    }
   ],
   "source": [
    "#Try a few pages\n",
    "for i in range(2, 5):\n",
    "    print(f\"now scraping page {i}\")\n",
    "    response=requests.get(base_url+str(i))\n",
    "    if response.status_code<400:\n",
    "        table=pd.read_html(response.text)\n",
    "        df=df.append(table[0])\n",
    "    else:\n",
    "        print(f\"error scraping page {base_url}{i}\")\n",
    "    snooze()\n",
    "    i+=1\n",
    "    \n",
    "\n",
    "    "
   ]
  },
  {
   "cell_type": "code",
   "execution_count": 64,
   "id": "d6e8ed97",
   "metadata": {},
   "outputs": [
    {
     "data": {
      "text/html": [
       "<div>\n",
       "<style scoped>\n",
       "    .dataframe tbody tr th:only-of-type {\n",
       "        vertical-align: middle;\n",
       "    }\n",
       "\n",
       "    .dataframe tbody tr th {\n",
       "        vertical-align: top;\n",
       "    }\n",
       "\n",
       "    .dataframe thead th {\n",
       "        text-align: right;\n",
       "    }\n",
       "</style>\n",
       "<table border=\"1\" class=\"dataframe\">\n",
       "  <thead>\n",
       "    <tr style=\"text-align: right;\">\n",
       "      <th></th>\n",
       "      <th>Dates</th>\n",
       "      <th>Traveler</th>\n",
       "      <th>Member</th>\n",
       "      <th>Party</th>\n",
       "      <th>State / District</th>\n",
       "      <th>Destination</th>\n",
       "      <th>Sponsor</th>\n",
       "      <th>Filing Type</th>\n",
       "    </tr>\n",
       "  </thead>\n",
       "  <tbody>\n",
       "    <tr>\n",
       "      <th>0</th>\n",
       "      <td>Oct. 20, 2023 - Oct. 21, 2023</td>\n",
       "      <td>Christina Mahoney</td>\n",
       "      <td>Emanuel Cleaver II</td>\n",
       "      <td>D</td>\n",
       "      <td>MO-5</td>\n",
       "      <td>Charlottesville, VA</td>\n",
       "      <td>Pew Charitable Trusts and the Joyce Foundation</td>\n",
       "      <td>Original</td>\n",
       "    </tr>\n",
       "    <tr>\n",
       "      <th>1</th>\n",
       "      <td>Oct. 7, 2023 - Oct. 16, 2023</td>\n",
       "      <td>Tiffany Haverly</td>\n",
       "      <td>Adrian Smith</td>\n",
       "      <td>R</td>\n",
       "      <td>NE-3</td>\n",
       "      <td>Zambia</td>\n",
       "      <td>International Republican Institute</td>\n",
       "      <td>Original</td>\n",
       "    </tr>\n",
       "    <tr>\n",
       "      <th>2</th>\n",
       "      <td>Oct. 7, 2023 - Oct. 16, 2023</td>\n",
       "      <td>Leslie Reagan</td>\n",
       "      <td>Michael McCaul</td>\n",
       "      <td>R</td>\n",
       "      <td>TX-10</td>\n",
       "      <td>Zambia</td>\n",
       "      <td>International Republican Institute</td>\n",
       "      <td>Original</td>\n",
       "    </tr>\n",
       "    <tr>\n",
       "      <th>3</th>\n",
       "      <td>Oct. 7, 2023 - Oct. 16, 2023</td>\n",
       "      <td>Mitchell Moonier</td>\n",
       "      <td>Dina Titus</td>\n",
       "      <td>D</td>\n",
       "      <td>NV-1</td>\n",
       "      <td>Zambia</td>\n",
       "      <td>International Republican Institute</td>\n",
       "      <td>Original</td>\n",
       "    </tr>\n",
       "    <tr>\n",
       "      <th>4</th>\n",
       "      <td>Oct. 11, 2023 - Oct. 15, 2023</td>\n",
       "      <td>Alicia Porile</td>\n",
       "      <td>Lisa Blunt Rochester</td>\n",
       "      <td>D</td>\n",
       "      <td>DE-1</td>\n",
       "      <td>Sunnyvale, CA</td>\n",
       "      <td>Information Technology and Innovation Foundation</td>\n",
       "      <td>Original</td>\n",
       "    </tr>\n",
       "    <tr>\n",
       "      <th>...</th>\n",
       "      <td>...</td>\n",
       "      <td>...</td>\n",
       "      <td>...</td>\n",
       "      <td>...</td>\n",
       "      <td>...</td>\n",
       "      <td>...</td>\n",
       "      <td>...</td>\n",
       "      <td>...</td>\n",
       "    </tr>\n",
       "    <tr>\n",
       "      <th>45</th>\n",
       "      <td>Aug. 19, 2023 - Aug. 27, 2023</td>\n",
       "      <td>Andrew Bower</td>\n",
       "      <td>Robert Garcia</td>\n",
       "      <td>D</td>\n",
       "      <td>CA-42</td>\n",
       "      <td>Poland,</td>\n",
       "      <td>Center for Strategic and International Studies</td>\n",
       "      <td>Original</td>\n",
       "    </tr>\n",
       "    <tr>\n",
       "      <th>46</th>\n",
       "      <td>Aug. 19, 2023 - Aug. 27, 2023</td>\n",
       "      <td>Andrew Bower</td>\n",
       "      <td>Robert Garcia</td>\n",
       "      <td>D</td>\n",
       "      <td>CA-42</td>\n",
       "      <td>Ukraine,</td>\n",
       "      <td>Center for Strategic and International Studies</td>\n",
       "      <td>Original</td>\n",
       "    </tr>\n",
       "    <tr>\n",
       "      <th>47</th>\n",
       "      <td>Aug. 19, 2023 - Aug. 27, 2023</td>\n",
       "      <td>Angele Griffin</td>\n",
       "      <td>Colin Allred</td>\n",
       "      <td>D</td>\n",
       "      <td>TX-32</td>\n",
       "      <td>Moldova</td>\n",
       "      <td>Center for Strategic and International Studies</td>\n",
       "      <td>Original</td>\n",
       "    </tr>\n",
       "    <tr>\n",
       "      <th>48</th>\n",
       "      <td>Aug. 19, 2023 - Aug. 27, 2023</td>\n",
       "      <td>Angele Griffin</td>\n",
       "      <td>Colin Allred</td>\n",
       "      <td>D</td>\n",
       "      <td>TX-32</td>\n",
       "      <td>Poland,</td>\n",
       "      <td>Center for Strategic and International Studies</td>\n",
       "      <td>Original</td>\n",
       "    </tr>\n",
       "    <tr>\n",
       "      <th>49</th>\n",
       "      <td>Aug. 19, 2023 - Aug. 27, 2023</td>\n",
       "      <td>Angele Griffin</td>\n",
       "      <td>Colin Allred</td>\n",
       "      <td>D</td>\n",
       "      <td>TX-32</td>\n",
       "      <td>Ukraine,</td>\n",
       "      <td>Center for Strategic and International Studies</td>\n",
       "      <td>Original</td>\n",
       "    </tr>\n",
       "  </tbody>\n",
       "</table>\n",
       "<p>250 rows × 8 columns</p>\n",
       "</div>"
      ],
      "text/plain": [
       "                            Dates           Traveler                Member  \\\n",
       "0   Oct. 20, 2023 - Oct. 21, 2023  Christina Mahoney    Emanuel Cleaver II   \n",
       "1    Oct. 7, 2023 - Oct. 16, 2023    Tiffany Haverly          Adrian Smith   \n",
       "2    Oct. 7, 2023 - Oct. 16, 2023      Leslie Reagan        Michael McCaul   \n",
       "3    Oct. 7, 2023 - Oct. 16, 2023   Mitchell Moonier            Dina Titus   \n",
       "4   Oct. 11, 2023 - Oct. 15, 2023      Alicia Porile  Lisa Blunt Rochester   \n",
       "..                            ...                ...                   ...   \n",
       "45  Aug. 19, 2023 - Aug. 27, 2023       Andrew Bower         Robert Garcia   \n",
       "46  Aug. 19, 2023 - Aug. 27, 2023       Andrew Bower         Robert Garcia   \n",
       "47  Aug. 19, 2023 - Aug. 27, 2023     Angele Griffin          Colin Allred   \n",
       "48  Aug. 19, 2023 - Aug. 27, 2023     Angele Griffin          Colin Allred   \n",
       "49  Aug. 19, 2023 - Aug. 27, 2023     Angele Griffin          Colin Allred   \n",
       "\n",
       "   Party State / District          Destination  \\\n",
       "0      D             MO-5  Charlottesville, VA   \n",
       "1      R             NE-3               Zambia   \n",
       "2      R            TX-10               Zambia   \n",
       "3      D             NV-1               Zambia   \n",
       "4      D             DE-1        Sunnyvale, CA   \n",
       "..   ...              ...                  ...   \n",
       "45     D            CA-42              Poland,   \n",
       "46     D            CA-42             Ukraine,   \n",
       "47     D            TX-32              Moldova   \n",
       "48     D            TX-32              Poland,   \n",
       "49     D            TX-32             Ukraine,   \n",
       "\n",
       "                                             Sponsor Filing Type  \n",
       "0     Pew Charitable Trusts and the Joyce Foundation    Original  \n",
       "1                 International Republican Institute    Original  \n",
       "2                 International Republican Institute    Original  \n",
       "3                 International Republican Institute    Original  \n",
       "4   Information Technology and Innovation Foundation    Original  \n",
       "..                                               ...         ...  \n",
       "45    Center for Strategic and International Studies    Original  \n",
       "46    Center for Strategic and International Studies    Original  \n",
       "47    Center for Strategic and International Studies    Original  \n",
       "48    Center for Strategic and International Studies    Original  \n",
       "49    Center for Strategic and International Studies    Original  \n",
       "\n",
       "[250 rows x 8 columns]"
      ]
     },
     "execution_count": 64,
     "metadata": {},
     "output_type": "execute_result"
    }
   ],
   "source": [
    "df"
   ]
  },
  {
   "cell_type": "code",
   "execution_count": 12,
   "id": "0d8ef17b",
   "metadata": {},
   "outputs": [
    {
     "data": {
      "text/html": [
       "<div>\n",
       "<style scoped>\n",
       "    .dataframe tbody tr th:only-of-type {\n",
       "        vertical-align: middle;\n",
       "    }\n",
       "\n",
       "    .dataframe tbody tr th {\n",
       "        vertical-align: top;\n",
       "    }\n",
       "\n",
       "    .dataframe thead th {\n",
       "        text-align: right;\n",
       "    }\n",
       "</style>\n",
       "<table border=\"1\" class=\"dataframe\">\n",
       "  <thead>\n",
       "    <tr style=\"text-align: right;\">\n",
       "      <th></th>\n",
       "      <th>Dates</th>\n",
       "      <th>Traveler</th>\n",
       "      <th>Member</th>\n",
       "      <th>Party</th>\n",
       "      <th>State / District</th>\n",
       "      <th>Destination</th>\n",
       "      <th>Sponsor</th>\n",
       "      <th>Filing Type</th>\n",
       "    </tr>\n",
       "  </thead>\n",
       "  <tbody>\n",
       "    <tr>\n",
       "      <th>0</th>\n",
       "      <td>Oct. 26, 2023 - Oct. 29, 2023</td>\n",
       "      <td>Steven Horsford</td>\n",
       "      <td>Steven Horsford</td>\n",
       "      <td>D</td>\n",
       "      <td>NV-4</td>\n",
       "      <td>Houston, TX</td>\n",
       "      <td>Congressional Black Caucus Institute</td>\n",
       "      <td>Original</td>\n",
       "    </tr>\n",
       "    <tr>\n",
       "      <th>1</th>\n",
       "      <td>Oct. 22, 2023 - Oct. 23, 2023</td>\n",
       "      <td>Derek Kilmer</td>\n",
       "      <td>Derek Kilmer</td>\n",
       "      <td>D</td>\n",
       "      <td>WA-6</td>\n",
       "      <td>New York, NY</td>\n",
       "      <td>United Nations Foundation</td>\n",
       "      <td>Original</td>\n",
       "    </tr>\n",
       "    <tr>\n",
       "      <th>2</th>\n",
       "      <td>Oct. 22, 2023 - Oct. 23, 2023</td>\n",
       "      <td>Ted Lieu</td>\n",
       "      <td>Ted Lieu</td>\n",
       "      <td>D</td>\n",
       "      <td>CA-36</td>\n",
       "      <td>New York, NY</td>\n",
       "      <td>United</td>\n",
       "      <td>Original</td>\n",
       "    </tr>\n",
       "    <tr>\n",
       "      <th>3</th>\n",
       "      <td>Oct. 20, 2023 - Oct. 22, 2023</td>\n",
       "      <td>Gregory Smith</td>\n",
       "      <td>Eli Crane</td>\n",
       "      <td>R</td>\n",
       "      <td>AZ-2</td>\n",
       "      <td>Charlottesville, VA</td>\n",
       "      <td>Pew Charitable Trusts</td>\n",
       "      <td>Original</td>\n",
       "    </tr>\n",
       "    <tr>\n",
       "      <th>4</th>\n",
       "      <td>Oct. 20, 2023 - Oct. 21, 2023</td>\n",
       "      <td>Marcus Dunn</td>\n",
       "      <td>George Santos</td>\n",
       "      <td>R</td>\n",
       "      <td>NY-3</td>\n",
       "      <td>Charlottesville, VA</td>\n",
       "      <td>Pew Charitable Trusts</td>\n",
       "      <td>Original</td>\n",
       "    </tr>\n",
       "    <tr>\n",
       "      <th>5</th>\n",
       "      <td>Oct. 20, 2023 - Oct. 21, 2023</td>\n",
       "      <td>Christina Mahoney</td>\n",
       "      <td>Emanuel Cleaver II</td>\n",
       "      <td>D</td>\n",
       "      <td>MO-5</td>\n",
       "      <td>Charlottesville, VA</td>\n",
       "      <td>Pew Charitable Trusts and the Joyce Foundation</td>\n",
       "      <td>Original</td>\n",
       "    </tr>\n",
       "    <tr>\n",
       "      <th>6</th>\n",
       "      <td>Oct. 20, 2023 - Oct. 21, 2023</td>\n",
       "      <td>Cara Camacho</td>\n",
       "      <td>Jim Himes</td>\n",
       "      <td>D</td>\n",
       "      <td>CT-4</td>\n",
       "      <td>Charlottesville, VA</td>\n",
       "      <td>Pew Charitable Trusts and the Joyce Foundation</td>\n",
       "      <td>Original</td>\n",
       "    </tr>\n",
       "    <tr>\n",
       "      <th>7</th>\n",
       "      <td>Oct. 20, 2023 - Oct. 21, 2023</td>\n",
       "      <td>Hunter Ridgway</td>\n",
       "      <td>Matt Cartwright</td>\n",
       "      <td>D</td>\n",
       "      <td>PA-8</td>\n",
       "      <td>Charlottesville, VA</td>\n",
       "      <td>Pew Charitable Trusts and the Joyce Foundation</td>\n",
       "      <td>Original</td>\n",
       "    </tr>\n",
       "    <tr>\n",
       "      <th>8</th>\n",
       "      <td>Oct. 20, 2023 - Oct. 21, 2023</td>\n",
       "      <td>Katherine Bonner</td>\n",
       "      <td>Lloyd Smucker</td>\n",
       "      <td>R</td>\n",
       "      <td>PA-11</td>\n",
       "      <td>Charlottesville, VA</td>\n",
       "      <td>Pew Charitable Trusts and the Joyce Foundation</td>\n",
       "      <td>Original</td>\n",
       "    </tr>\n",
       "    <tr>\n",
       "      <th>9</th>\n",
       "      <td>Oct. 20, 2023 - Oct. 21, 2023</td>\n",
       "      <td>Liana Guerra</td>\n",
       "      <td>Darren Soto</td>\n",
       "      <td>D</td>\n",
       "      <td>FL-9</td>\n",
       "      <td>Charlottesville, VA</td>\n",
       "      <td>Pew Charitable Trusts and the Joyce Foundation</td>\n",
       "      <td>Original</td>\n",
       "    </tr>\n",
       "    <tr>\n",
       "      <th>10</th>\n",
       "      <td>Oct. 20, 2023 - Oct. 21, 2023</td>\n",
       "      <td>Margaret McInnis</td>\n",
       "      <td>Marcy Kaptur</td>\n",
       "      <td>D</td>\n",
       "      <td>OH-9</td>\n",
       "      <td>Charlottesville, VA</td>\n",
       "      <td>Pew Charitable Trusts and the Joyce Foundation</td>\n",
       "      <td>Original</td>\n",
       "    </tr>\n",
       "    <tr>\n",
       "      <th>11</th>\n",
       "      <td>Oct. 20, 2023 - Oct. 21, 2023</td>\n",
       "      <td>Matthew McMurray</td>\n",
       "      <td>Robin Kelly</td>\n",
       "      <td>D</td>\n",
       "      <td>IL-2</td>\n",
       "      <td>Charlottesville, VA</td>\n",
       "      <td>Pew Charitable Trusts and the Joyce Foundation</td>\n",
       "      <td>Original</td>\n",
       "    </tr>\n",
       "    <tr>\n",
       "      <th>12</th>\n",
       "      <td>Oct. 20, 2023 - Oct. 21, 2023</td>\n",
       "      <td>Robert Edmonson</td>\n",
       "      <td>Robert Garcia</td>\n",
       "      <td>D</td>\n",
       "      <td>CA-42</td>\n",
       "      <td>Charlottesville, VA</td>\n",
       "      <td>Pew Charitable Trusts and the Joyce Foundation</td>\n",
       "      <td>Original</td>\n",
       "    </tr>\n",
       "    <tr>\n",
       "      <th>13</th>\n",
       "      <td>Oct. 20, 2023 - Oct. 21, 2023</td>\n",
       "      <td>Steven Carlson</td>\n",
       "      <td>Chris Pappas</td>\n",
       "      <td>D</td>\n",
       "      <td>NH-1</td>\n",
       "      <td>Charlottesville, VA</td>\n",
       "      <td>Pew Charitable Trusts and the Joyce Foundation</td>\n",
       "      <td>Original</td>\n",
       "    </tr>\n",
       "    <tr>\n",
       "      <th>14</th>\n",
       "      <td>Oct. 20, 2023 - Oct. 21, 2023</td>\n",
       "      <td>Shana Teehan</td>\n",
       "      <td>Barry Moore</td>\n",
       "      <td>R</td>\n",
       "      <td>AL-2</td>\n",
       "      <td>Charlottesville, VA</td>\n",
       "      <td>Pew Charitable Trusts and the Joyce Foundation</td>\n",
       "      <td>Original</td>\n",
       "    </tr>\n",
       "    <tr>\n",
       "      <th>15</th>\n",
       "      <td>Oct. 7, 2023 - Oct. 16, 2023</td>\n",
       "      <td>Tiffany Haverly</td>\n",
       "      <td>Adrian Smith</td>\n",
       "      <td>R</td>\n",
       "      <td>NE-3</td>\n",
       "      <td>Zambia</td>\n",
       "      <td>International Republican Institute</td>\n",
       "      <td>Original</td>\n",
       "    </tr>\n",
       "    <tr>\n",
       "      <th>16</th>\n",
       "      <td>Oct. 7, 2023 - Oct. 16, 2023</td>\n",
       "      <td>Leslie Reagan</td>\n",
       "      <td>Michael McCaul</td>\n",
       "      <td>R</td>\n",
       "      <td>TX-10</td>\n",
       "      <td>Zambia</td>\n",
       "      <td>International Republican Institute</td>\n",
       "      <td>Original</td>\n",
       "    </tr>\n",
       "    <tr>\n",
       "      <th>17</th>\n",
       "      <td>Oct. 7, 2023 - Oct. 16, 2023</td>\n",
       "      <td>Mitchell Moonier</td>\n",
       "      <td>Dina Titus</td>\n",
       "      <td>D</td>\n",
       "      <td>NV-1</td>\n",
       "      <td>Zambia</td>\n",
       "      <td>International Republican Institute</td>\n",
       "      <td>Original</td>\n",
       "    </tr>\n",
       "    <tr>\n",
       "      <th>18</th>\n",
       "      <td>Oct. 11, 2023 - Oct. 15, 2023</td>\n",
       "      <td>Alicia Porile</td>\n",
       "      <td>Lisa Blunt Rochester</td>\n",
       "      <td>D</td>\n",
       "      <td>DE-1</td>\n",
       "      <td>Sunnyvale, CA</td>\n",
       "      <td>Information Technology and Innovation Foundation</td>\n",
       "      <td>Original</td>\n",
       "    </tr>\n",
       "    <tr>\n",
       "      <th>19</th>\n",
       "      <td>Oct. 5, 2023 - Oct. 15, 2023</td>\n",
       "      <td>Christopher Ringer</td>\n",
       "      <td>Jeffrey Duncan</td>\n",
       "      <td>R</td>\n",
       "      <td>SC-3</td>\n",
       "      <td>Japan</td>\n",
       "      <td>Japan Center for International Exchange</td>\n",
       "      <td>Original</td>\n",
       "    </tr>\n",
       "    <tr>\n",
       "      <th>20</th>\n",
       "      <td>Oct. 8, 2023 - Oct. 15, 2023</td>\n",
       "      <td>Rahmon Ross</td>\n",
       "      <td>Jennifer McClellan</td>\n",
       "      <td>D</td>\n",
       "      <td>VA-4</td>\n",
       "      <td>Japan</td>\n",
       "      <td>Japan Center for International Exchange</td>\n",
       "      <td>Original</td>\n",
       "    </tr>\n",
       "    <tr>\n",
       "      <th>21</th>\n",
       "      <td>Oct. 7, 2023 - Oct. 15, 2023</td>\n",
       "      <td>Steven Clark</td>\n",
       "      <td>Alex Mooney</td>\n",
       "      <td>R</td>\n",
       "      <td>WV-2</td>\n",
       "      <td>Japan</td>\n",
       "      <td>Japan Center for International Exchange</td>\n",
       "      <td>Original</td>\n",
       "    </tr>\n",
       "    <tr>\n",
       "      <th>22</th>\n",
       "      <td>Oct. 10, 2023 - Oct. 14, 2023</td>\n",
       "      <td>Shaina Zarkin-Scott</td>\n",
       "      <td>Marie Gluesenkamp Perez</td>\n",
       "      <td>D</td>\n",
       "      <td>WA-3</td>\n",
       "      <td>Cambridge, MA</td>\n",
       "      <td>Massachusetts Institute of Technology</td>\n",
       "      <td>Original</td>\n",
       "    </tr>\n",
       "    <tr>\n",
       "      <th>23</th>\n",
       "      <td>Oct. 12, 2023 - Oct. 14, 2023</td>\n",
       "      <td>Constantinos \"Dean\" Ischiropoulos</td>\n",
       "      <td>Mary Gay Scanlon</td>\n",
       "      <td>D</td>\n",
       "      <td>PA-5</td>\n",
       "      <td>Philadelphia, PA</td>\n",
       "      <td>Federal Home</td>\n",
       "      <td>Original</td>\n",
       "    </tr>\n",
       "    <tr>\n",
       "      <th>24</th>\n",
       "      <td>Oct. 7, 2023 - Oct. 14, 2023</td>\n",
       "      <td>Caleb Kostreva</td>\n",
       "      <td>Cory Mills</td>\n",
       "      <td>R</td>\n",
       "      <td>FL-7</td>\n",
       "      <td>China</td>\n",
       "      <td>American Foreign Policy Council, and Sarah Sca...</td>\n",
       "      <td>Original</td>\n",
       "    </tr>\n",
       "    <tr>\n",
       "      <th>25</th>\n",
       "      <td>Oct. 4, 2023 - Oct. 14, 2023</td>\n",
       "      <td>Jooeun Kim</td>\n",
       "      <td>Jennifer Wexton</td>\n",
       "      <td>D</td>\n",
       "      <td>VA-10</td>\n",
       "      <td>China</td>\n",
       "      <td>American Foreign Policy Council and Sarah Scai...</td>\n",
       "      <td>Original</td>\n",
       "    </tr>\n",
       "    <tr>\n",
       "      <th>26</th>\n",
       "      <td>Oct. 11, 2023 - Oct. 14, 2023</td>\n",
       "      <td>Jeffrey Nowill</td>\n",
       "      <td>Stacey Plaskett</td>\n",
       "      <td>D</td>\n",
       "      <td>VI</td>\n",
       "      <td>San Francisco, CA</td>\n",
       "      <td>Software Education Foundation d.b.a. Software....</td>\n",
       "      <td>Original</td>\n",
       "    </tr>\n",
       "    <tr>\n",
       "      <th>27</th>\n",
       "      <td>Oct. 11, 2023 - Oct. 13, 2023</td>\n",
       "      <td>Dev Jhaveri</td>\n",
       "      <td>Lori Trahan</td>\n",
       "      <td>D</td>\n",
       "      <td>MA-3</td>\n",
       "      <td>Sunnyvale, CA</td>\n",
       "      <td>Information Technology and Innovation Foundation</td>\n",
       "      <td>Original</td>\n",
       "    </tr>\n",
       "    <tr>\n",
       "      <th>28</th>\n",
       "      <td>Oct. 11, 2023 - Oct. 13, 2023</td>\n",
       "      <td>Darian Harbeck</td>\n",
       "      <td>Paul Tonko</td>\n",
       "      <td>D</td>\n",
       "      <td>NY-20</td>\n",
       "      <td>Sunnyvale, CA</td>\n",
       "      <td>Information Technology and Innovation Foundation</td>\n",
       "      <td>Original</td>\n",
       "    </tr>\n",
       "    <tr>\n",
       "      <th>29</th>\n",
       "      <td>Oct. 7, 2023 - Oct. 13, 2023</td>\n",
       "      <td>Jessica Larsen</td>\n",
       "      <td>Dean Phillips</td>\n",
       "      <td>D</td>\n",
       "      <td>MN-3</td>\n",
       "      <td>South Korea</td>\n",
       "      <td>Woodrow Wilson International Center for Schola...</td>\n",
       "      <td>Original</td>\n",
       "    </tr>\n",
       "    <tr>\n",
       "      <th>30</th>\n",
       "      <td>Oct. 7, 2023 - Oct. 13, 2023</td>\n",
       "      <td>Max Price</td>\n",
       "      <td>Debbie Wasserman Schultz</td>\n",
       "      <td>D</td>\n",
       "      <td>FL-25</td>\n",
       "      <td>South Korea</td>\n",
       "      <td>Woodrow Wilson International Center for Schola...</td>\n",
       "      <td>Original</td>\n",
       "    </tr>\n",
       "    <tr>\n",
       "      <th>31</th>\n",
       "      <td>Oct. 7, 2023 - Oct. 13, 2023</td>\n",
       "      <td>Monika Konrad</td>\n",
       "      <td>Mark Amodei</td>\n",
       "      <td>R</td>\n",
       "      <td>NV-2</td>\n",
       "      <td>South Korea</td>\n",
       "      <td>Woodrow Wilson International Center for Schola...</td>\n",
       "      <td>Original</td>\n",
       "    </tr>\n",
       "    <tr>\n",
       "      <th>32</th>\n",
       "      <td>Oct. 11, 2023 - Oct. 13, 2023</td>\n",
       "      <td>Sierra Fuller</td>\n",
       "      <td>Yvette D. Clarke</td>\n",
       "      <td>D</td>\n",
       "      <td>NY-9</td>\n",
       "      <td>Sunnyvale, CA</td>\n",
       "      <td>Information Technology and Innovation Foundation</td>\n",
       "      <td>Original</td>\n",
       "    </tr>\n",
       "    <tr>\n",
       "      <th>33</th>\n",
       "      <td>Oct. 11, 2023 - Oct. 13, 2023</td>\n",
       "      <td>Theodore Tanzer</td>\n",
       "      <td>Cathy McMorris Rodgers</td>\n",
       "      <td>R</td>\n",
       "      <td>WA-5</td>\n",
       "      <td>Sunnyvale, CA</td>\n",
       "      <td>Information Technology and Innovation Foundation</td>\n",
       "      <td>Original</td>\n",
       "    </tr>\n",
       "    <tr>\n",
       "      <th>34</th>\n",
       "      <td>Oct. 7, 2023 - Oct. 13, 2023</td>\n",
       "      <td>Elizabeth Mount</td>\n",
       "      <td>Elise Stefanik</td>\n",
       "      <td>R</td>\n",
       "      <td>NY-21</td>\n",
       "      <td>South Korea</td>\n",
       "      <td>Woodrow Wilson International Center for Schola...</td>\n",
       "      <td>Original</td>\n",
       "    </tr>\n",
       "    <tr>\n",
       "      <th>35</th>\n",
       "      <td>Oct. 7, 2023 - Oct. 13, 2023</td>\n",
       "      <td>Jack Lincoln</td>\n",
       "      <td>Ken Calvert</td>\n",
       "      <td>R</td>\n",
       "      <td>CA-41</td>\n",
       "      <td>South Korea</td>\n",
       "      <td>Woodrow Wilson International Center for Schola...</td>\n",
       "      <td>Original</td>\n",
       "    </tr>\n",
       "    <tr>\n",
       "      <th>36</th>\n",
       "      <td>Oct. 12, 2023 - Oct. 13, 2023</td>\n",
       "      <td>Christian Kerr</td>\n",
       "      <td>Robert Garcia</td>\n",
       "      <td>D</td>\n",
       "      <td>CA-42</td>\n",
       "      <td>Philadelphia, PA</td>\n",
       "      <td>Federal Home Loan Bank of Pittsburgh, Federal ...</td>\n",
       "      <td>Original</td>\n",
       "    </tr>\n",
       "    <tr>\n",
       "      <th>37</th>\n",
       "      <td>Oct. 7, 2023 - Oct. 13, 2023</td>\n",
       "      <td>James Dolbow</td>\n",
       "      <td>Austin Scott</td>\n",
       "      <td>R</td>\n",
       "      <td>GA-8</td>\n",
       "      <td>South Korea</td>\n",
       "      <td>Woodrow Wilson International Center for Schola...</td>\n",
       "      <td>Original</td>\n",
       "    </tr>\n",
       "    <tr>\n",
       "      <th>38</th>\n",
       "      <td>Oct. 12, 2023 - Oct. 13, 2023</td>\n",
       "      <td>Iyanla Kollock</td>\n",
       "      <td>Nikema Williams</td>\n",
       "      <td>D</td>\n",
       "      <td>GA-5</td>\n",
       "      <td>Philadelphia, PA</td>\n",
       "      <td>Federal Home Loan Bank of Pittsburgh, Federal ...</td>\n",
       "      <td>Original</td>\n",
       "    </tr>\n",
       "    <tr>\n",
       "      <th>39</th>\n",
       "      <td>Oct. 11, 2023 - Oct. 13, 2023</td>\n",
       "      <td>Edwin Kindler</td>\n",
       "      <td>Bill Foster</td>\n",
       "      <td>D</td>\n",
       "      <td>IL-11</td>\n",
       "      <td>Sunnyvale, CA</td>\n",
       "      <td>Information Technology and Innovation Foundation</td>\n",
       "      <td>Original</td>\n",
       "    </tr>\n",
       "    <tr>\n",
       "      <th>40</th>\n",
       "      <td>Oct. 11, 2023 - Oct. 13, 2023</td>\n",
       "      <td>Earl Flood</td>\n",
       "      <td>Robin Kelly</td>\n",
       "      <td>D</td>\n",
       "      <td>IL-2</td>\n",
       "      <td>San Francisco, CA</td>\n",
       "      <td>Software Education Foundation d.b.a. Software....</td>\n",
       "      <td>Original</td>\n",
       "    </tr>\n",
       "    <tr>\n",
       "      <th>41</th>\n",
       "      <td>Oct. 7, 2023 - Oct. 13, 2023</td>\n",
       "      <td>Mary Croghan</td>\n",
       "      <td>Jim Jordan</td>\n",
       "      <td>R</td>\n",
       "      <td>OH-4</td>\n",
       "      <td>South Korea</td>\n",
       "      <td>Woodrow Wilson International Center for Schola...</td>\n",
       "      <td>Original</td>\n",
       "    </tr>\n",
       "    <tr>\n",
       "      <th>42</th>\n",
       "      <td>Oct. 3, 2023 - Oct. 13, 2023</td>\n",
       "      <td>Maura Weaver</td>\n",
       "      <td>Melanie Stansbury</td>\n",
       "      <td>D</td>\n",
       "      <td>NM-1</td>\n",
       "      <td>South Korea</td>\n",
       "      <td>Woodrow Wilson International Center for Schola...</td>\n",
       "      <td>Original</td>\n",
       "    </tr>\n",
       "    <tr>\n",
       "      <th>43</th>\n",
       "      <td>Oct. 11, 2023 - Oct. 13, 2023</td>\n",
       "      <td>Peter Warren</td>\n",
       "      <td>James Comer</td>\n",
       "      <td>R</td>\n",
       "      <td>KY-1</td>\n",
       "      <td>San Francisco, CA</td>\n",
       "      <td>Software Education Foundation d.b.a. Software....</td>\n",
       "      <td>Original</td>\n",
       "    </tr>\n",
       "    <tr>\n",
       "      <th>44</th>\n",
       "      <td>Oct. 11, 2023 - Oct. 13, 2023</td>\n",
       "      <td>Slate Herman</td>\n",
       "      <td>Cathy McMorris Rodgers</td>\n",
       "      <td>R</td>\n",
       "      <td>WA-5</td>\n",
       "      <td>San Francisco, CA</td>\n",
       "      <td>Software Education Foundation d.b.a. Software....</td>\n",
       "      <td>Original</td>\n",
       "    </tr>\n",
       "    <tr>\n",
       "      <th>45</th>\n",
       "      <td>Oct. 12, 2023 - Oct. 13, 2023</td>\n",
       "      <td>Sarah Jacobs</td>\n",
       "      <td>Madeleine Dean</td>\n",
       "      <td>D</td>\n",
       "      <td>PA-4</td>\n",
       "      <td>Philadelphia, PA</td>\n",
       "      <td>Federal Home Loan Bank of Pittsburgh, Federal ...</td>\n",
       "      <td>Original</td>\n",
       "    </tr>\n",
       "    <tr>\n",
       "      <th>46</th>\n",
       "      <td>Oct. 11, 2023 - Oct. 13, 2023</td>\n",
       "      <td>Daniel Greene</td>\n",
       "      <td>Frank Pallone</td>\n",
       "      <td>D</td>\n",
       "      <td>NJ-6</td>\n",
       "      <td>San Francisco, CA</td>\n",
       "      <td>Software Education Foundation d.b.a. Software....</td>\n",
       "      <td>Original</td>\n",
       "    </tr>\n",
       "    <tr>\n",
       "      <th>47</th>\n",
       "      <td>Oct. 11, 2023 - Oct. 13, 2023</td>\n",
       "      <td>Rajesh Bharwani</td>\n",
       "      <td>James Comer</td>\n",
       "      <td>R</td>\n",
       "      <td>KY-1</td>\n",
       "      <td>San Francisco, CA</td>\n",
       "      <td>Software Education Foundation d.b.a. Software....</td>\n",
       "      <td>Original</td>\n",
       "    </tr>\n",
       "    <tr>\n",
       "      <th>48</th>\n",
       "      <td>Oct. 10, 2023 - Oct. 12, 2023</td>\n",
       "      <td>Ashley Lund</td>\n",
       "      <td>Raja Krishnamoorthi</td>\n",
       "      <td>D</td>\n",
       "      <td>IL-8</td>\n",
       "      <td>Cambridge, MA</td>\n",
       "      <td>Massachusetts Institute of Technology</td>\n",
       "      <td>Original</td>\n",
       "    </tr>\n",
       "    <tr>\n",
       "      <th>49</th>\n",
       "      <td>Oct. 10, 2023 - Oct. 12, 2023</td>\n",
       "      <td>Christopher Koya</td>\n",
       "      <td>Summer Lee</td>\n",
       "      <td>D</td>\n",
       "      <td>PA-12</td>\n",
       "      <td>Cambridge, MA</td>\n",
       "      <td>Massachusetts Institute of Technology</td>\n",
       "      <td>Original</td>\n",
       "    </tr>\n",
       "  </tbody>\n",
       "</table>\n",
       "</div>"
      ],
      "text/plain": [
       "                            Dates                           Traveler  \\\n",
       "0   Oct. 26, 2023 - Oct. 29, 2023                    Steven Horsford   \n",
       "1   Oct. 22, 2023 - Oct. 23, 2023                       Derek Kilmer   \n",
       "2   Oct. 22, 2023 - Oct. 23, 2023                           Ted Lieu   \n",
       "3   Oct. 20, 2023 - Oct. 22, 2023                      Gregory Smith   \n",
       "4   Oct. 20, 2023 - Oct. 21, 2023                        Marcus Dunn   \n",
       "5   Oct. 20, 2023 - Oct. 21, 2023                  Christina Mahoney   \n",
       "6   Oct. 20, 2023 - Oct. 21, 2023                       Cara Camacho   \n",
       "7   Oct. 20, 2023 - Oct. 21, 2023                     Hunter Ridgway   \n",
       "8   Oct. 20, 2023 - Oct. 21, 2023                   Katherine Bonner   \n",
       "9   Oct. 20, 2023 - Oct. 21, 2023                       Liana Guerra   \n",
       "10  Oct. 20, 2023 - Oct. 21, 2023                   Margaret McInnis   \n",
       "11  Oct. 20, 2023 - Oct. 21, 2023                   Matthew McMurray   \n",
       "12  Oct. 20, 2023 - Oct. 21, 2023                    Robert Edmonson   \n",
       "13  Oct. 20, 2023 - Oct. 21, 2023                     Steven Carlson   \n",
       "14  Oct. 20, 2023 - Oct. 21, 2023                       Shana Teehan   \n",
       "15   Oct. 7, 2023 - Oct. 16, 2023                    Tiffany Haverly   \n",
       "16   Oct. 7, 2023 - Oct. 16, 2023                      Leslie Reagan   \n",
       "17   Oct. 7, 2023 - Oct. 16, 2023                   Mitchell Moonier   \n",
       "18  Oct. 11, 2023 - Oct. 15, 2023                      Alicia Porile   \n",
       "19   Oct. 5, 2023 - Oct. 15, 2023                 Christopher Ringer   \n",
       "20   Oct. 8, 2023 - Oct. 15, 2023                        Rahmon Ross   \n",
       "21   Oct. 7, 2023 - Oct. 15, 2023                       Steven Clark   \n",
       "22  Oct. 10, 2023 - Oct. 14, 2023                Shaina Zarkin-Scott   \n",
       "23  Oct. 12, 2023 - Oct. 14, 2023  Constantinos \"Dean\" Ischiropoulos   \n",
       "24   Oct. 7, 2023 - Oct. 14, 2023                     Caleb Kostreva   \n",
       "25   Oct. 4, 2023 - Oct. 14, 2023                         Jooeun Kim   \n",
       "26  Oct. 11, 2023 - Oct. 14, 2023                     Jeffrey Nowill   \n",
       "27  Oct. 11, 2023 - Oct. 13, 2023                        Dev Jhaveri   \n",
       "28  Oct. 11, 2023 - Oct. 13, 2023                     Darian Harbeck   \n",
       "29   Oct. 7, 2023 - Oct. 13, 2023                     Jessica Larsen   \n",
       "30   Oct. 7, 2023 - Oct. 13, 2023                          Max Price   \n",
       "31   Oct. 7, 2023 - Oct. 13, 2023                      Monika Konrad   \n",
       "32  Oct. 11, 2023 - Oct. 13, 2023                      Sierra Fuller   \n",
       "33  Oct. 11, 2023 - Oct. 13, 2023                    Theodore Tanzer   \n",
       "34   Oct. 7, 2023 - Oct. 13, 2023                    Elizabeth Mount   \n",
       "35   Oct. 7, 2023 - Oct. 13, 2023                       Jack Lincoln   \n",
       "36  Oct. 12, 2023 - Oct. 13, 2023                     Christian Kerr   \n",
       "37   Oct. 7, 2023 - Oct. 13, 2023                       James Dolbow   \n",
       "38  Oct. 12, 2023 - Oct. 13, 2023                     Iyanla Kollock   \n",
       "39  Oct. 11, 2023 - Oct. 13, 2023                      Edwin Kindler   \n",
       "40  Oct. 11, 2023 - Oct. 13, 2023                         Earl Flood   \n",
       "41   Oct. 7, 2023 - Oct. 13, 2023                       Mary Croghan   \n",
       "42   Oct. 3, 2023 - Oct. 13, 2023                       Maura Weaver   \n",
       "43  Oct. 11, 2023 - Oct. 13, 2023                       Peter Warren   \n",
       "44  Oct. 11, 2023 - Oct. 13, 2023                       Slate Herman   \n",
       "45  Oct. 12, 2023 - Oct. 13, 2023                       Sarah Jacobs   \n",
       "46  Oct. 11, 2023 - Oct. 13, 2023                      Daniel Greene   \n",
       "47  Oct. 11, 2023 - Oct. 13, 2023                    Rajesh Bharwani   \n",
       "48  Oct. 10, 2023 - Oct. 12, 2023                        Ashley Lund   \n",
       "49  Oct. 10, 2023 - Oct. 12, 2023                   Christopher Koya   \n",
       "\n",
       "                      Member Party State / District          Destination  \\\n",
       "0            Steven Horsford     D             NV-4          Houston, TX   \n",
       "1               Derek Kilmer     D             WA-6         New York, NY   \n",
       "2                   Ted Lieu     D            CA-36         New York, NY   \n",
       "3                  Eli Crane     R             AZ-2  Charlottesville, VA   \n",
       "4              George Santos     R             NY-3  Charlottesville, VA   \n",
       "5         Emanuel Cleaver II     D             MO-5  Charlottesville, VA   \n",
       "6                  Jim Himes     D             CT-4  Charlottesville, VA   \n",
       "7            Matt Cartwright     D             PA-8  Charlottesville, VA   \n",
       "8              Lloyd Smucker     R            PA-11  Charlottesville, VA   \n",
       "9                Darren Soto     D             FL-9  Charlottesville, VA   \n",
       "10              Marcy Kaptur     D             OH-9  Charlottesville, VA   \n",
       "11               Robin Kelly     D             IL-2  Charlottesville, VA   \n",
       "12             Robert Garcia     D            CA-42  Charlottesville, VA   \n",
       "13              Chris Pappas     D             NH-1  Charlottesville, VA   \n",
       "14               Barry Moore     R             AL-2  Charlottesville, VA   \n",
       "15              Adrian Smith     R             NE-3               Zambia   \n",
       "16            Michael McCaul     R            TX-10               Zambia   \n",
       "17                Dina Titus     D             NV-1               Zambia   \n",
       "18      Lisa Blunt Rochester     D             DE-1        Sunnyvale, CA   \n",
       "19            Jeffrey Duncan     R             SC-3                Japan   \n",
       "20        Jennifer McClellan     D             VA-4                Japan   \n",
       "21               Alex Mooney     R             WV-2                Japan   \n",
       "22   Marie Gluesenkamp Perez     D             WA-3        Cambridge, MA   \n",
       "23          Mary Gay Scanlon     D             PA-5     Philadelphia, PA   \n",
       "24                Cory Mills     R             FL-7                China   \n",
       "25           Jennifer Wexton     D            VA-10                China   \n",
       "26           Stacey Plaskett     D               VI    San Francisco, CA   \n",
       "27               Lori Trahan     D             MA-3        Sunnyvale, CA   \n",
       "28                Paul Tonko     D            NY-20        Sunnyvale, CA   \n",
       "29             Dean Phillips     D             MN-3          South Korea   \n",
       "30  Debbie Wasserman Schultz     D            FL-25          South Korea   \n",
       "31               Mark Amodei     R             NV-2          South Korea   \n",
       "32          Yvette D. Clarke     D             NY-9        Sunnyvale, CA   \n",
       "33    Cathy McMorris Rodgers     R             WA-5        Sunnyvale, CA   \n",
       "34            Elise Stefanik     R            NY-21          South Korea   \n",
       "35               Ken Calvert     R            CA-41          South Korea   \n",
       "36             Robert Garcia     D            CA-42     Philadelphia, PA   \n",
       "37              Austin Scott     R             GA-8          South Korea   \n",
       "38           Nikema Williams     D             GA-5     Philadelphia, PA   \n",
       "39               Bill Foster     D            IL-11        Sunnyvale, CA   \n",
       "40               Robin Kelly     D             IL-2    San Francisco, CA   \n",
       "41                Jim Jordan     R             OH-4          South Korea   \n",
       "42         Melanie Stansbury     D             NM-1          South Korea   \n",
       "43               James Comer     R             KY-1    San Francisco, CA   \n",
       "44    Cathy McMorris Rodgers     R             WA-5    San Francisco, CA   \n",
       "45            Madeleine Dean     D             PA-4     Philadelphia, PA   \n",
       "46             Frank Pallone     D             NJ-6    San Francisco, CA   \n",
       "47               James Comer     R             KY-1    San Francisco, CA   \n",
       "48       Raja Krishnamoorthi     D             IL-8        Cambridge, MA   \n",
       "49                Summer Lee     D            PA-12        Cambridge, MA   \n",
       "\n",
       "                                              Sponsor Filing Type  \n",
       "0                Congressional Black Caucus Institute    Original  \n",
       "1                           United Nations Foundation    Original  \n",
       "2                                              United    Original  \n",
       "3                               Pew Charitable Trusts    Original  \n",
       "4                               Pew Charitable Trusts    Original  \n",
       "5      Pew Charitable Trusts and the Joyce Foundation    Original  \n",
       "6      Pew Charitable Trusts and the Joyce Foundation    Original  \n",
       "7      Pew Charitable Trusts and the Joyce Foundation    Original  \n",
       "8      Pew Charitable Trusts and the Joyce Foundation    Original  \n",
       "9      Pew Charitable Trusts and the Joyce Foundation    Original  \n",
       "10     Pew Charitable Trusts and the Joyce Foundation    Original  \n",
       "11     Pew Charitable Trusts and the Joyce Foundation    Original  \n",
       "12     Pew Charitable Trusts and the Joyce Foundation    Original  \n",
       "13     Pew Charitable Trusts and the Joyce Foundation    Original  \n",
       "14     Pew Charitable Trusts and the Joyce Foundation    Original  \n",
       "15                 International Republican Institute    Original  \n",
       "16                 International Republican Institute    Original  \n",
       "17                 International Republican Institute    Original  \n",
       "18   Information Technology and Innovation Foundation    Original  \n",
       "19            Japan Center for International Exchange    Original  \n",
       "20            Japan Center for International Exchange    Original  \n",
       "21            Japan Center for International Exchange    Original  \n",
       "22              Massachusetts Institute of Technology    Original  \n",
       "23                                       Federal Home    Original  \n",
       "24  American Foreign Policy Council, and Sarah Sca...    Original  \n",
       "25  American Foreign Policy Council and Sarah Scai...    Original  \n",
       "26  Software Education Foundation d.b.a. Software....    Original  \n",
       "27   Information Technology and Innovation Foundation    Original  \n",
       "28   Information Technology and Innovation Foundation    Original  \n",
       "29  Woodrow Wilson International Center for Schola...    Original  \n",
       "30  Woodrow Wilson International Center for Schola...    Original  \n",
       "31  Woodrow Wilson International Center for Schola...    Original  \n",
       "32   Information Technology and Innovation Foundation    Original  \n",
       "33   Information Technology and Innovation Foundation    Original  \n",
       "34  Woodrow Wilson International Center for Schola...    Original  \n",
       "35  Woodrow Wilson International Center for Schola...    Original  \n",
       "36  Federal Home Loan Bank of Pittsburgh, Federal ...    Original  \n",
       "37  Woodrow Wilson International Center for Schola...    Original  \n",
       "38  Federal Home Loan Bank of Pittsburgh, Federal ...    Original  \n",
       "39   Information Technology and Innovation Foundation    Original  \n",
       "40  Software Education Foundation d.b.a. Software....    Original  \n",
       "41  Woodrow Wilson International Center for Schola...    Original  \n",
       "42  Woodrow Wilson International Center for Schola...    Original  \n",
       "43  Software Education Foundation d.b.a. Software....    Original  \n",
       "44  Software Education Foundation d.b.a. Software....    Original  \n",
       "45  Federal Home Loan Bank of Pittsburgh, Federal ...    Original  \n",
       "46  Software Education Foundation d.b.a. Software....    Original  \n",
       "47  Software Education Foundation d.b.a. Software....    Original  \n",
       "48              Massachusetts Institute of Technology    Original  \n",
       "49              Massachusetts Institute of Technology    Original  "
      ]
     },
     "execution_count": 12,
     "metadata": {},
     "output_type": "execute_result"
    }
   ],
   "source": [
    "#Check those results\n",
    "response=requests.get(base_url+\"1\")\n",
    "table=pd.read_html(response.text)\n",
    "df=table[0]\n",
    "df"
   ]
  },
  {
   "cell_type": "code",
   "execution_count": 13,
   "id": "0060973a",
   "metadata": {},
   "outputs": [
    {
     "name": "stdout",
     "output_type": "stream",
     "text": [
      "now scraping page 2\n"
     ]
    },
    {
     "name": "stderr",
     "output_type": "stream",
     "text": [
      "/var/folders/61/68rz41055xg7sv4h43532jh00000gn/T/ipykernel_25630/3887715647.py:6: FutureWarning: The frame.append method is deprecated and will be removed from pandas in a future version. Use pandas.concat instead.\n",
      "  df=df.append(table[0])\n"
     ]
    },
    {
     "name": "stdout",
     "output_type": "stream",
     "text": [
      "now snoozing for 19 secs\n",
      "now scraping page 3\n",
      "now snoozing for 14 secs\n"
     ]
    },
    {
     "name": "stderr",
     "output_type": "stream",
     "text": [
      "/var/folders/61/68rz41055xg7sv4h43532jh00000gn/T/ipykernel_25630/3887715647.py:6: FutureWarning: The frame.append method is deprecated and will be removed from pandas in a future version. Use pandas.concat instead.\n",
      "  df=df.append(table[0])\n"
     ]
    },
    {
     "name": "stdout",
     "output_type": "stream",
     "text": [
      "now scraping page 4\n",
      "now snoozing for 18 secs\n"
     ]
    },
    {
     "name": "stderr",
     "output_type": "stream",
     "text": [
      "/var/folders/61/68rz41055xg7sv4h43532jh00000gn/T/ipykernel_25630/3887715647.py:6: FutureWarning: The frame.append method is deprecated and will be removed from pandas in a future version. Use pandas.concat instead.\n",
      "  df=df.append(table[0])\n"
     ]
    },
    {
     "name": "stdout",
     "output_type": "stream",
     "text": [
      "now scraping page 5\n"
     ]
    },
    {
     "name": "stderr",
     "output_type": "stream",
     "text": [
      "/var/folders/61/68rz41055xg7sv4h43532jh00000gn/T/ipykernel_25630/3887715647.py:6: FutureWarning: The frame.append method is deprecated and will be removed from pandas in a future version. Use pandas.concat instead.\n",
      "  df=df.append(table[0])\n"
     ]
    },
    {
     "name": "stdout",
     "output_type": "stream",
     "text": [
      "now snoozing for 14 secs\n",
      "now scraping page 6\n"
     ]
    },
    {
     "name": "stderr",
     "output_type": "stream",
     "text": [
      "/var/folders/61/68rz41055xg7sv4h43532jh00000gn/T/ipykernel_25630/3887715647.py:6: FutureWarning: The frame.append method is deprecated and will be removed from pandas in a future version. Use pandas.concat instead.\n",
      "  df=df.append(table[0])\n"
     ]
    },
    {
     "name": "stdout",
     "output_type": "stream",
     "text": [
      "now snoozing for 19 secs\n",
      "now scraping page 7\n"
     ]
    },
    {
     "name": "stderr",
     "output_type": "stream",
     "text": [
      "/var/folders/61/68rz41055xg7sv4h43532jh00000gn/T/ipykernel_25630/3887715647.py:6: FutureWarning: The frame.append method is deprecated and will be removed from pandas in a future version. Use pandas.concat instead.\n",
      "  df=df.append(table[0])\n"
     ]
    },
    {
     "name": "stdout",
     "output_type": "stream",
     "text": [
      "now snoozing for 19 secs\n",
      "now scraping page 8\n"
     ]
    },
    {
     "name": "stderr",
     "output_type": "stream",
     "text": [
      "/var/folders/61/68rz41055xg7sv4h43532jh00000gn/T/ipykernel_25630/3887715647.py:6: FutureWarning: The frame.append method is deprecated and will be removed from pandas in a future version. Use pandas.concat instead.\n",
      "  df=df.append(table[0])\n"
     ]
    },
    {
     "name": "stdout",
     "output_type": "stream",
     "text": [
      "now snoozing for 10 secs\n",
      "now scraping page 9\n"
     ]
    },
    {
     "name": "stderr",
     "output_type": "stream",
     "text": [
      "/var/folders/61/68rz41055xg7sv4h43532jh00000gn/T/ipykernel_25630/3887715647.py:6: FutureWarning: The frame.append method is deprecated and will be removed from pandas in a future version. Use pandas.concat instead.\n",
      "  df=df.append(table[0])\n"
     ]
    },
    {
     "name": "stdout",
     "output_type": "stream",
     "text": [
      "now snoozing for 15 secs\n",
      "now scraping page 10\n"
     ]
    },
    {
     "name": "stderr",
     "output_type": "stream",
     "text": [
      "/var/folders/61/68rz41055xg7sv4h43532jh00000gn/T/ipykernel_25630/3887715647.py:6: FutureWarning: The frame.append method is deprecated and will be removed from pandas in a future version. Use pandas.concat instead.\n",
      "  df=df.append(table[0])\n"
     ]
    },
    {
     "name": "stdout",
     "output_type": "stream",
     "text": [
      "now snoozing for 12 secs\n",
      "now scraping page 11\n"
     ]
    },
    {
     "name": "stderr",
     "output_type": "stream",
     "text": [
      "/var/folders/61/68rz41055xg7sv4h43532jh00000gn/T/ipykernel_25630/3887715647.py:6: FutureWarning: The frame.append method is deprecated and will be removed from pandas in a future version. Use pandas.concat instead.\n",
      "  df=df.append(table[0])\n"
     ]
    },
    {
     "name": "stdout",
     "output_type": "stream",
     "text": [
      "now snoozing for 13 secs\n",
      "now scraping page 12\n"
     ]
    },
    {
     "name": "stderr",
     "output_type": "stream",
     "text": [
      "/var/folders/61/68rz41055xg7sv4h43532jh00000gn/T/ipykernel_25630/3887715647.py:6: FutureWarning: The frame.append method is deprecated and will be removed from pandas in a future version. Use pandas.concat instead.\n",
      "  df=df.append(table[0])\n"
     ]
    },
    {
     "name": "stdout",
     "output_type": "stream",
     "text": [
      "now snoozing for 10 secs\n",
      "now scraping page 13\n"
     ]
    },
    {
     "name": "stderr",
     "output_type": "stream",
     "text": [
      "/var/folders/61/68rz41055xg7sv4h43532jh00000gn/T/ipykernel_25630/3887715647.py:6: FutureWarning: The frame.append method is deprecated and will be removed from pandas in a future version. Use pandas.concat instead.\n",
      "  df=df.append(table[0])\n"
     ]
    },
    {
     "name": "stdout",
     "output_type": "stream",
     "text": [
      "now snoozing for 12 secs\n",
      "now scraping page 14\n"
     ]
    },
    {
     "name": "stderr",
     "output_type": "stream",
     "text": [
      "/var/folders/61/68rz41055xg7sv4h43532jh00000gn/T/ipykernel_25630/3887715647.py:6: FutureWarning: The frame.append method is deprecated and will be removed from pandas in a future version. Use pandas.concat instead.\n",
      "  df=df.append(table[0])\n"
     ]
    },
    {
     "name": "stdout",
     "output_type": "stream",
     "text": [
      "now snoozing for 12 secs\n",
      "now scraping page 15\n"
     ]
    },
    {
     "name": "stderr",
     "output_type": "stream",
     "text": [
      "/var/folders/61/68rz41055xg7sv4h43532jh00000gn/T/ipykernel_25630/3887715647.py:6: FutureWarning: The frame.append method is deprecated and will be removed from pandas in a future version. Use pandas.concat instead.\n",
      "  df=df.append(table[0])\n"
     ]
    },
    {
     "name": "stdout",
     "output_type": "stream",
     "text": [
      "now snoozing for 13 secs\n",
      "now scraping page 16\n"
     ]
    },
    {
     "name": "stderr",
     "output_type": "stream",
     "text": [
      "/var/folders/61/68rz41055xg7sv4h43532jh00000gn/T/ipykernel_25630/3887715647.py:6: FutureWarning: The frame.append method is deprecated and will be removed from pandas in a future version. Use pandas.concat instead.\n",
      "  df=df.append(table[0])\n"
     ]
    },
    {
     "name": "stdout",
     "output_type": "stream",
     "text": [
      "now snoozing for 11 secs\n",
      "now scraping page 17\n"
     ]
    },
    {
     "name": "stderr",
     "output_type": "stream",
     "text": [
      "/var/folders/61/68rz41055xg7sv4h43532jh00000gn/T/ipykernel_25630/3887715647.py:6: FutureWarning: The frame.append method is deprecated and will be removed from pandas in a future version. Use pandas.concat instead.\n",
      "  df=df.append(table[0])\n"
     ]
    },
    {
     "name": "stdout",
     "output_type": "stream",
     "text": [
      "now snoozing for 19 secs\n",
      "now scraping page 18\n"
     ]
    },
    {
     "name": "stderr",
     "output_type": "stream",
     "text": [
      "/var/folders/61/68rz41055xg7sv4h43532jh00000gn/T/ipykernel_25630/3887715647.py:6: FutureWarning: The frame.append method is deprecated and will be removed from pandas in a future version. Use pandas.concat instead.\n",
      "  df=df.append(table[0])\n"
     ]
    },
    {
     "name": "stdout",
     "output_type": "stream",
     "text": [
      "now snoozing for 13 secs\n",
      "now scraping page 19\n"
     ]
    },
    {
     "name": "stderr",
     "output_type": "stream",
     "text": [
      "/var/folders/61/68rz41055xg7sv4h43532jh00000gn/T/ipykernel_25630/3887715647.py:6: FutureWarning: The frame.append method is deprecated and will be removed from pandas in a future version. Use pandas.concat instead.\n",
      "  df=df.append(table[0])\n"
     ]
    },
    {
     "name": "stdout",
     "output_type": "stream",
     "text": [
      "now snoozing for 17 secs\n",
      "now scraping page 20\n"
     ]
    },
    {
     "name": "stderr",
     "output_type": "stream",
     "text": [
      "/var/folders/61/68rz41055xg7sv4h43532jh00000gn/T/ipykernel_25630/3887715647.py:6: FutureWarning: The frame.append method is deprecated and will be removed from pandas in a future version. Use pandas.concat instead.\n",
      "  df=df.append(table[0])\n"
     ]
    },
    {
     "name": "stdout",
     "output_type": "stream",
     "text": [
      "now snoozing for 13 secs\n",
      "now scraping page 21\n"
     ]
    },
    {
     "name": "stderr",
     "output_type": "stream",
     "text": [
      "/var/folders/61/68rz41055xg7sv4h43532jh00000gn/T/ipykernel_25630/3887715647.py:6: FutureWarning: The frame.append method is deprecated and will be removed from pandas in a future version. Use pandas.concat instead.\n",
      "  df=df.append(table[0])\n"
     ]
    },
    {
     "name": "stdout",
     "output_type": "stream",
     "text": [
      "now snoozing for 12 secs\n",
      "now scraping page 22\n"
     ]
    },
    {
     "name": "stderr",
     "output_type": "stream",
     "text": [
      "/var/folders/61/68rz41055xg7sv4h43532jh00000gn/T/ipykernel_25630/3887715647.py:6: FutureWarning: The frame.append method is deprecated and will be removed from pandas in a future version. Use pandas.concat instead.\n",
      "  df=df.append(table[0])\n"
     ]
    },
    {
     "name": "stdout",
     "output_type": "stream",
     "text": [
      "now snoozing for 12 secs\n",
      "now scraping page 23\n"
     ]
    },
    {
     "name": "stderr",
     "output_type": "stream",
     "text": [
      "/var/folders/61/68rz41055xg7sv4h43532jh00000gn/T/ipykernel_25630/3887715647.py:6: FutureWarning: The frame.append method is deprecated and will be removed from pandas in a future version. Use pandas.concat instead.\n",
      "  df=df.append(table[0])\n"
     ]
    },
    {
     "name": "stdout",
     "output_type": "stream",
     "text": [
      "now snoozing for 19 secs\n",
      "now scraping page 24\n"
     ]
    },
    {
     "name": "stderr",
     "output_type": "stream",
     "text": [
      "/var/folders/61/68rz41055xg7sv4h43532jh00000gn/T/ipykernel_25630/3887715647.py:6: FutureWarning: The frame.append method is deprecated and will be removed from pandas in a future version. Use pandas.concat instead.\n",
      "  df=df.append(table[0])\n"
     ]
    },
    {
     "name": "stdout",
     "output_type": "stream",
     "text": [
      "now snoozing for 11 secs\n",
      "now scraping page 25\n"
     ]
    },
    {
     "name": "stderr",
     "output_type": "stream",
     "text": [
      "/var/folders/61/68rz41055xg7sv4h43532jh00000gn/T/ipykernel_25630/3887715647.py:6: FutureWarning: The frame.append method is deprecated and will be removed from pandas in a future version. Use pandas.concat instead.\n",
      "  df=df.append(table[0])\n"
     ]
    },
    {
     "name": "stdout",
     "output_type": "stream",
     "text": [
      "now snoozing for 16 secs\n",
      "now scraping page 26\n"
     ]
    },
    {
     "name": "stderr",
     "output_type": "stream",
     "text": [
      "/var/folders/61/68rz41055xg7sv4h43532jh00000gn/T/ipykernel_25630/3887715647.py:6: FutureWarning: The frame.append method is deprecated and will be removed from pandas in a future version. Use pandas.concat instead.\n",
      "  df=df.append(table[0])\n"
     ]
    },
    {
     "name": "stdout",
     "output_type": "stream",
     "text": [
      "now snoozing for 18 secs\n",
      "now scraping page 27\n"
     ]
    },
    {
     "name": "stderr",
     "output_type": "stream",
     "text": [
      "/var/folders/61/68rz41055xg7sv4h43532jh00000gn/T/ipykernel_25630/3887715647.py:6: FutureWarning: The frame.append method is deprecated and will be removed from pandas in a future version. Use pandas.concat instead.\n",
      "  df=df.append(table[0])\n"
     ]
    },
    {
     "name": "stdout",
     "output_type": "stream",
     "text": [
      "now snoozing for 11 secs\n",
      "now scraping page 28\n"
     ]
    },
    {
     "name": "stderr",
     "output_type": "stream",
     "text": [
      "/var/folders/61/68rz41055xg7sv4h43532jh00000gn/T/ipykernel_25630/3887715647.py:6: FutureWarning: The frame.append method is deprecated and will be removed from pandas in a future version. Use pandas.concat instead.\n",
      "  df=df.append(table[0])\n"
     ]
    },
    {
     "name": "stdout",
     "output_type": "stream",
     "text": [
      "now snoozing for 18 secs\n",
      "now scraping page 29\n"
     ]
    },
    {
     "name": "stderr",
     "output_type": "stream",
     "text": [
      "/var/folders/61/68rz41055xg7sv4h43532jh00000gn/T/ipykernel_25630/3887715647.py:6: FutureWarning: The frame.append method is deprecated and will be removed from pandas in a future version. Use pandas.concat instead.\n",
      "  df=df.append(table[0])\n"
     ]
    },
    {
     "name": "stdout",
     "output_type": "stream",
     "text": [
      "now snoozing for 17 secs\n",
      "now scraping page 30\n"
     ]
    },
    {
     "name": "stderr",
     "output_type": "stream",
     "text": [
      "/var/folders/61/68rz41055xg7sv4h43532jh00000gn/T/ipykernel_25630/3887715647.py:6: FutureWarning: The frame.append method is deprecated and will be removed from pandas in a future version. Use pandas.concat instead.\n",
      "  df=df.append(table[0])\n"
     ]
    },
    {
     "name": "stdout",
     "output_type": "stream",
     "text": [
      "now snoozing for 10 secs\n",
      "now scraping page 31\n"
     ]
    },
    {
     "name": "stderr",
     "output_type": "stream",
     "text": [
      "/var/folders/61/68rz41055xg7sv4h43532jh00000gn/T/ipykernel_25630/3887715647.py:6: FutureWarning: The frame.append method is deprecated and will be removed from pandas in a future version. Use pandas.concat instead.\n",
      "  df=df.append(table[0])\n"
     ]
    },
    {
     "name": "stdout",
     "output_type": "stream",
     "text": [
      "now snoozing for 10 secs\n",
      "now scraping page 32\n"
     ]
    },
    {
     "name": "stderr",
     "output_type": "stream",
     "text": [
      "/var/folders/61/68rz41055xg7sv4h43532jh00000gn/T/ipykernel_25630/3887715647.py:6: FutureWarning: The frame.append method is deprecated and will be removed from pandas in a future version. Use pandas.concat instead.\n",
      "  df=df.append(table[0])\n"
     ]
    },
    {
     "name": "stdout",
     "output_type": "stream",
     "text": [
      "now snoozing for 18 secs\n",
      "now scraping page 33\n"
     ]
    },
    {
     "name": "stderr",
     "output_type": "stream",
     "text": [
      "/var/folders/61/68rz41055xg7sv4h43532jh00000gn/T/ipykernel_25630/3887715647.py:6: FutureWarning: The frame.append method is deprecated and will be removed from pandas in a future version. Use pandas.concat instead.\n",
      "  df=df.append(table[0])\n"
     ]
    },
    {
     "name": "stdout",
     "output_type": "stream",
     "text": [
      "now snoozing for 16 secs\n",
      "now scraping page 34\n"
     ]
    },
    {
     "name": "stderr",
     "output_type": "stream",
     "text": [
      "/var/folders/61/68rz41055xg7sv4h43532jh00000gn/T/ipykernel_25630/3887715647.py:6: FutureWarning: The frame.append method is deprecated and will be removed from pandas in a future version. Use pandas.concat instead.\n",
      "  df=df.append(table[0])\n"
     ]
    },
    {
     "name": "stdout",
     "output_type": "stream",
     "text": [
      "now snoozing for 12 secs\n",
      "now scraping page 35\n"
     ]
    },
    {
     "name": "stderr",
     "output_type": "stream",
     "text": [
      "/var/folders/61/68rz41055xg7sv4h43532jh00000gn/T/ipykernel_25630/3887715647.py:6: FutureWarning: The frame.append method is deprecated and will be removed from pandas in a future version. Use pandas.concat instead.\n",
      "  df=df.append(table[0])\n"
     ]
    },
    {
     "name": "stdout",
     "output_type": "stream",
     "text": [
      "now snoozing for 11 secs\n",
      "now scraping page 36\n"
     ]
    },
    {
     "name": "stderr",
     "output_type": "stream",
     "text": [
      "/var/folders/61/68rz41055xg7sv4h43532jh00000gn/T/ipykernel_25630/3887715647.py:6: FutureWarning: The frame.append method is deprecated and will be removed from pandas in a future version. Use pandas.concat instead.\n",
      "  df=df.append(table[0])\n"
     ]
    },
    {
     "name": "stdout",
     "output_type": "stream",
     "text": [
      "now snoozing for 11 secs\n",
      "now scraping page 37\n"
     ]
    },
    {
     "name": "stderr",
     "output_type": "stream",
     "text": [
      "/var/folders/61/68rz41055xg7sv4h43532jh00000gn/T/ipykernel_25630/3887715647.py:6: FutureWarning: The frame.append method is deprecated and will be removed from pandas in a future version. Use pandas.concat instead.\n",
      "  df=df.append(table[0])\n"
     ]
    },
    {
     "name": "stdout",
     "output_type": "stream",
     "text": [
      "now snoozing for 10 secs\n",
      "now scraping page 38\n"
     ]
    },
    {
     "name": "stderr",
     "output_type": "stream",
     "text": [
      "/var/folders/61/68rz41055xg7sv4h43532jh00000gn/T/ipykernel_25630/3887715647.py:6: FutureWarning: The frame.append method is deprecated and will be removed from pandas in a future version. Use pandas.concat instead.\n",
      "  df=df.append(table[0])\n"
     ]
    },
    {
     "name": "stdout",
     "output_type": "stream",
     "text": [
      "now snoozing for 17 secs\n",
      "now scraping page 39\n"
     ]
    },
    {
     "name": "stderr",
     "output_type": "stream",
     "text": [
      "/var/folders/61/68rz41055xg7sv4h43532jh00000gn/T/ipykernel_25630/3887715647.py:6: FutureWarning: The frame.append method is deprecated and will be removed from pandas in a future version. Use pandas.concat instead.\n",
      "  df=df.append(table[0])\n"
     ]
    },
    {
     "name": "stdout",
     "output_type": "stream",
     "text": [
      "now snoozing for 12 secs\n",
      "now scraping page 40\n"
     ]
    },
    {
     "name": "stderr",
     "output_type": "stream",
     "text": [
      "/var/folders/61/68rz41055xg7sv4h43532jh00000gn/T/ipykernel_25630/3887715647.py:6: FutureWarning: The frame.append method is deprecated and will be removed from pandas in a future version. Use pandas.concat instead.\n",
      "  df=df.append(table[0])\n"
     ]
    },
    {
     "name": "stdout",
     "output_type": "stream",
     "text": [
      "now snoozing for 18 secs\n",
      "now scraping page 41\n"
     ]
    },
    {
     "name": "stderr",
     "output_type": "stream",
     "text": [
      "/var/folders/61/68rz41055xg7sv4h43532jh00000gn/T/ipykernel_25630/3887715647.py:6: FutureWarning: The frame.append method is deprecated and will be removed from pandas in a future version. Use pandas.concat instead.\n",
      "  df=df.append(table[0])\n"
     ]
    },
    {
     "name": "stdout",
     "output_type": "stream",
     "text": [
      "now snoozing for 12 secs\n",
      "now scraping page 42\n"
     ]
    },
    {
     "name": "stderr",
     "output_type": "stream",
     "text": [
      "/var/folders/61/68rz41055xg7sv4h43532jh00000gn/T/ipykernel_25630/3887715647.py:6: FutureWarning: The frame.append method is deprecated and will be removed from pandas in a future version. Use pandas.concat instead.\n",
      "  df=df.append(table[0])\n"
     ]
    },
    {
     "name": "stdout",
     "output_type": "stream",
     "text": [
      "now snoozing for 19 secs\n",
      "now scraping page 43\n"
     ]
    },
    {
     "name": "stderr",
     "output_type": "stream",
     "text": [
      "/var/folders/61/68rz41055xg7sv4h43532jh00000gn/T/ipykernel_25630/3887715647.py:6: FutureWarning: The frame.append method is deprecated and will be removed from pandas in a future version. Use pandas.concat instead.\n",
      "  df=df.append(table[0])\n"
     ]
    },
    {
     "name": "stdout",
     "output_type": "stream",
     "text": [
      "now snoozing for 15 secs\n",
      "now scraping page 44\n"
     ]
    },
    {
     "name": "stderr",
     "output_type": "stream",
     "text": [
      "/var/folders/61/68rz41055xg7sv4h43532jh00000gn/T/ipykernel_25630/3887715647.py:6: FutureWarning: The frame.append method is deprecated and will be removed from pandas in a future version. Use pandas.concat instead.\n",
      "  df=df.append(table[0])\n"
     ]
    },
    {
     "name": "stdout",
     "output_type": "stream",
     "text": [
      "now snoozing for 18 secs\n",
      "now scraping page 45\n"
     ]
    },
    {
     "name": "stderr",
     "output_type": "stream",
     "text": [
      "/var/folders/61/68rz41055xg7sv4h43532jh00000gn/T/ipykernel_25630/3887715647.py:6: FutureWarning: The frame.append method is deprecated and will be removed from pandas in a future version. Use pandas.concat instead.\n",
      "  df=df.append(table[0])\n"
     ]
    },
    {
     "name": "stdout",
     "output_type": "stream",
     "text": [
      "now snoozing for 10 secs\n",
      "now scraping page 46\n"
     ]
    },
    {
     "name": "stderr",
     "output_type": "stream",
     "text": [
      "/var/folders/61/68rz41055xg7sv4h43532jh00000gn/T/ipykernel_25630/3887715647.py:6: FutureWarning: The frame.append method is deprecated and will be removed from pandas in a future version. Use pandas.concat instead.\n",
      "  df=df.append(table[0])\n"
     ]
    },
    {
     "name": "stdout",
     "output_type": "stream",
     "text": [
      "now snoozing for 19 secs\n",
      "now scraping page 47\n"
     ]
    },
    {
     "name": "stderr",
     "output_type": "stream",
     "text": [
      "/var/folders/61/68rz41055xg7sv4h43532jh00000gn/T/ipykernel_25630/3887715647.py:6: FutureWarning: The frame.append method is deprecated and will be removed from pandas in a future version. Use pandas.concat instead.\n",
      "  df=df.append(table[0])\n"
     ]
    },
    {
     "name": "stdout",
     "output_type": "stream",
     "text": [
      "now snoozing for 14 secs\n",
      "now scraping page 48\n"
     ]
    },
    {
     "name": "stderr",
     "output_type": "stream",
     "text": [
      "/var/folders/61/68rz41055xg7sv4h43532jh00000gn/T/ipykernel_25630/3887715647.py:6: FutureWarning: The frame.append method is deprecated and will be removed from pandas in a future version. Use pandas.concat instead.\n",
      "  df=df.append(table[0])\n"
     ]
    },
    {
     "name": "stdout",
     "output_type": "stream",
     "text": [
      "now snoozing for 16 secs\n",
      "now scraping page 49\n"
     ]
    },
    {
     "name": "stderr",
     "output_type": "stream",
     "text": [
      "/var/folders/61/68rz41055xg7sv4h43532jh00000gn/T/ipykernel_25630/3887715647.py:6: FutureWarning: The frame.append method is deprecated and will be removed from pandas in a future version. Use pandas.concat instead.\n",
      "  df=df.append(table[0])\n"
     ]
    },
    {
     "name": "stdout",
     "output_type": "stream",
     "text": [
      "now snoozing for 14 secs\n",
      "now scraping page 50\n"
     ]
    },
    {
     "name": "stderr",
     "output_type": "stream",
     "text": [
      "/var/folders/61/68rz41055xg7sv4h43532jh00000gn/T/ipykernel_25630/3887715647.py:6: FutureWarning: The frame.append method is deprecated and will be removed from pandas in a future version. Use pandas.concat instead.\n",
      "  df=df.append(table[0])\n"
     ]
    },
    {
     "name": "stdout",
     "output_type": "stream",
     "text": [
      "now snoozing for 13 secs\n",
      "now scraping page 51\n"
     ]
    },
    {
     "name": "stderr",
     "output_type": "stream",
     "text": [
      "/var/folders/61/68rz41055xg7sv4h43532jh00000gn/T/ipykernel_25630/3887715647.py:6: FutureWarning: The frame.append method is deprecated and will be removed from pandas in a future version. Use pandas.concat instead.\n",
      "  df=df.append(table[0])\n"
     ]
    },
    {
     "name": "stdout",
     "output_type": "stream",
     "text": [
      "now snoozing for 11 secs\n",
      "now scraping page 52\n"
     ]
    },
    {
     "name": "stderr",
     "output_type": "stream",
     "text": [
      "/var/folders/61/68rz41055xg7sv4h43532jh00000gn/T/ipykernel_25630/3887715647.py:6: FutureWarning: The frame.append method is deprecated and will be removed from pandas in a future version. Use pandas.concat instead.\n",
      "  df=df.append(table[0])\n"
     ]
    },
    {
     "name": "stdout",
     "output_type": "stream",
     "text": [
      "now snoozing for 19 secs\n",
      "now scraping page 53\n"
     ]
    },
    {
     "name": "stderr",
     "output_type": "stream",
     "text": [
      "/var/folders/61/68rz41055xg7sv4h43532jh00000gn/T/ipykernel_25630/3887715647.py:6: FutureWarning: The frame.append method is deprecated and will be removed from pandas in a future version. Use pandas.concat instead.\n",
      "  df=df.append(table[0])\n"
     ]
    },
    {
     "name": "stdout",
     "output_type": "stream",
     "text": [
      "now snoozing for 19 secs\n",
      "now scraping page 54\n"
     ]
    },
    {
     "name": "stderr",
     "output_type": "stream",
     "text": [
      "/var/folders/61/68rz41055xg7sv4h43532jh00000gn/T/ipykernel_25630/3887715647.py:6: FutureWarning: The frame.append method is deprecated and will be removed from pandas in a future version. Use pandas.concat instead.\n",
      "  df=df.append(table[0])\n"
     ]
    },
    {
     "name": "stdout",
     "output_type": "stream",
     "text": [
      "now snoozing for 17 secs\n",
      "now scraping page 55\n"
     ]
    },
    {
     "name": "stderr",
     "output_type": "stream",
     "text": [
      "/var/folders/61/68rz41055xg7sv4h43532jh00000gn/T/ipykernel_25630/3887715647.py:6: FutureWarning: The frame.append method is deprecated and will be removed from pandas in a future version. Use pandas.concat instead.\n",
      "  df=df.append(table[0])\n"
     ]
    },
    {
     "name": "stdout",
     "output_type": "stream",
     "text": [
      "now snoozing for 15 secs\n",
      "now scraping page 56\n"
     ]
    },
    {
     "name": "stderr",
     "output_type": "stream",
     "text": [
      "/var/folders/61/68rz41055xg7sv4h43532jh00000gn/T/ipykernel_25630/3887715647.py:6: FutureWarning: The frame.append method is deprecated and will be removed from pandas in a future version. Use pandas.concat instead.\n",
      "  df=df.append(table[0])\n"
     ]
    },
    {
     "name": "stdout",
     "output_type": "stream",
     "text": [
      "now snoozing for 19 secs\n",
      "now scraping page 57\n"
     ]
    },
    {
     "name": "stderr",
     "output_type": "stream",
     "text": [
      "/var/folders/61/68rz41055xg7sv4h43532jh00000gn/T/ipykernel_25630/3887715647.py:6: FutureWarning: The frame.append method is deprecated and will be removed from pandas in a future version. Use pandas.concat instead.\n",
      "  df=df.append(table[0])\n"
     ]
    },
    {
     "name": "stdout",
     "output_type": "stream",
     "text": [
      "now snoozing for 11 secs\n",
      "now scraping page 58\n"
     ]
    },
    {
     "name": "stderr",
     "output_type": "stream",
     "text": [
      "/var/folders/61/68rz41055xg7sv4h43532jh00000gn/T/ipykernel_25630/3887715647.py:6: FutureWarning: The frame.append method is deprecated and will be removed from pandas in a future version. Use pandas.concat instead.\n",
      "  df=df.append(table[0])\n"
     ]
    },
    {
     "name": "stdout",
     "output_type": "stream",
     "text": [
      "now snoozing for 12 secs\n",
      "now scraping page 59\n"
     ]
    },
    {
     "name": "stderr",
     "output_type": "stream",
     "text": [
      "/var/folders/61/68rz41055xg7sv4h43532jh00000gn/T/ipykernel_25630/3887715647.py:6: FutureWarning: The frame.append method is deprecated and will be removed from pandas in a future version. Use pandas.concat instead.\n",
      "  df=df.append(table[0])\n"
     ]
    },
    {
     "name": "stdout",
     "output_type": "stream",
     "text": [
      "now snoozing for 16 secs\n",
      "now scraping page 60\n"
     ]
    },
    {
     "name": "stderr",
     "output_type": "stream",
     "text": [
      "/var/folders/61/68rz41055xg7sv4h43532jh00000gn/T/ipykernel_25630/3887715647.py:6: FutureWarning: The frame.append method is deprecated and will be removed from pandas in a future version. Use pandas.concat instead.\n",
      "  df=df.append(table[0])\n"
     ]
    },
    {
     "name": "stdout",
     "output_type": "stream",
     "text": [
      "now snoozing for 16 secs\n",
      "now scraping page 61\n"
     ]
    },
    {
     "name": "stderr",
     "output_type": "stream",
     "text": [
      "/var/folders/61/68rz41055xg7sv4h43532jh00000gn/T/ipykernel_25630/3887715647.py:6: FutureWarning: The frame.append method is deprecated and will be removed from pandas in a future version. Use pandas.concat instead.\n",
      "  df=df.append(table[0])\n"
     ]
    },
    {
     "name": "stdout",
     "output_type": "stream",
     "text": [
      "now snoozing for 18 secs\n",
      "now scraping page 62\n"
     ]
    },
    {
     "name": "stderr",
     "output_type": "stream",
     "text": [
      "/var/folders/61/68rz41055xg7sv4h43532jh00000gn/T/ipykernel_25630/3887715647.py:6: FutureWarning: The frame.append method is deprecated and will be removed from pandas in a future version. Use pandas.concat instead.\n",
      "  df=df.append(table[0])\n"
     ]
    },
    {
     "name": "stdout",
     "output_type": "stream",
     "text": [
      "now snoozing for 15 secs\n",
      "now scraping page 63\n"
     ]
    },
    {
     "name": "stderr",
     "output_type": "stream",
     "text": [
      "/var/folders/61/68rz41055xg7sv4h43532jh00000gn/T/ipykernel_25630/3887715647.py:6: FutureWarning: The frame.append method is deprecated and will be removed from pandas in a future version. Use pandas.concat instead.\n",
      "  df=df.append(table[0])\n"
     ]
    },
    {
     "name": "stdout",
     "output_type": "stream",
     "text": [
      "now snoozing for 14 secs\n",
      "now scraping page 64\n"
     ]
    },
    {
     "name": "stderr",
     "output_type": "stream",
     "text": [
      "/var/folders/61/68rz41055xg7sv4h43532jh00000gn/T/ipykernel_25630/3887715647.py:6: FutureWarning: The frame.append method is deprecated and will be removed from pandas in a future version. Use pandas.concat instead.\n",
      "  df=df.append(table[0])\n"
     ]
    },
    {
     "name": "stdout",
     "output_type": "stream",
     "text": [
      "now snoozing for 18 secs\n",
      "now scraping page 65\n"
     ]
    },
    {
     "name": "stderr",
     "output_type": "stream",
     "text": [
      "/var/folders/61/68rz41055xg7sv4h43532jh00000gn/T/ipykernel_25630/3887715647.py:6: FutureWarning: The frame.append method is deprecated and will be removed from pandas in a future version. Use pandas.concat instead.\n",
      "  df=df.append(table[0])\n"
     ]
    },
    {
     "name": "stdout",
     "output_type": "stream",
     "text": [
      "now snoozing for 17 secs\n",
      "now scraping page 66\n"
     ]
    },
    {
     "name": "stderr",
     "output_type": "stream",
     "text": [
      "/var/folders/61/68rz41055xg7sv4h43532jh00000gn/T/ipykernel_25630/3887715647.py:6: FutureWarning: The frame.append method is deprecated and will be removed from pandas in a future version. Use pandas.concat instead.\n",
      "  df=df.append(table[0])\n"
     ]
    },
    {
     "name": "stdout",
     "output_type": "stream",
     "text": [
      "now snoozing for 10 secs\n",
      "now scraping page 67\n"
     ]
    },
    {
     "name": "stderr",
     "output_type": "stream",
     "text": [
      "/var/folders/61/68rz41055xg7sv4h43532jh00000gn/T/ipykernel_25630/3887715647.py:6: FutureWarning: The frame.append method is deprecated and will be removed from pandas in a future version. Use pandas.concat instead.\n",
      "  df=df.append(table[0])\n"
     ]
    },
    {
     "name": "stdout",
     "output_type": "stream",
     "text": [
      "now snoozing for 17 secs\n",
      "now scraping page 68\n"
     ]
    },
    {
     "name": "stderr",
     "output_type": "stream",
     "text": [
      "/var/folders/61/68rz41055xg7sv4h43532jh00000gn/T/ipykernel_25630/3887715647.py:6: FutureWarning: The frame.append method is deprecated and will be removed from pandas in a future version. Use pandas.concat instead.\n",
      "  df=df.append(table[0])\n"
     ]
    },
    {
     "name": "stdout",
     "output_type": "stream",
     "text": [
      "now snoozing for 16 secs\n",
      "now scraping page 69\n"
     ]
    },
    {
     "name": "stderr",
     "output_type": "stream",
     "text": [
      "/var/folders/61/68rz41055xg7sv4h43532jh00000gn/T/ipykernel_25630/3887715647.py:6: FutureWarning: The frame.append method is deprecated and will be removed from pandas in a future version. Use pandas.concat instead.\n",
      "  df=df.append(table[0])\n"
     ]
    },
    {
     "name": "stdout",
     "output_type": "stream",
     "text": [
      "now snoozing for 17 secs\n",
      "now scraping page 70\n"
     ]
    },
    {
     "name": "stderr",
     "output_type": "stream",
     "text": [
      "/var/folders/61/68rz41055xg7sv4h43532jh00000gn/T/ipykernel_25630/3887715647.py:6: FutureWarning: The frame.append method is deprecated and will be removed from pandas in a future version. Use pandas.concat instead.\n",
      "  df=df.append(table[0])\n"
     ]
    },
    {
     "name": "stdout",
     "output_type": "stream",
     "text": [
      "now snoozing for 11 secs\n",
      "now scraping page 71\n"
     ]
    },
    {
     "name": "stderr",
     "output_type": "stream",
     "text": [
      "/var/folders/61/68rz41055xg7sv4h43532jh00000gn/T/ipykernel_25630/3887715647.py:6: FutureWarning: The frame.append method is deprecated and will be removed from pandas in a future version. Use pandas.concat instead.\n",
      "  df=df.append(table[0])\n"
     ]
    },
    {
     "name": "stdout",
     "output_type": "stream",
     "text": [
      "now snoozing for 12 secs\n",
      "now scraping page 72\n"
     ]
    },
    {
     "name": "stderr",
     "output_type": "stream",
     "text": [
      "/var/folders/61/68rz41055xg7sv4h43532jh00000gn/T/ipykernel_25630/3887715647.py:6: FutureWarning: The frame.append method is deprecated and will be removed from pandas in a future version. Use pandas.concat instead.\n",
      "  df=df.append(table[0])\n"
     ]
    },
    {
     "name": "stdout",
     "output_type": "stream",
     "text": [
      "now snoozing for 11 secs\n",
      "now scraping page 73\n"
     ]
    },
    {
     "name": "stderr",
     "output_type": "stream",
     "text": [
      "/var/folders/61/68rz41055xg7sv4h43532jh00000gn/T/ipykernel_25630/3887715647.py:6: FutureWarning: The frame.append method is deprecated and will be removed from pandas in a future version. Use pandas.concat instead.\n",
      "  df=df.append(table[0])\n"
     ]
    },
    {
     "name": "stdout",
     "output_type": "stream",
     "text": [
      "now snoozing for 19 secs\n",
      "now scraping page 74\n"
     ]
    },
    {
     "name": "stderr",
     "output_type": "stream",
     "text": [
      "/var/folders/61/68rz41055xg7sv4h43532jh00000gn/T/ipykernel_25630/3887715647.py:6: FutureWarning: The frame.append method is deprecated and will be removed from pandas in a future version. Use pandas.concat instead.\n",
      "  df=df.append(table[0])\n"
     ]
    },
    {
     "name": "stdout",
     "output_type": "stream",
     "text": [
      "now snoozing for 16 secs\n",
      "now scraping page 75\n"
     ]
    },
    {
     "name": "stderr",
     "output_type": "stream",
     "text": [
      "/var/folders/61/68rz41055xg7sv4h43532jh00000gn/T/ipykernel_25630/3887715647.py:6: FutureWarning: The frame.append method is deprecated and will be removed from pandas in a future version. Use pandas.concat instead.\n",
      "  df=df.append(table[0])\n"
     ]
    },
    {
     "name": "stdout",
     "output_type": "stream",
     "text": [
      "now snoozing for 16 secs\n",
      "now scraping page 76\n"
     ]
    },
    {
     "name": "stderr",
     "output_type": "stream",
     "text": [
      "/var/folders/61/68rz41055xg7sv4h43532jh00000gn/T/ipykernel_25630/3887715647.py:6: FutureWarning: The frame.append method is deprecated and will be removed from pandas in a future version. Use pandas.concat instead.\n",
      "  df=df.append(table[0])\n"
     ]
    },
    {
     "name": "stdout",
     "output_type": "stream",
     "text": [
      "now snoozing for 19 secs\n",
      "now scraping page 77\n"
     ]
    },
    {
     "name": "stderr",
     "output_type": "stream",
     "text": [
      "/var/folders/61/68rz41055xg7sv4h43532jh00000gn/T/ipykernel_25630/3887715647.py:6: FutureWarning: The frame.append method is deprecated and will be removed from pandas in a future version. Use pandas.concat instead.\n",
      "  df=df.append(table[0])\n"
     ]
    },
    {
     "name": "stdout",
     "output_type": "stream",
     "text": [
      "now snoozing for 19 secs\n",
      "now scraping page 78\n"
     ]
    },
    {
     "name": "stderr",
     "output_type": "stream",
     "text": [
      "/var/folders/61/68rz41055xg7sv4h43532jh00000gn/T/ipykernel_25630/3887715647.py:6: FutureWarning: The frame.append method is deprecated and will be removed from pandas in a future version. Use pandas.concat instead.\n",
      "  df=df.append(table[0])\n"
     ]
    },
    {
     "name": "stdout",
     "output_type": "stream",
     "text": [
      "now snoozing for 16 secs\n",
      "now scraping page 79\n"
     ]
    },
    {
     "name": "stderr",
     "output_type": "stream",
     "text": [
      "/var/folders/61/68rz41055xg7sv4h43532jh00000gn/T/ipykernel_25630/3887715647.py:6: FutureWarning: The frame.append method is deprecated and will be removed from pandas in a future version. Use pandas.concat instead.\n",
      "  df=df.append(table[0])\n"
     ]
    },
    {
     "name": "stdout",
     "output_type": "stream",
     "text": [
      "now snoozing for 14 secs\n",
      "now scraping page 80\n"
     ]
    },
    {
     "name": "stderr",
     "output_type": "stream",
     "text": [
      "/var/folders/61/68rz41055xg7sv4h43532jh00000gn/T/ipykernel_25630/3887715647.py:6: FutureWarning: The frame.append method is deprecated and will be removed from pandas in a future version. Use pandas.concat instead.\n",
      "  df=df.append(table[0])\n"
     ]
    },
    {
     "name": "stdout",
     "output_type": "stream",
     "text": [
      "now snoozing for 16 secs\n",
      "now scraping page 81\n"
     ]
    },
    {
     "name": "stderr",
     "output_type": "stream",
     "text": [
      "/var/folders/61/68rz41055xg7sv4h43532jh00000gn/T/ipykernel_25630/3887715647.py:6: FutureWarning: The frame.append method is deprecated and will be removed from pandas in a future version. Use pandas.concat instead.\n",
      "  df=df.append(table[0])\n"
     ]
    },
    {
     "name": "stdout",
     "output_type": "stream",
     "text": [
      "now snoozing for 18 secs\n",
      "now scraping page 82\n"
     ]
    },
    {
     "name": "stderr",
     "output_type": "stream",
     "text": [
      "/var/folders/61/68rz41055xg7sv4h43532jh00000gn/T/ipykernel_25630/3887715647.py:6: FutureWarning: The frame.append method is deprecated and will be removed from pandas in a future version. Use pandas.concat instead.\n",
      "  df=df.append(table[0])\n"
     ]
    },
    {
     "name": "stdout",
     "output_type": "stream",
     "text": [
      "now snoozing for 17 secs\n",
      "now scraping page 83\n"
     ]
    },
    {
     "name": "stderr",
     "output_type": "stream",
     "text": [
      "/var/folders/61/68rz41055xg7sv4h43532jh00000gn/T/ipykernel_25630/3887715647.py:6: FutureWarning: The frame.append method is deprecated and will be removed from pandas in a future version. Use pandas.concat instead.\n",
      "  df=df.append(table[0])\n"
     ]
    },
    {
     "name": "stdout",
     "output_type": "stream",
     "text": [
      "now snoozing for 14 secs\n",
      "now scraping page 84\n"
     ]
    },
    {
     "name": "stderr",
     "output_type": "stream",
     "text": [
      "/var/folders/61/68rz41055xg7sv4h43532jh00000gn/T/ipykernel_25630/3887715647.py:6: FutureWarning: The frame.append method is deprecated and will be removed from pandas in a future version. Use pandas.concat instead.\n",
      "  df=df.append(table[0])\n"
     ]
    },
    {
     "name": "stdout",
     "output_type": "stream",
     "text": [
      "now snoozing for 10 secs\n",
      "now scraping page 85\n"
     ]
    },
    {
     "name": "stderr",
     "output_type": "stream",
     "text": [
      "/var/folders/61/68rz41055xg7sv4h43532jh00000gn/T/ipykernel_25630/3887715647.py:6: FutureWarning: The frame.append method is deprecated and will be removed from pandas in a future version. Use pandas.concat instead.\n",
      "  df=df.append(table[0])\n"
     ]
    },
    {
     "name": "stdout",
     "output_type": "stream",
     "text": [
      "now snoozing for 12 secs\n",
      "now scraping page 86\n"
     ]
    },
    {
     "name": "stderr",
     "output_type": "stream",
     "text": [
      "/var/folders/61/68rz41055xg7sv4h43532jh00000gn/T/ipykernel_25630/3887715647.py:6: FutureWarning: The frame.append method is deprecated and will be removed from pandas in a future version. Use pandas.concat instead.\n",
      "  df=df.append(table[0])\n"
     ]
    },
    {
     "name": "stdout",
     "output_type": "stream",
     "text": [
      "now snoozing for 19 secs\n",
      "now scraping page 87\n"
     ]
    },
    {
     "name": "stderr",
     "output_type": "stream",
     "text": [
      "/var/folders/61/68rz41055xg7sv4h43532jh00000gn/T/ipykernel_25630/3887715647.py:6: FutureWarning: The frame.append method is deprecated and will be removed from pandas in a future version. Use pandas.concat instead.\n",
      "  df=df.append(table[0])\n"
     ]
    },
    {
     "name": "stdout",
     "output_type": "stream",
     "text": [
      "now snoozing for 15 secs\n",
      "now scraping page 88\n"
     ]
    },
    {
     "name": "stderr",
     "output_type": "stream",
     "text": [
      "/var/folders/61/68rz41055xg7sv4h43532jh00000gn/T/ipykernel_25630/3887715647.py:6: FutureWarning: The frame.append method is deprecated and will be removed from pandas in a future version. Use pandas.concat instead.\n",
      "  df=df.append(table[0])\n"
     ]
    },
    {
     "name": "stdout",
     "output_type": "stream",
     "text": [
      "now snoozing for 13 secs\n",
      "now scraping page 89\n"
     ]
    },
    {
     "name": "stderr",
     "output_type": "stream",
     "text": [
      "/var/folders/61/68rz41055xg7sv4h43532jh00000gn/T/ipykernel_25630/3887715647.py:6: FutureWarning: The frame.append method is deprecated and will be removed from pandas in a future version. Use pandas.concat instead.\n",
      "  df=df.append(table[0])\n"
     ]
    },
    {
     "name": "stdout",
     "output_type": "stream",
     "text": [
      "now snoozing for 19 secs\n",
      "now scraping page 90\n"
     ]
    },
    {
     "name": "stderr",
     "output_type": "stream",
     "text": [
      "/var/folders/61/68rz41055xg7sv4h43532jh00000gn/T/ipykernel_25630/3887715647.py:6: FutureWarning: The frame.append method is deprecated and will be removed from pandas in a future version. Use pandas.concat instead.\n",
      "  df=df.append(table[0])\n"
     ]
    },
    {
     "name": "stdout",
     "output_type": "stream",
     "text": [
      "now snoozing for 16 secs\n",
      "now scraping page 91\n"
     ]
    },
    {
     "name": "stderr",
     "output_type": "stream",
     "text": [
      "/var/folders/61/68rz41055xg7sv4h43532jh00000gn/T/ipykernel_25630/3887715647.py:6: FutureWarning: The frame.append method is deprecated and will be removed from pandas in a future version. Use pandas.concat instead.\n",
      "  df=df.append(table[0])\n"
     ]
    },
    {
     "name": "stdout",
     "output_type": "stream",
     "text": [
      "now snoozing for 18 secs\n",
      "now scraping page 92\n"
     ]
    },
    {
     "name": "stderr",
     "output_type": "stream",
     "text": [
      "/var/folders/61/68rz41055xg7sv4h43532jh00000gn/T/ipykernel_25630/3887715647.py:6: FutureWarning: The frame.append method is deprecated and will be removed from pandas in a future version. Use pandas.concat instead.\n",
      "  df=df.append(table[0])\n"
     ]
    },
    {
     "name": "stdout",
     "output_type": "stream",
     "text": [
      "now snoozing for 12 secs\n",
      "now scraping page 93\n"
     ]
    },
    {
     "name": "stderr",
     "output_type": "stream",
     "text": [
      "/var/folders/61/68rz41055xg7sv4h43532jh00000gn/T/ipykernel_25630/3887715647.py:6: FutureWarning: The frame.append method is deprecated and will be removed from pandas in a future version. Use pandas.concat instead.\n",
      "  df=df.append(table[0])\n"
     ]
    },
    {
     "name": "stdout",
     "output_type": "stream",
     "text": [
      "now snoozing for 14 secs\n",
      "now scraping page 94\n"
     ]
    },
    {
     "name": "stderr",
     "output_type": "stream",
     "text": [
      "/var/folders/61/68rz41055xg7sv4h43532jh00000gn/T/ipykernel_25630/3887715647.py:6: FutureWarning: The frame.append method is deprecated and will be removed from pandas in a future version. Use pandas.concat instead.\n",
      "  df=df.append(table[0])\n"
     ]
    },
    {
     "name": "stdout",
     "output_type": "stream",
     "text": [
      "now snoozing for 14 secs\n",
      "now scraping page 95\n"
     ]
    },
    {
     "name": "stderr",
     "output_type": "stream",
     "text": [
      "/var/folders/61/68rz41055xg7sv4h43532jh00000gn/T/ipykernel_25630/3887715647.py:6: FutureWarning: The frame.append method is deprecated and will be removed from pandas in a future version. Use pandas.concat instead.\n",
      "  df=df.append(table[0])\n"
     ]
    },
    {
     "name": "stdout",
     "output_type": "stream",
     "text": [
      "now snoozing for 12 secs\n",
      "now scraping page 96\n"
     ]
    },
    {
     "name": "stderr",
     "output_type": "stream",
     "text": [
      "/var/folders/61/68rz41055xg7sv4h43532jh00000gn/T/ipykernel_25630/3887715647.py:6: FutureWarning: The frame.append method is deprecated and will be removed from pandas in a future version. Use pandas.concat instead.\n",
      "  df=df.append(table[0])\n"
     ]
    },
    {
     "name": "stdout",
     "output_type": "stream",
     "text": [
      "now snoozing for 13 secs\n",
      "now scraping page 97\n"
     ]
    },
    {
     "name": "stderr",
     "output_type": "stream",
     "text": [
      "/var/folders/61/68rz41055xg7sv4h43532jh00000gn/T/ipykernel_25630/3887715647.py:6: FutureWarning: The frame.append method is deprecated and will be removed from pandas in a future version. Use pandas.concat instead.\n",
      "  df=df.append(table[0])\n"
     ]
    },
    {
     "name": "stdout",
     "output_type": "stream",
     "text": [
      "now snoozing for 17 secs\n",
      "now scraping page 98\n"
     ]
    },
    {
     "name": "stderr",
     "output_type": "stream",
     "text": [
      "/var/folders/61/68rz41055xg7sv4h43532jh00000gn/T/ipykernel_25630/3887715647.py:6: FutureWarning: The frame.append method is deprecated and will be removed from pandas in a future version. Use pandas.concat instead.\n",
      "  df=df.append(table[0])\n"
     ]
    },
    {
     "name": "stdout",
     "output_type": "stream",
     "text": [
      "now snoozing for 10 secs\n",
      "now scraping page 99\n"
     ]
    },
    {
     "name": "stderr",
     "output_type": "stream",
     "text": [
      "/var/folders/61/68rz41055xg7sv4h43532jh00000gn/T/ipykernel_25630/3887715647.py:6: FutureWarning: The frame.append method is deprecated and will be removed from pandas in a future version. Use pandas.concat instead.\n",
      "  df=df.append(table[0])\n"
     ]
    },
    {
     "name": "stdout",
     "output_type": "stream",
     "text": [
      "now snoozing for 12 secs\n",
      "now scraping page 100\n"
     ]
    },
    {
     "name": "stderr",
     "output_type": "stream",
     "text": [
      "/var/folders/61/68rz41055xg7sv4h43532jh00000gn/T/ipykernel_25630/3887715647.py:6: FutureWarning: The frame.append method is deprecated and will be removed from pandas in a future version. Use pandas.concat instead.\n",
      "  df=df.append(table[0])\n"
     ]
    },
    {
     "name": "stdout",
     "output_type": "stream",
     "text": [
      "now snoozing for 17 secs\n",
      "now scraping page 101\n"
     ]
    },
    {
     "name": "stderr",
     "output_type": "stream",
     "text": [
      "/var/folders/61/68rz41055xg7sv4h43532jh00000gn/T/ipykernel_25630/3887715647.py:6: FutureWarning: The frame.append method is deprecated and will be removed from pandas in a future version. Use pandas.concat instead.\n",
      "  df=df.append(table[0])\n"
     ]
    },
    {
     "name": "stdout",
     "output_type": "stream",
     "text": [
      "now snoozing for 16 secs\n",
      "now scraping page 102\n"
     ]
    },
    {
     "name": "stderr",
     "output_type": "stream",
     "text": [
      "/var/folders/61/68rz41055xg7sv4h43532jh00000gn/T/ipykernel_25630/3887715647.py:6: FutureWarning: The frame.append method is deprecated and will be removed from pandas in a future version. Use pandas.concat instead.\n",
      "  df=df.append(table[0])\n"
     ]
    },
    {
     "name": "stdout",
     "output_type": "stream",
     "text": [
      "now snoozing for 17 secs\n",
      "now scraping page 103\n"
     ]
    },
    {
     "name": "stderr",
     "output_type": "stream",
     "text": [
      "/var/folders/61/68rz41055xg7sv4h43532jh00000gn/T/ipykernel_25630/3887715647.py:6: FutureWarning: The frame.append method is deprecated and will be removed from pandas in a future version. Use pandas.concat instead.\n",
      "  df=df.append(table[0])\n"
     ]
    },
    {
     "name": "stdout",
     "output_type": "stream",
     "text": [
      "now snoozing for 13 secs\n",
      "now scraping page 104\n"
     ]
    },
    {
     "name": "stderr",
     "output_type": "stream",
     "text": [
      "/var/folders/61/68rz41055xg7sv4h43532jh00000gn/T/ipykernel_25630/3887715647.py:6: FutureWarning: The frame.append method is deprecated and will be removed from pandas in a future version. Use pandas.concat instead.\n",
      "  df=df.append(table[0])\n"
     ]
    },
    {
     "name": "stdout",
     "output_type": "stream",
     "text": [
      "now snoozing for 18 secs\n",
      "now scraping page 105\n"
     ]
    },
    {
     "name": "stderr",
     "output_type": "stream",
     "text": [
      "/var/folders/61/68rz41055xg7sv4h43532jh00000gn/T/ipykernel_25630/3887715647.py:6: FutureWarning: The frame.append method is deprecated and will be removed from pandas in a future version. Use pandas.concat instead.\n",
      "  df=df.append(table[0])\n"
     ]
    },
    {
     "name": "stdout",
     "output_type": "stream",
     "text": [
      "now snoozing for 13 secs\n",
      "now scraping page 106\n"
     ]
    },
    {
     "name": "stderr",
     "output_type": "stream",
     "text": [
      "/var/folders/61/68rz41055xg7sv4h43532jh00000gn/T/ipykernel_25630/3887715647.py:6: FutureWarning: The frame.append method is deprecated and will be removed from pandas in a future version. Use pandas.concat instead.\n",
      "  df=df.append(table[0])\n"
     ]
    },
    {
     "name": "stdout",
     "output_type": "stream",
     "text": [
      "now snoozing for 15 secs\n",
      "now scraping page 107\n"
     ]
    },
    {
     "name": "stderr",
     "output_type": "stream",
     "text": [
      "/var/folders/61/68rz41055xg7sv4h43532jh00000gn/T/ipykernel_25630/3887715647.py:6: FutureWarning: The frame.append method is deprecated and will be removed from pandas in a future version. Use pandas.concat instead.\n",
      "  df=df.append(table[0])\n"
     ]
    },
    {
     "name": "stdout",
     "output_type": "stream",
     "text": [
      "now snoozing for 15 secs\n",
      "now scraping page 108\n"
     ]
    },
    {
     "name": "stderr",
     "output_type": "stream",
     "text": [
      "/var/folders/61/68rz41055xg7sv4h43532jh00000gn/T/ipykernel_25630/3887715647.py:6: FutureWarning: The frame.append method is deprecated and will be removed from pandas in a future version. Use pandas.concat instead.\n",
      "  df=df.append(table[0])\n"
     ]
    },
    {
     "name": "stdout",
     "output_type": "stream",
     "text": [
      "now snoozing for 14 secs\n",
      "now scraping page 109\n"
     ]
    },
    {
     "name": "stderr",
     "output_type": "stream",
     "text": [
      "/var/folders/61/68rz41055xg7sv4h43532jh00000gn/T/ipykernel_25630/3887715647.py:6: FutureWarning: The frame.append method is deprecated and will be removed from pandas in a future version. Use pandas.concat instead.\n",
      "  df=df.append(table[0])\n"
     ]
    },
    {
     "name": "stdout",
     "output_type": "stream",
     "text": [
      "now snoozing for 10 secs\n",
      "now scraping page 110\n"
     ]
    },
    {
     "name": "stderr",
     "output_type": "stream",
     "text": [
      "/var/folders/61/68rz41055xg7sv4h43532jh00000gn/T/ipykernel_25630/3887715647.py:6: FutureWarning: The frame.append method is deprecated and will be removed from pandas in a future version. Use pandas.concat instead.\n",
      "  df=df.append(table[0])\n"
     ]
    },
    {
     "name": "stdout",
     "output_type": "stream",
     "text": [
      "now snoozing for 15 secs\n",
      "now scraping page 111\n"
     ]
    },
    {
     "name": "stderr",
     "output_type": "stream",
     "text": [
      "/var/folders/61/68rz41055xg7sv4h43532jh00000gn/T/ipykernel_25630/3887715647.py:6: FutureWarning: The frame.append method is deprecated and will be removed from pandas in a future version. Use pandas.concat instead.\n",
      "  df=df.append(table[0])\n"
     ]
    },
    {
     "name": "stdout",
     "output_type": "stream",
     "text": [
      "now snoozing for 17 secs\n",
      "now scraping page 112\n"
     ]
    },
    {
     "name": "stderr",
     "output_type": "stream",
     "text": [
      "/var/folders/61/68rz41055xg7sv4h43532jh00000gn/T/ipykernel_25630/3887715647.py:6: FutureWarning: The frame.append method is deprecated and will be removed from pandas in a future version. Use pandas.concat instead.\n",
      "  df=df.append(table[0])\n"
     ]
    },
    {
     "name": "stdout",
     "output_type": "stream",
     "text": [
      "now snoozing for 12 secs\n",
      "now scraping page 113\n"
     ]
    },
    {
     "name": "stderr",
     "output_type": "stream",
     "text": [
      "/var/folders/61/68rz41055xg7sv4h43532jh00000gn/T/ipykernel_25630/3887715647.py:6: FutureWarning: The frame.append method is deprecated and will be removed from pandas in a future version. Use pandas.concat instead.\n",
      "  df=df.append(table[0])\n"
     ]
    },
    {
     "name": "stdout",
     "output_type": "stream",
     "text": [
      "now snoozing for 11 secs\n",
      "now scraping page 114\n"
     ]
    },
    {
     "name": "stderr",
     "output_type": "stream",
     "text": [
      "/var/folders/61/68rz41055xg7sv4h43532jh00000gn/T/ipykernel_25630/3887715647.py:6: FutureWarning: The frame.append method is deprecated and will be removed from pandas in a future version. Use pandas.concat instead.\n",
      "  df=df.append(table[0])\n"
     ]
    },
    {
     "name": "stdout",
     "output_type": "stream",
     "text": [
      "now snoozing for 14 secs\n",
      "now scraping page 115\n"
     ]
    },
    {
     "name": "stderr",
     "output_type": "stream",
     "text": [
      "/var/folders/61/68rz41055xg7sv4h43532jh00000gn/T/ipykernel_25630/3887715647.py:6: FutureWarning: The frame.append method is deprecated and will be removed from pandas in a future version. Use pandas.concat instead.\n",
      "  df=df.append(table[0])\n"
     ]
    },
    {
     "name": "stdout",
     "output_type": "stream",
     "text": [
      "now snoozing for 17 secs\n",
      "now scraping page 116\n"
     ]
    },
    {
     "name": "stderr",
     "output_type": "stream",
     "text": [
      "/var/folders/61/68rz41055xg7sv4h43532jh00000gn/T/ipykernel_25630/3887715647.py:6: FutureWarning: The frame.append method is deprecated and will be removed from pandas in a future version. Use pandas.concat instead.\n",
      "  df=df.append(table[0])\n"
     ]
    },
    {
     "name": "stdout",
     "output_type": "stream",
     "text": [
      "now snoozing for 16 secs\n",
      "now scraping page 117\n"
     ]
    },
    {
     "name": "stderr",
     "output_type": "stream",
     "text": [
      "/var/folders/61/68rz41055xg7sv4h43532jh00000gn/T/ipykernel_25630/3887715647.py:6: FutureWarning: The frame.append method is deprecated and will be removed from pandas in a future version. Use pandas.concat instead.\n",
      "  df=df.append(table[0])\n"
     ]
    },
    {
     "name": "stdout",
     "output_type": "stream",
     "text": [
      "now snoozing for 14 secs\n",
      "now scraping page 118\n"
     ]
    },
    {
     "name": "stderr",
     "output_type": "stream",
     "text": [
      "/var/folders/61/68rz41055xg7sv4h43532jh00000gn/T/ipykernel_25630/3887715647.py:6: FutureWarning: The frame.append method is deprecated and will be removed from pandas in a future version. Use pandas.concat instead.\n",
      "  df=df.append(table[0])\n"
     ]
    },
    {
     "name": "stdout",
     "output_type": "stream",
     "text": [
      "now snoozing for 19 secs\n",
      "now scraping page 119\n"
     ]
    },
    {
     "name": "stderr",
     "output_type": "stream",
     "text": [
      "/var/folders/61/68rz41055xg7sv4h43532jh00000gn/T/ipykernel_25630/3887715647.py:6: FutureWarning: The frame.append method is deprecated and will be removed from pandas in a future version. Use pandas.concat instead.\n",
      "  df=df.append(table[0])\n"
     ]
    },
    {
     "name": "stdout",
     "output_type": "stream",
     "text": [
      "now snoozing for 16 secs\n",
      "now scraping page 120\n"
     ]
    },
    {
     "name": "stderr",
     "output_type": "stream",
     "text": [
      "/var/folders/61/68rz41055xg7sv4h43532jh00000gn/T/ipykernel_25630/3887715647.py:6: FutureWarning: The frame.append method is deprecated and will be removed from pandas in a future version. Use pandas.concat instead.\n",
      "  df=df.append(table[0])\n"
     ]
    },
    {
     "name": "stdout",
     "output_type": "stream",
     "text": [
      "now snoozing for 14 secs\n",
      "now scraping page 121\n"
     ]
    },
    {
     "name": "stderr",
     "output_type": "stream",
     "text": [
      "/var/folders/61/68rz41055xg7sv4h43532jh00000gn/T/ipykernel_25630/3887715647.py:6: FutureWarning: The frame.append method is deprecated and will be removed from pandas in a future version. Use pandas.concat instead.\n",
      "  df=df.append(table[0])\n"
     ]
    },
    {
     "name": "stdout",
     "output_type": "stream",
     "text": [
      "now snoozing for 16 secs\n",
      "now scraping page 122\n"
     ]
    },
    {
     "name": "stderr",
     "output_type": "stream",
     "text": [
      "/var/folders/61/68rz41055xg7sv4h43532jh00000gn/T/ipykernel_25630/3887715647.py:6: FutureWarning: The frame.append method is deprecated and will be removed from pandas in a future version. Use pandas.concat instead.\n",
      "  df=df.append(table[0])\n"
     ]
    },
    {
     "name": "stdout",
     "output_type": "stream",
     "text": [
      "now snoozing for 15 secs\n",
      "now scraping page 123\n"
     ]
    },
    {
     "name": "stderr",
     "output_type": "stream",
     "text": [
      "/var/folders/61/68rz41055xg7sv4h43532jh00000gn/T/ipykernel_25630/3887715647.py:6: FutureWarning: The frame.append method is deprecated and will be removed from pandas in a future version. Use pandas.concat instead.\n",
      "  df=df.append(table[0])\n"
     ]
    },
    {
     "name": "stdout",
     "output_type": "stream",
     "text": [
      "now snoozing for 17 secs\n",
      "now scraping page 124\n"
     ]
    },
    {
     "name": "stderr",
     "output_type": "stream",
     "text": [
      "/var/folders/61/68rz41055xg7sv4h43532jh00000gn/T/ipykernel_25630/3887715647.py:6: FutureWarning: The frame.append method is deprecated and will be removed from pandas in a future version. Use pandas.concat instead.\n",
      "  df=df.append(table[0])\n"
     ]
    },
    {
     "name": "stdout",
     "output_type": "stream",
     "text": [
      "now snoozing for 10 secs\n",
      "now scraping page 125\n"
     ]
    },
    {
     "name": "stderr",
     "output_type": "stream",
     "text": [
      "/var/folders/61/68rz41055xg7sv4h43532jh00000gn/T/ipykernel_25630/3887715647.py:6: FutureWarning: The frame.append method is deprecated and will be removed from pandas in a future version. Use pandas.concat instead.\n",
      "  df=df.append(table[0])\n"
     ]
    },
    {
     "name": "stdout",
     "output_type": "stream",
     "text": [
      "now snoozing for 17 secs\n",
      "now scraping page 126\n"
     ]
    },
    {
     "name": "stderr",
     "output_type": "stream",
     "text": [
      "/var/folders/61/68rz41055xg7sv4h43532jh00000gn/T/ipykernel_25630/3887715647.py:6: FutureWarning: The frame.append method is deprecated and will be removed from pandas in a future version. Use pandas.concat instead.\n",
      "  df=df.append(table[0])\n"
     ]
    },
    {
     "name": "stdout",
     "output_type": "stream",
     "text": [
      "now snoozing for 17 secs\n",
      "now scraping page 127\n"
     ]
    },
    {
     "name": "stderr",
     "output_type": "stream",
     "text": [
      "/var/folders/61/68rz41055xg7sv4h43532jh00000gn/T/ipykernel_25630/3887715647.py:6: FutureWarning: The frame.append method is deprecated and will be removed from pandas in a future version. Use pandas.concat instead.\n",
      "  df=df.append(table[0])\n"
     ]
    },
    {
     "name": "stdout",
     "output_type": "stream",
     "text": [
      "now snoozing for 10 secs\n",
      "now scraping page 128\n"
     ]
    },
    {
     "name": "stderr",
     "output_type": "stream",
     "text": [
      "/var/folders/61/68rz41055xg7sv4h43532jh00000gn/T/ipykernel_25630/3887715647.py:6: FutureWarning: The frame.append method is deprecated and will be removed from pandas in a future version. Use pandas.concat instead.\n",
      "  df=df.append(table[0])\n"
     ]
    },
    {
     "name": "stdout",
     "output_type": "stream",
     "text": [
      "now snoozing for 13 secs\n",
      "now scraping page 129\n"
     ]
    },
    {
     "name": "stderr",
     "output_type": "stream",
     "text": [
      "/var/folders/61/68rz41055xg7sv4h43532jh00000gn/T/ipykernel_25630/3887715647.py:6: FutureWarning: The frame.append method is deprecated and will be removed from pandas in a future version. Use pandas.concat instead.\n",
      "  df=df.append(table[0])\n"
     ]
    },
    {
     "name": "stdout",
     "output_type": "stream",
     "text": [
      "now snoozing for 10 secs\n",
      "now scraping page 130\n"
     ]
    },
    {
     "name": "stderr",
     "output_type": "stream",
     "text": [
      "/var/folders/61/68rz41055xg7sv4h43532jh00000gn/T/ipykernel_25630/3887715647.py:6: FutureWarning: The frame.append method is deprecated and will be removed from pandas in a future version. Use pandas.concat instead.\n",
      "  df=df.append(table[0])\n"
     ]
    },
    {
     "name": "stdout",
     "output_type": "stream",
     "text": [
      "now snoozing for 14 secs\n",
      "now scraping page 131\n"
     ]
    },
    {
     "name": "stderr",
     "output_type": "stream",
     "text": [
      "/var/folders/61/68rz41055xg7sv4h43532jh00000gn/T/ipykernel_25630/3887715647.py:6: FutureWarning: The frame.append method is deprecated and will be removed from pandas in a future version. Use pandas.concat instead.\n",
      "  df=df.append(table[0])\n"
     ]
    },
    {
     "name": "stdout",
     "output_type": "stream",
     "text": [
      "now snoozing for 15 secs\n",
      "now scraping page 132\n"
     ]
    },
    {
     "name": "stderr",
     "output_type": "stream",
     "text": [
      "/var/folders/61/68rz41055xg7sv4h43532jh00000gn/T/ipykernel_25630/3887715647.py:6: FutureWarning: The frame.append method is deprecated and will be removed from pandas in a future version. Use pandas.concat instead.\n",
      "  df=df.append(table[0])\n"
     ]
    },
    {
     "name": "stdout",
     "output_type": "stream",
     "text": [
      "now snoozing for 13 secs\n",
      "now scraping page 133\n"
     ]
    },
    {
     "name": "stderr",
     "output_type": "stream",
     "text": [
      "/var/folders/61/68rz41055xg7sv4h43532jh00000gn/T/ipykernel_25630/3887715647.py:6: FutureWarning: The frame.append method is deprecated and will be removed from pandas in a future version. Use pandas.concat instead.\n",
      "  df=df.append(table[0])\n"
     ]
    },
    {
     "name": "stdout",
     "output_type": "stream",
     "text": [
      "now snoozing for 19 secs\n",
      "now scraping page 134\n"
     ]
    },
    {
     "name": "stderr",
     "output_type": "stream",
     "text": [
      "/var/folders/61/68rz41055xg7sv4h43532jh00000gn/T/ipykernel_25630/3887715647.py:6: FutureWarning: The frame.append method is deprecated and will be removed from pandas in a future version. Use pandas.concat instead.\n",
      "  df=df.append(table[0])\n"
     ]
    },
    {
     "name": "stdout",
     "output_type": "stream",
     "text": [
      "now snoozing for 18 secs\n",
      "now scraping page 135\n"
     ]
    },
    {
     "name": "stderr",
     "output_type": "stream",
     "text": [
      "/var/folders/61/68rz41055xg7sv4h43532jh00000gn/T/ipykernel_25630/3887715647.py:6: FutureWarning: The frame.append method is deprecated and will be removed from pandas in a future version. Use pandas.concat instead.\n",
      "  df=df.append(table[0])\n"
     ]
    },
    {
     "name": "stdout",
     "output_type": "stream",
     "text": [
      "now snoozing for 19 secs\n",
      "now scraping page 136\n"
     ]
    },
    {
     "name": "stderr",
     "output_type": "stream",
     "text": [
      "/var/folders/61/68rz41055xg7sv4h43532jh00000gn/T/ipykernel_25630/3887715647.py:6: FutureWarning: The frame.append method is deprecated and will be removed from pandas in a future version. Use pandas.concat instead.\n",
      "  df=df.append(table[0])\n"
     ]
    },
    {
     "name": "stdout",
     "output_type": "stream",
     "text": [
      "now snoozing for 16 secs\n",
      "now scraping page 137\n"
     ]
    },
    {
     "name": "stderr",
     "output_type": "stream",
     "text": [
      "/var/folders/61/68rz41055xg7sv4h43532jh00000gn/T/ipykernel_25630/3887715647.py:6: FutureWarning: The frame.append method is deprecated and will be removed from pandas in a future version. Use pandas.concat instead.\n",
      "  df=df.append(table[0])\n"
     ]
    },
    {
     "name": "stdout",
     "output_type": "stream",
     "text": [
      "now snoozing for 10 secs\n",
      "now scraping page 138\n"
     ]
    },
    {
     "name": "stderr",
     "output_type": "stream",
     "text": [
      "/var/folders/61/68rz41055xg7sv4h43532jh00000gn/T/ipykernel_25630/3887715647.py:6: FutureWarning: The frame.append method is deprecated and will be removed from pandas in a future version. Use pandas.concat instead.\n",
      "  df=df.append(table[0])\n"
     ]
    },
    {
     "name": "stdout",
     "output_type": "stream",
     "text": [
      "now snoozing for 10 secs\n",
      "now scraping page 139\n"
     ]
    },
    {
     "name": "stderr",
     "output_type": "stream",
     "text": [
      "/var/folders/61/68rz41055xg7sv4h43532jh00000gn/T/ipykernel_25630/3887715647.py:6: FutureWarning: The frame.append method is deprecated and will be removed from pandas in a future version. Use pandas.concat instead.\n",
      "  df=df.append(table[0])\n"
     ]
    },
    {
     "name": "stdout",
     "output_type": "stream",
     "text": [
      "now snoozing for 13 secs\n",
      "now scraping page 140\n"
     ]
    },
    {
     "name": "stderr",
     "output_type": "stream",
     "text": [
      "/var/folders/61/68rz41055xg7sv4h43532jh00000gn/T/ipykernel_25630/3887715647.py:6: FutureWarning: The frame.append method is deprecated and will be removed from pandas in a future version. Use pandas.concat instead.\n",
      "  df=df.append(table[0])\n"
     ]
    },
    {
     "name": "stdout",
     "output_type": "stream",
     "text": [
      "now snoozing for 11 secs\n",
      "now scraping page 141\n"
     ]
    },
    {
     "name": "stderr",
     "output_type": "stream",
     "text": [
      "/var/folders/61/68rz41055xg7sv4h43532jh00000gn/T/ipykernel_25630/3887715647.py:6: FutureWarning: The frame.append method is deprecated and will be removed from pandas in a future version. Use pandas.concat instead.\n",
      "  df=df.append(table[0])\n"
     ]
    },
    {
     "name": "stdout",
     "output_type": "stream",
     "text": [
      "now snoozing for 11 secs\n",
      "now scraping page 142\n"
     ]
    },
    {
     "name": "stderr",
     "output_type": "stream",
     "text": [
      "/var/folders/61/68rz41055xg7sv4h43532jh00000gn/T/ipykernel_25630/3887715647.py:6: FutureWarning: The frame.append method is deprecated and will be removed from pandas in a future version. Use pandas.concat instead.\n",
      "  df=df.append(table[0])\n"
     ]
    },
    {
     "name": "stdout",
     "output_type": "stream",
     "text": [
      "now snoozing for 11 secs\n",
      "now scraping page 143\n"
     ]
    },
    {
     "name": "stderr",
     "output_type": "stream",
     "text": [
      "/var/folders/61/68rz41055xg7sv4h43532jh00000gn/T/ipykernel_25630/3887715647.py:6: FutureWarning: The frame.append method is deprecated and will be removed from pandas in a future version. Use pandas.concat instead.\n",
      "  df=df.append(table[0])\n"
     ]
    },
    {
     "name": "stdout",
     "output_type": "stream",
     "text": [
      "now snoozing for 13 secs\n",
      "now scraping page 144\n"
     ]
    },
    {
     "name": "stderr",
     "output_type": "stream",
     "text": [
      "/var/folders/61/68rz41055xg7sv4h43532jh00000gn/T/ipykernel_25630/3887715647.py:6: FutureWarning: The frame.append method is deprecated and will be removed from pandas in a future version. Use pandas.concat instead.\n",
      "  df=df.append(table[0])\n"
     ]
    },
    {
     "name": "stdout",
     "output_type": "stream",
     "text": [
      "now snoozing for 13 secs\n",
      "now scraping page 145\n"
     ]
    },
    {
     "name": "stderr",
     "output_type": "stream",
     "text": [
      "/var/folders/61/68rz41055xg7sv4h43532jh00000gn/T/ipykernel_25630/3887715647.py:6: FutureWarning: The frame.append method is deprecated and will be removed from pandas in a future version. Use pandas.concat instead.\n",
      "  df=df.append(table[0])\n"
     ]
    },
    {
     "name": "stdout",
     "output_type": "stream",
     "text": [
      "now snoozing for 14 secs\n",
      "now scraping page 146\n"
     ]
    },
    {
     "name": "stderr",
     "output_type": "stream",
     "text": [
      "/var/folders/61/68rz41055xg7sv4h43532jh00000gn/T/ipykernel_25630/3887715647.py:6: FutureWarning: The frame.append method is deprecated and will be removed from pandas in a future version. Use pandas.concat instead.\n",
      "  df=df.append(table[0])\n"
     ]
    },
    {
     "name": "stdout",
     "output_type": "stream",
     "text": [
      "now snoozing for 18 secs\n",
      "now scraping page 147\n"
     ]
    },
    {
     "name": "stderr",
     "output_type": "stream",
     "text": [
      "/var/folders/61/68rz41055xg7sv4h43532jh00000gn/T/ipykernel_25630/3887715647.py:6: FutureWarning: The frame.append method is deprecated and will be removed from pandas in a future version. Use pandas.concat instead.\n",
      "  df=df.append(table[0])\n"
     ]
    },
    {
     "name": "stdout",
     "output_type": "stream",
     "text": [
      "now snoozing for 12 secs\n",
      "now scraping page 148\n"
     ]
    },
    {
     "name": "stderr",
     "output_type": "stream",
     "text": [
      "/var/folders/61/68rz41055xg7sv4h43532jh00000gn/T/ipykernel_25630/3887715647.py:6: FutureWarning: The frame.append method is deprecated and will be removed from pandas in a future version. Use pandas.concat instead.\n",
      "  df=df.append(table[0])\n"
     ]
    },
    {
     "name": "stdout",
     "output_type": "stream",
     "text": [
      "now snoozing for 10 secs\n",
      "now scraping page 149\n"
     ]
    },
    {
     "name": "stderr",
     "output_type": "stream",
     "text": [
      "/var/folders/61/68rz41055xg7sv4h43532jh00000gn/T/ipykernel_25630/3887715647.py:6: FutureWarning: The frame.append method is deprecated and will be removed from pandas in a future version. Use pandas.concat instead.\n",
      "  df=df.append(table[0])\n"
     ]
    },
    {
     "name": "stdout",
     "output_type": "stream",
     "text": [
      "now snoozing for 18 secs\n",
      "now scraping page 150\n"
     ]
    },
    {
     "name": "stderr",
     "output_type": "stream",
     "text": [
      "/var/folders/61/68rz41055xg7sv4h43532jh00000gn/T/ipykernel_25630/3887715647.py:6: FutureWarning: The frame.append method is deprecated and will be removed from pandas in a future version. Use pandas.concat instead.\n",
      "  df=df.append(table[0])\n"
     ]
    },
    {
     "name": "stdout",
     "output_type": "stream",
     "text": [
      "now snoozing for 13 secs\n",
      "now scraping page 151\n"
     ]
    },
    {
     "name": "stderr",
     "output_type": "stream",
     "text": [
      "/var/folders/61/68rz41055xg7sv4h43532jh00000gn/T/ipykernel_25630/3887715647.py:6: FutureWarning: The frame.append method is deprecated and will be removed from pandas in a future version. Use pandas.concat instead.\n",
      "  df=df.append(table[0])\n"
     ]
    },
    {
     "name": "stdout",
     "output_type": "stream",
     "text": [
      "now snoozing for 16 secs\n",
      "now scraping page 152\n"
     ]
    },
    {
     "name": "stderr",
     "output_type": "stream",
     "text": [
      "/var/folders/61/68rz41055xg7sv4h43532jh00000gn/T/ipykernel_25630/3887715647.py:6: FutureWarning: The frame.append method is deprecated and will be removed from pandas in a future version. Use pandas.concat instead.\n",
      "  df=df.append(table[0])\n"
     ]
    },
    {
     "name": "stdout",
     "output_type": "stream",
     "text": [
      "now snoozing for 11 secs\n",
      "now scraping page 153\n"
     ]
    },
    {
     "name": "stderr",
     "output_type": "stream",
     "text": [
      "/var/folders/61/68rz41055xg7sv4h43532jh00000gn/T/ipykernel_25630/3887715647.py:6: FutureWarning: The frame.append method is deprecated and will be removed from pandas in a future version. Use pandas.concat instead.\n",
      "  df=df.append(table[0])\n"
     ]
    },
    {
     "name": "stdout",
     "output_type": "stream",
     "text": [
      "now snoozing for 16 secs\n",
      "now scraping page 154\n"
     ]
    },
    {
     "name": "stderr",
     "output_type": "stream",
     "text": [
      "/var/folders/61/68rz41055xg7sv4h43532jh00000gn/T/ipykernel_25630/3887715647.py:6: FutureWarning: The frame.append method is deprecated and will be removed from pandas in a future version. Use pandas.concat instead.\n",
      "  df=df.append(table[0])\n"
     ]
    },
    {
     "name": "stdout",
     "output_type": "stream",
     "text": [
      "now snoozing for 19 secs\n",
      "now scraping page 155\n"
     ]
    },
    {
     "name": "stderr",
     "output_type": "stream",
     "text": [
      "/var/folders/61/68rz41055xg7sv4h43532jh00000gn/T/ipykernel_25630/3887715647.py:6: FutureWarning: The frame.append method is deprecated and will be removed from pandas in a future version. Use pandas.concat instead.\n",
      "  df=df.append(table[0])\n"
     ]
    },
    {
     "name": "stdout",
     "output_type": "stream",
     "text": [
      "now snoozing for 11 secs\n",
      "now scraping page 156\n"
     ]
    },
    {
     "name": "stderr",
     "output_type": "stream",
     "text": [
      "/var/folders/61/68rz41055xg7sv4h43532jh00000gn/T/ipykernel_25630/3887715647.py:6: FutureWarning: The frame.append method is deprecated and will be removed from pandas in a future version. Use pandas.concat instead.\n",
      "  df=df.append(table[0])\n"
     ]
    },
    {
     "name": "stdout",
     "output_type": "stream",
     "text": [
      "now snoozing for 14 secs\n",
      "now scraping page 157\n"
     ]
    },
    {
     "name": "stderr",
     "output_type": "stream",
     "text": [
      "/var/folders/61/68rz41055xg7sv4h43532jh00000gn/T/ipykernel_25630/3887715647.py:6: FutureWarning: The frame.append method is deprecated and will be removed from pandas in a future version. Use pandas.concat instead.\n",
      "  df=df.append(table[0])\n"
     ]
    },
    {
     "name": "stdout",
     "output_type": "stream",
     "text": [
      "now snoozing for 19 secs\n",
      "now scraping page 158\n"
     ]
    },
    {
     "name": "stderr",
     "output_type": "stream",
     "text": [
      "/var/folders/61/68rz41055xg7sv4h43532jh00000gn/T/ipykernel_25630/3887715647.py:6: FutureWarning: The frame.append method is deprecated and will be removed from pandas in a future version. Use pandas.concat instead.\n",
      "  df=df.append(table[0])\n"
     ]
    },
    {
     "name": "stdout",
     "output_type": "stream",
     "text": [
      "now snoozing for 19 secs\n",
      "now scraping page 159\n"
     ]
    },
    {
     "name": "stderr",
     "output_type": "stream",
     "text": [
      "/var/folders/61/68rz41055xg7sv4h43532jh00000gn/T/ipykernel_25630/3887715647.py:6: FutureWarning: The frame.append method is deprecated and will be removed from pandas in a future version. Use pandas.concat instead.\n",
      "  df=df.append(table[0])\n"
     ]
    },
    {
     "name": "stdout",
     "output_type": "stream",
     "text": [
      "now snoozing for 19 secs\n",
      "now scraping page 160\n"
     ]
    },
    {
     "name": "stderr",
     "output_type": "stream",
     "text": [
      "/var/folders/61/68rz41055xg7sv4h43532jh00000gn/T/ipykernel_25630/3887715647.py:6: FutureWarning: The frame.append method is deprecated and will be removed from pandas in a future version. Use pandas.concat instead.\n",
      "  df=df.append(table[0])\n"
     ]
    },
    {
     "name": "stdout",
     "output_type": "stream",
     "text": [
      "now snoozing for 17 secs\n",
      "now scraping page 161\n"
     ]
    },
    {
     "name": "stderr",
     "output_type": "stream",
     "text": [
      "/var/folders/61/68rz41055xg7sv4h43532jh00000gn/T/ipykernel_25630/3887715647.py:6: FutureWarning: The frame.append method is deprecated and will be removed from pandas in a future version. Use pandas.concat instead.\n",
      "  df=df.append(table[0])\n"
     ]
    },
    {
     "name": "stdout",
     "output_type": "stream",
     "text": [
      "now snoozing for 11 secs\n",
      "now scraping page 162\n"
     ]
    },
    {
     "name": "stderr",
     "output_type": "stream",
     "text": [
      "/var/folders/61/68rz41055xg7sv4h43532jh00000gn/T/ipykernel_25630/3887715647.py:6: FutureWarning: The frame.append method is deprecated and will be removed from pandas in a future version. Use pandas.concat instead.\n",
      "  df=df.append(table[0])\n"
     ]
    },
    {
     "name": "stdout",
     "output_type": "stream",
     "text": [
      "now snoozing for 16 secs\n",
      "now scraping page 163\n"
     ]
    },
    {
     "name": "stderr",
     "output_type": "stream",
     "text": [
      "/var/folders/61/68rz41055xg7sv4h43532jh00000gn/T/ipykernel_25630/3887715647.py:6: FutureWarning: The frame.append method is deprecated and will be removed from pandas in a future version. Use pandas.concat instead.\n",
      "  df=df.append(table[0])\n"
     ]
    },
    {
     "name": "stdout",
     "output_type": "stream",
     "text": [
      "now snoozing for 19 secs\n",
      "now scraping page 164\n"
     ]
    },
    {
     "name": "stderr",
     "output_type": "stream",
     "text": [
      "/var/folders/61/68rz41055xg7sv4h43532jh00000gn/T/ipykernel_25630/3887715647.py:6: FutureWarning: The frame.append method is deprecated and will be removed from pandas in a future version. Use pandas.concat instead.\n",
      "  df=df.append(table[0])\n"
     ]
    },
    {
     "name": "stdout",
     "output_type": "stream",
     "text": [
      "now snoozing for 16 secs\n",
      "now scraping page 165\n"
     ]
    },
    {
     "name": "stderr",
     "output_type": "stream",
     "text": [
      "/var/folders/61/68rz41055xg7sv4h43532jh00000gn/T/ipykernel_25630/3887715647.py:6: FutureWarning: The frame.append method is deprecated and will be removed from pandas in a future version. Use pandas.concat instead.\n",
      "  df=df.append(table[0])\n"
     ]
    },
    {
     "name": "stdout",
     "output_type": "stream",
     "text": [
      "now snoozing for 11 secs\n",
      "now scraping page 166\n"
     ]
    },
    {
     "name": "stderr",
     "output_type": "stream",
     "text": [
      "/var/folders/61/68rz41055xg7sv4h43532jh00000gn/T/ipykernel_25630/3887715647.py:6: FutureWarning: The frame.append method is deprecated and will be removed from pandas in a future version. Use pandas.concat instead.\n",
      "  df=df.append(table[0])\n"
     ]
    },
    {
     "name": "stdout",
     "output_type": "stream",
     "text": [
      "now snoozing for 16 secs\n",
      "now scraping page 167\n"
     ]
    },
    {
     "name": "stderr",
     "output_type": "stream",
     "text": [
      "/var/folders/61/68rz41055xg7sv4h43532jh00000gn/T/ipykernel_25630/3887715647.py:6: FutureWarning: The frame.append method is deprecated and will be removed from pandas in a future version. Use pandas.concat instead.\n",
      "  df=df.append(table[0])\n"
     ]
    },
    {
     "name": "stdout",
     "output_type": "stream",
     "text": [
      "now snoozing for 16 secs\n",
      "now scraping page 168\n"
     ]
    },
    {
     "name": "stderr",
     "output_type": "stream",
     "text": [
      "/var/folders/61/68rz41055xg7sv4h43532jh00000gn/T/ipykernel_25630/3887715647.py:6: FutureWarning: The frame.append method is deprecated and will be removed from pandas in a future version. Use pandas.concat instead.\n",
      "  df=df.append(table[0])\n"
     ]
    },
    {
     "name": "stdout",
     "output_type": "stream",
     "text": [
      "now snoozing for 19 secs\n",
      "now scraping page 169\n"
     ]
    },
    {
     "name": "stderr",
     "output_type": "stream",
     "text": [
      "/var/folders/61/68rz41055xg7sv4h43532jh00000gn/T/ipykernel_25630/3887715647.py:6: FutureWarning: The frame.append method is deprecated and will be removed from pandas in a future version. Use pandas.concat instead.\n",
      "  df=df.append(table[0])\n"
     ]
    },
    {
     "name": "stdout",
     "output_type": "stream",
     "text": [
      "now snoozing for 11 secs\n",
      "now scraping page 170\n"
     ]
    },
    {
     "name": "stderr",
     "output_type": "stream",
     "text": [
      "/var/folders/61/68rz41055xg7sv4h43532jh00000gn/T/ipykernel_25630/3887715647.py:6: FutureWarning: The frame.append method is deprecated and will be removed from pandas in a future version. Use pandas.concat instead.\n",
      "  df=df.append(table[0])\n"
     ]
    },
    {
     "name": "stdout",
     "output_type": "stream",
     "text": [
      "now snoozing for 18 secs\n",
      "now scraping page 171\n"
     ]
    },
    {
     "name": "stderr",
     "output_type": "stream",
     "text": [
      "/var/folders/61/68rz41055xg7sv4h43532jh00000gn/T/ipykernel_25630/3887715647.py:6: FutureWarning: The frame.append method is deprecated and will be removed from pandas in a future version. Use pandas.concat instead.\n",
      "  df=df.append(table[0])\n"
     ]
    },
    {
     "name": "stdout",
     "output_type": "stream",
     "text": [
      "now snoozing for 15 secs\n",
      "now scraping page 172\n"
     ]
    },
    {
     "name": "stderr",
     "output_type": "stream",
     "text": [
      "/var/folders/61/68rz41055xg7sv4h43532jh00000gn/T/ipykernel_25630/3887715647.py:6: FutureWarning: The frame.append method is deprecated and will be removed from pandas in a future version. Use pandas.concat instead.\n",
      "  df=df.append(table[0])\n"
     ]
    },
    {
     "name": "stdout",
     "output_type": "stream",
     "text": [
      "now snoozing for 16 secs\n",
      "now scraping page 173\n"
     ]
    },
    {
     "name": "stderr",
     "output_type": "stream",
     "text": [
      "/var/folders/61/68rz41055xg7sv4h43532jh00000gn/T/ipykernel_25630/3887715647.py:6: FutureWarning: The frame.append method is deprecated and will be removed from pandas in a future version. Use pandas.concat instead.\n",
      "  df=df.append(table[0])\n"
     ]
    },
    {
     "name": "stdout",
     "output_type": "stream",
     "text": [
      "now snoozing for 10 secs\n",
      "now scraping page 174\n"
     ]
    },
    {
     "name": "stderr",
     "output_type": "stream",
     "text": [
      "/var/folders/61/68rz41055xg7sv4h43532jh00000gn/T/ipykernel_25630/3887715647.py:6: FutureWarning: The frame.append method is deprecated and will be removed from pandas in a future version. Use pandas.concat instead.\n",
      "  df=df.append(table[0])\n"
     ]
    },
    {
     "name": "stdout",
     "output_type": "stream",
     "text": [
      "now snoozing for 19 secs\n",
      "now scraping page 175\n"
     ]
    },
    {
     "name": "stderr",
     "output_type": "stream",
     "text": [
      "/var/folders/61/68rz41055xg7sv4h43532jh00000gn/T/ipykernel_25630/3887715647.py:6: FutureWarning: The frame.append method is deprecated and will be removed from pandas in a future version. Use pandas.concat instead.\n",
      "  df=df.append(table[0])\n"
     ]
    },
    {
     "name": "stdout",
     "output_type": "stream",
     "text": [
      "now snoozing for 19 secs\n",
      "now scraping page 176\n"
     ]
    },
    {
     "name": "stderr",
     "output_type": "stream",
     "text": [
      "/var/folders/61/68rz41055xg7sv4h43532jh00000gn/T/ipykernel_25630/3887715647.py:6: FutureWarning: The frame.append method is deprecated and will be removed from pandas in a future version. Use pandas.concat instead.\n",
      "  df=df.append(table[0])\n"
     ]
    },
    {
     "name": "stdout",
     "output_type": "stream",
     "text": [
      "now snoozing for 17 secs\n",
      "now scraping page 177\n"
     ]
    },
    {
     "name": "stderr",
     "output_type": "stream",
     "text": [
      "/var/folders/61/68rz41055xg7sv4h43532jh00000gn/T/ipykernel_25630/3887715647.py:6: FutureWarning: The frame.append method is deprecated and will be removed from pandas in a future version. Use pandas.concat instead.\n",
      "  df=df.append(table[0])\n"
     ]
    },
    {
     "name": "stdout",
     "output_type": "stream",
     "text": [
      "now snoozing for 17 secs\n",
      "now scraping page 178\n"
     ]
    },
    {
     "name": "stderr",
     "output_type": "stream",
     "text": [
      "/var/folders/61/68rz41055xg7sv4h43532jh00000gn/T/ipykernel_25630/3887715647.py:6: FutureWarning: The frame.append method is deprecated and will be removed from pandas in a future version. Use pandas.concat instead.\n",
      "  df=df.append(table[0])\n"
     ]
    },
    {
     "name": "stdout",
     "output_type": "stream",
     "text": [
      "now snoozing for 13 secs\n",
      "now scraping page 179\n"
     ]
    },
    {
     "name": "stderr",
     "output_type": "stream",
     "text": [
      "/var/folders/61/68rz41055xg7sv4h43532jh00000gn/T/ipykernel_25630/3887715647.py:6: FutureWarning: The frame.append method is deprecated and will be removed from pandas in a future version. Use pandas.concat instead.\n",
      "  df=df.append(table[0])\n"
     ]
    },
    {
     "name": "stdout",
     "output_type": "stream",
     "text": [
      "now snoozing for 18 secs\n",
      "now scraping page 180\n"
     ]
    },
    {
     "name": "stderr",
     "output_type": "stream",
     "text": [
      "/var/folders/61/68rz41055xg7sv4h43532jh00000gn/T/ipykernel_25630/3887715647.py:6: FutureWarning: The frame.append method is deprecated and will be removed from pandas in a future version. Use pandas.concat instead.\n",
      "  df=df.append(table[0])\n"
     ]
    },
    {
     "name": "stdout",
     "output_type": "stream",
     "text": [
      "now snoozing for 15 secs\n",
      "now scraping page 181\n"
     ]
    },
    {
     "name": "stderr",
     "output_type": "stream",
     "text": [
      "/var/folders/61/68rz41055xg7sv4h43532jh00000gn/T/ipykernel_25630/3887715647.py:6: FutureWarning: The frame.append method is deprecated and will be removed from pandas in a future version. Use pandas.concat instead.\n",
      "  df=df.append(table[0])\n"
     ]
    },
    {
     "name": "stdout",
     "output_type": "stream",
     "text": [
      "now snoozing for 15 secs\n",
      "now scraping page 182\n"
     ]
    },
    {
     "name": "stderr",
     "output_type": "stream",
     "text": [
      "/var/folders/61/68rz41055xg7sv4h43532jh00000gn/T/ipykernel_25630/3887715647.py:6: FutureWarning: The frame.append method is deprecated and will be removed from pandas in a future version. Use pandas.concat instead.\n",
      "  df=df.append(table[0])\n"
     ]
    },
    {
     "name": "stdout",
     "output_type": "stream",
     "text": [
      "now snoozing for 14 secs\n",
      "now scraping page 183\n"
     ]
    },
    {
     "name": "stderr",
     "output_type": "stream",
     "text": [
      "/var/folders/61/68rz41055xg7sv4h43532jh00000gn/T/ipykernel_25630/3887715647.py:6: FutureWarning: The frame.append method is deprecated and will be removed from pandas in a future version. Use pandas.concat instead.\n",
      "  df=df.append(table[0])\n"
     ]
    },
    {
     "name": "stdout",
     "output_type": "stream",
     "text": [
      "now snoozing for 10 secs\n",
      "now scraping page 184\n"
     ]
    },
    {
     "name": "stderr",
     "output_type": "stream",
     "text": [
      "/var/folders/61/68rz41055xg7sv4h43532jh00000gn/T/ipykernel_25630/3887715647.py:6: FutureWarning: The frame.append method is deprecated and will be removed from pandas in a future version. Use pandas.concat instead.\n",
      "  df=df.append(table[0])\n"
     ]
    },
    {
     "name": "stdout",
     "output_type": "stream",
     "text": [
      "now snoozing for 15 secs\n",
      "now scraping page 185\n"
     ]
    },
    {
     "name": "stderr",
     "output_type": "stream",
     "text": [
      "/var/folders/61/68rz41055xg7sv4h43532jh00000gn/T/ipykernel_25630/3887715647.py:6: FutureWarning: The frame.append method is deprecated and will be removed from pandas in a future version. Use pandas.concat instead.\n",
      "  df=df.append(table[0])\n"
     ]
    },
    {
     "name": "stdout",
     "output_type": "stream",
     "text": [
      "now snoozing for 15 secs\n",
      "now scraping page 186\n"
     ]
    },
    {
     "name": "stderr",
     "output_type": "stream",
     "text": [
      "/var/folders/61/68rz41055xg7sv4h43532jh00000gn/T/ipykernel_25630/3887715647.py:6: FutureWarning: The frame.append method is deprecated and will be removed from pandas in a future version. Use pandas.concat instead.\n",
      "  df=df.append(table[0])\n"
     ]
    },
    {
     "name": "stdout",
     "output_type": "stream",
     "text": [
      "now snoozing for 16 secs\n",
      "now scraping page 187\n"
     ]
    },
    {
     "name": "stderr",
     "output_type": "stream",
     "text": [
      "/var/folders/61/68rz41055xg7sv4h43532jh00000gn/T/ipykernel_25630/3887715647.py:6: FutureWarning: The frame.append method is deprecated and will be removed from pandas in a future version. Use pandas.concat instead.\n",
      "  df=df.append(table[0])\n"
     ]
    },
    {
     "name": "stdout",
     "output_type": "stream",
     "text": [
      "now snoozing for 15 secs\n",
      "now scraping page 188\n"
     ]
    },
    {
     "name": "stderr",
     "output_type": "stream",
     "text": [
      "/var/folders/61/68rz41055xg7sv4h43532jh00000gn/T/ipykernel_25630/3887715647.py:6: FutureWarning: The frame.append method is deprecated and will be removed from pandas in a future version. Use pandas.concat instead.\n",
      "  df=df.append(table[0])\n"
     ]
    },
    {
     "name": "stdout",
     "output_type": "stream",
     "text": [
      "now snoozing for 13 secs\n",
      "now scraping page 189\n"
     ]
    },
    {
     "name": "stderr",
     "output_type": "stream",
     "text": [
      "/var/folders/61/68rz41055xg7sv4h43532jh00000gn/T/ipykernel_25630/3887715647.py:6: FutureWarning: The frame.append method is deprecated and will be removed from pandas in a future version. Use pandas.concat instead.\n",
      "  df=df.append(table[0])\n"
     ]
    },
    {
     "name": "stdout",
     "output_type": "stream",
     "text": [
      "now snoozing for 19 secs\n",
      "now scraping page 190\n"
     ]
    },
    {
     "name": "stderr",
     "output_type": "stream",
     "text": [
      "/var/folders/61/68rz41055xg7sv4h43532jh00000gn/T/ipykernel_25630/3887715647.py:6: FutureWarning: The frame.append method is deprecated and will be removed from pandas in a future version. Use pandas.concat instead.\n",
      "  df=df.append(table[0])\n"
     ]
    },
    {
     "name": "stdout",
     "output_type": "stream",
     "text": [
      "now snoozing for 14 secs\n",
      "now scraping page 191\n"
     ]
    },
    {
     "name": "stderr",
     "output_type": "stream",
     "text": [
      "/var/folders/61/68rz41055xg7sv4h43532jh00000gn/T/ipykernel_25630/3887715647.py:6: FutureWarning: The frame.append method is deprecated and will be removed from pandas in a future version. Use pandas.concat instead.\n",
      "  df=df.append(table[0])\n"
     ]
    },
    {
     "name": "stdout",
     "output_type": "stream",
     "text": [
      "now snoozing for 11 secs\n",
      "now scraping page 192\n"
     ]
    },
    {
     "name": "stderr",
     "output_type": "stream",
     "text": [
      "/var/folders/61/68rz41055xg7sv4h43532jh00000gn/T/ipykernel_25630/3887715647.py:6: FutureWarning: The frame.append method is deprecated and will be removed from pandas in a future version. Use pandas.concat instead.\n",
      "  df=df.append(table[0])\n"
     ]
    },
    {
     "name": "stdout",
     "output_type": "stream",
     "text": [
      "now snoozing for 17 secs\n",
      "now scraping page 193\n"
     ]
    },
    {
     "name": "stderr",
     "output_type": "stream",
     "text": [
      "/var/folders/61/68rz41055xg7sv4h43532jh00000gn/T/ipykernel_25630/3887715647.py:6: FutureWarning: The frame.append method is deprecated and will be removed from pandas in a future version. Use pandas.concat instead.\n",
      "  df=df.append(table[0])\n"
     ]
    },
    {
     "name": "stdout",
     "output_type": "stream",
     "text": [
      "now snoozing for 14 secs\n",
      "now scraping page 194\n"
     ]
    },
    {
     "name": "stderr",
     "output_type": "stream",
     "text": [
      "/var/folders/61/68rz41055xg7sv4h43532jh00000gn/T/ipykernel_25630/3887715647.py:6: FutureWarning: The frame.append method is deprecated and will be removed from pandas in a future version. Use pandas.concat instead.\n",
      "  df=df.append(table[0])\n"
     ]
    },
    {
     "name": "stdout",
     "output_type": "stream",
     "text": [
      "now snoozing for 14 secs\n",
      "now scraping page 195\n"
     ]
    },
    {
     "name": "stderr",
     "output_type": "stream",
     "text": [
      "/var/folders/61/68rz41055xg7sv4h43532jh00000gn/T/ipykernel_25630/3887715647.py:6: FutureWarning: The frame.append method is deprecated and will be removed from pandas in a future version. Use pandas.concat instead.\n",
      "  df=df.append(table[0])\n"
     ]
    },
    {
     "name": "stdout",
     "output_type": "stream",
     "text": [
      "now snoozing for 15 secs\n",
      "now scraping page 196\n"
     ]
    },
    {
     "name": "stderr",
     "output_type": "stream",
     "text": [
      "/var/folders/61/68rz41055xg7sv4h43532jh00000gn/T/ipykernel_25630/3887715647.py:6: FutureWarning: The frame.append method is deprecated and will be removed from pandas in a future version. Use pandas.concat instead.\n",
      "  df=df.append(table[0])\n"
     ]
    },
    {
     "name": "stdout",
     "output_type": "stream",
     "text": [
      "now snoozing for 11 secs\n",
      "now scraping page 197\n"
     ]
    },
    {
     "name": "stderr",
     "output_type": "stream",
     "text": [
      "/var/folders/61/68rz41055xg7sv4h43532jh00000gn/T/ipykernel_25630/3887715647.py:6: FutureWarning: The frame.append method is deprecated and will be removed from pandas in a future version. Use pandas.concat instead.\n",
      "  df=df.append(table[0])\n"
     ]
    },
    {
     "name": "stdout",
     "output_type": "stream",
     "text": [
      "now snoozing for 16 secs\n",
      "now scraping page 198\n"
     ]
    },
    {
     "name": "stderr",
     "output_type": "stream",
     "text": [
      "/var/folders/61/68rz41055xg7sv4h43532jh00000gn/T/ipykernel_25630/3887715647.py:6: FutureWarning: The frame.append method is deprecated and will be removed from pandas in a future version. Use pandas.concat instead.\n",
      "  df=df.append(table[0])\n"
     ]
    },
    {
     "name": "stdout",
     "output_type": "stream",
     "text": [
      "now snoozing for 19 secs\n",
      "now scraping page 199\n"
     ]
    },
    {
     "name": "stderr",
     "output_type": "stream",
     "text": [
      "/var/folders/61/68rz41055xg7sv4h43532jh00000gn/T/ipykernel_25630/3887715647.py:6: FutureWarning: The frame.append method is deprecated and will be removed from pandas in a future version. Use pandas.concat instead.\n",
      "  df=df.append(table[0])\n"
     ]
    },
    {
     "name": "stdout",
     "output_type": "stream",
     "text": [
      "now snoozing for 14 secs\n",
      "now scraping page 200\n"
     ]
    },
    {
     "name": "stderr",
     "output_type": "stream",
     "text": [
      "/var/folders/61/68rz41055xg7sv4h43532jh00000gn/T/ipykernel_25630/3887715647.py:6: FutureWarning: The frame.append method is deprecated and will be removed from pandas in a future version. Use pandas.concat instead.\n",
      "  df=df.append(table[0])\n"
     ]
    },
    {
     "name": "stdout",
     "output_type": "stream",
     "text": [
      "now snoozing for 17 secs\n",
      "now scraping page 201\n"
     ]
    },
    {
     "name": "stderr",
     "output_type": "stream",
     "text": [
      "/var/folders/61/68rz41055xg7sv4h43532jh00000gn/T/ipykernel_25630/3887715647.py:6: FutureWarning: The frame.append method is deprecated and will be removed from pandas in a future version. Use pandas.concat instead.\n",
      "  df=df.append(table[0])\n"
     ]
    },
    {
     "name": "stdout",
     "output_type": "stream",
     "text": [
      "now snoozing for 17 secs\n",
      "now scraping page 202\n"
     ]
    },
    {
     "name": "stderr",
     "output_type": "stream",
     "text": [
      "/var/folders/61/68rz41055xg7sv4h43532jh00000gn/T/ipykernel_25630/3887715647.py:6: FutureWarning: The frame.append method is deprecated and will be removed from pandas in a future version. Use pandas.concat instead.\n",
      "  df=df.append(table[0])\n"
     ]
    },
    {
     "name": "stdout",
     "output_type": "stream",
     "text": [
      "now snoozing for 15 secs\n",
      "now scraping page 203\n"
     ]
    },
    {
     "name": "stderr",
     "output_type": "stream",
     "text": [
      "/var/folders/61/68rz41055xg7sv4h43532jh00000gn/T/ipykernel_25630/3887715647.py:6: FutureWarning: The frame.append method is deprecated and will be removed from pandas in a future version. Use pandas.concat instead.\n",
      "  df=df.append(table[0])\n"
     ]
    },
    {
     "name": "stdout",
     "output_type": "stream",
     "text": [
      "now snoozing for 12 secs\n",
      "now scraping page 204\n"
     ]
    },
    {
     "name": "stderr",
     "output_type": "stream",
     "text": [
      "/var/folders/61/68rz41055xg7sv4h43532jh00000gn/T/ipykernel_25630/3887715647.py:6: FutureWarning: The frame.append method is deprecated and will be removed from pandas in a future version. Use pandas.concat instead.\n",
      "  df=df.append(table[0])\n"
     ]
    },
    {
     "name": "stdout",
     "output_type": "stream",
     "text": [
      "now snoozing for 15 secs\n",
      "now scraping page 205\n"
     ]
    },
    {
     "name": "stderr",
     "output_type": "stream",
     "text": [
      "/var/folders/61/68rz41055xg7sv4h43532jh00000gn/T/ipykernel_25630/3887715647.py:6: FutureWarning: The frame.append method is deprecated and will be removed from pandas in a future version. Use pandas.concat instead.\n",
      "  df=df.append(table[0])\n"
     ]
    },
    {
     "name": "stdout",
     "output_type": "stream",
     "text": [
      "now snoozing for 18 secs\n",
      "now scraping page 206\n"
     ]
    },
    {
     "name": "stderr",
     "output_type": "stream",
     "text": [
      "/var/folders/61/68rz41055xg7sv4h43532jh00000gn/T/ipykernel_25630/3887715647.py:6: FutureWarning: The frame.append method is deprecated and will be removed from pandas in a future version. Use pandas.concat instead.\n",
      "  df=df.append(table[0])\n"
     ]
    },
    {
     "name": "stdout",
     "output_type": "stream",
     "text": [
      "now snoozing for 14 secs\n",
      "now scraping page 207\n"
     ]
    },
    {
     "name": "stderr",
     "output_type": "stream",
     "text": [
      "/var/folders/61/68rz41055xg7sv4h43532jh00000gn/T/ipykernel_25630/3887715647.py:6: FutureWarning: The frame.append method is deprecated and will be removed from pandas in a future version. Use pandas.concat instead.\n",
      "  df=df.append(table[0])\n"
     ]
    },
    {
     "name": "stdout",
     "output_type": "stream",
     "text": [
      "now snoozing for 18 secs\n",
      "now scraping page 208\n"
     ]
    },
    {
     "name": "stderr",
     "output_type": "stream",
     "text": [
      "/var/folders/61/68rz41055xg7sv4h43532jh00000gn/T/ipykernel_25630/3887715647.py:6: FutureWarning: The frame.append method is deprecated and will be removed from pandas in a future version. Use pandas.concat instead.\n",
      "  df=df.append(table[0])\n"
     ]
    },
    {
     "name": "stdout",
     "output_type": "stream",
     "text": [
      "now snoozing for 15 secs\n",
      "now scraping page 209\n"
     ]
    },
    {
     "name": "stderr",
     "output_type": "stream",
     "text": [
      "/var/folders/61/68rz41055xg7sv4h43532jh00000gn/T/ipykernel_25630/3887715647.py:6: FutureWarning: The frame.append method is deprecated and will be removed from pandas in a future version. Use pandas.concat instead.\n",
      "  df=df.append(table[0])\n"
     ]
    },
    {
     "name": "stdout",
     "output_type": "stream",
     "text": [
      "now snoozing for 10 secs\n",
      "now scraping page 210\n"
     ]
    },
    {
     "name": "stderr",
     "output_type": "stream",
     "text": [
      "/var/folders/61/68rz41055xg7sv4h43532jh00000gn/T/ipykernel_25630/3887715647.py:6: FutureWarning: The frame.append method is deprecated and will be removed from pandas in a future version. Use pandas.concat instead.\n",
      "  df=df.append(table[0])\n"
     ]
    },
    {
     "name": "stdout",
     "output_type": "stream",
     "text": [
      "now snoozing for 16 secs\n",
      "now scraping page 211\n"
     ]
    },
    {
     "name": "stderr",
     "output_type": "stream",
     "text": [
      "/var/folders/61/68rz41055xg7sv4h43532jh00000gn/T/ipykernel_25630/3887715647.py:6: FutureWarning: The frame.append method is deprecated and will be removed from pandas in a future version. Use pandas.concat instead.\n",
      "  df=df.append(table[0])\n"
     ]
    },
    {
     "name": "stdout",
     "output_type": "stream",
     "text": [
      "now snoozing for 16 secs\n",
      "now scraping page 212\n"
     ]
    },
    {
     "name": "stderr",
     "output_type": "stream",
     "text": [
      "/var/folders/61/68rz41055xg7sv4h43532jh00000gn/T/ipykernel_25630/3887715647.py:6: FutureWarning: The frame.append method is deprecated and will be removed from pandas in a future version. Use pandas.concat instead.\n",
      "  df=df.append(table[0])\n"
     ]
    },
    {
     "name": "stdout",
     "output_type": "stream",
     "text": [
      "now snoozing for 18 secs\n",
      "now scraping page 213\n"
     ]
    },
    {
     "name": "stderr",
     "output_type": "stream",
     "text": [
      "/var/folders/61/68rz41055xg7sv4h43532jh00000gn/T/ipykernel_25630/3887715647.py:6: FutureWarning: The frame.append method is deprecated and will be removed from pandas in a future version. Use pandas.concat instead.\n",
      "  df=df.append(table[0])\n"
     ]
    },
    {
     "name": "stdout",
     "output_type": "stream",
     "text": [
      "now snoozing for 18 secs\n",
      "now scraping page 214\n"
     ]
    },
    {
     "name": "stderr",
     "output_type": "stream",
     "text": [
      "/var/folders/61/68rz41055xg7sv4h43532jh00000gn/T/ipykernel_25630/3887715647.py:6: FutureWarning: The frame.append method is deprecated and will be removed from pandas in a future version. Use pandas.concat instead.\n",
      "  df=df.append(table[0])\n"
     ]
    },
    {
     "name": "stdout",
     "output_type": "stream",
     "text": [
      "now snoozing for 14 secs\n",
      "now scraping page 215\n"
     ]
    },
    {
     "name": "stderr",
     "output_type": "stream",
     "text": [
      "/var/folders/61/68rz41055xg7sv4h43532jh00000gn/T/ipykernel_25630/3887715647.py:6: FutureWarning: The frame.append method is deprecated and will be removed from pandas in a future version. Use pandas.concat instead.\n",
      "  df=df.append(table[0])\n"
     ]
    },
    {
     "name": "stdout",
     "output_type": "stream",
     "text": [
      "now snoozing for 17 secs\n",
      "now scraping page 216\n"
     ]
    },
    {
     "name": "stderr",
     "output_type": "stream",
     "text": [
      "/var/folders/61/68rz41055xg7sv4h43532jh00000gn/T/ipykernel_25630/3887715647.py:6: FutureWarning: The frame.append method is deprecated and will be removed from pandas in a future version. Use pandas.concat instead.\n",
      "  df=df.append(table[0])\n"
     ]
    },
    {
     "name": "stdout",
     "output_type": "stream",
     "text": [
      "now snoozing for 11 secs\n",
      "now scraping page 217\n"
     ]
    },
    {
     "name": "stderr",
     "output_type": "stream",
     "text": [
      "/var/folders/61/68rz41055xg7sv4h43532jh00000gn/T/ipykernel_25630/3887715647.py:6: FutureWarning: The frame.append method is deprecated and will be removed from pandas in a future version. Use pandas.concat instead.\n",
      "  df=df.append(table[0])\n"
     ]
    },
    {
     "name": "stdout",
     "output_type": "stream",
     "text": [
      "now snoozing for 18 secs\n",
      "now scraping page 218\n"
     ]
    },
    {
     "name": "stderr",
     "output_type": "stream",
     "text": [
      "/var/folders/61/68rz41055xg7sv4h43532jh00000gn/T/ipykernel_25630/3887715647.py:6: FutureWarning: The frame.append method is deprecated and will be removed from pandas in a future version. Use pandas.concat instead.\n",
      "  df=df.append(table[0])\n"
     ]
    },
    {
     "name": "stdout",
     "output_type": "stream",
     "text": [
      "now snoozing for 19 secs\n",
      "now scraping page 219\n"
     ]
    },
    {
     "name": "stderr",
     "output_type": "stream",
     "text": [
      "/var/folders/61/68rz41055xg7sv4h43532jh00000gn/T/ipykernel_25630/3887715647.py:6: FutureWarning: The frame.append method is deprecated and will be removed from pandas in a future version. Use pandas.concat instead.\n",
      "  df=df.append(table[0])\n"
     ]
    },
    {
     "name": "stdout",
     "output_type": "stream",
     "text": [
      "now snoozing for 14 secs\n",
      "now scraping page 220\n"
     ]
    },
    {
     "name": "stderr",
     "output_type": "stream",
     "text": [
      "/var/folders/61/68rz41055xg7sv4h43532jh00000gn/T/ipykernel_25630/3887715647.py:6: FutureWarning: The frame.append method is deprecated and will be removed from pandas in a future version. Use pandas.concat instead.\n",
      "  df=df.append(table[0])\n"
     ]
    },
    {
     "name": "stdout",
     "output_type": "stream",
     "text": [
      "now snoozing for 19 secs\n",
      "now scraping page 221\n"
     ]
    },
    {
     "name": "stderr",
     "output_type": "stream",
     "text": [
      "/var/folders/61/68rz41055xg7sv4h43532jh00000gn/T/ipykernel_25630/3887715647.py:6: FutureWarning: The frame.append method is deprecated and will be removed from pandas in a future version. Use pandas.concat instead.\n",
      "  df=df.append(table[0])\n"
     ]
    },
    {
     "name": "stdout",
     "output_type": "stream",
     "text": [
      "now snoozing for 15 secs\n",
      "now scraping page 222\n"
     ]
    },
    {
     "name": "stderr",
     "output_type": "stream",
     "text": [
      "/var/folders/61/68rz41055xg7sv4h43532jh00000gn/T/ipykernel_25630/3887715647.py:6: FutureWarning: The frame.append method is deprecated and will be removed from pandas in a future version. Use pandas.concat instead.\n",
      "  df=df.append(table[0])\n"
     ]
    },
    {
     "name": "stdout",
     "output_type": "stream",
     "text": [
      "now snoozing for 10 secs\n",
      "now scraping page 223\n"
     ]
    },
    {
     "name": "stderr",
     "output_type": "stream",
     "text": [
      "/var/folders/61/68rz41055xg7sv4h43532jh00000gn/T/ipykernel_25630/3887715647.py:6: FutureWarning: The frame.append method is deprecated and will be removed from pandas in a future version. Use pandas.concat instead.\n",
      "  df=df.append(table[0])\n"
     ]
    },
    {
     "name": "stdout",
     "output_type": "stream",
     "text": [
      "now snoozing for 12 secs\n",
      "now scraping page 224\n"
     ]
    },
    {
     "name": "stderr",
     "output_type": "stream",
     "text": [
      "/var/folders/61/68rz41055xg7sv4h43532jh00000gn/T/ipykernel_25630/3887715647.py:6: FutureWarning: The frame.append method is deprecated and will be removed from pandas in a future version. Use pandas.concat instead.\n",
      "  df=df.append(table[0])\n"
     ]
    },
    {
     "name": "stdout",
     "output_type": "stream",
     "text": [
      "now snoozing for 17 secs\n",
      "now scraping page 225\n"
     ]
    },
    {
     "name": "stderr",
     "output_type": "stream",
     "text": [
      "/var/folders/61/68rz41055xg7sv4h43532jh00000gn/T/ipykernel_25630/3887715647.py:6: FutureWarning: The frame.append method is deprecated and will be removed from pandas in a future version. Use pandas.concat instead.\n",
      "  df=df.append(table[0])\n"
     ]
    },
    {
     "name": "stdout",
     "output_type": "stream",
     "text": [
      "now snoozing for 14 secs\n",
      "now scraping page 226\n"
     ]
    },
    {
     "name": "stderr",
     "output_type": "stream",
     "text": [
      "/var/folders/61/68rz41055xg7sv4h43532jh00000gn/T/ipykernel_25630/3887715647.py:6: FutureWarning: The frame.append method is deprecated and will be removed from pandas in a future version. Use pandas.concat instead.\n",
      "  df=df.append(table[0])\n"
     ]
    },
    {
     "name": "stdout",
     "output_type": "stream",
     "text": [
      "now snoozing for 16 secs\n",
      "now scraping page 227\n"
     ]
    },
    {
     "name": "stderr",
     "output_type": "stream",
     "text": [
      "/var/folders/61/68rz41055xg7sv4h43532jh00000gn/T/ipykernel_25630/3887715647.py:6: FutureWarning: The frame.append method is deprecated and will be removed from pandas in a future version. Use pandas.concat instead.\n",
      "  df=df.append(table[0])\n"
     ]
    },
    {
     "name": "stdout",
     "output_type": "stream",
     "text": [
      "now snoozing for 11 secs\n",
      "now scraping page 228\n"
     ]
    },
    {
     "name": "stderr",
     "output_type": "stream",
     "text": [
      "/var/folders/61/68rz41055xg7sv4h43532jh00000gn/T/ipykernel_25630/3887715647.py:6: FutureWarning: The frame.append method is deprecated and will be removed from pandas in a future version. Use pandas.concat instead.\n",
      "  df=df.append(table[0])\n"
     ]
    },
    {
     "name": "stdout",
     "output_type": "stream",
     "text": [
      "now snoozing for 11 secs\n",
      "now scraping page 229\n"
     ]
    },
    {
     "name": "stderr",
     "output_type": "stream",
     "text": [
      "/var/folders/61/68rz41055xg7sv4h43532jh00000gn/T/ipykernel_25630/3887715647.py:6: FutureWarning: The frame.append method is deprecated and will be removed from pandas in a future version. Use pandas.concat instead.\n",
      "  df=df.append(table[0])\n"
     ]
    },
    {
     "name": "stdout",
     "output_type": "stream",
     "text": [
      "now snoozing for 14 secs\n",
      "now scraping page 230\n"
     ]
    },
    {
     "name": "stderr",
     "output_type": "stream",
     "text": [
      "/var/folders/61/68rz41055xg7sv4h43532jh00000gn/T/ipykernel_25630/3887715647.py:6: FutureWarning: The frame.append method is deprecated and will be removed from pandas in a future version. Use pandas.concat instead.\n",
      "  df=df.append(table[0])\n"
     ]
    },
    {
     "name": "stdout",
     "output_type": "stream",
     "text": [
      "now snoozing for 11 secs\n",
      "now scraping page 231\n"
     ]
    },
    {
     "name": "stderr",
     "output_type": "stream",
     "text": [
      "/var/folders/61/68rz41055xg7sv4h43532jh00000gn/T/ipykernel_25630/3887715647.py:6: FutureWarning: The frame.append method is deprecated and will be removed from pandas in a future version. Use pandas.concat instead.\n",
      "  df=df.append(table[0])\n"
     ]
    },
    {
     "name": "stdout",
     "output_type": "stream",
     "text": [
      "now snoozing for 13 secs\n",
      "now scraping page 232\n"
     ]
    },
    {
     "name": "stderr",
     "output_type": "stream",
     "text": [
      "/var/folders/61/68rz41055xg7sv4h43532jh00000gn/T/ipykernel_25630/3887715647.py:6: FutureWarning: The frame.append method is deprecated and will be removed from pandas in a future version. Use pandas.concat instead.\n",
      "  df=df.append(table[0])\n"
     ]
    },
    {
     "name": "stdout",
     "output_type": "stream",
     "text": [
      "now snoozing for 18 secs\n",
      "now scraping page 233\n"
     ]
    },
    {
     "name": "stderr",
     "output_type": "stream",
     "text": [
      "/var/folders/61/68rz41055xg7sv4h43532jh00000gn/T/ipykernel_25630/3887715647.py:6: FutureWarning: The frame.append method is deprecated and will be removed from pandas in a future version. Use pandas.concat instead.\n",
      "  df=df.append(table[0])\n"
     ]
    },
    {
     "name": "stdout",
     "output_type": "stream",
     "text": [
      "now snoozing for 13 secs\n",
      "now scraping page 234\n"
     ]
    },
    {
     "name": "stderr",
     "output_type": "stream",
     "text": [
      "/var/folders/61/68rz41055xg7sv4h43532jh00000gn/T/ipykernel_25630/3887715647.py:6: FutureWarning: The frame.append method is deprecated and will be removed from pandas in a future version. Use pandas.concat instead.\n",
      "  df=df.append(table[0])\n"
     ]
    },
    {
     "name": "stdout",
     "output_type": "stream",
     "text": [
      "now snoozing for 12 secs\n",
      "now scraping page 235\n"
     ]
    },
    {
     "name": "stderr",
     "output_type": "stream",
     "text": [
      "/var/folders/61/68rz41055xg7sv4h43532jh00000gn/T/ipykernel_25630/3887715647.py:6: FutureWarning: The frame.append method is deprecated and will be removed from pandas in a future version. Use pandas.concat instead.\n",
      "  df=df.append(table[0])\n"
     ]
    },
    {
     "name": "stdout",
     "output_type": "stream",
     "text": [
      "now snoozing for 14 secs\n",
      "now scraping page 236\n"
     ]
    },
    {
     "name": "stderr",
     "output_type": "stream",
     "text": [
      "/var/folders/61/68rz41055xg7sv4h43532jh00000gn/T/ipykernel_25630/3887715647.py:6: FutureWarning: The frame.append method is deprecated and will be removed from pandas in a future version. Use pandas.concat instead.\n",
      "  df=df.append(table[0])\n"
     ]
    },
    {
     "name": "stdout",
     "output_type": "stream",
     "text": [
      "now snoozing for 11 secs\n",
      "now scraping page 237\n"
     ]
    },
    {
     "name": "stderr",
     "output_type": "stream",
     "text": [
      "/var/folders/61/68rz41055xg7sv4h43532jh00000gn/T/ipykernel_25630/3887715647.py:6: FutureWarning: The frame.append method is deprecated and will be removed from pandas in a future version. Use pandas.concat instead.\n",
      "  df=df.append(table[0])\n"
     ]
    },
    {
     "name": "stdout",
     "output_type": "stream",
     "text": [
      "now snoozing for 16 secs\n",
      "now scraping page 238\n"
     ]
    },
    {
     "name": "stderr",
     "output_type": "stream",
     "text": [
      "/var/folders/61/68rz41055xg7sv4h43532jh00000gn/T/ipykernel_25630/3887715647.py:6: FutureWarning: The frame.append method is deprecated and will be removed from pandas in a future version. Use pandas.concat instead.\n",
      "  df=df.append(table[0])\n"
     ]
    },
    {
     "name": "stdout",
     "output_type": "stream",
     "text": [
      "now snoozing for 14 secs\n",
      "now scraping page 239\n"
     ]
    },
    {
     "name": "stderr",
     "output_type": "stream",
     "text": [
      "/var/folders/61/68rz41055xg7sv4h43532jh00000gn/T/ipykernel_25630/3887715647.py:6: FutureWarning: The frame.append method is deprecated and will be removed from pandas in a future version. Use pandas.concat instead.\n",
      "  df=df.append(table[0])\n"
     ]
    },
    {
     "name": "stdout",
     "output_type": "stream",
     "text": [
      "now snoozing for 19 secs\n",
      "now scraping page 240\n"
     ]
    },
    {
     "name": "stderr",
     "output_type": "stream",
     "text": [
      "/var/folders/61/68rz41055xg7sv4h43532jh00000gn/T/ipykernel_25630/3887715647.py:6: FutureWarning: The frame.append method is deprecated and will be removed from pandas in a future version. Use pandas.concat instead.\n",
      "  df=df.append(table[0])\n"
     ]
    },
    {
     "name": "stdout",
     "output_type": "stream",
     "text": [
      "now snoozing for 14 secs\n",
      "now scraping page 241\n"
     ]
    },
    {
     "name": "stderr",
     "output_type": "stream",
     "text": [
      "/var/folders/61/68rz41055xg7sv4h43532jh00000gn/T/ipykernel_25630/3887715647.py:6: FutureWarning: The frame.append method is deprecated and will be removed from pandas in a future version. Use pandas.concat instead.\n",
      "  df=df.append(table[0])\n"
     ]
    },
    {
     "name": "stdout",
     "output_type": "stream",
     "text": [
      "now snoozing for 12 secs\n",
      "now scraping page 242\n"
     ]
    },
    {
     "name": "stderr",
     "output_type": "stream",
     "text": [
      "/var/folders/61/68rz41055xg7sv4h43532jh00000gn/T/ipykernel_25630/3887715647.py:6: FutureWarning: The frame.append method is deprecated and will be removed from pandas in a future version. Use pandas.concat instead.\n",
      "  df=df.append(table[0])\n"
     ]
    },
    {
     "name": "stdout",
     "output_type": "stream",
     "text": [
      "now snoozing for 14 secs\n",
      "now scraping page 243\n"
     ]
    },
    {
     "name": "stderr",
     "output_type": "stream",
     "text": [
      "/var/folders/61/68rz41055xg7sv4h43532jh00000gn/T/ipykernel_25630/3887715647.py:6: FutureWarning: The frame.append method is deprecated and will be removed from pandas in a future version. Use pandas.concat instead.\n",
      "  df=df.append(table[0])\n"
     ]
    },
    {
     "name": "stdout",
     "output_type": "stream",
     "text": [
      "now snoozing for 16 secs\n",
      "now scraping page 244\n"
     ]
    },
    {
     "name": "stderr",
     "output_type": "stream",
     "text": [
      "/var/folders/61/68rz41055xg7sv4h43532jh00000gn/T/ipykernel_25630/3887715647.py:6: FutureWarning: The frame.append method is deprecated and will be removed from pandas in a future version. Use pandas.concat instead.\n",
      "  df=df.append(table[0])\n"
     ]
    },
    {
     "name": "stdout",
     "output_type": "stream",
     "text": [
      "now snoozing for 16 secs\n",
      "now scraping page 245\n"
     ]
    },
    {
     "name": "stderr",
     "output_type": "stream",
     "text": [
      "/var/folders/61/68rz41055xg7sv4h43532jh00000gn/T/ipykernel_25630/3887715647.py:6: FutureWarning: The frame.append method is deprecated and will be removed from pandas in a future version. Use pandas.concat instead.\n",
      "  df=df.append(table[0])\n"
     ]
    },
    {
     "name": "stdout",
     "output_type": "stream",
     "text": [
      "now snoozing for 10 secs\n",
      "now scraping page 246\n"
     ]
    },
    {
     "name": "stderr",
     "output_type": "stream",
     "text": [
      "/var/folders/61/68rz41055xg7sv4h43532jh00000gn/T/ipykernel_25630/3887715647.py:6: FutureWarning: The frame.append method is deprecated and will be removed from pandas in a future version. Use pandas.concat instead.\n",
      "  df=df.append(table[0])\n"
     ]
    },
    {
     "name": "stdout",
     "output_type": "stream",
     "text": [
      "now snoozing for 17 secs\n",
      "now scraping page 247\n"
     ]
    },
    {
     "name": "stderr",
     "output_type": "stream",
     "text": [
      "/var/folders/61/68rz41055xg7sv4h43532jh00000gn/T/ipykernel_25630/3887715647.py:6: FutureWarning: The frame.append method is deprecated and will be removed from pandas in a future version. Use pandas.concat instead.\n",
      "  df=df.append(table[0])\n"
     ]
    },
    {
     "name": "stdout",
     "output_type": "stream",
     "text": [
      "now snoozing for 11 secs\n",
      "now scraping page 248\n"
     ]
    },
    {
     "name": "stderr",
     "output_type": "stream",
     "text": [
      "/var/folders/61/68rz41055xg7sv4h43532jh00000gn/T/ipykernel_25630/3887715647.py:6: FutureWarning: The frame.append method is deprecated and will be removed from pandas in a future version. Use pandas.concat instead.\n",
      "  df=df.append(table[0])\n"
     ]
    },
    {
     "name": "stdout",
     "output_type": "stream",
     "text": [
      "now snoozing for 18 secs\n",
      "now scraping page 249\n"
     ]
    },
    {
     "name": "stderr",
     "output_type": "stream",
     "text": [
      "/var/folders/61/68rz41055xg7sv4h43532jh00000gn/T/ipykernel_25630/3887715647.py:6: FutureWarning: The frame.append method is deprecated and will be removed from pandas in a future version. Use pandas.concat instead.\n",
      "  df=df.append(table[0])\n"
     ]
    },
    {
     "name": "stdout",
     "output_type": "stream",
     "text": [
      "now snoozing for 11 secs\n",
      "now scraping page 250\n"
     ]
    },
    {
     "name": "stderr",
     "output_type": "stream",
     "text": [
      "/var/folders/61/68rz41055xg7sv4h43532jh00000gn/T/ipykernel_25630/3887715647.py:6: FutureWarning: The frame.append method is deprecated and will be removed from pandas in a future version. Use pandas.concat instead.\n",
      "  df=df.append(table[0])\n"
     ]
    },
    {
     "name": "stdout",
     "output_type": "stream",
     "text": [
      "now snoozing for 19 secs\n",
      "now scraping page 251\n"
     ]
    },
    {
     "name": "stderr",
     "output_type": "stream",
     "text": [
      "/var/folders/61/68rz41055xg7sv4h43532jh00000gn/T/ipykernel_25630/3887715647.py:6: FutureWarning: The frame.append method is deprecated and will be removed from pandas in a future version. Use pandas.concat instead.\n",
      "  df=df.append(table[0])\n"
     ]
    },
    {
     "name": "stdout",
     "output_type": "stream",
     "text": [
      "now snoozing for 17 secs\n",
      "now scraping page 252\n"
     ]
    },
    {
     "name": "stderr",
     "output_type": "stream",
     "text": [
      "/var/folders/61/68rz41055xg7sv4h43532jh00000gn/T/ipykernel_25630/3887715647.py:6: FutureWarning: The frame.append method is deprecated and will be removed from pandas in a future version. Use pandas.concat instead.\n",
      "  df=df.append(table[0])\n"
     ]
    },
    {
     "name": "stdout",
     "output_type": "stream",
     "text": [
      "now snoozing for 11 secs\n",
      "now scraping page 253\n"
     ]
    },
    {
     "name": "stderr",
     "output_type": "stream",
     "text": [
      "/var/folders/61/68rz41055xg7sv4h43532jh00000gn/T/ipykernel_25630/3887715647.py:6: FutureWarning: The frame.append method is deprecated and will be removed from pandas in a future version. Use pandas.concat instead.\n",
      "  df=df.append(table[0])\n"
     ]
    },
    {
     "name": "stdout",
     "output_type": "stream",
     "text": [
      "now snoozing for 15 secs\n",
      "now scraping page 254\n"
     ]
    },
    {
     "name": "stderr",
     "output_type": "stream",
     "text": [
      "/var/folders/61/68rz41055xg7sv4h43532jh00000gn/T/ipykernel_25630/3887715647.py:6: FutureWarning: The frame.append method is deprecated and will be removed from pandas in a future version. Use pandas.concat instead.\n",
      "  df=df.append(table[0])\n"
     ]
    },
    {
     "name": "stdout",
     "output_type": "stream",
     "text": [
      "now snoozing for 15 secs\n",
      "now scraping page 255\n"
     ]
    },
    {
     "name": "stderr",
     "output_type": "stream",
     "text": [
      "/var/folders/61/68rz41055xg7sv4h43532jh00000gn/T/ipykernel_25630/3887715647.py:6: FutureWarning: The frame.append method is deprecated and will be removed from pandas in a future version. Use pandas.concat instead.\n",
      "  df=df.append(table[0])\n"
     ]
    },
    {
     "name": "stdout",
     "output_type": "stream",
     "text": [
      "now snoozing for 11 secs\n",
      "now scraping page 256\n"
     ]
    },
    {
     "name": "stderr",
     "output_type": "stream",
     "text": [
      "/var/folders/61/68rz41055xg7sv4h43532jh00000gn/T/ipykernel_25630/3887715647.py:6: FutureWarning: The frame.append method is deprecated and will be removed from pandas in a future version. Use pandas.concat instead.\n",
      "  df=df.append(table[0])\n"
     ]
    },
    {
     "name": "stdout",
     "output_type": "stream",
     "text": [
      "now snoozing for 16 secs\n",
      "now scraping page 257\n"
     ]
    },
    {
     "name": "stderr",
     "output_type": "stream",
     "text": [
      "/var/folders/61/68rz41055xg7sv4h43532jh00000gn/T/ipykernel_25630/3887715647.py:6: FutureWarning: The frame.append method is deprecated and will be removed from pandas in a future version. Use pandas.concat instead.\n",
      "  df=df.append(table[0])\n"
     ]
    },
    {
     "name": "stdout",
     "output_type": "stream",
     "text": [
      "now snoozing for 16 secs\n",
      "now scraping page 258\n"
     ]
    },
    {
     "name": "stderr",
     "output_type": "stream",
     "text": [
      "/var/folders/61/68rz41055xg7sv4h43532jh00000gn/T/ipykernel_25630/3887715647.py:6: FutureWarning: The frame.append method is deprecated and will be removed from pandas in a future version. Use pandas.concat instead.\n",
      "  df=df.append(table[0])\n"
     ]
    },
    {
     "name": "stdout",
     "output_type": "stream",
     "text": [
      "now snoozing for 18 secs\n",
      "now scraping page 259\n"
     ]
    },
    {
     "name": "stderr",
     "output_type": "stream",
     "text": [
      "/var/folders/61/68rz41055xg7sv4h43532jh00000gn/T/ipykernel_25630/3887715647.py:6: FutureWarning: The frame.append method is deprecated and will be removed from pandas in a future version. Use pandas.concat instead.\n",
      "  df=df.append(table[0])\n"
     ]
    },
    {
     "name": "stdout",
     "output_type": "stream",
     "text": [
      "now snoozing for 11 secs\n",
      "now scraping page 260\n"
     ]
    },
    {
     "name": "stderr",
     "output_type": "stream",
     "text": [
      "/var/folders/61/68rz41055xg7sv4h43532jh00000gn/T/ipykernel_25630/3887715647.py:6: FutureWarning: The frame.append method is deprecated and will be removed from pandas in a future version. Use pandas.concat instead.\n",
      "  df=df.append(table[0])\n"
     ]
    },
    {
     "name": "stdout",
     "output_type": "stream",
     "text": [
      "now snoozing for 16 secs\n",
      "now scraping page 261\n"
     ]
    },
    {
     "name": "stderr",
     "output_type": "stream",
     "text": [
      "/var/folders/61/68rz41055xg7sv4h43532jh00000gn/T/ipykernel_25630/3887715647.py:6: FutureWarning: The frame.append method is deprecated and will be removed from pandas in a future version. Use pandas.concat instead.\n",
      "  df=df.append(table[0])\n"
     ]
    },
    {
     "name": "stdout",
     "output_type": "stream",
     "text": [
      "now snoozing for 17 secs\n",
      "now scraping page 262\n"
     ]
    },
    {
     "name": "stderr",
     "output_type": "stream",
     "text": [
      "/var/folders/61/68rz41055xg7sv4h43532jh00000gn/T/ipykernel_25630/3887715647.py:6: FutureWarning: The frame.append method is deprecated and will be removed from pandas in a future version. Use pandas.concat instead.\n",
      "  df=df.append(table[0])\n"
     ]
    },
    {
     "name": "stdout",
     "output_type": "stream",
     "text": [
      "now snoozing for 11 secs\n",
      "now scraping page 263\n"
     ]
    },
    {
     "name": "stderr",
     "output_type": "stream",
     "text": [
      "/var/folders/61/68rz41055xg7sv4h43532jh00000gn/T/ipykernel_25630/3887715647.py:6: FutureWarning: The frame.append method is deprecated and will be removed from pandas in a future version. Use pandas.concat instead.\n",
      "  df=df.append(table[0])\n"
     ]
    },
    {
     "name": "stdout",
     "output_type": "stream",
     "text": [
      "now snoozing for 18 secs\n",
      "now scraping page 264\n"
     ]
    },
    {
     "name": "stderr",
     "output_type": "stream",
     "text": [
      "/var/folders/61/68rz41055xg7sv4h43532jh00000gn/T/ipykernel_25630/3887715647.py:6: FutureWarning: The frame.append method is deprecated and will be removed from pandas in a future version. Use pandas.concat instead.\n",
      "  df=df.append(table[0])\n"
     ]
    },
    {
     "name": "stdout",
     "output_type": "stream",
     "text": [
      "now snoozing for 13 secs\n",
      "now scraping page 265\n"
     ]
    },
    {
     "name": "stderr",
     "output_type": "stream",
     "text": [
      "/var/folders/61/68rz41055xg7sv4h43532jh00000gn/T/ipykernel_25630/3887715647.py:6: FutureWarning: The frame.append method is deprecated and will be removed from pandas in a future version. Use pandas.concat instead.\n",
      "  df=df.append(table[0])\n"
     ]
    },
    {
     "name": "stdout",
     "output_type": "stream",
     "text": [
      "now snoozing for 12 secs\n",
      "now scraping page 266\n"
     ]
    },
    {
     "name": "stderr",
     "output_type": "stream",
     "text": [
      "/var/folders/61/68rz41055xg7sv4h43532jh00000gn/T/ipykernel_25630/3887715647.py:6: FutureWarning: The frame.append method is deprecated and will be removed from pandas in a future version. Use pandas.concat instead.\n",
      "  df=df.append(table[0])\n"
     ]
    },
    {
     "name": "stdout",
     "output_type": "stream",
     "text": [
      "now snoozing for 14 secs\n",
      "now scraping page 267\n"
     ]
    },
    {
     "name": "stderr",
     "output_type": "stream",
     "text": [
      "/var/folders/61/68rz41055xg7sv4h43532jh00000gn/T/ipykernel_25630/3887715647.py:6: FutureWarning: The frame.append method is deprecated and will be removed from pandas in a future version. Use pandas.concat instead.\n",
      "  df=df.append(table[0])\n"
     ]
    },
    {
     "name": "stdout",
     "output_type": "stream",
     "text": [
      "now snoozing for 12 secs\n",
      "now scraping page 268\n"
     ]
    },
    {
     "name": "stderr",
     "output_type": "stream",
     "text": [
      "/var/folders/61/68rz41055xg7sv4h43532jh00000gn/T/ipykernel_25630/3887715647.py:6: FutureWarning: The frame.append method is deprecated and will be removed from pandas in a future version. Use pandas.concat instead.\n",
      "  df=df.append(table[0])\n"
     ]
    },
    {
     "name": "stdout",
     "output_type": "stream",
     "text": [
      "now snoozing for 19 secs\n",
      "now scraping page 269\n"
     ]
    },
    {
     "name": "stderr",
     "output_type": "stream",
     "text": [
      "/var/folders/61/68rz41055xg7sv4h43532jh00000gn/T/ipykernel_25630/3887715647.py:6: FutureWarning: The frame.append method is deprecated and will be removed from pandas in a future version. Use pandas.concat instead.\n",
      "  df=df.append(table[0])\n"
     ]
    },
    {
     "name": "stdout",
     "output_type": "stream",
     "text": [
      "now snoozing for 16 secs\n",
      "now scraping page 270\n"
     ]
    },
    {
     "name": "stderr",
     "output_type": "stream",
     "text": [
      "/var/folders/61/68rz41055xg7sv4h43532jh00000gn/T/ipykernel_25630/3887715647.py:6: FutureWarning: The frame.append method is deprecated and will be removed from pandas in a future version. Use pandas.concat instead.\n",
      "  df=df.append(table[0])\n"
     ]
    },
    {
     "name": "stdout",
     "output_type": "stream",
     "text": [
      "now snoozing for 11 secs\n",
      "now scraping page 271\n"
     ]
    },
    {
     "name": "stderr",
     "output_type": "stream",
     "text": [
      "/var/folders/61/68rz41055xg7sv4h43532jh00000gn/T/ipykernel_25630/3887715647.py:6: FutureWarning: The frame.append method is deprecated and will be removed from pandas in a future version. Use pandas.concat instead.\n",
      "  df=df.append(table[0])\n"
     ]
    },
    {
     "name": "stdout",
     "output_type": "stream",
     "text": [
      "now snoozing for 12 secs\n",
      "now scraping page 272\n"
     ]
    },
    {
     "name": "stderr",
     "output_type": "stream",
     "text": [
      "/var/folders/61/68rz41055xg7sv4h43532jh00000gn/T/ipykernel_25630/3887715647.py:6: FutureWarning: The frame.append method is deprecated and will be removed from pandas in a future version. Use pandas.concat instead.\n",
      "  df=df.append(table[0])\n"
     ]
    },
    {
     "name": "stdout",
     "output_type": "stream",
     "text": [
      "now snoozing for 13 secs\n",
      "now scraping page 273\n"
     ]
    },
    {
     "name": "stderr",
     "output_type": "stream",
     "text": [
      "/var/folders/61/68rz41055xg7sv4h43532jh00000gn/T/ipykernel_25630/3887715647.py:6: FutureWarning: The frame.append method is deprecated and will be removed from pandas in a future version. Use pandas.concat instead.\n",
      "  df=df.append(table[0])\n"
     ]
    },
    {
     "name": "stdout",
     "output_type": "stream",
     "text": [
      "now snoozing for 16 secs\n",
      "now scraping page 274\n"
     ]
    },
    {
     "name": "stderr",
     "output_type": "stream",
     "text": [
      "/var/folders/61/68rz41055xg7sv4h43532jh00000gn/T/ipykernel_25630/3887715647.py:6: FutureWarning: The frame.append method is deprecated and will be removed from pandas in a future version. Use pandas.concat instead.\n",
      "  df=df.append(table[0])\n"
     ]
    },
    {
     "name": "stdout",
     "output_type": "stream",
     "text": [
      "now snoozing for 14 secs\n",
      "now scraping page 275\n"
     ]
    },
    {
     "name": "stderr",
     "output_type": "stream",
     "text": [
      "/var/folders/61/68rz41055xg7sv4h43532jh00000gn/T/ipykernel_25630/3887715647.py:6: FutureWarning: The frame.append method is deprecated and will be removed from pandas in a future version. Use pandas.concat instead.\n",
      "  df=df.append(table[0])\n"
     ]
    },
    {
     "name": "stdout",
     "output_type": "stream",
     "text": [
      "now snoozing for 14 secs\n",
      "now scraping page 276\n"
     ]
    },
    {
     "name": "stderr",
     "output_type": "stream",
     "text": [
      "/var/folders/61/68rz41055xg7sv4h43532jh00000gn/T/ipykernel_25630/3887715647.py:6: FutureWarning: The frame.append method is deprecated and will be removed from pandas in a future version. Use pandas.concat instead.\n",
      "  df=df.append(table[0])\n"
     ]
    },
    {
     "name": "stdout",
     "output_type": "stream",
     "text": [
      "now snoozing for 13 secs\n",
      "now scraping page 277\n"
     ]
    },
    {
     "name": "stderr",
     "output_type": "stream",
     "text": [
      "/var/folders/61/68rz41055xg7sv4h43532jh00000gn/T/ipykernel_25630/3887715647.py:6: FutureWarning: The frame.append method is deprecated and will be removed from pandas in a future version. Use pandas.concat instead.\n",
      "  df=df.append(table[0])\n"
     ]
    },
    {
     "name": "stdout",
     "output_type": "stream",
     "text": [
      "now snoozing for 14 secs\n",
      "now scraping page 278\n"
     ]
    },
    {
     "name": "stderr",
     "output_type": "stream",
     "text": [
      "/var/folders/61/68rz41055xg7sv4h43532jh00000gn/T/ipykernel_25630/3887715647.py:6: FutureWarning: The frame.append method is deprecated and will be removed from pandas in a future version. Use pandas.concat instead.\n",
      "  df=df.append(table[0])\n"
     ]
    },
    {
     "name": "stdout",
     "output_type": "stream",
     "text": [
      "now snoozing for 12 secs\n",
      "now scraping page 279\n"
     ]
    },
    {
     "name": "stderr",
     "output_type": "stream",
     "text": [
      "/var/folders/61/68rz41055xg7sv4h43532jh00000gn/T/ipykernel_25630/3887715647.py:6: FutureWarning: The frame.append method is deprecated and will be removed from pandas in a future version. Use pandas.concat instead.\n",
      "  df=df.append(table[0])\n"
     ]
    },
    {
     "name": "stdout",
     "output_type": "stream",
     "text": [
      "now snoozing for 18 secs\n",
      "now scraping page 280\n"
     ]
    },
    {
     "name": "stderr",
     "output_type": "stream",
     "text": [
      "/var/folders/61/68rz41055xg7sv4h43532jh00000gn/T/ipykernel_25630/3887715647.py:6: FutureWarning: The frame.append method is deprecated and will be removed from pandas in a future version. Use pandas.concat instead.\n",
      "  df=df.append(table[0])\n"
     ]
    },
    {
     "name": "stdout",
     "output_type": "stream",
     "text": [
      "now snoozing for 15 secs\n",
      "now scraping page 281\n"
     ]
    },
    {
     "name": "stderr",
     "output_type": "stream",
     "text": [
      "/var/folders/61/68rz41055xg7sv4h43532jh00000gn/T/ipykernel_25630/3887715647.py:6: FutureWarning: The frame.append method is deprecated and will be removed from pandas in a future version. Use pandas.concat instead.\n",
      "  df=df.append(table[0])\n"
     ]
    },
    {
     "name": "stdout",
     "output_type": "stream",
     "text": [
      "now snoozing for 11 secs\n",
      "now scraping page 282\n"
     ]
    },
    {
     "name": "stderr",
     "output_type": "stream",
     "text": [
      "/var/folders/61/68rz41055xg7sv4h43532jh00000gn/T/ipykernel_25630/3887715647.py:6: FutureWarning: The frame.append method is deprecated and will be removed from pandas in a future version. Use pandas.concat instead.\n",
      "  df=df.append(table[0])\n"
     ]
    },
    {
     "name": "stdout",
     "output_type": "stream",
     "text": [
      "now snoozing for 14 secs\n",
      "now scraping page 283\n"
     ]
    },
    {
     "name": "stderr",
     "output_type": "stream",
     "text": [
      "/var/folders/61/68rz41055xg7sv4h43532jh00000gn/T/ipykernel_25630/3887715647.py:6: FutureWarning: The frame.append method is deprecated and will be removed from pandas in a future version. Use pandas.concat instead.\n",
      "  df=df.append(table[0])\n"
     ]
    },
    {
     "name": "stdout",
     "output_type": "stream",
     "text": [
      "now snoozing for 18 secs\n",
      "now scraping page 284\n"
     ]
    },
    {
     "name": "stderr",
     "output_type": "stream",
     "text": [
      "/var/folders/61/68rz41055xg7sv4h43532jh00000gn/T/ipykernel_25630/3887715647.py:6: FutureWarning: The frame.append method is deprecated and will be removed from pandas in a future version. Use pandas.concat instead.\n",
      "  df=df.append(table[0])\n"
     ]
    },
    {
     "name": "stdout",
     "output_type": "stream",
     "text": [
      "now snoozing for 11 secs\n",
      "now scraping page 285\n"
     ]
    },
    {
     "name": "stderr",
     "output_type": "stream",
     "text": [
      "/var/folders/61/68rz41055xg7sv4h43532jh00000gn/T/ipykernel_25630/3887715647.py:6: FutureWarning: The frame.append method is deprecated and will be removed from pandas in a future version. Use pandas.concat instead.\n",
      "  df=df.append(table[0])\n"
     ]
    },
    {
     "name": "stdout",
     "output_type": "stream",
     "text": [
      "now snoozing for 11 secs\n",
      "now scraping page 286\n"
     ]
    },
    {
     "name": "stderr",
     "output_type": "stream",
     "text": [
      "/var/folders/61/68rz41055xg7sv4h43532jh00000gn/T/ipykernel_25630/3887715647.py:6: FutureWarning: The frame.append method is deprecated and will be removed from pandas in a future version. Use pandas.concat instead.\n",
      "  df=df.append(table[0])\n"
     ]
    },
    {
     "name": "stdout",
     "output_type": "stream",
     "text": [
      "now snoozing for 19 secs\n",
      "now scraping page 287\n"
     ]
    },
    {
     "name": "stderr",
     "output_type": "stream",
     "text": [
      "/var/folders/61/68rz41055xg7sv4h43532jh00000gn/T/ipykernel_25630/3887715647.py:6: FutureWarning: The frame.append method is deprecated and will be removed from pandas in a future version. Use pandas.concat instead.\n",
      "  df=df.append(table[0])\n"
     ]
    },
    {
     "name": "stdout",
     "output_type": "stream",
     "text": [
      "now snoozing for 17 secs\n",
      "now scraping page 288\n"
     ]
    },
    {
     "name": "stderr",
     "output_type": "stream",
     "text": [
      "/var/folders/61/68rz41055xg7sv4h43532jh00000gn/T/ipykernel_25630/3887715647.py:6: FutureWarning: The frame.append method is deprecated and will be removed from pandas in a future version. Use pandas.concat instead.\n",
      "  df=df.append(table[0])\n"
     ]
    },
    {
     "name": "stdout",
     "output_type": "stream",
     "text": [
      "now snoozing for 19 secs\n",
      "now scraping page 289\n"
     ]
    },
    {
     "name": "stderr",
     "output_type": "stream",
     "text": [
      "/var/folders/61/68rz41055xg7sv4h43532jh00000gn/T/ipykernel_25630/3887715647.py:6: FutureWarning: The frame.append method is deprecated and will be removed from pandas in a future version. Use pandas.concat instead.\n",
      "  df=df.append(table[0])\n"
     ]
    },
    {
     "name": "stdout",
     "output_type": "stream",
     "text": [
      "now snoozing for 11 secs\n",
      "now scraping page 290\n"
     ]
    },
    {
     "name": "stderr",
     "output_type": "stream",
     "text": [
      "/var/folders/61/68rz41055xg7sv4h43532jh00000gn/T/ipykernel_25630/3887715647.py:6: FutureWarning: The frame.append method is deprecated and will be removed from pandas in a future version. Use pandas.concat instead.\n",
      "  df=df.append(table[0])\n"
     ]
    },
    {
     "name": "stdout",
     "output_type": "stream",
     "text": [
      "now snoozing for 13 secs\n",
      "now scraping page 291\n"
     ]
    },
    {
     "name": "stderr",
     "output_type": "stream",
     "text": [
      "/var/folders/61/68rz41055xg7sv4h43532jh00000gn/T/ipykernel_25630/3887715647.py:6: FutureWarning: The frame.append method is deprecated and will be removed from pandas in a future version. Use pandas.concat instead.\n",
      "  df=df.append(table[0])\n"
     ]
    },
    {
     "name": "stdout",
     "output_type": "stream",
     "text": [
      "now snoozing for 11 secs\n",
      "now scraping page 292\n"
     ]
    },
    {
     "name": "stderr",
     "output_type": "stream",
     "text": [
      "/var/folders/61/68rz41055xg7sv4h43532jh00000gn/T/ipykernel_25630/3887715647.py:6: FutureWarning: The frame.append method is deprecated and will be removed from pandas in a future version. Use pandas.concat instead.\n",
      "  df=df.append(table[0])\n"
     ]
    },
    {
     "name": "stdout",
     "output_type": "stream",
     "text": [
      "now snoozing for 13 secs\n",
      "now scraping page 293\n"
     ]
    },
    {
     "name": "stderr",
     "output_type": "stream",
     "text": [
      "/var/folders/61/68rz41055xg7sv4h43532jh00000gn/T/ipykernel_25630/3887715647.py:6: FutureWarning: The frame.append method is deprecated and will be removed from pandas in a future version. Use pandas.concat instead.\n",
      "  df=df.append(table[0])\n"
     ]
    },
    {
     "name": "stdout",
     "output_type": "stream",
     "text": [
      "now snoozing for 14 secs\n",
      "now scraping page 294\n"
     ]
    },
    {
     "name": "stderr",
     "output_type": "stream",
     "text": [
      "/var/folders/61/68rz41055xg7sv4h43532jh00000gn/T/ipykernel_25630/3887715647.py:6: FutureWarning: The frame.append method is deprecated and will be removed from pandas in a future version. Use pandas.concat instead.\n",
      "  df=df.append(table[0])\n"
     ]
    },
    {
     "name": "stdout",
     "output_type": "stream",
     "text": [
      "now snoozing for 12 secs\n",
      "now scraping page 295\n"
     ]
    },
    {
     "name": "stderr",
     "output_type": "stream",
     "text": [
      "/var/folders/61/68rz41055xg7sv4h43532jh00000gn/T/ipykernel_25630/3887715647.py:6: FutureWarning: The frame.append method is deprecated and will be removed from pandas in a future version. Use pandas.concat instead.\n",
      "  df=df.append(table[0])\n"
     ]
    },
    {
     "name": "stdout",
     "output_type": "stream",
     "text": [
      "now snoozing for 10 secs\n",
      "now scraping page 296\n"
     ]
    },
    {
     "name": "stderr",
     "output_type": "stream",
     "text": [
      "/var/folders/61/68rz41055xg7sv4h43532jh00000gn/T/ipykernel_25630/3887715647.py:6: FutureWarning: The frame.append method is deprecated and will be removed from pandas in a future version. Use pandas.concat instead.\n",
      "  df=df.append(table[0])\n"
     ]
    },
    {
     "name": "stdout",
     "output_type": "stream",
     "text": [
      "now snoozing for 12 secs\n",
      "now scraping page 297\n"
     ]
    },
    {
     "name": "stderr",
     "output_type": "stream",
     "text": [
      "/var/folders/61/68rz41055xg7sv4h43532jh00000gn/T/ipykernel_25630/3887715647.py:6: FutureWarning: The frame.append method is deprecated and will be removed from pandas in a future version. Use pandas.concat instead.\n",
      "  df=df.append(table[0])\n"
     ]
    },
    {
     "name": "stdout",
     "output_type": "stream",
     "text": [
      "now snoozing for 15 secs\n",
      "now scraping page 298\n"
     ]
    },
    {
     "name": "stderr",
     "output_type": "stream",
     "text": [
      "/var/folders/61/68rz41055xg7sv4h43532jh00000gn/T/ipykernel_25630/3887715647.py:6: FutureWarning: The frame.append method is deprecated and will be removed from pandas in a future version. Use pandas.concat instead.\n",
      "  df=df.append(table[0])\n"
     ]
    },
    {
     "name": "stdout",
     "output_type": "stream",
     "text": [
      "now snoozing for 18 secs\n",
      "now scraping page 299\n"
     ]
    },
    {
     "name": "stderr",
     "output_type": "stream",
     "text": [
      "/var/folders/61/68rz41055xg7sv4h43532jh00000gn/T/ipykernel_25630/3887715647.py:6: FutureWarning: The frame.append method is deprecated and will be removed from pandas in a future version. Use pandas.concat instead.\n",
      "  df=df.append(table[0])\n"
     ]
    },
    {
     "name": "stdout",
     "output_type": "stream",
     "text": [
      "now snoozing for 10 secs\n",
      "now scraping page 300\n"
     ]
    },
    {
     "name": "stderr",
     "output_type": "stream",
     "text": [
      "/var/folders/61/68rz41055xg7sv4h43532jh00000gn/T/ipykernel_25630/3887715647.py:6: FutureWarning: The frame.append method is deprecated and will be removed from pandas in a future version. Use pandas.concat instead.\n",
      "  df=df.append(table[0])\n"
     ]
    },
    {
     "name": "stdout",
     "output_type": "stream",
     "text": [
      "now snoozing for 16 secs\n",
      "now scraping page 301\n"
     ]
    },
    {
     "name": "stderr",
     "output_type": "stream",
     "text": [
      "/var/folders/61/68rz41055xg7sv4h43532jh00000gn/T/ipykernel_25630/3887715647.py:6: FutureWarning: The frame.append method is deprecated and will be removed from pandas in a future version. Use pandas.concat instead.\n",
      "  df=df.append(table[0])\n"
     ]
    },
    {
     "name": "stdout",
     "output_type": "stream",
     "text": [
      "now snoozing for 10 secs\n",
      "now scraping page 302\n"
     ]
    },
    {
     "name": "stderr",
     "output_type": "stream",
     "text": [
      "/var/folders/61/68rz41055xg7sv4h43532jh00000gn/T/ipykernel_25630/3887715647.py:6: FutureWarning: The frame.append method is deprecated and will be removed from pandas in a future version. Use pandas.concat instead.\n",
      "  df=df.append(table[0])\n"
     ]
    },
    {
     "name": "stdout",
     "output_type": "stream",
     "text": [
      "now snoozing for 19 secs\n",
      "now scraping page 303\n"
     ]
    },
    {
     "name": "stderr",
     "output_type": "stream",
     "text": [
      "/var/folders/61/68rz41055xg7sv4h43532jh00000gn/T/ipykernel_25630/3887715647.py:6: FutureWarning: The frame.append method is deprecated and will be removed from pandas in a future version. Use pandas.concat instead.\n",
      "  df=df.append(table[0])\n"
     ]
    },
    {
     "name": "stdout",
     "output_type": "stream",
     "text": [
      "now snoozing for 14 secs\n",
      "now scraping page 304\n"
     ]
    },
    {
     "name": "stderr",
     "output_type": "stream",
     "text": [
      "/var/folders/61/68rz41055xg7sv4h43532jh00000gn/T/ipykernel_25630/3887715647.py:6: FutureWarning: The frame.append method is deprecated and will be removed from pandas in a future version. Use pandas.concat instead.\n",
      "  df=df.append(table[0])\n"
     ]
    },
    {
     "name": "stdout",
     "output_type": "stream",
     "text": [
      "now snoozing for 18 secs\n",
      "now scraping page 305\n"
     ]
    },
    {
     "name": "stderr",
     "output_type": "stream",
     "text": [
      "/var/folders/61/68rz41055xg7sv4h43532jh00000gn/T/ipykernel_25630/3887715647.py:6: FutureWarning: The frame.append method is deprecated and will be removed from pandas in a future version. Use pandas.concat instead.\n",
      "  df=df.append(table[0])\n"
     ]
    },
    {
     "name": "stdout",
     "output_type": "stream",
     "text": [
      "now snoozing for 14 secs\n",
      "now scraping page 306\n"
     ]
    },
    {
     "name": "stderr",
     "output_type": "stream",
     "text": [
      "/var/folders/61/68rz41055xg7sv4h43532jh00000gn/T/ipykernel_25630/3887715647.py:6: FutureWarning: The frame.append method is deprecated and will be removed from pandas in a future version. Use pandas.concat instead.\n",
      "  df=df.append(table[0])\n"
     ]
    },
    {
     "name": "stdout",
     "output_type": "stream",
     "text": [
      "now snoozing for 18 secs\n",
      "now scraping page 307\n"
     ]
    },
    {
     "name": "stderr",
     "output_type": "stream",
     "text": [
      "/var/folders/61/68rz41055xg7sv4h43532jh00000gn/T/ipykernel_25630/3887715647.py:6: FutureWarning: The frame.append method is deprecated and will be removed from pandas in a future version. Use pandas.concat instead.\n",
      "  df=df.append(table[0])\n"
     ]
    },
    {
     "name": "stdout",
     "output_type": "stream",
     "text": [
      "now snoozing for 14 secs\n",
      "now scraping page 308\n"
     ]
    },
    {
     "name": "stderr",
     "output_type": "stream",
     "text": [
      "/var/folders/61/68rz41055xg7sv4h43532jh00000gn/T/ipykernel_25630/3887715647.py:6: FutureWarning: The frame.append method is deprecated and will be removed from pandas in a future version. Use pandas.concat instead.\n",
      "  df=df.append(table[0])\n"
     ]
    },
    {
     "name": "stdout",
     "output_type": "stream",
     "text": [
      "now snoozing for 14 secs\n",
      "now scraping page 309\n"
     ]
    },
    {
     "name": "stderr",
     "output_type": "stream",
     "text": [
      "/var/folders/61/68rz41055xg7sv4h43532jh00000gn/T/ipykernel_25630/3887715647.py:6: FutureWarning: The frame.append method is deprecated and will be removed from pandas in a future version. Use pandas.concat instead.\n",
      "  df=df.append(table[0])\n"
     ]
    },
    {
     "name": "stdout",
     "output_type": "stream",
     "text": [
      "now snoozing for 16 secs\n",
      "now scraping page 310\n"
     ]
    },
    {
     "name": "stderr",
     "output_type": "stream",
     "text": [
      "/var/folders/61/68rz41055xg7sv4h43532jh00000gn/T/ipykernel_25630/3887715647.py:6: FutureWarning: The frame.append method is deprecated and will be removed from pandas in a future version. Use pandas.concat instead.\n",
      "  df=df.append(table[0])\n"
     ]
    },
    {
     "name": "stdout",
     "output_type": "stream",
     "text": [
      "now snoozing for 18 secs\n",
      "now scraping page 311\n"
     ]
    },
    {
     "name": "stderr",
     "output_type": "stream",
     "text": [
      "/var/folders/61/68rz41055xg7sv4h43532jh00000gn/T/ipykernel_25630/3887715647.py:6: FutureWarning: The frame.append method is deprecated and will be removed from pandas in a future version. Use pandas.concat instead.\n",
      "  df=df.append(table[0])\n"
     ]
    },
    {
     "name": "stdout",
     "output_type": "stream",
     "text": [
      "now snoozing for 14 secs\n",
      "now scraping page 312\n"
     ]
    },
    {
     "name": "stderr",
     "output_type": "stream",
     "text": [
      "/var/folders/61/68rz41055xg7sv4h43532jh00000gn/T/ipykernel_25630/3887715647.py:6: FutureWarning: The frame.append method is deprecated and will be removed from pandas in a future version. Use pandas.concat instead.\n",
      "  df=df.append(table[0])\n"
     ]
    },
    {
     "name": "stdout",
     "output_type": "stream",
     "text": [
      "now snoozing for 10 secs\n",
      "now scraping page 313\n"
     ]
    },
    {
     "name": "stderr",
     "output_type": "stream",
     "text": [
      "/var/folders/61/68rz41055xg7sv4h43532jh00000gn/T/ipykernel_25630/3887715647.py:6: FutureWarning: The frame.append method is deprecated and will be removed from pandas in a future version. Use pandas.concat instead.\n",
      "  df=df.append(table[0])\n"
     ]
    },
    {
     "name": "stdout",
     "output_type": "stream",
     "text": [
      "now snoozing for 14 secs\n",
      "now scraping page 314\n"
     ]
    },
    {
     "name": "stderr",
     "output_type": "stream",
     "text": [
      "/var/folders/61/68rz41055xg7sv4h43532jh00000gn/T/ipykernel_25630/3887715647.py:6: FutureWarning: The frame.append method is deprecated and will be removed from pandas in a future version. Use pandas.concat instead.\n",
      "  df=df.append(table[0])\n"
     ]
    },
    {
     "name": "stdout",
     "output_type": "stream",
     "text": [
      "now snoozing for 16 secs\n",
      "now scraping page 315\n"
     ]
    },
    {
     "name": "stderr",
     "output_type": "stream",
     "text": [
      "/var/folders/61/68rz41055xg7sv4h43532jh00000gn/T/ipykernel_25630/3887715647.py:6: FutureWarning: The frame.append method is deprecated and will be removed from pandas in a future version. Use pandas.concat instead.\n",
      "  df=df.append(table[0])\n"
     ]
    },
    {
     "name": "stdout",
     "output_type": "stream",
     "text": [
      "now snoozing for 14 secs\n",
      "now scraping page 316\n"
     ]
    },
    {
     "name": "stderr",
     "output_type": "stream",
     "text": [
      "/var/folders/61/68rz41055xg7sv4h43532jh00000gn/T/ipykernel_25630/3887715647.py:6: FutureWarning: The frame.append method is deprecated and will be removed from pandas in a future version. Use pandas.concat instead.\n",
      "  df=df.append(table[0])\n"
     ]
    },
    {
     "name": "stdout",
     "output_type": "stream",
     "text": [
      "now snoozing for 12 secs\n",
      "now scraping page 317\n"
     ]
    },
    {
     "name": "stderr",
     "output_type": "stream",
     "text": [
      "/var/folders/61/68rz41055xg7sv4h43532jh00000gn/T/ipykernel_25630/3887715647.py:6: FutureWarning: The frame.append method is deprecated and will be removed from pandas in a future version. Use pandas.concat instead.\n",
      "  df=df.append(table[0])\n"
     ]
    },
    {
     "name": "stdout",
     "output_type": "stream",
     "text": [
      "now snoozing for 18 secs\n",
      "now scraping page 318\n"
     ]
    },
    {
     "name": "stderr",
     "output_type": "stream",
     "text": [
      "/var/folders/61/68rz41055xg7sv4h43532jh00000gn/T/ipykernel_25630/3887715647.py:6: FutureWarning: The frame.append method is deprecated and will be removed from pandas in a future version. Use pandas.concat instead.\n",
      "  df=df.append(table[0])\n"
     ]
    },
    {
     "name": "stdout",
     "output_type": "stream",
     "text": [
      "now snoozing for 10 secs\n",
      "now scraping page 319\n"
     ]
    },
    {
     "name": "stderr",
     "output_type": "stream",
     "text": [
      "/var/folders/61/68rz41055xg7sv4h43532jh00000gn/T/ipykernel_25630/3887715647.py:6: FutureWarning: The frame.append method is deprecated and will be removed from pandas in a future version. Use pandas.concat instead.\n",
      "  df=df.append(table[0])\n"
     ]
    },
    {
     "name": "stdout",
     "output_type": "stream",
     "text": [
      "now snoozing for 10 secs\n",
      "now scraping page 320\n"
     ]
    },
    {
     "name": "stderr",
     "output_type": "stream",
     "text": [
      "/var/folders/61/68rz41055xg7sv4h43532jh00000gn/T/ipykernel_25630/3887715647.py:6: FutureWarning: The frame.append method is deprecated and will be removed from pandas in a future version. Use pandas.concat instead.\n",
      "  df=df.append(table[0])\n"
     ]
    },
    {
     "name": "stdout",
     "output_type": "stream",
     "text": [
      "now snoozing for 16 secs\n",
      "now scraping page 321\n"
     ]
    },
    {
     "name": "stderr",
     "output_type": "stream",
     "text": [
      "/var/folders/61/68rz41055xg7sv4h43532jh00000gn/T/ipykernel_25630/3887715647.py:6: FutureWarning: The frame.append method is deprecated and will be removed from pandas in a future version. Use pandas.concat instead.\n",
      "  df=df.append(table[0])\n"
     ]
    },
    {
     "name": "stdout",
     "output_type": "stream",
     "text": [
      "now snoozing for 13 secs\n",
      "now scraping page 322\n"
     ]
    },
    {
     "name": "stderr",
     "output_type": "stream",
     "text": [
      "/var/folders/61/68rz41055xg7sv4h43532jh00000gn/T/ipykernel_25630/3887715647.py:6: FutureWarning: The frame.append method is deprecated and will be removed from pandas in a future version. Use pandas.concat instead.\n",
      "  df=df.append(table[0])\n"
     ]
    },
    {
     "name": "stdout",
     "output_type": "stream",
     "text": [
      "now snoozing for 18 secs\n",
      "now scraping page 323\n"
     ]
    },
    {
     "name": "stderr",
     "output_type": "stream",
     "text": [
      "/var/folders/61/68rz41055xg7sv4h43532jh00000gn/T/ipykernel_25630/3887715647.py:6: FutureWarning: The frame.append method is deprecated and will be removed from pandas in a future version. Use pandas.concat instead.\n",
      "  df=df.append(table[0])\n"
     ]
    },
    {
     "name": "stdout",
     "output_type": "stream",
     "text": [
      "now snoozing for 11 secs\n",
      "now scraping page 324\n"
     ]
    },
    {
     "name": "stderr",
     "output_type": "stream",
     "text": [
      "/var/folders/61/68rz41055xg7sv4h43532jh00000gn/T/ipykernel_25630/3887715647.py:6: FutureWarning: The frame.append method is deprecated and will be removed from pandas in a future version. Use pandas.concat instead.\n",
      "  df=df.append(table[0])\n"
     ]
    },
    {
     "name": "stdout",
     "output_type": "stream",
     "text": [
      "now snoozing for 19 secs\n",
      "now scraping page 325\n"
     ]
    },
    {
     "name": "stderr",
     "output_type": "stream",
     "text": [
      "/var/folders/61/68rz41055xg7sv4h43532jh00000gn/T/ipykernel_25630/3887715647.py:6: FutureWarning: The frame.append method is deprecated and will be removed from pandas in a future version. Use pandas.concat instead.\n",
      "  df=df.append(table[0])\n"
     ]
    },
    {
     "name": "stdout",
     "output_type": "stream",
     "text": [
      "now snoozing for 16 secs\n",
      "now scraping page 326\n"
     ]
    },
    {
     "name": "stderr",
     "output_type": "stream",
     "text": [
      "/var/folders/61/68rz41055xg7sv4h43532jh00000gn/T/ipykernel_25630/3887715647.py:6: FutureWarning: The frame.append method is deprecated and will be removed from pandas in a future version. Use pandas.concat instead.\n",
      "  df=df.append(table[0])\n"
     ]
    },
    {
     "name": "stdout",
     "output_type": "stream",
     "text": [
      "now snoozing for 14 secs\n",
      "now scraping page 327\n"
     ]
    },
    {
     "name": "stderr",
     "output_type": "stream",
     "text": [
      "/var/folders/61/68rz41055xg7sv4h43532jh00000gn/T/ipykernel_25630/3887715647.py:6: FutureWarning: The frame.append method is deprecated and will be removed from pandas in a future version. Use pandas.concat instead.\n",
      "  df=df.append(table[0])\n"
     ]
    },
    {
     "name": "stdout",
     "output_type": "stream",
     "text": [
      "now snoozing for 19 secs\n",
      "now scraping page 328\n"
     ]
    },
    {
     "name": "stderr",
     "output_type": "stream",
     "text": [
      "/var/folders/61/68rz41055xg7sv4h43532jh00000gn/T/ipykernel_25630/3887715647.py:6: FutureWarning: The frame.append method is deprecated and will be removed from pandas in a future version. Use pandas.concat instead.\n",
      "  df=df.append(table[0])\n"
     ]
    },
    {
     "name": "stdout",
     "output_type": "stream",
     "text": [
      "now snoozing for 11 secs\n",
      "now scraping page 329\n"
     ]
    },
    {
     "name": "stderr",
     "output_type": "stream",
     "text": [
      "/var/folders/61/68rz41055xg7sv4h43532jh00000gn/T/ipykernel_25630/3887715647.py:6: FutureWarning: The frame.append method is deprecated and will be removed from pandas in a future version. Use pandas.concat instead.\n",
      "  df=df.append(table[0])\n"
     ]
    },
    {
     "name": "stdout",
     "output_type": "stream",
     "text": [
      "now snoozing for 14 secs\n",
      "now scraping page 330\n"
     ]
    },
    {
     "name": "stderr",
     "output_type": "stream",
     "text": [
      "/var/folders/61/68rz41055xg7sv4h43532jh00000gn/T/ipykernel_25630/3887715647.py:6: FutureWarning: The frame.append method is deprecated and will be removed from pandas in a future version. Use pandas.concat instead.\n",
      "  df=df.append(table[0])\n"
     ]
    },
    {
     "name": "stdout",
     "output_type": "stream",
     "text": [
      "now snoozing for 10 secs\n",
      "now scraping page 331\n"
     ]
    },
    {
     "name": "stderr",
     "output_type": "stream",
     "text": [
      "/var/folders/61/68rz41055xg7sv4h43532jh00000gn/T/ipykernel_25630/3887715647.py:6: FutureWarning: The frame.append method is deprecated and will be removed from pandas in a future version. Use pandas.concat instead.\n",
      "  df=df.append(table[0])\n"
     ]
    },
    {
     "name": "stdout",
     "output_type": "stream",
     "text": [
      "now snoozing for 19 secs\n",
      "now scraping page 332\n"
     ]
    },
    {
     "name": "stderr",
     "output_type": "stream",
     "text": [
      "/var/folders/61/68rz41055xg7sv4h43532jh00000gn/T/ipykernel_25630/3887715647.py:6: FutureWarning: The frame.append method is deprecated and will be removed from pandas in a future version. Use pandas.concat instead.\n",
      "  df=df.append(table[0])\n"
     ]
    },
    {
     "name": "stdout",
     "output_type": "stream",
     "text": [
      "now snoozing for 10 secs\n",
      "now scraping page 333\n"
     ]
    },
    {
     "name": "stderr",
     "output_type": "stream",
     "text": [
      "/var/folders/61/68rz41055xg7sv4h43532jh00000gn/T/ipykernel_25630/3887715647.py:6: FutureWarning: The frame.append method is deprecated and will be removed from pandas in a future version. Use pandas.concat instead.\n",
      "  df=df.append(table[0])\n"
     ]
    },
    {
     "name": "stdout",
     "output_type": "stream",
     "text": [
      "now snoozing for 15 secs\n",
      "now scraping page 334\n"
     ]
    },
    {
     "name": "stderr",
     "output_type": "stream",
     "text": [
      "/var/folders/61/68rz41055xg7sv4h43532jh00000gn/T/ipykernel_25630/3887715647.py:6: FutureWarning: The frame.append method is deprecated and will be removed from pandas in a future version. Use pandas.concat instead.\n",
      "  df=df.append(table[0])\n"
     ]
    },
    {
     "name": "stdout",
     "output_type": "stream",
     "text": [
      "now snoozing for 12 secs\n",
      "now scraping page 335\n"
     ]
    },
    {
     "name": "stderr",
     "output_type": "stream",
     "text": [
      "/var/folders/61/68rz41055xg7sv4h43532jh00000gn/T/ipykernel_25630/3887715647.py:6: FutureWarning: The frame.append method is deprecated and will be removed from pandas in a future version. Use pandas.concat instead.\n",
      "  df=df.append(table[0])\n"
     ]
    },
    {
     "name": "stdout",
     "output_type": "stream",
     "text": [
      "now snoozing for 15 secs\n",
      "now scraping page 336\n"
     ]
    },
    {
     "name": "stderr",
     "output_type": "stream",
     "text": [
      "/var/folders/61/68rz41055xg7sv4h43532jh00000gn/T/ipykernel_25630/3887715647.py:6: FutureWarning: The frame.append method is deprecated and will be removed from pandas in a future version. Use pandas.concat instead.\n",
      "  df=df.append(table[0])\n"
     ]
    },
    {
     "name": "stdout",
     "output_type": "stream",
     "text": [
      "now snoozing for 15 secs\n",
      "now scraping page 337\n"
     ]
    },
    {
     "name": "stderr",
     "output_type": "stream",
     "text": [
      "/var/folders/61/68rz41055xg7sv4h43532jh00000gn/T/ipykernel_25630/3887715647.py:6: FutureWarning: The frame.append method is deprecated and will be removed from pandas in a future version. Use pandas.concat instead.\n",
      "  df=df.append(table[0])\n"
     ]
    },
    {
     "name": "stdout",
     "output_type": "stream",
     "text": [
      "now snoozing for 19 secs\n",
      "now scraping page 338\n"
     ]
    },
    {
     "name": "stderr",
     "output_type": "stream",
     "text": [
      "/var/folders/61/68rz41055xg7sv4h43532jh00000gn/T/ipykernel_25630/3887715647.py:6: FutureWarning: The frame.append method is deprecated and will be removed from pandas in a future version. Use pandas.concat instead.\n",
      "  df=df.append(table[0])\n"
     ]
    },
    {
     "name": "stdout",
     "output_type": "stream",
     "text": [
      "now snoozing for 17 secs\n",
      "now scraping page 339\n"
     ]
    },
    {
     "name": "stderr",
     "output_type": "stream",
     "text": [
      "/var/folders/61/68rz41055xg7sv4h43532jh00000gn/T/ipykernel_25630/3887715647.py:6: FutureWarning: The frame.append method is deprecated and will be removed from pandas in a future version. Use pandas.concat instead.\n",
      "  df=df.append(table[0])\n"
     ]
    },
    {
     "name": "stdout",
     "output_type": "stream",
     "text": [
      "now snoozing for 11 secs\n",
      "now scraping page 340\n"
     ]
    },
    {
     "name": "stderr",
     "output_type": "stream",
     "text": [
      "/var/folders/61/68rz41055xg7sv4h43532jh00000gn/T/ipykernel_25630/3887715647.py:6: FutureWarning: The frame.append method is deprecated and will be removed from pandas in a future version. Use pandas.concat instead.\n",
      "  df=df.append(table[0])\n"
     ]
    },
    {
     "name": "stdout",
     "output_type": "stream",
     "text": [
      "now snoozing for 18 secs\n",
      "now scraping page 341\n"
     ]
    },
    {
     "name": "stderr",
     "output_type": "stream",
     "text": [
      "/var/folders/61/68rz41055xg7sv4h43532jh00000gn/T/ipykernel_25630/3887715647.py:6: FutureWarning: The frame.append method is deprecated and will be removed from pandas in a future version. Use pandas.concat instead.\n",
      "  df=df.append(table[0])\n"
     ]
    },
    {
     "name": "stdout",
     "output_type": "stream",
     "text": [
      "now snoozing for 17 secs\n",
      "now scraping page 342\n"
     ]
    },
    {
     "name": "stderr",
     "output_type": "stream",
     "text": [
      "/var/folders/61/68rz41055xg7sv4h43532jh00000gn/T/ipykernel_25630/3887715647.py:6: FutureWarning: The frame.append method is deprecated and will be removed from pandas in a future version. Use pandas.concat instead.\n",
      "  df=df.append(table[0])\n"
     ]
    },
    {
     "name": "stdout",
     "output_type": "stream",
     "text": [
      "now snoozing for 15 secs\n",
      "now scraping page 343\n"
     ]
    },
    {
     "name": "stderr",
     "output_type": "stream",
     "text": [
      "/var/folders/61/68rz41055xg7sv4h43532jh00000gn/T/ipykernel_25630/3887715647.py:6: FutureWarning: The frame.append method is deprecated and will be removed from pandas in a future version. Use pandas.concat instead.\n",
      "  df=df.append(table[0])\n"
     ]
    },
    {
     "name": "stdout",
     "output_type": "stream",
     "text": [
      "now snoozing for 17 secs\n",
      "now scraping page 344\n"
     ]
    },
    {
     "name": "stderr",
     "output_type": "stream",
     "text": [
      "/var/folders/61/68rz41055xg7sv4h43532jh00000gn/T/ipykernel_25630/3887715647.py:6: FutureWarning: The frame.append method is deprecated and will be removed from pandas in a future version. Use pandas.concat instead.\n",
      "  df=df.append(table[0])\n"
     ]
    },
    {
     "name": "stdout",
     "output_type": "stream",
     "text": [
      "now snoozing for 12 secs\n",
      "now scraping page 345\n"
     ]
    },
    {
     "name": "stderr",
     "output_type": "stream",
     "text": [
      "/var/folders/61/68rz41055xg7sv4h43532jh00000gn/T/ipykernel_25630/3887715647.py:6: FutureWarning: The frame.append method is deprecated and will be removed from pandas in a future version. Use pandas.concat instead.\n",
      "  df=df.append(table[0])\n"
     ]
    },
    {
     "name": "stdout",
     "output_type": "stream",
     "text": [
      "now snoozing for 15 secs\n",
      "now scraping page 346\n"
     ]
    },
    {
     "name": "stderr",
     "output_type": "stream",
     "text": [
      "/var/folders/61/68rz41055xg7sv4h43532jh00000gn/T/ipykernel_25630/3887715647.py:6: FutureWarning: The frame.append method is deprecated and will be removed from pandas in a future version. Use pandas.concat instead.\n",
      "  df=df.append(table[0])\n"
     ]
    },
    {
     "name": "stdout",
     "output_type": "stream",
     "text": [
      "now snoozing for 17 secs\n",
      "now scraping page 347\n"
     ]
    },
    {
     "name": "stderr",
     "output_type": "stream",
     "text": [
      "/var/folders/61/68rz41055xg7sv4h43532jh00000gn/T/ipykernel_25630/3887715647.py:6: FutureWarning: The frame.append method is deprecated and will be removed from pandas in a future version. Use pandas.concat instead.\n",
      "  df=df.append(table[0])\n"
     ]
    },
    {
     "name": "stdout",
     "output_type": "stream",
     "text": [
      "now snoozing for 16 secs\n",
      "now scraping page 348\n"
     ]
    },
    {
     "name": "stderr",
     "output_type": "stream",
     "text": [
      "/var/folders/61/68rz41055xg7sv4h43532jh00000gn/T/ipykernel_25630/3887715647.py:6: FutureWarning: The frame.append method is deprecated and will be removed from pandas in a future version. Use pandas.concat instead.\n",
      "  df=df.append(table[0])\n"
     ]
    },
    {
     "name": "stdout",
     "output_type": "stream",
     "text": [
      "now snoozing for 14 secs\n",
      "now scraping page 349\n"
     ]
    },
    {
     "name": "stderr",
     "output_type": "stream",
     "text": [
      "/var/folders/61/68rz41055xg7sv4h43532jh00000gn/T/ipykernel_25630/3887715647.py:6: FutureWarning: The frame.append method is deprecated and will be removed from pandas in a future version. Use pandas.concat instead.\n",
      "  df=df.append(table[0])\n"
     ]
    },
    {
     "name": "stdout",
     "output_type": "stream",
     "text": [
      "now snoozing for 11 secs\n",
      "now scraping page 350\n"
     ]
    },
    {
     "name": "stderr",
     "output_type": "stream",
     "text": [
      "/var/folders/61/68rz41055xg7sv4h43532jh00000gn/T/ipykernel_25630/3887715647.py:6: FutureWarning: The frame.append method is deprecated and will be removed from pandas in a future version. Use pandas.concat instead.\n",
      "  df=df.append(table[0])\n"
     ]
    },
    {
     "name": "stdout",
     "output_type": "stream",
     "text": [
      "now snoozing for 10 secs\n",
      "now scraping page 351\n"
     ]
    },
    {
     "name": "stderr",
     "output_type": "stream",
     "text": [
      "/var/folders/61/68rz41055xg7sv4h43532jh00000gn/T/ipykernel_25630/3887715647.py:6: FutureWarning: The frame.append method is deprecated and will be removed from pandas in a future version. Use pandas.concat instead.\n",
      "  df=df.append(table[0])\n"
     ]
    },
    {
     "name": "stdout",
     "output_type": "stream",
     "text": [
      "now snoozing for 17 secs\n",
      "now scraping page 352\n"
     ]
    },
    {
     "name": "stderr",
     "output_type": "stream",
     "text": [
      "/var/folders/61/68rz41055xg7sv4h43532jh00000gn/T/ipykernel_25630/3887715647.py:6: FutureWarning: The frame.append method is deprecated and will be removed from pandas in a future version. Use pandas.concat instead.\n",
      "  df=df.append(table[0])\n"
     ]
    },
    {
     "name": "stdout",
     "output_type": "stream",
     "text": [
      "now snoozing for 15 secs\n",
      "now scraping page 353\n"
     ]
    },
    {
     "name": "stderr",
     "output_type": "stream",
     "text": [
      "/var/folders/61/68rz41055xg7sv4h43532jh00000gn/T/ipykernel_25630/3887715647.py:6: FutureWarning: The frame.append method is deprecated and will be removed from pandas in a future version. Use pandas.concat instead.\n",
      "  df=df.append(table[0])\n"
     ]
    },
    {
     "name": "stdout",
     "output_type": "stream",
     "text": [
      "now snoozing for 12 secs\n",
      "now scraping page 354\n"
     ]
    },
    {
     "name": "stderr",
     "output_type": "stream",
     "text": [
      "/var/folders/61/68rz41055xg7sv4h43532jh00000gn/T/ipykernel_25630/3887715647.py:6: FutureWarning: The frame.append method is deprecated and will be removed from pandas in a future version. Use pandas.concat instead.\n",
      "  df=df.append(table[0])\n"
     ]
    },
    {
     "name": "stdout",
     "output_type": "stream",
     "text": [
      "now snoozing for 18 secs\n",
      "now scraping page 355\n"
     ]
    },
    {
     "name": "stderr",
     "output_type": "stream",
     "text": [
      "/var/folders/61/68rz41055xg7sv4h43532jh00000gn/T/ipykernel_25630/3887715647.py:6: FutureWarning: The frame.append method is deprecated and will be removed from pandas in a future version. Use pandas.concat instead.\n",
      "  df=df.append(table[0])\n"
     ]
    },
    {
     "name": "stdout",
     "output_type": "stream",
     "text": [
      "now snoozing for 16 secs\n",
      "now scraping page 356\n"
     ]
    },
    {
     "name": "stderr",
     "output_type": "stream",
     "text": [
      "/var/folders/61/68rz41055xg7sv4h43532jh00000gn/T/ipykernel_25630/3887715647.py:6: FutureWarning: The frame.append method is deprecated and will be removed from pandas in a future version. Use pandas.concat instead.\n",
      "  df=df.append(table[0])\n"
     ]
    },
    {
     "name": "stdout",
     "output_type": "stream",
     "text": [
      "now snoozing for 11 secs\n",
      "now scraping page 357\n"
     ]
    },
    {
     "name": "stderr",
     "output_type": "stream",
     "text": [
      "/var/folders/61/68rz41055xg7sv4h43532jh00000gn/T/ipykernel_25630/3887715647.py:6: FutureWarning: The frame.append method is deprecated and will be removed from pandas in a future version. Use pandas.concat instead.\n",
      "  df=df.append(table[0])\n"
     ]
    },
    {
     "name": "stdout",
     "output_type": "stream",
     "text": [
      "now snoozing for 15 secs\n",
      "now scraping page 358\n"
     ]
    },
    {
     "name": "stderr",
     "output_type": "stream",
     "text": [
      "/var/folders/61/68rz41055xg7sv4h43532jh00000gn/T/ipykernel_25630/3887715647.py:6: FutureWarning: The frame.append method is deprecated and will be removed from pandas in a future version. Use pandas.concat instead.\n",
      "  df=df.append(table[0])\n"
     ]
    },
    {
     "name": "stdout",
     "output_type": "stream",
     "text": [
      "now snoozing for 19 secs\n",
      "now scraping page 359\n"
     ]
    },
    {
     "name": "stderr",
     "output_type": "stream",
     "text": [
      "/var/folders/61/68rz41055xg7sv4h43532jh00000gn/T/ipykernel_25630/3887715647.py:6: FutureWarning: The frame.append method is deprecated and will be removed from pandas in a future version. Use pandas.concat instead.\n",
      "  df=df.append(table[0])\n"
     ]
    },
    {
     "name": "stdout",
     "output_type": "stream",
     "text": [
      "now snoozing for 10 secs\n",
      "now scraping page 360\n"
     ]
    },
    {
     "name": "stderr",
     "output_type": "stream",
     "text": [
      "/var/folders/61/68rz41055xg7sv4h43532jh00000gn/T/ipykernel_25630/3887715647.py:6: FutureWarning: The frame.append method is deprecated and will be removed from pandas in a future version. Use pandas.concat instead.\n",
      "  df=df.append(table[0])\n"
     ]
    },
    {
     "name": "stdout",
     "output_type": "stream",
     "text": [
      "now snoozing for 10 secs\n",
      "now scraping page 361\n"
     ]
    },
    {
     "name": "stderr",
     "output_type": "stream",
     "text": [
      "/var/folders/61/68rz41055xg7sv4h43532jh00000gn/T/ipykernel_25630/3887715647.py:6: FutureWarning: The frame.append method is deprecated and will be removed from pandas in a future version. Use pandas.concat instead.\n",
      "  df=df.append(table[0])\n"
     ]
    },
    {
     "name": "stdout",
     "output_type": "stream",
     "text": [
      "now snoozing for 15 secs\n",
      "now scraping page 362\n"
     ]
    },
    {
     "name": "stderr",
     "output_type": "stream",
     "text": [
      "/var/folders/61/68rz41055xg7sv4h43532jh00000gn/T/ipykernel_25630/3887715647.py:6: FutureWarning: The frame.append method is deprecated and will be removed from pandas in a future version. Use pandas.concat instead.\n",
      "  df=df.append(table[0])\n"
     ]
    },
    {
     "name": "stdout",
     "output_type": "stream",
     "text": [
      "now snoozing for 14 secs\n",
      "now scraping page 363\n"
     ]
    },
    {
     "name": "stderr",
     "output_type": "stream",
     "text": [
      "/var/folders/61/68rz41055xg7sv4h43532jh00000gn/T/ipykernel_25630/3887715647.py:6: FutureWarning: The frame.append method is deprecated and will be removed from pandas in a future version. Use pandas.concat instead.\n",
      "  df=df.append(table[0])\n"
     ]
    },
    {
     "name": "stdout",
     "output_type": "stream",
     "text": [
      "now snoozing for 14 secs\n",
      "now scraping page 364\n"
     ]
    },
    {
     "name": "stderr",
     "output_type": "stream",
     "text": [
      "/var/folders/61/68rz41055xg7sv4h43532jh00000gn/T/ipykernel_25630/3887715647.py:6: FutureWarning: The frame.append method is deprecated and will be removed from pandas in a future version. Use pandas.concat instead.\n",
      "  df=df.append(table[0])\n"
     ]
    },
    {
     "name": "stdout",
     "output_type": "stream",
     "text": [
      "now snoozing for 15 secs\n",
      "now scraping page 365\n"
     ]
    },
    {
     "name": "stderr",
     "output_type": "stream",
     "text": [
      "/var/folders/61/68rz41055xg7sv4h43532jh00000gn/T/ipykernel_25630/3887715647.py:6: FutureWarning: The frame.append method is deprecated and will be removed from pandas in a future version. Use pandas.concat instead.\n",
      "  df=df.append(table[0])\n"
     ]
    },
    {
     "name": "stdout",
     "output_type": "stream",
     "text": [
      "now snoozing for 10 secs\n",
      "now scraping page 366\n"
     ]
    },
    {
     "name": "stderr",
     "output_type": "stream",
     "text": [
      "/var/folders/61/68rz41055xg7sv4h43532jh00000gn/T/ipykernel_25630/3887715647.py:6: FutureWarning: The frame.append method is deprecated and will be removed from pandas in a future version. Use pandas.concat instead.\n",
      "  df=df.append(table[0])\n"
     ]
    },
    {
     "name": "stdout",
     "output_type": "stream",
     "text": [
      "now snoozing for 17 secs\n",
      "now scraping page 367\n"
     ]
    },
    {
     "name": "stderr",
     "output_type": "stream",
     "text": [
      "/var/folders/61/68rz41055xg7sv4h43532jh00000gn/T/ipykernel_25630/3887715647.py:6: FutureWarning: The frame.append method is deprecated and will be removed from pandas in a future version. Use pandas.concat instead.\n",
      "  df=df.append(table[0])\n"
     ]
    },
    {
     "name": "stdout",
     "output_type": "stream",
     "text": [
      "now snoozing for 19 secs\n",
      "now scraping page 368\n"
     ]
    },
    {
     "name": "stderr",
     "output_type": "stream",
     "text": [
      "/var/folders/61/68rz41055xg7sv4h43532jh00000gn/T/ipykernel_25630/3887715647.py:6: FutureWarning: The frame.append method is deprecated and will be removed from pandas in a future version. Use pandas.concat instead.\n",
      "  df=df.append(table[0])\n"
     ]
    },
    {
     "name": "stdout",
     "output_type": "stream",
     "text": [
      "now snoozing for 14 secs\n",
      "now scraping page 369\n"
     ]
    },
    {
     "name": "stderr",
     "output_type": "stream",
     "text": [
      "/var/folders/61/68rz41055xg7sv4h43532jh00000gn/T/ipykernel_25630/3887715647.py:6: FutureWarning: The frame.append method is deprecated and will be removed from pandas in a future version. Use pandas.concat instead.\n",
      "  df=df.append(table[0])\n"
     ]
    },
    {
     "name": "stdout",
     "output_type": "stream",
     "text": [
      "now snoozing for 13 secs\n",
      "now scraping page 370\n"
     ]
    },
    {
     "name": "stderr",
     "output_type": "stream",
     "text": [
      "/var/folders/61/68rz41055xg7sv4h43532jh00000gn/T/ipykernel_25630/3887715647.py:6: FutureWarning: The frame.append method is deprecated and will be removed from pandas in a future version. Use pandas.concat instead.\n",
      "  df=df.append(table[0])\n"
     ]
    },
    {
     "name": "stdout",
     "output_type": "stream",
     "text": [
      "now snoozing for 15 secs\n",
      "now scraping page 371\n"
     ]
    },
    {
     "name": "stderr",
     "output_type": "stream",
     "text": [
      "/var/folders/61/68rz41055xg7sv4h43532jh00000gn/T/ipykernel_25630/3887715647.py:6: FutureWarning: The frame.append method is deprecated and will be removed from pandas in a future version. Use pandas.concat instead.\n",
      "  df=df.append(table[0])\n"
     ]
    },
    {
     "name": "stdout",
     "output_type": "stream",
     "text": [
      "now snoozing for 11 secs\n",
      "now scraping page 372\n"
     ]
    },
    {
     "name": "stderr",
     "output_type": "stream",
     "text": [
      "/var/folders/61/68rz41055xg7sv4h43532jh00000gn/T/ipykernel_25630/3887715647.py:6: FutureWarning: The frame.append method is deprecated and will be removed from pandas in a future version. Use pandas.concat instead.\n",
      "  df=df.append(table[0])\n"
     ]
    },
    {
     "name": "stdout",
     "output_type": "stream",
     "text": [
      "now snoozing for 15 secs\n",
      "now scraping page 373\n"
     ]
    },
    {
     "name": "stderr",
     "output_type": "stream",
     "text": [
      "/var/folders/61/68rz41055xg7sv4h43532jh00000gn/T/ipykernel_25630/3887715647.py:6: FutureWarning: The frame.append method is deprecated and will be removed from pandas in a future version. Use pandas.concat instead.\n",
      "  df=df.append(table[0])\n"
     ]
    },
    {
     "name": "stdout",
     "output_type": "stream",
     "text": [
      "now snoozing for 13 secs\n",
      "now scraping page 374\n"
     ]
    },
    {
     "name": "stderr",
     "output_type": "stream",
     "text": [
      "/var/folders/61/68rz41055xg7sv4h43532jh00000gn/T/ipykernel_25630/3887715647.py:6: FutureWarning: The frame.append method is deprecated and will be removed from pandas in a future version. Use pandas.concat instead.\n",
      "  df=df.append(table[0])\n"
     ]
    },
    {
     "name": "stdout",
     "output_type": "stream",
     "text": [
      "now snoozing for 15 secs\n",
      "now scraping page 375\n"
     ]
    },
    {
     "name": "stderr",
     "output_type": "stream",
     "text": [
      "/var/folders/61/68rz41055xg7sv4h43532jh00000gn/T/ipykernel_25630/3887715647.py:6: FutureWarning: The frame.append method is deprecated and will be removed from pandas in a future version. Use pandas.concat instead.\n",
      "  df=df.append(table[0])\n"
     ]
    },
    {
     "name": "stdout",
     "output_type": "stream",
     "text": [
      "now snoozing for 13 secs\n",
      "now scraping page 376\n"
     ]
    },
    {
     "name": "stderr",
     "output_type": "stream",
     "text": [
      "/var/folders/61/68rz41055xg7sv4h43532jh00000gn/T/ipykernel_25630/3887715647.py:6: FutureWarning: The frame.append method is deprecated and will be removed from pandas in a future version. Use pandas.concat instead.\n",
      "  df=df.append(table[0])\n"
     ]
    },
    {
     "name": "stdout",
     "output_type": "stream",
     "text": [
      "now snoozing for 12 secs\n",
      "now scraping page 377\n"
     ]
    },
    {
     "name": "stderr",
     "output_type": "stream",
     "text": [
      "/var/folders/61/68rz41055xg7sv4h43532jh00000gn/T/ipykernel_25630/3887715647.py:6: FutureWarning: The frame.append method is deprecated and will be removed from pandas in a future version. Use pandas.concat instead.\n",
      "  df=df.append(table[0])\n"
     ]
    },
    {
     "name": "stdout",
     "output_type": "stream",
     "text": [
      "now snoozing for 10 secs\n",
      "now scraping page 378\n"
     ]
    },
    {
     "name": "stderr",
     "output_type": "stream",
     "text": [
      "/var/folders/61/68rz41055xg7sv4h43532jh00000gn/T/ipykernel_25630/3887715647.py:6: FutureWarning: The frame.append method is deprecated and will be removed from pandas in a future version. Use pandas.concat instead.\n",
      "  df=df.append(table[0])\n"
     ]
    },
    {
     "name": "stdout",
     "output_type": "stream",
     "text": [
      "now snoozing for 13 secs\n",
      "now scraping page 379\n"
     ]
    },
    {
     "name": "stderr",
     "output_type": "stream",
     "text": [
      "/var/folders/61/68rz41055xg7sv4h43532jh00000gn/T/ipykernel_25630/3887715647.py:6: FutureWarning: The frame.append method is deprecated and will be removed from pandas in a future version. Use pandas.concat instead.\n",
      "  df=df.append(table[0])\n"
     ]
    },
    {
     "name": "stdout",
     "output_type": "stream",
     "text": [
      "now snoozing for 17 secs\n",
      "now scraping page 380\n"
     ]
    },
    {
     "name": "stderr",
     "output_type": "stream",
     "text": [
      "/var/folders/61/68rz41055xg7sv4h43532jh00000gn/T/ipykernel_25630/3887715647.py:6: FutureWarning: The frame.append method is deprecated and will be removed from pandas in a future version. Use pandas.concat instead.\n",
      "  df=df.append(table[0])\n"
     ]
    },
    {
     "name": "stdout",
     "output_type": "stream",
     "text": [
      "now snoozing for 12 secs\n",
      "now scraping page 381\n"
     ]
    },
    {
     "name": "stderr",
     "output_type": "stream",
     "text": [
      "/var/folders/61/68rz41055xg7sv4h43532jh00000gn/T/ipykernel_25630/3887715647.py:6: FutureWarning: The frame.append method is deprecated and will be removed from pandas in a future version. Use pandas.concat instead.\n",
      "  df=df.append(table[0])\n"
     ]
    },
    {
     "name": "stdout",
     "output_type": "stream",
     "text": [
      "now snoozing for 17 secs\n",
      "now scraping page 382\n"
     ]
    },
    {
     "name": "stderr",
     "output_type": "stream",
     "text": [
      "/var/folders/61/68rz41055xg7sv4h43532jh00000gn/T/ipykernel_25630/3887715647.py:6: FutureWarning: The frame.append method is deprecated and will be removed from pandas in a future version. Use pandas.concat instead.\n",
      "  df=df.append(table[0])\n"
     ]
    },
    {
     "name": "stdout",
     "output_type": "stream",
     "text": [
      "now snoozing for 16 secs\n",
      "now scraping page 383\n"
     ]
    },
    {
     "name": "stderr",
     "output_type": "stream",
     "text": [
      "/var/folders/61/68rz41055xg7sv4h43532jh00000gn/T/ipykernel_25630/3887715647.py:6: FutureWarning: The frame.append method is deprecated and will be removed from pandas in a future version. Use pandas.concat instead.\n",
      "  df=df.append(table[0])\n"
     ]
    },
    {
     "name": "stdout",
     "output_type": "stream",
     "text": [
      "now snoozing for 12 secs\n",
      "now scraping page 384\n"
     ]
    },
    {
     "name": "stderr",
     "output_type": "stream",
     "text": [
      "/var/folders/61/68rz41055xg7sv4h43532jh00000gn/T/ipykernel_25630/3887715647.py:6: FutureWarning: The frame.append method is deprecated and will be removed from pandas in a future version. Use pandas.concat instead.\n",
      "  df=df.append(table[0])\n"
     ]
    },
    {
     "name": "stdout",
     "output_type": "stream",
     "text": [
      "now snoozing for 18 secs\n",
      "now scraping page 385\n"
     ]
    },
    {
     "name": "stderr",
     "output_type": "stream",
     "text": [
      "/var/folders/61/68rz41055xg7sv4h43532jh00000gn/T/ipykernel_25630/3887715647.py:6: FutureWarning: The frame.append method is deprecated and will be removed from pandas in a future version. Use pandas.concat instead.\n",
      "  df=df.append(table[0])\n"
     ]
    },
    {
     "name": "stdout",
     "output_type": "stream",
     "text": [
      "now snoozing for 12 secs\n",
      "now scraping page 386\n"
     ]
    },
    {
     "name": "stderr",
     "output_type": "stream",
     "text": [
      "/var/folders/61/68rz41055xg7sv4h43532jh00000gn/T/ipykernel_25630/3887715647.py:6: FutureWarning: The frame.append method is deprecated and will be removed from pandas in a future version. Use pandas.concat instead.\n",
      "  df=df.append(table[0])\n"
     ]
    },
    {
     "name": "stdout",
     "output_type": "stream",
     "text": [
      "now snoozing for 16 secs\n",
      "now scraping page 387\n"
     ]
    },
    {
     "name": "stderr",
     "output_type": "stream",
     "text": [
      "/var/folders/61/68rz41055xg7sv4h43532jh00000gn/T/ipykernel_25630/3887715647.py:6: FutureWarning: The frame.append method is deprecated and will be removed from pandas in a future version. Use pandas.concat instead.\n",
      "  df=df.append(table[0])\n"
     ]
    },
    {
     "name": "stdout",
     "output_type": "stream",
     "text": [
      "now snoozing for 15 secs\n",
      "now scraping page 388\n"
     ]
    },
    {
     "name": "stderr",
     "output_type": "stream",
     "text": [
      "/var/folders/61/68rz41055xg7sv4h43532jh00000gn/T/ipykernel_25630/3887715647.py:6: FutureWarning: The frame.append method is deprecated and will be removed from pandas in a future version. Use pandas.concat instead.\n",
      "  df=df.append(table[0])\n"
     ]
    },
    {
     "name": "stdout",
     "output_type": "stream",
     "text": [
      "now snoozing for 14 secs\n",
      "now scraping page 389\n"
     ]
    },
    {
     "name": "stderr",
     "output_type": "stream",
     "text": [
      "/var/folders/61/68rz41055xg7sv4h43532jh00000gn/T/ipykernel_25630/3887715647.py:6: FutureWarning: The frame.append method is deprecated and will be removed from pandas in a future version. Use pandas.concat instead.\n",
      "  df=df.append(table[0])\n"
     ]
    },
    {
     "name": "stdout",
     "output_type": "stream",
     "text": [
      "now snoozing for 15 secs\n",
      "now scraping page 390\n"
     ]
    },
    {
     "name": "stderr",
     "output_type": "stream",
     "text": [
      "/var/folders/61/68rz41055xg7sv4h43532jh00000gn/T/ipykernel_25630/3887715647.py:6: FutureWarning: The frame.append method is deprecated and will be removed from pandas in a future version. Use pandas.concat instead.\n",
      "  df=df.append(table[0])\n"
     ]
    },
    {
     "name": "stdout",
     "output_type": "stream",
     "text": [
      "now snoozing for 17 secs\n",
      "now scraping page 391\n"
     ]
    },
    {
     "name": "stderr",
     "output_type": "stream",
     "text": [
      "/var/folders/61/68rz41055xg7sv4h43532jh00000gn/T/ipykernel_25630/3887715647.py:6: FutureWarning: The frame.append method is deprecated and will be removed from pandas in a future version. Use pandas.concat instead.\n",
      "  df=df.append(table[0])\n"
     ]
    },
    {
     "name": "stdout",
     "output_type": "stream",
     "text": [
      "now snoozing for 12 secs\n",
      "now scraping page 392\n"
     ]
    },
    {
     "name": "stderr",
     "output_type": "stream",
     "text": [
      "/var/folders/61/68rz41055xg7sv4h43532jh00000gn/T/ipykernel_25630/3887715647.py:6: FutureWarning: The frame.append method is deprecated and will be removed from pandas in a future version. Use pandas.concat instead.\n",
      "  df=df.append(table[0])\n"
     ]
    },
    {
     "name": "stdout",
     "output_type": "stream",
     "text": [
      "now snoozing for 17 secs\n",
      "now scraping page 393\n"
     ]
    },
    {
     "name": "stderr",
     "output_type": "stream",
     "text": [
      "/var/folders/61/68rz41055xg7sv4h43532jh00000gn/T/ipykernel_25630/3887715647.py:6: FutureWarning: The frame.append method is deprecated and will be removed from pandas in a future version. Use pandas.concat instead.\n",
      "  df=df.append(table[0])\n"
     ]
    },
    {
     "name": "stdout",
     "output_type": "stream",
     "text": [
      "now snoozing for 10 secs\n",
      "now scraping page 394\n"
     ]
    },
    {
     "name": "stderr",
     "output_type": "stream",
     "text": [
      "/var/folders/61/68rz41055xg7sv4h43532jh00000gn/T/ipykernel_25630/3887715647.py:6: FutureWarning: The frame.append method is deprecated and will be removed from pandas in a future version. Use pandas.concat instead.\n",
      "  df=df.append(table[0])\n"
     ]
    },
    {
     "name": "stdout",
     "output_type": "stream",
     "text": [
      "now snoozing for 12 secs\n",
      "now scraping page 395\n"
     ]
    },
    {
     "name": "stderr",
     "output_type": "stream",
     "text": [
      "/var/folders/61/68rz41055xg7sv4h43532jh00000gn/T/ipykernel_25630/3887715647.py:6: FutureWarning: The frame.append method is deprecated and will be removed from pandas in a future version. Use pandas.concat instead.\n",
      "  df=df.append(table[0])\n"
     ]
    },
    {
     "name": "stdout",
     "output_type": "stream",
     "text": [
      "now snoozing for 11 secs\n",
      "now scraping page 396\n"
     ]
    },
    {
     "name": "stderr",
     "output_type": "stream",
     "text": [
      "/var/folders/61/68rz41055xg7sv4h43532jh00000gn/T/ipykernel_25630/3887715647.py:6: FutureWarning: The frame.append method is deprecated and will be removed from pandas in a future version. Use pandas.concat instead.\n",
      "  df=df.append(table[0])\n"
     ]
    },
    {
     "name": "stdout",
     "output_type": "stream",
     "text": [
      "now snoozing for 14 secs\n",
      "now scraping page 397\n"
     ]
    },
    {
     "name": "stderr",
     "output_type": "stream",
     "text": [
      "/var/folders/61/68rz41055xg7sv4h43532jh00000gn/T/ipykernel_25630/3887715647.py:6: FutureWarning: The frame.append method is deprecated and will be removed from pandas in a future version. Use pandas.concat instead.\n",
      "  df=df.append(table[0])\n"
     ]
    },
    {
     "name": "stdout",
     "output_type": "stream",
     "text": [
      "now snoozing for 10 secs\n",
      "now scraping page 398\n"
     ]
    },
    {
     "name": "stderr",
     "output_type": "stream",
     "text": [
      "/var/folders/61/68rz41055xg7sv4h43532jh00000gn/T/ipykernel_25630/3887715647.py:6: FutureWarning: The frame.append method is deprecated and will be removed from pandas in a future version. Use pandas.concat instead.\n",
      "  df=df.append(table[0])\n"
     ]
    },
    {
     "name": "stdout",
     "output_type": "stream",
     "text": [
      "now snoozing for 14 secs\n",
      "now scraping page 399\n"
     ]
    },
    {
     "name": "stderr",
     "output_type": "stream",
     "text": [
      "/var/folders/61/68rz41055xg7sv4h43532jh00000gn/T/ipykernel_25630/3887715647.py:6: FutureWarning: The frame.append method is deprecated and will be removed from pandas in a future version. Use pandas.concat instead.\n",
      "  df=df.append(table[0])\n"
     ]
    },
    {
     "name": "stdout",
     "output_type": "stream",
     "text": [
      "now snoozing for 19 secs\n",
      "now scraping page 400\n"
     ]
    },
    {
     "name": "stderr",
     "output_type": "stream",
     "text": [
      "/var/folders/61/68rz41055xg7sv4h43532jh00000gn/T/ipykernel_25630/3887715647.py:6: FutureWarning: The frame.append method is deprecated and will be removed from pandas in a future version. Use pandas.concat instead.\n",
      "  df=df.append(table[0])\n"
     ]
    },
    {
     "name": "stdout",
     "output_type": "stream",
     "text": [
      "now snoozing for 10 secs\n",
      "now scraping page 401\n"
     ]
    },
    {
     "name": "stderr",
     "output_type": "stream",
     "text": [
      "/var/folders/61/68rz41055xg7sv4h43532jh00000gn/T/ipykernel_25630/3887715647.py:6: FutureWarning: The frame.append method is deprecated and will be removed from pandas in a future version. Use pandas.concat instead.\n",
      "  df=df.append(table[0])\n"
     ]
    },
    {
     "name": "stdout",
     "output_type": "stream",
     "text": [
      "now snoozing for 17 secs\n",
      "now scraping page 402\n"
     ]
    },
    {
     "name": "stderr",
     "output_type": "stream",
     "text": [
      "/var/folders/61/68rz41055xg7sv4h43532jh00000gn/T/ipykernel_25630/3887715647.py:6: FutureWarning: The frame.append method is deprecated and will be removed from pandas in a future version. Use pandas.concat instead.\n",
      "  df=df.append(table[0])\n"
     ]
    },
    {
     "name": "stdout",
     "output_type": "stream",
     "text": [
      "now snoozing for 19 secs\n",
      "now scraping page 403\n"
     ]
    },
    {
     "name": "stderr",
     "output_type": "stream",
     "text": [
      "/var/folders/61/68rz41055xg7sv4h43532jh00000gn/T/ipykernel_25630/3887715647.py:6: FutureWarning: The frame.append method is deprecated and will be removed from pandas in a future version. Use pandas.concat instead.\n",
      "  df=df.append(table[0])\n"
     ]
    },
    {
     "name": "stdout",
     "output_type": "stream",
     "text": [
      "now snoozing for 12 secs\n",
      "now scraping page 404\n"
     ]
    },
    {
     "name": "stderr",
     "output_type": "stream",
     "text": [
      "/var/folders/61/68rz41055xg7sv4h43532jh00000gn/T/ipykernel_25630/3887715647.py:6: FutureWarning: The frame.append method is deprecated and will be removed from pandas in a future version. Use pandas.concat instead.\n",
      "  df=df.append(table[0])\n"
     ]
    },
    {
     "name": "stdout",
     "output_type": "stream",
     "text": [
      "now snoozing for 16 secs\n",
      "now scraping page 405\n"
     ]
    },
    {
     "name": "stderr",
     "output_type": "stream",
     "text": [
      "/var/folders/61/68rz41055xg7sv4h43532jh00000gn/T/ipykernel_25630/3887715647.py:6: FutureWarning: The frame.append method is deprecated and will be removed from pandas in a future version. Use pandas.concat instead.\n",
      "  df=df.append(table[0])\n"
     ]
    },
    {
     "name": "stdout",
     "output_type": "stream",
     "text": [
      "now snoozing for 11 secs\n",
      "now scraping page 406\n"
     ]
    },
    {
     "name": "stderr",
     "output_type": "stream",
     "text": [
      "/var/folders/61/68rz41055xg7sv4h43532jh00000gn/T/ipykernel_25630/3887715647.py:6: FutureWarning: The frame.append method is deprecated and will be removed from pandas in a future version. Use pandas.concat instead.\n",
      "  df=df.append(table[0])\n"
     ]
    },
    {
     "name": "stdout",
     "output_type": "stream",
     "text": [
      "now snoozing for 18 secs\n",
      "now scraping page 407\n"
     ]
    },
    {
     "name": "stderr",
     "output_type": "stream",
     "text": [
      "/var/folders/61/68rz41055xg7sv4h43532jh00000gn/T/ipykernel_25630/3887715647.py:6: FutureWarning: The frame.append method is deprecated and will be removed from pandas in a future version. Use pandas.concat instead.\n",
      "  df=df.append(table[0])\n"
     ]
    },
    {
     "name": "stdout",
     "output_type": "stream",
     "text": [
      "now snoozing for 19 secs\n",
      "now scraping page 408\n"
     ]
    },
    {
     "name": "stderr",
     "output_type": "stream",
     "text": [
      "/var/folders/61/68rz41055xg7sv4h43532jh00000gn/T/ipykernel_25630/3887715647.py:6: FutureWarning: The frame.append method is deprecated and will be removed from pandas in a future version. Use pandas.concat instead.\n",
      "  df=df.append(table[0])\n"
     ]
    },
    {
     "name": "stdout",
     "output_type": "stream",
     "text": [
      "now snoozing for 12 secs\n",
      "now scraping page 409\n"
     ]
    },
    {
     "name": "stderr",
     "output_type": "stream",
     "text": [
      "/var/folders/61/68rz41055xg7sv4h43532jh00000gn/T/ipykernel_25630/3887715647.py:6: FutureWarning: The frame.append method is deprecated and will be removed from pandas in a future version. Use pandas.concat instead.\n",
      "  df=df.append(table[0])\n"
     ]
    },
    {
     "name": "stdout",
     "output_type": "stream",
     "text": [
      "now snoozing for 18 secs\n",
      "now scraping page 410\n"
     ]
    },
    {
     "name": "stderr",
     "output_type": "stream",
     "text": [
      "/var/folders/61/68rz41055xg7sv4h43532jh00000gn/T/ipykernel_25630/3887715647.py:6: FutureWarning: The frame.append method is deprecated and will be removed from pandas in a future version. Use pandas.concat instead.\n",
      "  df=df.append(table[0])\n"
     ]
    },
    {
     "name": "stdout",
     "output_type": "stream",
     "text": [
      "now snoozing for 10 secs\n",
      "now scraping page 411\n"
     ]
    },
    {
     "name": "stderr",
     "output_type": "stream",
     "text": [
      "/var/folders/61/68rz41055xg7sv4h43532jh00000gn/T/ipykernel_25630/3887715647.py:6: FutureWarning: The frame.append method is deprecated and will be removed from pandas in a future version. Use pandas.concat instead.\n",
      "  df=df.append(table[0])\n"
     ]
    },
    {
     "name": "stdout",
     "output_type": "stream",
     "text": [
      "now snoozing for 18 secs\n",
      "now scraping page 412\n"
     ]
    },
    {
     "name": "stderr",
     "output_type": "stream",
     "text": [
      "/var/folders/61/68rz41055xg7sv4h43532jh00000gn/T/ipykernel_25630/3887715647.py:6: FutureWarning: The frame.append method is deprecated and will be removed from pandas in a future version. Use pandas.concat instead.\n",
      "  df=df.append(table[0])\n"
     ]
    },
    {
     "name": "stdout",
     "output_type": "stream",
     "text": [
      "now snoozing for 17 secs\n",
      "now scraping page 413\n"
     ]
    },
    {
     "name": "stderr",
     "output_type": "stream",
     "text": [
      "/var/folders/61/68rz41055xg7sv4h43532jh00000gn/T/ipykernel_25630/3887715647.py:6: FutureWarning: The frame.append method is deprecated and will be removed from pandas in a future version. Use pandas.concat instead.\n",
      "  df=df.append(table[0])\n"
     ]
    },
    {
     "name": "stdout",
     "output_type": "stream",
     "text": [
      "now snoozing for 18 secs\n",
      "now scraping page 414\n"
     ]
    },
    {
     "name": "stderr",
     "output_type": "stream",
     "text": [
      "/var/folders/61/68rz41055xg7sv4h43532jh00000gn/T/ipykernel_25630/3887715647.py:6: FutureWarning: The frame.append method is deprecated and will be removed from pandas in a future version. Use pandas.concat instead.\n",
      "  df=df.append(table[0])\n"
     ]
    },
    {
     "name": "stdout",
     "output_type": "stream",
     "text": [
      "now snoozing for 19 secs\n",
      "now scraping page 415\n"
     ]
    },
    {
     "name": "stderr",
     "output_type": "stream",
     "text": [
      "/var/folders/61/68rz41055xg7sv4h43532jh00000gn/T/ipykernel_25630/3887715647.py:6: FutureWarning: The frame.append method is deprecated and will be removed from pandas in a future version. Use pandas.concat instead.\n",
      "  df=df.append(table[0])\n"
     ]
    },
    {
     "name": "stdout",
     "output_type": "stream",
     "text": [
      "now snoozing for 17 secs\n",
      "now scraping page 416\n"
     ]
    },
    {
     "name": "stderr",
     "output_type": "stream",
     "text": [
      "/var/folders/61/68rz41055xg7sv4h43532jh00000gn/T/ipykernel_25630/3887715647.py:6: FutureWarning: The frame.append method is deprecated and will be removed from pandas in a future version. Use pandas.concat instead.\n",
      "  df=df.append(table[0])\n"
     ]
    },
    {
     "name": "stdout",
     "output_type": "stream",
     "text": [
      "now snoozing for 14 secs\n",
      "now scraping page 417\n"
     ]
    },
    {
     "name": "stderr",
     "output_type": "stream",
     "text": [
      "/var/folders/61/68rz41055xg7sv4h43532jh00000gn/T/ipykernel_25630/3887715647.py:6: FutureWarning: The frame.append method is deprecated and will be removed from pandas in a future version. Use pandas.concat instead.\n",
      "  df=df.append(table[0])\n"
     ]
    },
    {
     "name": "stdout",
     "output_type": "stream",
     "text": [
      "now snoozing for 15 secs\n",
      "now scraping page 418\n"
     ]
    },
    {
     "name": "stderr",
     "output_type": "stream",
     "text": [
      "/var/folders/61/68rz41055xg7sv4h43532jh00000gn/T/ipykernel_25630/3887715647.py:6: FutureWarning: The frame.append method is deprecated and will be removed from pandas in a future version. Use pandas.concat instead.\n",
      "  df=df.append(table[0])\n"
     ]
    },
    {
     "name": "stdout",
     "output_type": "stream",
     "text": [
      "now snoozing for 17 secs\n",
      "now scraping page 419\n"
     ]
    },
    {
     "name": "stderr",
     "output_type": "stream",
     "text": [
      "/var/folders/61/68rz41055xg7sv4h43532jh00000gn/T/ipykernel_25630/3887715647.py:6: FutureWarning: The frame.append method is deprecated and will be removed from pandas in a future version. Use pandas.concat instead.\n",
      "  df=df.append(table[0])\n"
     ]
    },
    {
     "name": "stdout",
     "output_type": "stream",
     "text": [
      "now snoozing for 15 secs\n",
      "now scraping page 420\n"
     ]
    },
    {
     "name": "stderr",
     "output_type": "stream",
     "text": [
      "/var/folders/61/68rz41055xg7sv4h43532jh00000gn/T/ipykernel_25630/3887715647.py:6: FutureWarning: The frame.append method is deprecated and will be removed from pandas in a future version. Use pandas.concat instead.\n",
      "  df=df.append(table[0])\n"
     ]
    },
    {
     "name": "stdout",
     "output_type": "stream",
     "text": [
      "now snoozing for 13 secs\n",
      "now scraping page 421\n"
     ]
    },
    {
     "name": "stderr",
     "output_type": "stream",
     "text": [
      "/var/folders/61/68rz41055xg7sv4h43532jh00000gn/T/ipykernel_25630/3887715647.py:6: FutureWarning: The frame.append method is deprecated and will be removed from pandas in a future version. Use pandas.concat instead.\n",
      "  df=df.append(table[0])\n"
     ]
    },
    {
     "name": "stdout",
     "output_type": "stream",
     "text": [
      "now snoozing for 10 secs\n",
      "now scraping page 422\n"
     ]
    },
    {
     "name": "stderr",
     "output_type": "stream",
     "text": [
      "/var/folders/61/68rz41055xg7sv4h43532jh00000gn/T/ipykernel_25630/3887715647.py:6: FutureWarning: The frame.append method is deprecated and will be removed from pandas in a future version. Use pandas.concat instead.\n",
      "  df=df.append(table[0])\n"
     ]
    },
    {
     "name": "stdout",
     "output_type": "stream",
     "text": [
      "now snoozing for 18 secs\n",
      "now scraping page 423\n"
     ]
    },
    {
     "name": "stderr",
     "output_type": "stream",
     "text": [
      "/var/folders/61/68rz41055xg7sv4h43532jh00000gn/T/ipykernel_25630/3887715647.py:6: FutureWarning: The frame.append method is deprecated and will be removed from pandas in a future version. Use pandas.concat instead.\n",
      "  df=df.append(table[0])\n"
     ]
    },
    {
     "name": "stdout",
     "output_type": "stream",
     "text": [
      "now snoozing for 19 secs\n",
      "now scraping page 424\n"
     ]
    },
    {
     "name": "stderr",
     "output_type": "stream",
     "text": [
      "/var/folders/61/68rz41055xg7sv4h43532jh00000gn/T/ipykernel_25630/3887715647.py:6: FutureWarning: The frame.append method is deprecated and will be removed from pandas in a future version. Use pandas.concat instead.\n",
      "  df=df.append(table[0])\n"
     ]
    },
    {
     "name": "stdout",
     "output_type": "stream",
     "text": [
      "now snoozing for 15 secs\n",
      "now scraping page 425\n"
     ]
    },
    {
     "name": "stderr",
     "output_type": "stream",
     "text": [
      "/var/folders/61/68rz41055xg7sv4h43532jh00000gn/T/ipykernel_25630/3887715647.py:6: FutureWarning: The frame.append method is deprecated and will be removed from pandas in a future version. Use pandas.concat instead.\n",
      "  df=df.append(table[0])\n"
     ]
    },
    {
     "name": "stdout",
     "output_type": "stream",
     "text": [
      "now snoozing for 12 secs\n",
      "now scraping page 426\n"
     ]
    },
    {
     "name": "stderr",
     "output_type": "stream",
     "text": [
      "/var/folders/61/68rz41055xg7sv4h43532jh00000gn/T/ipykernel_25630/3887715647.py:6: FutureWarning: The frame.append method is deprecated and will be removed from pandas in a future version. Use pandas.concat instead.\n",
      "  df=df.append(table[0])\n"
     ]
    },
    {
     "name": "stdout",
     "output_type": "stream",
     "text": [
      "now snoozing for 14 secs\n",
      "now scraping page 427\n"
     ]
    },
    {
     "name": "stderr",
     "output_type": "stream",
     "text": [
      "/var/folders/61/68rz41055xg7sv4h43532jh00000gn/T/ipykernel_25630/3887715647.py:6: FutureWarning: The frame.append method is deprecated and will be removed from pandas in a future version. Use pandas.concat instead.\n",
      "  df=df.append(table[0])\n"
     ]
    },
    {
     "name": "stdout",
     "output_type": "stream",
     "text": [
      "now snoozing for 10 secs\n",
      "now scraping page 428\n"
     ]
    },
    {
     "name": "stderr",
     "output_type": "stream",
     "text": [
      "/var/folders/61/68rz41055xg7sv4h43532jh00000gn/T/ipykernel_25630/3887715647.py:6: FutureWarning: The frame.append method is deprecated and will be removed from pandas in a future version. Use pandas.concat instead.\n",
      "  df=df.append(table[0])\n"
     ]
    },
    {
     "name": "stdout",
     "output_type": "stream",
     "text": [
      "now snoozing for 12 secs\n",
      "now scraping page 429\n"
     ]
    },
    {
     "name": "stderr",
     "output_type": "stream",
     "text": [
      "/var/folders/61/68rz41055xg7sv4h43532jh00000gn/T/ipykernel_25630/3887715647.py:6: FutureWarning: The frame.append method is deprecated and will be removed from pandas in a future version. Use pandas.concat instead.\n",
      "  df=df.append(table[0])\n"
     ]
    },
    {
     "name": "stdout",
     "output_type": "stream",
     "text": [
      "now snoozing for 18 secs\n",
      "now scraping page 430\n"
     ]
    },
    {
     "name": "stderr",
     "output_type": "stream",
     "text": [
      "/var/folders/61/68rz41055xg7sv4h43532jh00000gn/T/ipykernel_25630/3887715647.py:6: FutureWarning: The frame.append method is deprecated and will be removed from pandas in a future version. Use pandas.concat instead.\n",
      "  df=df.append(table[0])\n"
     ]
    },
    {
     "name": "stdout",
     "output_type": "stream",
     "text": [
      "now snoozing for 11 secs\n",
      "now scraping page 431\n"
     ]
    },
    {
     "name": "stderr",
     "output_type": "stream",
     "text": [
      "/var/folders/61/68rz41055xg7sv4h43532jh00000gn/T/ipykernel_25630/3887715647.py:6: FutureWarning: The frame.append method is deprecated and will be removed from pandas in a future version. Use pandas.concat instead.\n",
      "  df=df.append(table[0])\n"
     ]
    },
    {
     "name": "stdout",
     "output_type": "stream",
     "text": [
      "now snoozing for 19 secs\n",
      "now scraping page 432\n"
     ]
    },
    {
     "name": "stderr",
     "output_type": "stream",
     "text": [
      "/var/folders/61/68rz41055xg7sv4h43532jh00000gn/T/ipykernel_25630/3887715647.py:6: FutureWarning: The frame.append method is deprecated and will be removed from pandas in a future version. Use pandas.concat instead.\n",
      "  df=df.append(table[0])\n"
     ]
    },
    {
     "name": "stdout",
     "output_type": "stream",
     "text": [
      "now snoozing for 12 secs\n",
      "now scraping page 433\n"
     ]
    },
    {
     "name": "stderr",
     "output_type": "stream",
     "text": [
      "/var/folders/61/68rz41055xg7sv4h43532jh00000gn/T/ipykernel_25630/3887715647.py:6: FutureWarning: The frame.append method is deprecated and will be removed from pandas in a future version. Use pandas.concat instead.\n",
      "  df=df.append(table[0])\n"
     ]
    },
    {
     "name": "stdout",
     "output_type": "stream",
     "text": [
      "now snoozing for 17 secs\n",
      "now scraping page 434\n"
     ]
    },
    {
     "name": "stderr",
     "output_type": "stream",
     "text": [
      "/var/folders/61/68rz41055xg7sv4h43532jh00000gn/T/ipykernel_25630/3887715647.py:6: FutureWarning: The frame.append method is deprecated and will be removed from pandas in a future version. Use pandas.concat instead.\n",
      "  df=df.append(table[0])\n"
     ]
    },
    {
     "name": "stdout",
     "output_type": "stream",
     "text": [
      "now snoozing for 18 secs\n",
      "now scraping page 435\n"
     ]
    },
    {
     "name": "stderr",
     "output_type": "stream",
     "text": [
      "/var/folders/61/68rz41055xg7sv4h43532jh00000gn/T/ipykernel_25630/3887715647.py:6: FutureWarning: The frame.append method is deprecated and will be removed from pandas in a future version. Use pandas.concat instead.\n",
      "  df=df.append(table[0])\n"
     ]
    },
    {
     "name": "stdout",
     "output_type": "stream",
     "text": [
      "now snoozing for 11 secs\n",
      "now scraping page 436\n"
     ]
    },
    {
     "name": "stderr",
     "output_type": "stream",
     "text": [
      "/var/folders/61/68rz41055xg7sv4h43532jh00000gn/T/ipykernel_25630/3887715647.py:6: FutureWarning: The frame.append method is deprecated and will be removed from pandas in a future version. Use pandas.concat instead.\n",
      "  df=df.append(table[0])\n"
     ]
    },
    {
     "name": "stdout",
     "output_type": "stream",
     "text": [
      "now snoozing for 15 secs\n",
      "now scraping page 437\n"
     ]
    },
    {
     "name": "stderr",
     "output_type": "stream",
     "text": [
      "/var/folders/61/68rz41055xg7sv4h43532jh00000gn/T/ipykernel_25630/3887715647.py:6: FutureWarning: The frame.append method is deprecated and will be removed from pandas in a future version. Use pandas.concat instead.\n",
      "  df=df.append(table[0])\n"
     ]
    },
    {
     "name": "stdout",
     "output_type": "stream",
     "text": [
      "now snoozing for 14 secs\n",
      "now scraping page 438\n"
     ]
    },
    {
     "name": "stderr",
     "output_type": "stream",
     "text": [
      "/var/folders/61/68rz41055xg7sv4h43532jh00000gn/T/ipykernel_25630/3887715647.py:6: FutureWarning: The frame.append method is deprecated and will be removed from pandas in a future version. Use pandas.concat instead.\n",
      "  df=df.append(table[0])\n"
     ]
    },
    {
     "name": "stdout",
     "output_type": "stream",
     "text": [
      "now snoozing for 10 secs\n",
      "now scraping page 439\n"
     ]
    },
    {
     "name": "stderr",
     "output_type": "stream",
     "text": [
      "/var/folders/61/68rz41055xg7sv4h43532jh00000gn/T/ipykernel_25630/3887715647.py:6: FutureWarning: The frame.append method is deprecated and will be removed from pandas in a future version. Use pandas.concat instead.\n",
      "  df=df.append(table[0])\n"
     ]
    },
    {
     "name": "stdout",
     "output_type": "stream",
     "text": [
      "now snoozing for 14 secs\n",
      "now scraping page 440\n"
     ]
    },
    {
     "name": "stderr",
     "output_type": "stream",
     "text": [
      "/var/folders/61/68rz41055xg7sv4h43532jh00000gn/T/ipykernel_25630/3887715647.py:6: FutureWarning: The frame.append method is deprecated and will be removed from pandas in a future version. Use pandas.concat instead.\n",
      "  df=df.append(table[0])\n"
     ]
    },
    {
     "name": "stdout",
     "output_type": "stream",
     "text": [
      "now snoozing for 17 secs\n",
      "now scraping page 441\n"
     ]
    },
    {
     "name": "stderr",
     "output_type": "stream",
     "text": [
      "/var/folders/61/68rz41055xg7sv4h43532jh00000gn/T/ipykernel_25630/3887715647.py:6: FutureWarning: The frame.append method is deprecated and will be removed from pandas in a future version. Use pandas.concat instead.\n",
      "  df=df.append(table[0])\n"
     ]
    },
    {
     "name": "stdout",
     "output_type": "stream",
     "text": [
      "now snoozing for 18 secs\n",
      "now scraping page 442\n"
     ]
    },
    {
     "name": "stderr",
     "output_type": "stream",
     "text": [
      "/var/folders/61/68rz41055xg7sv4h43532jh00000gn/T/ipykernel_25630/3887715647.py:6: FutureWarning: The frame.append method is deprecated and will be removed from pandas in a future version. Use pandas.concat instead.\n",
      "  df=df.append(table[0])\n"
     ]
    },
    {
     "name": "stdout",
     "output_type": "stream",
     "text": [
      "now snoozing for 14 secs\n",
      "now scraping page 443\n"
     ]
    },
    {
     "name": "stderr",
     "output_type": "stream",
     "text": [
      "/var/folders/61/68rz41055xg7sv4h43532jh00000gn/T/ipykernel_25630/3887715647.py:6: FutureWarning: The frame.append method is deprecated and will be removed from pandas in a future version. Use pandas.concat instead.\n",
      "  df=df.append(table[0])\n"
     ]
    },
    {
     "name": "stdout",
     "output_type": "stream",
     "text": [
      "now snoozing for 15 secs\n",
      "now scraping page 444\n"
     ]
    },
    {
     "name": "stderr",
     "output_type": "stream",
     "text": [
      "/var/folders/61/68rz41055xg7sv4h43532jh00000gn/T/ipykernel_25630/3887715647.py:6: FutureWarning: The frame.append method is deprecated and will be removed from pandas in a future version. Use pandas.concat instead.\n",
      "  df=df.append(table[0])\n"
     ]
    },
    {
     "name": "stdout",
     "output_type": "stream",
     "text": [
      "now snoozing for 15 secs\n",
      "now scraping page 445\n"
     ]
    },
    {
     "name": "stderr",
     "output_type": "stream",
     "text": [
      "/var/folders/61/68rz41055xg7sv4h43532jh00000gn/T/ipykernel_25630/3887715647.py:6: FutureWarning: The frame.append method is deprecated and will be removed from pandas in a future version. Use pandas.concat instead.\n",
      "  df=df.append(table[0])\n"
     ]
    },
    {
     "name": "stdout",
     "output_type": "stream",
     "text": [
      "now snoozing for 19 secs\n",
      "now scraping page 446\n"
     ]
    },
    {
     "name": "stderr",
     "output_type": "stream",
     "text": [
      "/var/folders/61/68rz41055xg7sv4h43532jh00000gn/T/ipykernel_25630/3887715647.py:6: FutureWarning: The frame.append method is deprecated and will be removed from pandas in a future version. Use pandas.concat instead.\n",
      "  df=df.append(table[0])\n"
     ]
    },
    {
     "name": "stdout",
     "output_type": "stream",
     "text": [
      "now snoozing for 16 secs\n",
      "now scraping page 447\n"
     ]
    },
    {
     "name": "stderr",
     "output_type": "stream",
     "text": [
      "/var/folders/61/68rz41055xg7sv4h43532jh00000gn/T/ipykernel_25630/3887715647.py:6: FutureWarning: The frame.append method is deprecated and will be removed from pandas in a future version. Use pandas.concat instead.\n",
      "  df=df.append(table[0])\n"
     ]
    },
    {
     "name": "stdout",
     "output_type": "stream",
     "text": [
      "now snoozing for 17 secs\n",
      "now scraping page 448\n"
     ]
    },
    {
     "name": "stderr",
     "output_type": "stream",
     "text": [
      "/var/folders/61/68rz41055xg7sv4h43532jh00000gn/T/ipykernel_25630/3887715647.py:6: FutureWarning: The frame.append method is deprecated and will be removed from pandas in a future version. Use pandas.concat instead.\n",
      "  df=df.append(table[0])\n"
     ]
    },
    {
     "name": "stdout",
     "output_type": "stream",
     "text": [
      "now snoozing for 15 secs\n",
      "now scraping page 449\n"
     ]
    },
    {
     "name": "stderr",
     "output_type": "stream",
     "text": [
      "/var/folders/61/68rz41055xg7sv4h43532jh00000gn/T/ipykernel_25630/3887715647.py:6: FutureWarning: The frame.append method is deprecated and will be removed from pandas in a future version. Use pandas.concat instead.\n",
      "  df=df.append(table[0])\n"
     ]
    },
    {
     "name": "stdout",
     "output_type": "stream",
     "text": [
      "now snoozing for 16 secs\n",
      "now scraping page 450\n"
     ]
    },
    {
     "name": "stderr",
     "output_type": "stream",
     "text": [
      "/var/folders/61/68rz41055xg7sv4h43532jh00000gn/T/ipykernel_25630/3887715647.py:6: FutureWarning: The frame.append method is deprecated and will be removed from pandas in a future version. Use pandas.concat instead.\n",
      "  df=df.append(table[0])\n"
     ]
    },
    {
     "name": "stdout",
     "output_type": "stream",
     "text": [
      "now snoozing for 19 secs\n",
      "now scraping page 451\n"
     ]
    },
    {
     "name": "stderr",
     "output_type": "stream",
     "text": [
      "/var/folders/61/68rz41055xg7sv4h43532jh00000gn/T/ipykernel_25630/3887715647.py:6: FutureWarning: The frame.append method is deprecated and will be removed from pandas in a future version. Use pandas.concat instead.\n",
      "  df=df.append(table[0])\n"
     ]
    },
    {
     "name": "stdout",
     "output_type": "stream",
     "text": [
      "now snoozing for 10 secs\n",
      "now scraping page 452\n"
     ]
    },
    {
     "name": "stderr",
     "output_type": "stream",
     "text": [
      "/var/folders/61/68rz41055xg7sv4h43532jh00000gn/T/ipykernel_25630/3887715647.py:6: FutureWarning: The frame.append method is deprecated and will be removed from pandas in a future version. Use pandas.concat instead.\n",
      "  df=df.append(table[0])\n"
     ]
    },
    {
     "name": "stdout",
     "output_type": "stream",
     "text": [
      "now snoozing for 14 secs\n",
      "now scraping page 453\n"
     ]
    },
    {
     "name": "stderr",
     "output_type": "stream",
     "text": [
      "/var/folders/61/68rz41055xg7sv4h43532jh00000gn/T/ipykernel_25630/3887715647.py:6: FutureWarning: The frame.append method is deprecated and will be removed from pandas in a future version. Use pandas.concat instead.\n",
      "  df=df.append(table[0])\n"
     ]
    },
    {
     "name": "stdout",
     "output_type": "stream",
     "text": [
      "now snoozing for 13 secs\n",
      "now scraping page 454\n"
     ]
    },
    {
     "name": "stderr",
     "output_type": "stream",
     "text": [
      "/var/folders/61/68rz41055xg7sv4h43532jh00000gn/T/ipykernel_25630/3887715647.py:6: FutureWarning: The frame.append method is deprecated and will be removed from pandas in a future version. Use pandas.concat instead.\n",
      "  df=df.append(table[0])\n"
     ]
    },
    {
     "name": "stdout",
     "output_type": "stream",
     "text": [
      "now snoozing for 13 secs\n",
      "now scraping page 455\n"
     ]
    },
    {
     "name": "stderr",
     "output_type": "stream",
     "text": [
      "/var/folders/61/68rz41055xg7sv4h43532jh00000gn/T/ipykernel_25630/3887715647.py:6: FutureWarning: The frame.append method is deprecated and will be removed from pandas in a future version. Use pandas.concat instead.\n",
      "  df=df.append(table[0])\n"
     ]
    },
    {
     "name": "stdout",
     "output_type": "stream",
     "text": [
      "now snoozing for 13 secs\n",
      "now scraping page 456\n"
     ]
    },
    {
     "name": "stderr",
     "output_type": "stream",
     "text": [
      "/var/folders/61/68rz41055xg7sv4h43532jh00000gn/T/ipykernel_25630/3887715647.py:6: FutureWarning: The frame.append method is deprecated and will be removed from pandas in a future version. Use pandas.concat instead.\n",
      "  df=df.append(table[0])\n"
     ]
    },
    {
     "name": "stdout",
     "output_type": "stream",
     "text": [
      "now snoozing for 17 secs\n",
      "now scraping page 457\n"
     ]
    },
    {
     "name": "stderr",
     "output_type": "stream",
     "text": [
      "/var/folders/61/68rz41055xg7sv4h43532jh00000gn/T/ipykernel_25630/3887715647.py:6: FutureWarning: The frame.append method is deprecated and will be removed from pandas in a future version. Use pandas.concat instead.\n",
      "  df=df.append(table[0])\n"
     ]
    },
    {
     "name": "stdout",
     "output_type": "stream",
     "text": [
      "now snoozing for 18 secs\n",
      "now scraping page 458\n"
     ]
    },
    {
     "name": "stderr",
     "output_type": "stream",
     "text": [
      "/var/folders/61/68rz41055xg7sv4h43532jh00000gn/T/ipykernel_25630/3887715647.py:6: FutureWarning: The frame.append method is deprecated and will be removed from pandas in a future version. Use pandas.concat instead.\n",
      "  df=df.append(table[0])\n"
     ]
    },
    {
     "name": "stdout",
     "output_type": "stream",
     "text": [
      "now snoozing for 15 secs\n",
      "now scraping page 459\n"
     ]
    },
    {
     "name": "stderr",
     "output_type": "stream",
     "text": [
      "/var/folders/61/68rz41055xg7sv4h43532jh00000gn/T/ipykernel_25630/3887715647.py:6: FutureWarning: The frame.append method is deprecated and will be removed from pandas in a future version. Use pandas.concat instead.\n",
      "  df=df.append(table[0])\n"
     ]
    },
    {
     "name": "stdout",
     "output_type": "stream",
     "text": [
      "now snoozing for 11 secs\n",
      "now scraping page 460\n"
     ]
    },
    {
     "name": "stderr",
     "output_type": "stream",
     "text": [
      "/var/folders/61/68rz41055xg7sv4h43532jh00000gn/T/ipykernel_25630/3887715647.py:6: FutureWarning: The frame.append method is deprecated and will be removed from pandas in a future version. Use pandas.concat instead.\n",
      "  df=df.append(table[0])\n"
     ]
    },
    {
     "name": "stdout",
     "output_type": "stream",
     "text": [
      "now snoozing for 13 secs\n",
      "now scraping page 461\n"
     ]
    },
    {
     "name": "stderr",
     "output_type": "stream",
     "text": [
      "/var/folders/61/68rz41055xg7sv4h43532jh00000gn/T/ipykernel_25630/3887715647.py:6: FutureWarning: The frame.append method is deprecated and will be removed from pandas in a future version. Use pandas.concat instead.\n",
      "  df=df.append(table[0])\n"
     ]
    },
    {
     "name": "stdout",
     "output_type": "stream",
     "text": [
      "now snoozing for 16 secs\n",
      "now scraping page 462\n"
     ]
    },
    {
     "name": "stderr",
     "output_type": "stream",
     "text": [
      "/var/folders/61/68rz41055xg7sv4h43532jh00000gn/T/ipykernel_25630/3887715647.py:6: FutureWarning: The frame.append method is deprecated and will be removed from pandas in a future version. Use pandas.concat instead.\n",
      "  df=df.append(table[0])\n"
     ]
    },
    {
     "name": "stdout",
     "output_type": "stream",
     "text": [
      "now snoozing for 15 secs\n",
      "now scraping page 463\n"
     ]
    },
    {
     "name": "stderr",
     "output_type": "stream",
     "text": [
      "/var/folders/61/68rz41055xg7sv4h43532jh00000gn/T/ipykernel_25630/3887715647.py:6: FutureWarning: The frame.append method is deprecated and will be removed from pandas in a future version. Use pandas.concat instead.\n",
      "  df=df.append(table[0])\n"
     ]
    },
    {
     "name": "stdout",
     "output_type": "stream",
     "text": [
      "now snoozing for 15 secs\n",
      "now scraping page 464\n"
     ]
    },
    {
     "name": "stderr",
     "output_type": "stream",
     "text": [
      "/var/folders/61/68rz41055xg7sv4h43532jh00000gn/T/ipykernel_25630/3887715647.py:6: FutureWarning: The frame.append method is deprecated and will be removed from pandas in a future version. Use pandas.concat instead.\n",
      "  df=df.append(table[0])\n"
     ]
    },
    {
     "name": "stdout",
     "output_type": "stream",
     "text": [
      "now snoozing for 18 secs\n",
      "now scraping page 465\n"
     ]
    },
    {
     "name": "stderr",
     "output_type": "stream",
     "text": [
      "/var/folders/61/68rz41055xg7sv4h43532jh00000gn/T/ipykernel_25630/3887715647.py:6: FutureWarning: The frame.append method is deprecated and will be removed from pandas in a future version. Use pandas.concat instead.\n",
      "  df=df.append(table[0])\n"
     ]
    },
    {
     "name": "stdout",
     "output_type": "stream",
     "text": [
      "now snoozing for 19 secs\n",
      "now scraping page 466\n"
     ]
    },
    {
     "name": "stderr",
     "output_type": "stream",
     "text": [
      "/var/folders/61/68rz41055xg7sv4h43532jh00000gn/T/ipykernel_25630/3887715647.py:6: FutureWarning: The frame.append method is deprecated and will be removed from pandas in a future version. Use pandas.concat instead.\n",
      "  df=df.append(table[0])\n"
     ]
    },
    {
     "name": "stdout",
     "output_type": "stream",
     "text": [
      "now snoozing for 12 secs\n",
      "now scraping page 467\n"
     ]
    },
    {
     "name": "stderr",
     "output_type": "stream",
     "text": [
      "/var/folders/61/68rz41055xg7sv4h43532jh00000gn/T/ipykernel_25630/3887715647.py:6: FutureWarning: The frame.append method is deprecated and will be removed from pandas in a future version. Use pandas.concat instead.\n",
      "  df=df.append(table[0])\n"
     ]
    },
    {
     "name": "stdout",
     "output_type": "stream",
     "text": [
      "now snoozing for 11 secs\n",
      "now scraping page 468\n"
     ]
    },
    {
     "name": "stderr",
     "output_type": "stream",
     "text": [
      "/var/folders/61/68rz41055xg7sv4h43532jh00000gn/T/ipykernel_25630/3887715647.py:6: FutureWarning: The frame.append method is deprecated and will be removed from pandas in a future version. Use pandas.concat instead.\n",
      "  df=df.append(table[0])\n"
     ]
    },
    {
     "name": "stdout",
     "output_type": "stream",
     "text": [
      "now snoozing for 10 secs\n",
      "now scraping page 469\n"
     ]
    },
    {
     "name": "stderr",
     "output_type": "stream",
     "text": [
      "/var/folders/61/68rz41055xg7sv4h43532jh00000gn/T/ipykernel_25630/3887715647.py:6: FutureWarning: The frame.append method is deprecated and will be removed from pandas in a future version. Use pandas.concat instead.\n",
      "  df=df.append(table[0])\n"
     ]
    },
    {
     "name": "stdout",
     "output_type": "stream",
     "text": [
      "now snoozing for 11 secs\n",
      "now scraping page 470\n"
     ]
    },
    {
     "name": "stderr",
     "output_type": "stream",
     "text": [
      "/var/folders/61/68rz41055xg7sv4h43532jh00000gn/T/ipykernel_25630/3887715647.py:6: FutureWarning: The frame.append method is deprecated and will be removed from pandas in a future version. Use pandas.concat instead.\n",
      "  df=df.append(table[0])\n"
     ]
    },
    {
     "name": "stdout",
     "output_type": "stream",
     "text": [
      "now snoozing for 18 secs\n",
      "now scraping page 471\n"
     ]
    },
    {
     "name": "stderr",
     "output_type": "stream",
     "text": [
      "/var/folders/61/68rz41055xg7sv4h43532jh00000gn/T/ipykernel_25630/3887715647.py:6: FutureWarning: The frame.append method is deprecated and will be removed from pandas in a future version. Use pandas.concat instead.\n",
      "  df=df.append(table[0])\n"
     ]
    },
    {
     "name": "stdout",
     "output_type": "stream",
     "text": [
      "now snoozing for 15 secs\n",
      "now scraping page 472\n"
     ]
    },
    {
     "name": "stderr",
     "output_type": "stream",
     "text": [
      "/var/folders/61/68rz41055xg7sv4h43532jh00000gn/T/ipykernel_25630/3887715647.py:6: FutureWarning: The frame.append method is deprecated and will be removed from pandas in a future version. Use pandas.concat instead.\n",
      "  df=df.append(table[0])\n"
     ]
    },
    {
     "name": "stdout",
     "output_type": "stream",
     "text": [
      "now snoozing for 15 secs\n",
      "now scraping page 473\n"
     ]
    },
    {
     "name": "stderr",
     "output_type": "stream",
     "text": [
      "/var/folders/61/68rz41055xg7sv4h43532jh00000gn/T/ipykernel_25630/3887715647.py:6: FutureWarning: The frame.append method is deprecated and will be removed from pandas in a future version. Use pandas.concat instead.\n",
      "  df=df.append(table[0])\n"
     ]
    },
    {
     "name": "stdout",
     "output_type": "stream",
     "text": [
      "now snoozing for 17 secs\n",
      "now scraping page 474\n"
     ]
    },
    {
     "name": "stderr",
     "output_type": "stream",
     "text": [
      "/var/folders/61/68rz41055xg7sv4h43532jh00000gn/T/ipykernel_25630/3887715647.py:6: FutureWarning: The frame.append method is deprecated and will be removed from pandas in a future version. Use pandas.concat instead.\n",
      "  df=df.append(table[0])\n"
     ]
    },
    {
     "name": "stdout",
     "output_type": "stream",
     "text": [
      "now snoozing for 15 secs\n",
      "now scraping page 475\n"
     ]
    },
    {
     "name": "stderr",
     "output_type": "stream",
     "text": [
      "/var/folders/61/68rz41055xg7sv4h43532jh00000gn/T/ipykernel_25630/3887715647.py:6: FutureWarning: The frame.append method is deprecated and will be removed from pandas in a future version. Use pandas.concat instead.\n",
      "  df=df.append(table[0])\n"
     ]
    },
    {
     "name": "stdout",
     "output_type": "stream",
     "text": [
      "now snoozing for 14 secs\n",
      "now scraping page 476\n"
     ]
    },
    {
     "name": "stderr",
     "output_type": "stream",
     "text": [
      "/var/folders/61/68rz41055xg7sv4h43532jh00000gn/T/ipykernel_25630/3887715647.py:6: FutureWarning: The frame.append method is deprecated and will be removed from pandas in a future version. Use pandas.concat instead.\n",
      "  df=df.append(table[0])\n"
     ]
    },
    {
     "name": "stdout",
     "output_type": "stream",
     "text": [
      "now snoozing for 17 secs\n",
      "now scraping page 477\n"
     ]
    },
    {
     "name": "stderr",
     "output_type": "stream",
     "text": [
      "/var/folders/61/68rz41055xg7sv4h43532jh00000gn/T/ipykernel_25630/3887715647.py:6: FutureWarning: The frame.append method is deprecated and will be removed from pandas in a future version. Use pandas.concat instead.\n",
      "  df=df.append(table[0])\n"
     ]
    },
    {
     "name": "stdout",
     "output_type": "stream",
     "text": [
      "now snoozing for 19 secs\n",
      "now scraping page 478\n"
     ]
    },
    {
     "name": "stderr",
     "output_type": "stream",
     "text": [
      "/var/folders/61/68rz41055xg7sv4h43532jh00000gn/T/ipykernel_25630/3887715647.py:6: FutureWarning: The frame.append method is deprecated and will be removed from pandas in a future version. Use pandas.concat instead.\n",
      "  df=df.append(table[0])\n"
     ]
    },
    {
     "name": "stdout",
     "output_type": "stream",
     "text": [
      "now snoozing for 13 secs\n",
      "now scraping page 479\n"
     ]
    },
    {
     "name": "stderr",
     "output_type": "stream",
     "text": [
      "/var/folders/61/68rz41055xg7sv4h43532jh00000gn/T/ipykernel_25630/3887715647.py:6: FutureWarning: The frame.append method is deprecated and will be removed from pandas in a future version. Use pandas.concat instead.\n",
      "  df=df.append(table[0])\n"
     ]
    },
    {
     "name": "stdout",
     "output_type": "stream",
     "text": [
      "now snoozing for 14 secs\n",
      "now scraping page 480\n"
     ]
    },
    {
     "name": "stderr",
     "output_type": "stream",
     "text": [
      "/var/folders/61/68rz41055xg7sv4h43532jh00000gn/T/ipykernel_25630/3887715647.py:6: FutureWarning: The frame.append method is deprecated and will be removed from pandas in a future version. Use pandas.concat instead.\n",
      "  df=df.append(table[0])\n"
     ]
    },
    {
     "name": "stdout",
     "output_type": "stream",
     "text": [
      "now snoozing for 16 secs\n",
      "now scraping page 481\n"
     ]
    },
    {
     "name": "stderr",
     "output_type": "stream",
     "text": [
      "/var/folders/61/68rz41055xg7sv4h43532jh00000gn/T/ipykernel_25630/3887715647.py:6: FutureWarning: The frame.append method is deprecated and will be removed from pandas in a future version. Use pandas.concat instead.\n",
      "  df=df.append(table[0])\n"
     ]
    },
    {
     "name": "stdout",
     "output_type": "stream",
     "text": [
      "now snoozing for 14 secs\n",
      "now scraping page 482\n"
     ]
    },
    {
     "name": "stderr",
     "output_type": "stream",
     "text": [
      "/var/folders/61/68rz41055xg7sv4h43532jh00000gn/T/ipykernel_25630/3887715647.py:6: FutureWarning: The frame.append method is deprecated and will be removed from pandas in a future version. Use pandas.concat instead.\n",
      "  df=df.append(table[0])\n"
     ]
    },
    {
     "name": "stdout",
     "output_type": "stream",
     "text": [
      "now snoozing for 14 secs\n",
      "now scraping page 483\n"
     ]
    },
    {
     "name": "stderr",
     "output_type": "stream",
     "text": [
      "/var/folders/61/68rz41055xg7sv4h43532jh00000gn/T/ipykernel_25630/3887715647.py:6: FutureWarning: The frame.append method is deprecated and will be removed from pandas in a future version. Use pandas.concat instead.\n",
      "  df=df.append(table[0])\n"
     ]
    },
    {
     "name": "stdout",
     "output_type": "stream",
     "text": [
      "now snoozing for 18 secs\n",
      "now scraping page 484\n"
     ]
    },
    {
     "name": "stderr",
     "output_type": "stream",
     "text": [
      "/var/folders/61/68rz41055xg7sv4h43532jh00000gn/T/ipykernel_25630/3887715647.py:6: FutureWarning: The frame.append method is deprecated and will be removed from pandas in a future version. Use pandas.concat instead.\n",
      "  df=df.append(table[0])\n"
     ]
    },
    {
     "name": "stdout",
     "output_type": "stream",
     "text": [
      "now snoozing for 17 secs\n",
      "now scraping page 485\n"
     ]
    },
    {
     "name": "stderr",
     "output_type": "stream",
     "text": [
      "/var/folders/61/68rz41055xg7sv4h43532jh00000gn/T/ipykernel_25630/3887715647.py:6: FutureWarning: The frame.append method is deprecated and will be removed from pandas in a future version. Use pandas.concat instead.\n",
      "  df=df.append(table[0])\n"
     ]
    },
    {
     "name": "stdout",
     "output_type": "stream",
     "text": [
      "now snoozing for 17 secs\n",
      "now scraping page 486\n"
     ]
    },
    {
     "name": "stderr",
     "output_type": "stream",
     "text": [
      "/var/folders/61/68rz41055xg7sv4h43532jh00000gn/T/ipykernel_25630/3887715647.py:6: FutureWarning: The frame.append method is deprecated and will be removed from pandas in a future version. Use pandas.concat instead.\n",
      "  df=df.append(table[0])\n"
     ]
    },
    {
     "name": "stdout",
     "output_type": "stream",
     "text": [
      "now snoozing for 18 secs\n",
      "now scraping page 487\n"
     ]
    },
    {
     "name": "stderr",
     "output_type": "stream",
     "text": [
      "/var/folders/61/68rz41055xg7sv4h43532jh00000gn/T/ipykernel_25630/3887715647.py:6: FutureWarning: The frame.append method is deprecated and will be removed from pandas in a future version. Use pandas.concat instead.\n",
      "  df=df.append(table[0])\n"
     ]
    },
    {
     "name": "stdout",
     "output_type": "stream",
     "text": [
      "now snoozing for 16 secs\n",
      "now scraping page 488\n"
     ]
    },
    {
     "name": "stderr",
     "output_type": "stream",
     "text": [
      "/var/folders/61/68rz41055xg7sv4h43532jh00000gn/T/ipykernel_25630/3887715647.py:6: FutureWarning: The frame.append method is deprecated and will be removed from pandas in a future version. Use pandas.concat instead.\n",
      "  df=df.append(table[0])\n"
     ]
    },
    {
     "name": "stdout",
     "output_type": "stream",
     "text": [
      "now snoozing for 19 secs\n",
      "now scraping page 489\n"
     ]
    },
    {
     "name": "stderr",
     "output_type": "stream",
     "text": [
      "/var/folders/61/68rz41055xg7sv4h43532jh00000gn/T/ipykernel_25630/3887715647.py:6: FutureWarning: The frame.append method is deprecated and will be removed from pandas in a future version. Use pandas.concat instead.\n",
      "  df=df.append(table[0])\n"
     ]
    },
    {
     "name": "stdout",
     "output_type": "stream",
     "text": [
      "now snoozing for 19 secs\n",
      "now scraping page 490\n"
     ]
    },
    {
     "name": "stderr",
     "output_type": "stream",
     "text": [
      "/var/folders/61/68rz41055xg7sv4h43532jh00000gn/T/ipykernel_25630/3887715647.py:6: FutureWarning: The frame.append method is deprecated and will be removed from pandas in a future version. Use pandas.concat instead.\n",
      "  df=df.append(table[0])\n"
     ]
    },
    {
     "name": "stdout",
     "output_type": "stream",
     "text": [
      "now snoozing for 14 secs\n",
      "now scraping page 491\n"
     ]
    },
    {
     "name": "stderr",
     "output_type": "stream",
     "text": [
      "/var/folders/61/68rz41055xg7sv4h43532jh00000gn/T/ipykernel_25630/3887715647.py:6: FutureWarning: The frame.append method is deprecated and will be removed from pandas in a future version. Use pandas.concat instead.\n",
      "  df=df.append(table[0])\n"
     ]
    },
    {
     "name": "stdout",
     "output_type": "stream",
     "text": [
      "now snoozing for 13 secs\n",
      "now scraping page 492\n"
     ]
    },
    {
     "name": "stderr",
     "output_type": "stream",
     "text": [
      "/var/folders/61/68rz41055xg7sv4h43532jh00000gn/T/ipykernel_25630/3887715647.py:6: FutureWarning: The frame.append method is deprecated and will be removed from pandas in a future version. Use pandas.concat instead.\n",
      "  df=df.append(table[0])\n"
     ]
    },
    {
     "name": "stdout",
     "output_type": "stream",
     "text": [
      "now snoozing for 19 secs\n",
      "now scraping page 493\n"
     ]
    },
    {
     "name": "stderr",
     "output_type": "stream",
     "text": [
      "/var/folders/61/68rz41055xg7sv4h43532jh00000gn/T/ipykernel_25630/3887715647.py:6: FutureWarning: The frame.append method is deprecated and will be removed from pandas in a future version. Use pandas.concat instead.\n",
      "  df=df.append(table[0])\n"
     ]
    },
    {
     "name": "stdout",
     "output_type": "stream",
     "text": [
      "now snoozing for 10 secs\n",
      "now scraping page 494\n"
     ]
    },
    {
     "name": "stderr",
     "output_type": "stream",
     "text": [
      "/var/folders/61/68rz41055xg7sv4h43532jh00000gn/T/ipykernel_25630/3887715647.py:6: FutureWarning: The frame.append method is deprecated and will be removed from pandas in a future version. Use pandas.concat instead.\n",
      "  df=df.append(table[0])\n"
     ]
    },
    {
     "name": "stdout",
     "output_type": "stream",
     "text": [
      "now snoozing for 17 secs\n",
      "now scraping page 495\n"
     ]
    },
    {
     "name": "stderr",
     "output_type": "stream",
     "text": [
      "/var/folders/61/68rz41055xg7sv4h43532jh00000gn/T/ipykernel_25630/3887715647.py:6: FutureWarning: The frame.append method is deprecated and will be removed from pandas in a future version. Use pandas.concat instead.\n",
      "  df=df.append(table[0])\n"
     ]
    },
    {
     "name": "stdout",
     "output_type": "stream",
     "text": [
      "now snoozing for 13 secs\n",
      "now scraping page 496\n"
     ]
    },
    {
     "name": "stderr",
     "output_type": "stream",
     "text": [
      "/var/folders/61/68rz41055xg7sv4h43532jh00000gn/T/ipykernel_25630/3887715647.py:6: FutureWarning: The frame.append method is deprecated and will be removed from pandas in a future version. Use pandas.concat instead.\n",
      "  df=df.append(table[0])\n"
     ]
    },
    {
     "name": "stdout",
     "output_type": "stream",
     "text": [
      "now snoozing for 16 secs\n",
      "now scraping page 497\n"
     ]
    },
    {
     "name": "stderr",
     "output_type": "stream",
     "text": [
      "/var/folders/61/68rz41055xg7sv4h43532jh00000gn/T/ipykernel_25630/3887715647.py:6: FutureWarning: The frame.append method is deprecated and will be removed from pandas in a future version. Use pandas.concat instead.\n",
      "  df=df.append(table[0])\n"
     ]
    },
    {
     "name": "stdout",
     "output_type": "stream",
     "text": [
      "now snoozing for 16 secs\n",
      "now scraping page 498\n"
     ]
    },
    {
     "name": "stderr",
     "output_type": "stream",
     "text": [
      "/var/folders/61/68rz41055xg7sv4h43532jh00000gn/T/ipykernel_25630/3887715647.py:6: FutureWarning: The frame.append method is deprecated and will be removed from pandas in a future version. Use pandas.concat instead.\n",
      "  df=df.append(table[0])\n"
     ]
    },
    {
     "name": "stdout",
     "output_type": "stream",
     "text": [
      "now snoozing for 10 secs\n",
      "now scraping page 499\n"
     ]
    },
    {
     "name": "stderr",
     "output_type": "stream",
     "text": [
      "/var/folders/61/68rz41055xg7sv4h43532jh00000gn/T/ipykernel_25630/3887715647.py:6: FutureWarning: The frame.append method is deprecated and will be removed from pandas in a future version. Use pandas.concat instead.\n",
      "  df=df.append(table[0])\n"
     ]
    },
    {
     "name": "stdout",
     "output_type": "stream",
     "text": [
      "now snoozing for 12 secs\n",
      "now scraping page 500\n"
     ]
    },
    {
     "name": "stderr",
     "output_type": "stream",
     "text": [
      "/var/folders/61/68rz41055xg7sv4h43532jh00000gn/T/ipykernel_25630/3887715647.py:6: FutureWarning: The frame.append method is deprecated and will be removed from pandas in a future version. Use pandas.concat instead.\n",
      "  df=df.append(table[0])\n"
     ]
    },
    {
     "name": "stdout",
     "output_type": "stream",
     "text": [
      "now snoozing for 13 secs\n",
      "now scraping page 501\n"
     ]
    },
    {
     "name": "stderr",
     "output_type": "stream",
     "text": [
      "/var/folders/61/68rz41055xg7sv4h43532jh00000gn/T/ipykernel_25630/3887715647.py:6: FutureWarning: The frame.append method is deprecated and will be removed from pandas in a future version. Use pandas.concat instead.\n",
      "  df=df.append(table[0])\n"
     ]
    },
    {
     "name": "stdout",
     "output_type": "stream",
     "text": [
      "now snoozing for 18 secs\n",
      "now scraping page 502\n"
     ]
    },
    {
     "name": "stderr",
     "output_type": "stream",
     "text": [
      "/var/folders/61/68rz41055xg7sv4h43532jh00000gn/T/ipykernel_25630/3887715647.py:6: FutureWarning: The frame.append method is deprecated and will be removed from pandas in a future version. Use pandas.concat instead.\n",
      "  df=df.append(table[0])\n"
     ]
    },
    {
     "name": "stdout",
     "output_type": "stream",
     "text": [
      "now snoozing for 18 secs\n",
      "now scraping page 503\n"
     ]
    },
    {
     "name": "stderr",
     "output_type": "stream",
     "text": [
      "/var/folders/61/68rz41055xg7sv4h43532jh00000gn/T/ipykernel_25630/3887715647.py:6: FutureWarning: The frame.append method is deprecated and will be removed from pandas in a future version. Use pandas.concat instead.\n",
      "  df=df.append(table[0])\n"
     ]
    },
    {
     "name": "stdout",
     "output_type": "stream",
     "text": [
      "now snoozing for 19 secs\n",
      "now scraping page 504\n"
     ]
    },
    {
     "name": "stderr",
     "output_type": "stream",
     "text": [
      "/var/folders/61/68rz41055xg7sv4h43532jh00000gn/T/ipykernel_25630/3887715647.py:6: FutureWarning: The frame.append method is deprecated and will be removed from pandas in a future version. Use pandas.concat instead.\n",
      "  df=df.append(table[0])\n"
     ]
    },
    {
     "name": "stdout",
     "output_type": "stream",
     "text": [
      "now snoozing for 11 secs\n",
      "now scraping page 505\n"
     ]
    },
    {
     "name": "stderr",
     "output_type": "stream",
     "text": [
      "/var/folders/61/68rz41055xg7sv4h43532jh00000gn/T/ipykernel_25630/3887715647.py:6: FutureWarning: The frame.append method is deprecated and will be removed from pandas in a future version. Use pandas.concat instead.\n",
      "  df=df.append(table[0])\n"
     ]
    },
    {
     "name": "stdout",
     "output_type": "stream",
     "text": [
      "now snoozing for 18 secs\n",
      "now scraping page 506\n"
     ]
    },
    {
     "name": "stderr",
     "output_type": "stream",
     "text": [
      "/var/folders/61/68rz41055xg7sv4h43532jh00000gn/T/ipykernel_25630/3887715647.py:6: FutureWarning: The frame.append method is deprecated and will be removed from pandas in a future version. Use pandas.concat instead.\n",
      "  df=df.append(table[0])\n"
     ]
    },
    {
     "name": "stdout",
     "output_type": "stream",
     "text": [
      "now snoozing for 10 secs\n",
      "now scraping page 507\n"
     ]
    },
    {
     "name": "stderr",
     "output_type": "stream",
     "text": [
      "/var/folders/61/68rz41055xg7sv4h43532jh00000gn/T/ipykernel_25630/3887715647.py:6: FutureWarning: The frame.append method is deprecated and will be removed from pandas in a future version. Use pandas.concat instead.\n",
      "  df=df.append(table[0])\n"
     ]
    },
    {
     "name": "stdout",
     "output_type": "stream",
     "text": [
      "now snoozing for 13 secs\n",
      "now scraping page 508\n"
     ]
    },
    {
     "name": "stderr",
     "output_type": "stream",
     "text": [
      "/var/folders/61/68rz41055xg7sv4h43532jh00000gn/T/ipykernel_25630/3887715647.py:6: FutureWarning: The frame.append method is deprecated and will be removed from pandas in a future version. Use pandas.concat instead.\n",
      "  df=df.append(table[0])\n"
     ]
    },
    {
     "name": "stdout",
     "output_type": "stream",
     "text": [
      "now snoozing for 18 secs\n",
      "now scraping page 509\n"
     ]
    },
    {
     "name": "stderr",
     "output_type": "stream",
     "text": [
      "/var/folders/61/68rz41055xg7sv4h43532jh00000gn/T/ipykernel_25630/3887715647.py:6: FutureWarning: The frame.append method is deprecated and will be removed from pandas in a future version. Use pandas.concat instead.\n",
      "  df=df.append(table[0])\n"
     ]
    },
    {
     "name": "stdout",
     "output_type": "stream",
     "text": [
      "now snoozing for 10 secs\n",
      "now scraping page 510\n"
     ]
    },
    {
     "name": "stderr",
     "output_type": "stream",
     "text": [
      "/var/folders/61/68rz41055xg7sv4h43532jh00000gn/T/ipykernel_25630/3887715647.py:6: FutureWarning: The frame.append method is deprecated and will be removed from pandas in a future version. Use pandas.concat instead.\n",
      "  df=df.append(table[0])\n"
     ]
    },
    {
     "name": "stdout",
     "output_type": "stream",
     "text": [
      "now snoozing for 18 secs\n",
      "now scraping page 511\n"
     ]
    },
    {
     "name": "stderr",
     "output_type": "stream",
     "text": [
      "/var/folders/61/68rz41055xg7sv4h43532jh00000gn/T/ipykernel_25630/3887715647.py:6: FutureWarning: The frame.append method is deprecated and will be removed from pandas in a future version. Use pandas.concat instead.\n",
      "  df=df.append(table[0])\n"
     ]
    },
    {
     "name": "stdout",
     "output_type": "stream",
     "text": [
      "now snoozing for 19 secs\n",
      "now scraping page 512\n"
     ]
    },
    {
     "name": "stderr",
     "output_type": "stream",
     "text": [
      "/var/folders/61/68rz41055xg7sv4h43532jh00000gn/T/ipykernel_25630/3887715647.py:6: FutureWarning: The frame.append method is deprecated and will be removed from pandas in a future version. Use pandas.concat instead.\n",
      "  df=df.append(table[0])\n"
     ]
    },
    {
     "name": "stdout",
     "output_type": "stream",
     "text": [
      "now snoozing for 19 secs\n",
      "now scraping page 513\n"
     ]
    },
    {
     "name": "stderr",
     "output_type": "stream",
     "text": [
      "/var/folders/61/68rz41055xg7sv4h43532jh00000gn/T/ipykernel_25630/3887715647.py:6: FutureWarning: The frame.append method is deprecated and will be removed from pandas in a future version. Use pandas.concat instead.\n",
      "  df=df.append(table[0])\n"
     ]
    },
    {
     "name": "stdout",
     "output_type": "stream",
     "text": [
      "now snoozing for 15 secs\n",
      "now scraping page 514\n"
     ]
    },
    {
     "name": "stderr",
     "output_type": "stream",
     "text": [
      "/var/folders/61/68rz41055xg7sv4h43532jh00000gn/T/ipykernel_25630/3887715647.py:6: FutureWarning: The frame.append method is deprecated and will be removed from pandas in a future version. Use pandas.concat instead.\n",
      "  df=df.append(table[0])\n"
     ]
    },
    {
     "name": "stdout",
     "output_type": "stream",
     "text": [
      "now snoozing for 10 secs\n",
      "now scraping page 515\n"
     ]
    },
    {
     "name": "stderr",
     "output_type": "stream",
     "text": [
      "/var/folders/61/68rz41055xg7sv4h43532jh00000gn/T/ipykernel_25630/3887715647.py:6: FutureWarning: The frame.append method is deprecated and will be removed from pandas in a future version. Use pandas.concat instead.\n",
      "  df=df.append(table[0])\n"
     ]
    },
    {
     "name": "stdout",
     "output_type": "stream",
     "text": [
      "now snoozing for 16 secs\n",
      "now scraping page 516\n"
     ]
    },
    {
     "name": "stderr",
     "output_type": "stream",
     "text": [
      "/var/folders/61/68rz41055xg7sv4h43532jh00000gn/T/ipykernel_25630/3887715647.py:6: FutureWarning: The frame.append method is deprecated and will be removed from pandas in a future version. Use pandas.concat instead.\n",
      "  df=df.append(table[0])\n"
     ]
    },
    {
     "name": "stdout",
     "output_type": "stream",
     "text": [
      "now snoozing for 12 secs\n",
      "now scraping page 517\n"
     ]
    },
    {
     "name": "stderr",
     "output_type": "stream",
     "text": [
      "/var/folders/61/68rz41055xg7sv4h43532jh00000gn/T/ipykernel_25630/3887715647.py:6: FutureWarning: The frame.append method is deprecated and will be removed from pandas in a future version. Use pandas.concat instead.\n",
      "  df=df.append(table[0])\n"
     ]
    },
    {
     "name": "stdout",
     "output_type": "stream",
     "text": [
      "now snoozing for 13 secs\n",
      "now scraping page 518\n"
     ]
    },
    {
     "name": "stderr",
     "output_type": "stream",
     "text": [
      "/var/folders/61/68rz41055xg7sv4h43532jh00000gn/T/ipykernel_25630/3887715647.py:6: FutureWarning: The frame.append method is deprecated and will be removed from pandas in a future version. Use pandas.concat instead.\n",
      "  df=df.append(table[0])\n"
     ]
    },
    {
     "name": "stdout",
     "output_type": "stream",
     "text": [
      "now snoozing for 14 secs\n",
      "now scraping page 519\n"
     ]
    },
    {
     "name": "stderr",
     "output_type": "stream",
     "text": [
      "/var/folders/61/68rz41055xg7sv4h43532jh00000gn/T/ipykernel_25630/3887715647.py:6: FutureWarning: The frame.append method is deprecated and will be removed from pandas in a future version. Use pandas.concat instead.\n",
      "  df=df.append(table[0])\n"
     ]
    },
    {
     "name": "stdout",
     "output_type": "stream",
     "text": [
      "now snoozing for 17 secs\n",
      "now scraping page 520\n"
     ]
    },
    {
     "name": "stderr",
     "output_type": "stream",
     "text": [
      "/var/folders/61/68rz41055xg7sv4h43532jh00000gn/T/ipykernel_25630/3887715647.py:6: FutureWarning: The frame.append method is deprecated and will be removed from pandas in a future version. Use pandas.concat instead.\n",
      "  df=df.append(table[0])\n"
     ]
    },
    {
     "name": "stdout",
     "output_type": "stream",
     "text": [
      "now snoozing for 15 secs\n",
      "now scraping page 521\n"
     ]
    },
    {
     "name": "stderr",
     "output_type": "stream",
     "text": [
      "/var/folders/61/68rz41055xg7sv4h43532jh00000gn/T/ipykernel_25630/3887715647.py:6: FutureWarning: The frame.append method is deprecated and will be removed from pandas in a future version. Use pandas.concat instead.\n",
      "  df=df.append(table[0])\n"
     ]
    },
    {
     "name": "stdout",
     "output_type": "stream",
     "text": [
      "now snoozing for 16 secs\n",
      "now scraping page 522\n"
     ]
    },
    {
     "name": "stderr",
     "output_type": "stream",
     "text": [
      "/var/folders/61/68rz41055xg7sv4h43532jh00000gn/T/ipykernel_25630/3887715647.py:6: FutureWarning: The frame.append method is deprecated and will be removed from pandas in a future version. Use pandas.concat instead.\n",
      "  df=df.append(table[0])\n"
     ]
    },
    {
     "name": "stdout",
     "output_type": "stream",
     "text": [
      "now snoozing for 11 secs\n",
      "now scraping page 523\n"
     ]
    },
    {
     "name": "stderr",
     "output_type": "stream",
     "text": [
      "/var/folders/61/68rz41055xg7sv4h43532jh00000gn/T/ipykernel_25630/3887715647.py:6: FutureWarning: The frame.append method is deprecated and will be removed from pandas in a future version. Use pandas.concat instead.\n",
      "  df=df.append(table[0])\n"
     ]
    },
    {
     "name": "stdout",
     "output_type": "stream",
     "text": [
      "now snoozing for 19 secs\n",
      "now scraping page 524\n"
     ]
    },
    {
     "name": "stderr",
     "output_type": "stream",
     "text": [
      "/var/folders/61/68rz41055xg7sv4h43532jh00000gn/T/ipykernel_25630/3887715647.py:6: FutureWarning: The frame.append method is deprecated and will be removed from pandas in a future version. Use pandas.concat instead.\n",
      "  df=df.append(table[0])\n"
     ]
    },
    {
     "name": "stdout",
     "output_type": "stream",
     "text": [
      "now snoozing for 14 secs\n",
      "now scraping page 525\n"
     ]
    },
    {
     "name": "stderr",
     "output_type": "stream",
     "text": [
      "/var/folders/61/68rz41055xg7sv4h43532jh00000gn/T/ipykernel_25630/3887715647.py:6: FutureWarning: The frame.append method is deprecated and will be removed from pandas in a future version. Use pandas.concat instead.\n",
      "  df=df.append(table[0])\n"
     ]
    },
    {
     "name": "stdout",
     "output_type": "stream",
     "text": [
      "now snoozing for 17 secs\n",
      "now scraping page 526\n"
     ]
    },
    {
     "name": "stderr",
     "output_type": "stream",
     "text": [
      "/var/folders/61/68rz41055xg7sv4h43532jh00000gn/T/ipykernel_25630/3887715647.py:6: FutureWarning: The frame.append method is deprecated and will be removed from pandas in a future version. Use pandas.concat instead.\n",
      "  df=df.append(table[0])\n"
     ]
    },
    {
     "name": "stdout",
     "output_type": "stream",
     "text": [
      "now snoozing for 14 secs\n",
      "now scraping page 527\n"
     ]
    },
    {
     "name": "stderr",
     "output_type": "stream",
     "text": [
      "/var/folders/61/68rz41055xg7sv4h43532jh00000gn/T/ipykernel_25630/3887715647.py:6: FutureWarning: The frame.append method is deprecated and will be removed from pandas in a future version. Use pandas.concat instead.\n",
      "  df=df.append(table[0])\n"
     ]
    },
    {
     "name": "stdout",
     "output_type": "stream",
     "text": [
      "now snoozing for 12 secs\n",
      "now scraping page 528\n"
     ]
    },
    {
     "name": "stderr",
     "output_type": "stream",
     "text": [
      "/var/folders/61/68rz41055xg7sv4h43532jh00000gn/T/ipykernel_25630/3887715647.py:6: FutureWarning: The frame.append method is deprecated and will be removed from pandas in a future version. Use pandas.concat instead.\n",
      "  df=df.append(table[0])\n"
     ]
    },
    {
     "name": "stdout",
     "output_type": "stream",
     "text": [
      "now snoozing for 17 secs\n",
      "now scraping page 529\n"
     ]
    },
    {
     "name": "stderr",
     "output_type": "stream",
     "text": [
      "/var/folders/61/68rz41055xg7sv4h43532jh00000gn/T/ipykernel_25630/3887715647.py:6: FutureWarning: The frame.append method is deprecated and will be removed from pandas in a future version. Use pandas.concat instead.\n",
      "  df=df.append(table[0])\n"
     ]
    },
    {
     "name": "stdout",
     "output_type": "stream",
     "text": [
      "now snoozing for 15 secs\n",
      "now scraping page 530\n"
     ]
    },
    {
     "name": "stderr",
     "output_type": "stream",
     "text": [
      "/var/folders/61/68rz41055xg7sv4h43532jh00000gn/T/ipykernel_25630/3887715647.py:6: FutureWarning: The frame.append method is deprecated and will be removed from pandas in a future version. Use pandas.concat instead.\n",
      "  df=df.append(table[0])\n"
     ]
    },
    {
     "name": "stdout",
     "output_type": "stream",
     "text": [
      "now snoozing for 14 secs\n",
      "now scraping page 531\n"
     ]
    },
    {
     "name": "stderr",
     "output_type": "stream",
     "text": [
      "/var/folders/61/68rz41055xg7sv4h43532jh00000gn/T/ipykernel_25630/3887715647.py:6: FutureWarning: The frame.append method is deprecated and will be removed from pandas in a future version. Use pandas.concat instead.\n",
      "  df=df.append(table[0])\n"
     ]
    },
    {
     "name": "stdout",
     "output_type": "stream",
     "text": [
      "now snoozing for 19 secs\n",
      "now scraping page 532\n"
     ]
    },
    {
     "name": "stderr",
     "output_type": "stream",
     "text": [
      "/var/folders/61/68rz41055xg7sv4h43532jh00000gn/T/ipykernel_25630/3887715647.py:6: FutureWarning: The frame.append method is deprecated and will be removed from pandas in a future version. Use pandas.concat instead.\n",
      "  df=df.append(table[0])\n"
     ]
    },
    {
     "name": "stdout",
     "output_type": "stream",
     "text": [
      "now snoozing for 18 secs\n",
      "now scraping page 533\n"
     ]
    },
    {
     "name": "stderr",
     "output_type": "stream",
     "text": [
      "/var/folders/61/68rz41055xg7sv4h43532jh00000gn/T/ipykernel_25630/3887715647.py:6: FutureWarning: The frame.append method is deprecated and will be removed from pandas in a future version. Use pandas.concat instead.\n",
      "  df=df.append(table[0])\n"
     ]
    },
    {
     "name": "stdout",
     "output_type": "stream",
     "text": [
      "now snoozing for 19 secs\n",
      "now scraping page 534\n"
     ]
    },
    {
     "name": "stderr",
     "output_type": "stream",
     "text": [
      "/var/folders/61/68rz41055xg7sv4h43532jh00000gn/T/ipykernel_25630/3887715647.py:6: FutureWarning: The frame.append method is deprecated and will be removed from pandas in a future version. Use pandas.concat instead.\n",
      "  df=df.append(table[0])\n"
     ]
    },
    {
     "name": "stdout",
     "output_type": "stream",
     "text": [
      "now snoozing for 12 secs\n",
      "now scraping page 535\n"
     ]
    },
    {
     "name": "stderr",
     "output_type": "stream",
     "text": [
      "/var/folders/61/68rz41055xg7sv4h43532jh00000gn/T/ipykernel_25630/3887715647.py:6: FutureWarning: The frame.append method is deprecated and will be removed from pandas in a future version. Use pandas.concat instead.\n",
      "  df=df.append(table[0])\n"
     ]
    },
    {
     "name": "stdout",
     "output_type": "stream",
     "text": [
      "now snoozing for 11 secs\n",
      "now scraping page 536\n"
     ]
    },
    {
     "name": "stderr",
     "output_type": "stream",
     "text": [
      "/var/folders/61/68rz41055xg7sv4h43532jh00000gn/T/ipykernel_25630/3887715647.py:6: FutureWarning: The frame.append method is deprecated and will be removed from pandas in a future version. Use pandas.concat instead.\n",
      "  df=df.append(table[0])\n"
     ]
    },
    {
     "name": "stdout",
     "output_type": "stream",
     "text": [
      "now snoozing for 17 secs\n",
      "now scraping page 537\n"
     ]
    },
    {
     "name": "stderr",
     "output_type": "stream",
     "text": [
      "/var/folders/61/68rz41055xg7sv4h43532jh00000gn/T/ipykernel_25630/3887715647.py:6: FutureWarning: The frame.append method is deprecated and will be removed from pandas in a future version. Use pandas.concat instead.\n",
      "  df=df.append(table[0])\n"
     ]
    },
    {
     "name": "stdout",
     "output_type": "stream",
     "text": [
      "now snoozing for 13 secs\n",
      "now scraping page 538\n"
     ]
    },
    {
     "name": "stderr",
     "output_type": "stream",
     "text": [
      "/var/folders/61/68rz41055xg7sv4h43532jh00000gn/T/ipykernel_25630/3887715647.py:6: FutureWarning: The frame.append method is deprecated and will be removed from pandas in a future version. Use pandas.concat instead.\n",
      "  df=df.append(table[0])\n"
     ]
    },
    {
     "name": "stdout",
     "output_type": "stream",
     "text": [
      "now snoozing for 12 secs\n",
      "now scraping page 539\n"
     ]
    },
    {
     "name": "stderr",
     "output_type": "stream",
     "text": [
      "/var/folders/61/68rz41055xg7sv4h43532jh00000gn/T/ipykernel_25630/3887715647.py:6: FutureWarning: The frame.append method is deprecated and will be removed from pandas in a future version. Use pandas.concat instead.\n",
      "  df=df.append(table[0])\n"
     ]
    },
    {
     "name": "stdout",
     "output_type": "stream",
     "text": [
      "now snoozing for 12 secs\n",
      "now scraping page 540\n"
     ]
    },
    {
     "name": "stderr",
     "output_type": "stream",
     "text": [
      "/var/folders/61/68rz41055xg7sv4h43532jh00000gn/T/ipykernel_25630/3887715647.py:6: FutureWarning: The frame.append method is deprecated and will be removed from pandas in a future version. Use pandas.concat instead.\n",
      "  df=df.append(table[0])\n"
     ]
    },
    {
     "name": "stdout",
     "output_type": "stream",
     "text": [
      "now snoozing for 17 secs\n",
      "now scraping page 541\n"
     ]
    },
    {
     "name": "stderr",
     "output_type": "stream",
     "text": [
      "/var/folders/61/68rz41055xg7sv4h43532jh00000gn/T/ipykernel_25630/3887715647.py:6: FutureWarning: The frame.append method is deprecated and will be removed from pandas in a future version. Use pandas.concat instead.\n",
      "  df=df.append(table[0])\n"
     ]
    },
    {
     "name": "stdout",
     "output_type": "stream",
     "text": [
      "now snoozing for 14 secs\n",
      "now scraping page 542\n"
     ]
    },
    {
     "name": "stderr",
     "output_type": "stream",
     "text": [
      "/var/folders/61/68rz41055xg7sv4h43532jh00000gn/T/ipykernel_25630/3887715647.py:6: FutureWarning: The frame.append method is deprecated and will be removed from pandas in a future version. Use pandas.concat instead.\n",
      "  df=df.append(table[0])\n"
     ]
    },
    {
     "name": "stdout",
     "output_type": "stream",
     "text": [
      "now snoozing for 10 secs\n",
      "now scraping page 543\n"
     ]
    },
    {
     "name": "stderr",
     "output_type": "stream",
     "text": [
      "/var/folders/61/68rz41055xg7sv4h43532jh00000gn/T/ipykernel_25630/3887715647.py:6: FutureWarning: The frame.append method is deprecated and will be removed from pandas in a future version. Use pandas.concat instead.\n",
      "  df=df.append(table[0])\n"
     ]
    },
    {
     "name": "stdout",
     "output_type": "stream",
     "text": [
      "now snoozing for 13 secs\n",
      "now scraping page 544\n"
     ]
    },
    {
     "name": "stderr",
     "output_type": "stream",
     "text": [
      "/var/folders/61/68rz41055xg7sv4h43532jh00000gn/T/ipykernel_25630/3887715647.py:6: FutureWarning: The frame.append method is deprecated and will be removed from pandas in a future version. Use pandas.concat instead.\n",
      "  df=df.append(table[0])\n"
     ]
    },
    {
     "name": "stdout",
     "output_type": "stream",
     "text": [
      "now snoozing for 18 secs\n",
      "now scraping page 545\n"
     ]
    },
    {
     "name": "stderr",
     "output_type": "stream",
     "text": [
      "/var/folders/61/68rz41055xg7sv4h43532jh00000gn/T/ipykernel_25630/3887715647.py:6: FutureWarning: The frame.append method is deprecated and will be removed from pandas in a future version. Use pandas.concat instead.\n",
      "  df=df.append(table[0])\n"
     ]
    },
    {
     "name": "stdout",
     "output_type": "stream",
     "text": [
      "now snoozing for 16 secs\n",
      "now scraping page 546\n"
     ]
    },
    {
     "name": "stderr",
     "output_type": "stream",
     "text": [
      "/var/folders/61/68rz41055xg7sv4h43532jh00000gn/T/ipykernel_25630/3887715647.py:6: FutureWarning: The frame.append method is deprecated and will be removed from pandas in a future version. Use pandas.concat instead.\n",
      "  df=df.append(table[0])\n"
     ]
    },
    {
     "name": "stdout",
     "output_type": "stream",
     "text": [
      "now snoozing for 16 secs\n",
      "now scraping page 547\n"
     ]
    },
    {
     "name": "stderr",
     "output_type": "stream",
     "text": [
      "/var/folders/61/68rz41055xg7sv4h43532jh00000gn/T/ipykernel_25630/3887715647.py:6: FutureWarning: The frame.append method is deprecated and will be removed from pandas in a future version. Use pandas.concat instead.\n",
      "  df=df.append(table[0])\n"
     ]
    },
    {
     "name": "stdout",
     "output_type": "stream",
     "text": [
      "now snoozing for 15 secs\n",
      "now scraping page 548\n"
     ]
    },
    {
     "name": "stderr",
     "output_type": "stream",
     "text": [
      "/var/folders/61/68rz41055xg7sv4h43532jh00000gn/T/ipykernel_25630/3887715647.py:6: FutureWarning: The frame.append method is deprecated and will be removed from pandas in a future version. Use pandas.concat instead.\n",
      "  df=df.append(table[0])\n"
     ]
    },
    {
     "name": "stdout",
     "output_type": "stream",
     "text": [
      "now snoozing for 11 secs\n",
      "now scraping page 549\n"
     ]
    },
    {
     "name": "stderr",
     "output_type": "stream",
     "text": [
      "/var/folders/61/68rz41055xg7sv4h43532jh00000gn/T/ipykernel_25630/3887715647.py:6: FutureWarning: The frame.append method is deprecated and will be removed from pandas in a future version. Use pandas.concat instead.\n",
      "  df=df.append(table[0])\n"
     ]
    },
    {
     "name": "stdout",
     "output_type": "stream",
     "text": [
      "now snoozing for 12 secs\n",
      "now scraping page 550\n"
     ]
    },
    {
     "name": "stderr",
     "output_type": "stream",
     "text": [
      "/var/folders/61/68rz41055xg7sv4h43532jh00000gn/T/ipykernel_25630/3887715647.py:6: FutureWarning: The frame.append method is deprecated and will be removed from pandas in a future version. Use pandas.concat instead.\n",
      "  df=df.append(table[0])\n"
     ]
    },
    {
     "name": "stdout",
     "output_type": "stream",
     "text": [
      "now snoozing for 10 secs\n",
      "now scraping page 551\n"
     ]
    },
    {
     "name": "stderr",
     "output_type": "stream",
     "text": [
      "/var/folders/61/68rz41055xg7sv4h43532jh00000gn/T/ipykernel_25630/3887715647.py:6: FutureWarning: The frame.append method is deprecated and will be removed from pandas in a future version. Use pandas.concat instead.\n",
      "  df=df.append(table[0])\n"
     ]
    },
    {
     "name": "stdout",
     "output_type": "stream",
     "text": [
      "now snoozing for 18 secs\n",
      "now scraping page 552\n"
     ]
    },
    {
     "name": "stderr",
     "output_type": "stream",
     "text": [
      "/var/folders/61/68rz41055xg7sv4h43532jh00000gn/T/ipykernel_25630/3887715647.py:6: FutureWarning: The frame.append method is deprecated and will be removed from pandas in a future version. Use pandas.concat instead.\n",
      "  df=df.append(table[0])\n"
     ]
    },
    {
     "name": "stdout",
     "output_type": "stream",
     "text": [
      "now snoozing for 15 secs\n",
      "now scraping page 553\n"
     ]
    },
    {
     "name": "stderr",
     "output_type": "stream",
     "text": [
      "/var/folders/61/68rz41055xg7sv4h43532jh00000gn/T/ipykernel_25630/3887715647.py:6: FutureWarning: The frame.append method is deprecated and will be removed from pandas in a future version. Use pandas.concat instead.\n",
      "  df=df.append(table[0])\n"
     ]
    },
    {
     "name": "stdout",
     "output_type": "stream",
     "text": [
      "now snoozing for 18 secs\n",
      "now scraping page 554\n"
     ]
    },
    {
     "name": "stderr",
     "output_type": "stream",
     "text": [
      "/var/folders/61/68rz41055xg7sv4h43532jh00000gn/T/ipykernel_25630/3887715647.py:6: FutureWarning: The frame.append method is deprecated and will be removed from pandas in a future version. Use pandas.concat instead.\n",
      "  df=df.append(table[0])\n"
     ]
    },
    {
     "name": "stdout",
     "output_type": "stream",
     "text": [
      "now snoozing for 13 secs\n",
      "now scraping page 555\n"
     ]
    },
    {
     "name": "stderr",
     "output_type": "stream",
     "text": [
      "/var/folders/61/68rz41055xg7sv4h43532jh00000gn/T/ipykernel_25630/3887715647.py:6: FutureWarning: The frame.append method is deprecated and will be removed from pandas in a future version. Use pandas.concat instead.\n",
      "  df=df.append(table[0])\n"
     ]
    },
    {
     "name": "stdout",
     "output_type": "stream",
     "text": [
      "now snoozing for 12 secs\n",
      "now scraping page 556\n"
     ]
    },
    {
     "name": "stderr",
     "output_type": "stream",
     "text": [
      "/var/folders/61/68rz41055xg7sv4h43532jh00000gn/T/ipykernel_25630/3887715647.py:6: FutureWarning: The frame.append method is deprecated and will be removed from pandas in a future version. Use pandas.concat instead.\n",
      "  df=df.append(table[0])\n"
     ]
    },
    {
     "name": "stdout",
     "output_type": "stream",
     "text": [
      "now snoozing for 10 secs\n",
      "now scraping page 557\n"
     ]
    },
    {
     "name": "stderr",
     "output_type": "stream",
     "text": [
      "/var/folders/61/68rz41055xg7sv4h43532jh00000gn/T/ipykernel_25630/3887715647.py:6: FutureWarning: The frame.append method is deprecated and will be removed from pandas in a future version. Use pandas.concat instead.\n",
      "  df=df.append(table[0])\n"
     ]
    },
    {
     "name": "stdout",
     "output_type": "stream",
     "text": [
      "now snoozing for 17 secs\n",
      "now scraping page 558\n"
     ]
    },
    {
     "name": "stderr",
     "output_type": "stream",
     "text": [
      "/var/folders/61/68rz41055xg7sv4h43532jh00000gn/T/ipykernel_25630/3887715647.py:6: FutureWarning: The frame.append method is deprecated and will be removed from pandas in a future version. Use pandas.concat instead.\n",
      "  df=df.append(table[0])\n"
     ]
    },
    {
     "name": "stdout",
     "output_type": "stream",
     "text": [
      "now snoozing for 10 secs\n",
      "now scraping page 559\n"
     ]
    },
    {
     "name": "stderr",
     "output_type": "stream",
     "text": [
      "/var/folders/61/68rz41055xg7sv4h43532jh00000gn/T/ipykernel_25630/3887715647.py:6: FutureWarning: The frame.append method is deprecated and will be removed from pandas in a future version. Use pandas.concat instead.\n",
      "  df=df.append(table[0])\n"
     ]
    },
    {
     "name": "stdout",
     "output_type": "stream",
     "text": [
      "now snoozing for 19 secs\n",
      "now scraping page 560\n"
     ]
    },
    {
     "name": "stderr",
     "output_type": "stream",
     "text": [
      "/var/folders/61/68rz41055xg7sv4h43532jh00000gn/T/ipykernel_25630/3887715647.py:6: FutureWarning: The frame.append method is deprecated and will be removed from pandas in a future version. Use pandas.concat instead.\n",
      "  df=df.append(table[0])\n"
     ]
    },
    {
     "name": "stdout",
     "output_type": "stream",
     "text": [
      "now snoozing for 19 secs\n",
      "now scraping page 561\n"
     ]
    },
    {
     "name": "stderr",
     "output_type": "stream",
     "text": [
      "/var/folders/61/68rz41055xg7sv4h43532jh00000gn/T/ipykernel_25630/3887715647.py:6: FutureWarning: The frame.append method is deprecated and will be removed from pandas in a future version. Use pandas.concat instead.\n",
      "  df=df.append(table[0])\n"
     ]
    },
    {
     "name": "stdout",
     "output_type": "stream",
     "text": [
      "now snoozing for 15 secs\n",
      "now scraping page 562\n"
     ]
    },
    {
     "name": "stderr",
     "output_type": "stream",
     "text": [
      "/var/folders/61/68rz41055xg7sv4h43532jh00000gn/T/ipykernel_25630/3887715647.py:6: FutureWarning: The frame.append method is deprecated and will be removed from pandas in a future version. Use pandas.concat instead.\n",
      "  df=df.append(table[0])\n"
     ]
    },
    {
     "name": "stdout",
     "output_type": "stream",
     "text": [
      "now snoozing for 19 secs\n",
      "now scraping page 563\n"
     ]
    },
    {
     "name": "stderr",
     "output_type": "stream",
     "text": [
      "/var/folders/61/68rz41055xg7sv4h43532jh00000gn/T/ipykernel_25630/3887715647.py:6: FutureWarning: The frame.append method is deprecated and will be removed from pandas in a future version. Use pandas.concat instead.\n",
      "  df=df.append(table[0])\n"
     ]
    },
    {
     "name": "stdout",
     "output_type": "stream",
     "text": [
      "now snoozing for 17 secs\n",
      "now scraping page 564\n"
     ]
    },
    {
     "name": "stderr",
     "output_type": "stream",
     "text": [
      "/var/folders/61/68rz41055xg7sv4h43532jh00000gn/T/ipykernel_25630/3887715647.py:6: FutureWarning: The frame.append method is deprecated and will be removed from pandas in a future version. Use pandas.concat instead.\n",
      "  df=df.append(table[0])\n"
     ]
    },
    {
     "name": "stdout",
     "output_type": "stream",
     "text": [
      "now snoozing for 14 secs\n",
      "now scraping page 565\n"
     ]
    },
    {
     "name": "stderr",
     "output_type": "stream",
     "text": [
      "/var/folders/61/68rz41055xg7sv4h43532jh00000gn/T/ipykernel_25630/3887715647.py:6: FutureWarning: The frame.append method is deprecated and will be removed from pandas in a future version. Use pandas.concat instead.\n",
      "  df=df.append(table[0])\n"
     ]
    },
    {
     "name": "stdout",
     "output_type": "stream",
     "text": [
      "now snoozing for 18 secs\n",
      "now scraping page 566\n"
     ]
    },
    {
     "name": "stderr",
     "output_type": "stream",
     "text": [
      "/var/folders/61/68rz41055xg7sv4h43532jh00000gn/T/ipykernel_25630/3887715647.py:6: FutureWarning: The frame.append method is deprecated and will be removed from pandas in a future version. Use pandas.concat instead.\n",
      "  df=df.append(table[0])\n"
     ]
    },
    {
     "name": "stdout",
     "output_type": "stream",
     "text": [
      "now snoozing for 14 secs\n",
      "now scraping page 567\n"
     ]
    },
    {
     "name": "stderr",
     "output_type": "stream",
     "text": [
      "/var/folders/61/68rz41055xg7sv4h43532jh00000gn/T/ipykernel_25630/3887715647.py:6: FutureWarning: The frame.append method is deprecated and will be removed from pandas in a future version. Use pandas.concat instead.\n",
      "  df=df.append(table[0])\n"
     ]
    },
    {
     "name": "stdout",
     "output_type": "stream",
     "text": [
      "now snoozing for 18 secs\n",
      "now scraping page 568\n"
     ]
    },
    {
     "name": "stderr",
     "output_type": "stream",
     "text": [
      "/var/folders/61/68rz41055xg7sv4h43532jh00000gn/T/ipykernel_25630/3887715647.py:6: FutureWarning: The frame.append method is deprecated and will be removed from pandas in a future version. Use pandas.concat instead.\n",
      "  df=df.append(table[0])\n"
     ]
    },
    {
     "name": "stdout",
     "output_type": "stream",
     "text": [
      "now snoozing for 18 secs\n",
      "now scraping page 569\n"
     ]
    },
    {
     "name": "stderr",
     "output_type": "stream",
     "text": [
      "/var/folders/61/68rz41055xg7sv4h43532jh00000gn/T/ipykernel_25630/3887715647.py:6: FutureWarning: The frame.append method is deprecated and will be removed from pandas in a future version. Use pandas.concat instead.\n",
      "  df=df.append(table[0])\n"
     ]
    },
    {
     "name": "stdout",
     "output_type": "stream",
     "text": [
      "now snoozing for 16 secs\n",
      "now scraping page 570\n"
     ]
    },
    {
     "name": "stderr",
     "output_type": "stream",
     "text": [
      "/var/folders/61/68rz41055xg7sv4h43532jh00000gn/T/ipykernel_25630/3887715647.py:6: FutureWarning: The frame.append method is deprecated and will be removed from pandas in a future version. Use pandas.concat instead.\n",
      "  df=df.append(table[0])\n"
     ]
    },
    {
     "name": "stdout",
     "output_type": "stream",
     "text": [
      "now snoozing for 13 secs\n",
      "now scraping page 571\n"
     ]
    },
    {
     "name": "stderr",
     "output_type": "stream",
     "text": [
      "/var/folders/61/68rz41055xg7sv4h43532jh00000gn/T/ipykernel_25630/3887715647.py:6: FutureWarning: The frame.append method is deprecated and will be removed from pandas in a future version. Use pandas.concat instead.\n",
      "  df=df.append(table[0])\n"
     ]
    },
    {
     "name": "stdout",
     "output_type": "stream",
     "text": [
      "now snoozing for 10 secs\n",
      "now scraping page 572\n"
     ]
    },
    {
     "name": "stderr",
     "output_type": "stream",
     "text": [
      "/var/folders/61/68rz41055xg7sv4h43532jh00000gn/T/ipykernel_25630/3887715647.py:6: FutureWarning: The frame.append method is deprecated and will be removed from pandas in a future version. Use pandas.concat instead.\n",
      "  df=df.append(table[0])\n"
     ]
    },
    {
     "name": "stdout",
     "output_type": "stream",
     "text": [
      "now snoozing for 16 secs\n",
      "now scraping page 573\n"
     ]
    },
    {
     "name": "stderr",
     "output_type": "stream",
     "text": [
      "/var/folders/61/68rz41055xg7sv4h43532jh00000gn/T/ipykernel_25630/3887715647.py:6: FutureWarning: The frame.append method is deprecated and will be removed from pandas in a future version. Use pandas.concat instead.\n",
      "  df=df.append(table[0])\n"
     ]
    },
    {
     "name": "stdout",
     "output_type": "stream",
     "text": [
      "now snoozing for 18 secs\n",
      "now scraping page 574\n"
     ]
    },
    {
     "name": "stderr",
     "output_type": "stream",
     "text": [
      "/var/folders/61/68rz41055xg7sv4h43532jh00000gn/T/ipykernel_25630/3887715647.py:6: FutureWarning: The frame.append method is deprecated and will be removed from pandas in a future version. Use pandas.concat instead.\n",
      "  df=df.append(table[0])\n"
     ]
    },
    {
     "name": "stdout",
     "output_type": "stream",
     "text": [
      "now snoozing for 18 secs\n",
      "now scraping page 575\n"
     ]
    },
    {
     "name": "stderr",
     "output_type": "stream",
     "text": [
      "/var/folders/61/68rz41055xg7sv4h43532jh00000gn/T/ipykernel_25630/3887715647.py:6: FutureWarning: The frame.append method is deprecated and will be removed from pandas in a future version. Use pandas.concat instead.\n",
      "  df=df.append(table[0])\n"
     ]
    },
    {
     "name": "stdout",
     "output_type": "stream",
     "text": [
      "now snoozing for 10 secs\n",
      "now scraping page 576\n"
     ]
    },
    {
     "name": "stderr",
     "output_type": "stream",
     "text": [
      "/var/folders/61/68rz41055xg7sv4h43532jh00000gn/T/ipykernel_25630/3887715647.py:6: FutureWarning: The frame.append method is deprecated and will be removed from pandas in a future version. Use pandas.concat instead.\n",
      "  df=df.append(table[0])\n"
     ]
    },
    {
     "name": "stdout",
     "output_type": "stream",
     "text": [
      "now snoozing for 17 secs\n",
      "now scraping page 577\n"
     ]
    },
    {
     "name": "stderr",
     "output_type": "stream",
     "text": [
      "/var/folders/61/68rz41055xg7sv4h43532jh00000gn/T/ipykernel_25630/3887715647.py:6: FutureWarning: The frame.append method is deprecated and will be removed from pandas in a future version. Use pandas.concat instead.\n",
      "  df=df.append(table[0])\n"
     ]
    },
    {
     "name": "stdout",
     "output_type": "stream",
     "text": [
      "now snoozing for 15 secs\n",
      "now scraping page 578\n"
     ]
    },
    {
     "name": "stderr",
     "output_type": "stream",
     "text": [
      "/var/folders/61/68rz41055xg7sv4h43532jh00000gn/T/ipykernel_25630/3887715647.py:6: FutureWarning: The frame.append method is deprecated and will be removed from pandas in a future version. Use pandas.concat instead.\n",
      "  df=df.append(table[0])\n"
     ]
    },
    {
     "name": "stdout",
     "output_type": "stream",
     "text": [
      "now snoozing for 10 secs\n",
      "now scraping page 579\n"
     ]
    },
    {
     "name": "stderr",
     "output_type": "stream",
     "text": [
      "/var/folders/61/68rz41055xg7sv4h43532jh00000gn/T/ipykernel_25630/3887715647.py:6: FutureWarning: The frame.append method is deprecated and will be removed from pandas in a future version. Use pandas.concat instead.\n",
      "  df=df.append(table[0])\n"
     ]
    },
    {
     "name": "stdout",
     "output_type": "stream",
     "text": [
      "now snoozing for 14 secs\n",
      "now scraping page 580\n"
     ]
    },
    {
     "name": "stderr",
     "output_type": "stream",
     "text": [
      "/var/folders/61/68rz41055xg7sv4h43532jh00000gn/T/ipykernel_25630/3887715647.py:6: FutureWarning: The frame.append method is deprecated and will be removed from pandas in a future version. Use pandas.concat instead.\n",
      "  df=df.append(table[0])\n"
     ]
    },
    {
     "name": "stdout",
     "output_type": "stream",
     "text": [
      "now snoozing for 10 secs\n",
      "now scraping page 581\n"
     ]
    },
    {
     "name": "stderr",
     "output_type": "stream",
     "text": [
      "/var/folders/61/68rz41055xg7sv4h43532jh00000gn/T/ipykernel_25630/3887715647.py:6: FutureWarning: The frame.append method is deprecated and will be removed from pandas in a future version. Use pandas.concat instead.\n",
      "  df=df.append(table[0])\n"
     ]
    },
    {
     "name": "stdout",
     "output_type": "stream",
     "text": [
      "now snoozing for 16 secs\n",
      "now scraping page 582\n"
     ]
    },
    {
     "name": "stderr",
     "output_type": "stream",
     "text": [
      "/var/folders/61/68rz41055xg7sv4h43532jh00000gn/T/ipykernel_25630/3887715647.py:6: FutureWarning: The frame.append method is deprecated and will be removed from pandas in a future version. Use pandas.concat instead.\n",
      "  df=df.append(table[0])\n"
     ]
    },
    {
     "name": "stdout",
     "output_type": "stream",
     "text": [
      "now snoozing for 18 secs\n",
      "now scraping page 583\n"
     ]
    },
    {
     "name": "stderr",
     "output_type": "stream",
     "text": [
      "/var/folders/61/68rz41055xg7sv4h43532jh00000gn/T/ipykernel_25630/3887715647.py:6: FutureWarning: The frame.append method is deprecated and will be removed from pandas in a future version. Use pandas.concat instead.\n",
      "  df=df.append(table[0])\n"
     ]
    },
    {
     "name": "stdout",
     "output_type": "stream",
     "text": [
      "now snoozing for 13 secs\n",
      "now scraping page 584\n"
     ]
    },
    {
     "name": "stderr",
     "output_type": "stream",
     "text": [
      "/var/folders/61/68rz41055xg7sv4h43532jh00000gn/T/ipykernel_25630/3887715647.py:6: FutureWarning: The frame.append method is deprecated and will be removed from pandas in a future version. Use pandas.concat instead.\n",
      "  df=df.append(table[0])\n"
     ]
    },
    {
     "name": "stdout",
     "output_type": "stream",
     "text": [
      "now snoozing for 16 secs\n",
      "now scraping page 585\n"
     ]
    },
    {
     "name": "stderr",
     "output_type": "stream",
     "text": [
      "/var/folders/61/68rz41055xg7sv4h43532jh00000gn/T/ipykernel_25630/3887715647.py:6: FutureWarning: The frame.append method is deprecated and will be removed from pandas in a future version. Use pandas.concat instead.\n",
      "  df=df.append(table[0])\n"
     ]
    },
    {
     "name": "stdout",
     "output_type": "stream",
     "text": [
      "now snoozing for 10 secs\n",
      "now scraping page 586\n"
     ]
    },
    {
     "name": "stderr",
     "output_type": "stream",
     "text": [
      "/var/folders/61/68rz41055xg7sv4h43532jh00000gn/T/ipykernel_25630/3887715647.py:6: FutureWarning: The frame.append method is deprecated and will be removed from pandas in a future version. Use pandas.concat instead.\n",
      "  df=df.append(table[0])\n"
     ]
    },
    {
     "name": "stdout",
     "output_type": "stream",
     "text": [
      "now snoozing for 17 secs\n",
      "now scraping page 587\n"
     ]
    },
    {
     "name": "stderr",
     "output_type": "stream",
     "text": [
      "/var/folders/61/68rz41055xg7sv4h43532jh00000gn/T/ipykernel_25630/3887715647.py:6: FutureWarning: The frame.append method is deprecated and will be removed from pandas in a future version. Use pandas.concat instead.\n",
      "  df=df.append(table[0])\n"
     ]
    },
    {
     "name": "stdout",
     "output_type": "stream",
     "text": [
      "now snoozing for 19 secs\n",
      "now scraping page 588\n"
     ]
    },
    {
     "name": "stderr",
     "output_type": "stream",
     "text": [
      "/var/folders/61/68rz41055xg7sv4h43532jh00000gn/T/ipykernel_25630/3887715647.py:6: FutureWarning: The frame.append method is deprecated and will be removed from pandas in a future version. Use pandas.concat instead.\n",
      "  df=df.append(table[0])\n"
     ]
    },
    {
     "name": "stdout",
     "output_type": "stream",
     "text": [
      "now snoozing for 13 secs\n",
      "now scraping page 589\n"
     ]
    },
    {
     "name": "stderr",
     "output_type": "stream",
     "text": [
      "/var/folders/61/68rz41055xg7sv4h43532jh00000gn/T/ipykernel_25630/3887715647.py:6: FutureWarning: The frame.append method is deprecated and will be removed from pandas in a future version. Use pandas.concat instead.\n",
      "  df=df.append(table[0])\n"
     ]
    },
    {
     "name": "stdout",
     "output_type": "stream",
     "text": [
      "now snoozing for 12 secs\n",
      "now scraping page 590\n"
     ]
    },
    {
     "name": "stderr",
     "output_type": "stream",
     "text": [
      "/var/folders/61/68rz41055xg7sv4h43532jh00000gn/T/ipykernel_25630/3887715647.py:6: FutureWarning: The frame.append method is deprecated and will be removed from pandas in a future version. Use pandas.concat instead.\n",
      "  df=df.append(table[0])\n"
     ]
    },
    {
     "name": "stdout",
     "output_type": "stream",
     "text": [
      "now snoozing for 13 secs\n",
      "now scraping page 591\n"
     ]
    },
    {
     "name": "stderr",
     "output_type": "stream",
     "text": [
      "/var/folders/61/68rz41055xg7sv4h43532jh00000gn/T/ipykernel_25630/3887715647.py:6: FutureWarning: The frame.append method is deprecated and will be removed from pandas in a future version. Use pandas.concat instead.\n",
      "  df=df.append(table[0])\n"
     ]
    },
    {
     "name": "stdout",
     "output_type": "stream",
     "text": [
      "now snoozing for 19 secs\n",
      "now scraping page 592\n"
     ]
    },
    {
     "name": "stderr",
     "output_type": "stream",
     "text": [
      "/var/folders/61/68rz41055xg7sv4h43532jh00000gn/T/ipykernel_25630/3887715647.py:6: FutureWarning: The frame.append method is deprecated and will be removed from pandas in a future version. Use pandas.concat instead.\n",
      "  df=df.append(table[0])\n"
     ]
    },
    {
     "name": "stdout",
     "output_type": "stream",
     "text": [
      "now snoozing for 12 secs\n",
      "now scraping page 593\n"
     ]
    },
    {
     "name": "stderr",
     "output_type": "stream",
     "text": [
      "/var/folders/61/68rz41055xg7sv4h43532jh00000gn/T/ipykernel_25630/3887715647.py:6: FutureWarning: The frame.append method is deprecated and will be removed from pandas in a future version. Use pandas.concat instead.\n",
      "  df=df.append(table[0])\n"
     ]
    },
    {
     "name": "stdout",
     "output_type": "stream",
     "text": [
      "now snoozing for 12 secs\n",
      "now scraping page 594\n"
     ]
    },
    {
     "name": "stderr",
     "output_type": "stream",
     "text": [
      "/var/folders/61/68rz41055xg7sv4h43532jh00000gn/T/ipykernel_25630/3887715647.py:6: FutureWarning: The frame.append method is deprecated and will be removed from pandas in a future version. Use pandas.concat instead.\n",
      "  df=df.append(table[0])\n"
     ]
    },
    {
     "name": "stdout",
     "output_type": "stream",
     "text": [
      "now snoozing for 11 secs\n",
      "now scraping page 595\n"
     ]
    },
    {
     "name": "stderr",
     "output_type": "stream",
     "text": [
      "/var/folders/61/68rz41055xg7sv4h43532jh00000gn/T/ipykernel_25630/3887715647.py:6: FutureWarning: The frame.append method is deprecated and will be removed from pandas in a future version. Use pandas.concat instead.\n",
      "  df=df.append(table[0])\n"
     ]
    },
    {
     "name": "stdout",
     "output_type": "stream",
     "text": [
      "now snoozing for 14 secs\n",
      "now scraping page 596\n"
     ]
    },
    {
     "name": "stderr",
     "output_type": "stream",
     "text": [
      "/var/folders/61/68rz41055xg7sv4h43532jh00000gn/T/ipykernel_25630/3887715647.py:6: FutureWarning: The frame.append method is deprecated and will be removed from pandas in a future version. Use pandas.concat instead.\n",
      "  df=df.append(table[0])\n"
     ]
    },
    {
     "name": "stdout",
     "output_type": "stream",
     "text": [
      "now snoozing for 14 secs\n",
      "now scraping page 597\n"
     ]
    },
    {
     "name": "stderr",
     "output_type": "stream",
     "text": [
      "/var/folders/61/68rz41055xg7sv4h43532jh00000gn/T/ipykernel_25630/3887715647.py:6: FutureWarning: The frame.append method is deprecated and will be removed from pandas in a future version. Use pandas.concat instead.\n",
      "  df=df.append(table[0])\n"
     ]
    },
    {
     "name": "stdout",
     "output_type": "stream",
     "text": [
      "now snoozing for 14 secs\n",
      "now scraping page 598\n"
     ]
    },
    {
     "name": "stderr",
     "output_type": "stream",
     "text": [
      "/var/folders/61/68rz41055xg7sv4h43532jh00000gn/T/ipykernel_25630/3887715647.py:6: FutureWarning: The frame.append method is deprecated and will be removed from pandas in a future version. Use pandas.concat instead.\n",
      "  df=df.append(table[0])\n"
     ]
    },
    {
     "name": "stdout",
     "output_type": "stream",
     "text": [
      "now snoozing for 12 secs\n",
      "now scraping page 599\n"
     ]
    },
    {
     "name": "stderr",
     "output_type": "stream",
     "text": [
      "/var/folders/61/68rz41055xg7sv4h43532jh00000gn/T/ipykernel_25630/3887715647.py:6: FutureWarning: The frame.append method is deprecated and will be removed from pandas in a future version. Use pandas.concat instead.\n",
      "  df=df.append(table[0])\n"
     ]
    },
    {
     "name": "stdout",
     "output_type": "stream",
     "text": [
      "now snoozing for 10 secs\n",
      "now scraping page 600\n"
     ]
    },
    {
     "name": "stderr",
     "output_type": "stream",
     "text": [
      "/var/folders/61/68rz41055xg7sv4h43532jh00000gn/T/ipykernel_25630/3887715647.py:6: FutureWarning: The frame.append method is deprecated and will be removed from pandas in a future version. Use pandas.concat instead.\n",
      "  df=df.append(table[0])\n"
     ]
    },
    {
     "name": "stdout",
     "output_type": "stream",
     "text": [
      "now snoozing for 16 secs\n"
     ]
    }
   ],
   "source": [
    "#Now we'll do all the pages\n",
    "for i in range(2, 601):\n",
    "    print(f\"now scraping page {i}\")\n",
    "    response=requests.get(base_url+str(i))\n",
    "    if response.status_code<400:\n",
    "        table=pd.read_html(response.text)\n",
    "        df=df.append(table[0])\n",
    "    else:\n",
    "        print(f\"error scraping page {base_url}{i}\")\n",
    "    snooze()\n",
    "    i+=1\n"
   ]
  },
  {
   "cell_type": "code",
   "execution_count": 14,
   "id": "13423de2",
   "metadata": {},
   "outputs": [
    {
     "data": {
      "text/html": [
       "<div>\n",
       "<style scoped>\n",
       "    .dataframe tbody tr th:only-of-type {\n",
       "        vertical-align: middle;\n",
       "    }\n",
       "\n",
       "    .dataframe tbody tr th {\n",
       "        vertical-align: top;\n",
       "    }\n",
       "\n",
       "    .dataframe thead th {\n",
       "        text-align: right;\n",
       "    }\n",
       "</style>\n",
       "<table border=\"1\" class=\"dataframe\">\n",
       "  <thead>\n",
       "    <tr style=\"text-align: right;\">\n",
       "      <th></th>\n",
       "      <th>Dates</th>\n",
       "      <th>Traveler</th>\n",
       "      <th>Member</th>\n",
       "      <th>Party</th>\n",
       "      <th>State / District</th>\n",
       "      <th>Destination</th>\n",
       "      <th>Sponsor</th>\n",
       "      <th>Filing Type</th>\n",
       "    </tr>\n",
       "  </thead>\n",
       "  <tbody>\n",
       "    <tr>\n",
       "      <th>0</th>\n",
       "      <td>Oct. 26, 2023 - Oct. 29, 2023</td>\n",
       "      <td>Steven Horsford</td>\n",
       "      <td>Steven Horsford</td>\n",
       "      <td>D</td>\n",
       "      <td>NV-4</td>\n",
       "      <td>Houston, TX</td>\n",
       "      <td>Congressional Black Caucus Institute</td>\n",
       "      <td>Original</td>\n",
       "    </tr>\n",
       "    <tr>\n",
       "      <th>1</th>\n",
       "      <td>Oct. 22, 2023 - Oct. 23, 2023</td>\n",
       "      <td>Derek Kilmer</td>\n",
       "      <td>Derek Kilmer</td>\n",
       "      <td>D</td>\n",
       "      <td>WA-6</td>\n",
       "      <td>New York, NY</td>\n",
       "      <td>United Nations Foundation</td>\n",
       "      <td>Original</td>\n",
       "    </tr>\n",
       "    <tr>\n",
       "      <th>2</th>\n",
       "      <td>Oct. 22, 2023 - Oct. 23, 2023</td>\n",
       "      <td>Ted Lieu</td>\n",
       "      <td>Ted Lieu</td>\n",
       "      <td>D</td>\n",
       "      <td>CA-36</td>\n",
       "      <td>New York, NY</td>\n",
       "      <td>United</td>\n",
       "      <td>Original</td>\n",
       "    </tr>\n",
       "    <tr>\n",
       "      <th>3</th>\n",
       "      <td>Oct. 20, 2023 - Oct. 22, 2023</td>\n",
       "      <td>Gregory Smith</td>\n",
       "      <td>Eli Crane</td>\n",
       "      <td>R</td>\n",
       "      <td>AZ-2</td>\n",
       "      <td>Charlottesville, VA</td>\n",
       "      <td>Pew Charitable Trusts</td>\n",
       "      <td>Original</td>\n",
       "    </tr>\n",
       "    <tr>\n",
       "      <th>4</th>\n",
       "      <td>Oct. 20, 2023 - Oct. 21, 2023</td>\n",
       "      <td>Marcus Dunn</td>\n",
       "      <td>George Santos</td>\n",
       "      <td>R</td>\n",
       "      <td>NY-3</td>\n",
       "      <td>Charlottesville, VA</td>\n",
       "      <td>Pew Charitable Trusts</td>\n",
       "      <td>Original</td>\n",
       "    </tr>\n",
       "    <tr>\n",
       "      <th>...</th>\n",
       "      <td>...</td>\n",
       "      <td>...</td>\n",
       "      <td>...</td>\n",
       "      <td>...</td>\n",
       "      <td>...</td>\n",
       "      <td>...</td>\n",
       "      <td>...</td>\n",
       "      <td>...</td>\n",
       "    </tr>\n",
       "    <tr>\n",
       "      <th>45</th>\n",
       "      <td>Aug. 27, 2007 - Sept. 1, 2007</td>\n",
       "      <td>Louis Lauter</td>\n",
       "      <td>Rick Larsen</td>\n",
       "      <td>D</td>\n",
       "      <td>WA-2</td>\n",
       "      <td>Kashgar</td>\n",
       "      <td>National Committee on U.S./China Relations</td>\n",
       "      <td>Original</td>\n",
       "    </tr>\n",
       "    <tr>\n",
       "      <th>46</th>\n",
       "      <td>Aug. 27, 2007 - Sept. 1, 2007</td>\n",
       "      <td>Louis Lauter</td>\n",
       "      <td>Rick Larsen</td>\n",
       "      <td>D</td>\n",
       "      <td>WA-2</td>\n",
       "      <td>Narita</td>\n",
       "      <td>National Committee on U.S./China Relations</td>\n",
       "      <td>Original</td>\n",
       "    </tr>\n",
       "    <tr>\n",
       "      <th>47</th>\n",
       "      <td>Aug. 27, 2007 - Sept. 1, 2007</td>\n",
       "      <td>Louis Lauter</td>\n",
       "      <td>Rick Larsen</td>\n",
       "      <td>D</td>\n",
       "      <td>WA-2</td>\n",
       "      <td>Shanghai,</td>\n",
       "      <td>National Committee on U.S./China Relations</td>\n",
       "      <td>Original</td>\n",
       "    </tr>\n",
       "    <tr>\n",
       "      <th>48</th>\n",
       "      <td>Aug. 27, 2007 - Sept. 1, 2007</td>\n",
       "      <td>Louis Lauter</td>\n",
       "      <td>Rick Larsen</td>\n",
       "      <td>D</td>\n",
       "      <td>WA-2</td>\n",
       "      <td>Urumqi</td>\n",
       "      <td>National Committee on U.S./China Relations</td>\n",
       "      <td>Original</td>\n",
       "    </tr>\n",
       "    <tr>\n",
       "      <th>49</th>\n",
       "      <td>Aug. 13, 2007 - Aug. 14, 2007</td>\n",
       "      <td>John Conyers</td>\n",
       "      <td>Conyers, John</td>\n",
       "      <td>NaN</td>\n",
       "      <td>MI-0</td>\n",
       "      <td>New York, NY</td>\n",
       "      <td>American Sociological Association</td>\n",
       "      <td>Amendment</td>\n",
       "    </tr>\n",
       "  </tbody>\n",
       "</table>\n",
       "<p>30000 rows × 8 columns</p>\n",
       "</div>"
      ],
      "text/plain": [
       "                            Dates         Traveler           Member Party  \\\n",
       "0   Oct. 26, 2023 - Oct. 29, 2023  Steven Horsford  Steven Horsford     D   \n",
       "1   Oct. 22, 2023 - Oct. 23, 2023     Derek Kilmer     Derek Kilmer     D   \n",
       "2   Oct. 22, 2023 - Oct. 23, 2023         Ted Lieu         Ted Lieu     D   \n",
       "3   Oct. 20, 2023 - Oct. 22, 2023    Gregory Smith        Eli Crane     R   \n",
       "4   Oct. 20, 2023 - Oct. 21, 2023      Marcus Dunn    George Santos     R   \n",
       "..                            ...              ...              ...   ...   \n",
       "45  Aug. 27, 2007 - Sept. 1, 2007     Louis Lauter      Rick Larsen     D   \n",
       "46  Aug. 27, 2007 - Sept. 1, 2007     Louis Lauter      Rick Larsen     D   \n",
       "47  Aug. 27, 2007 - Sept. 1, 2007     Louis Lauter      Rick Larsen     D   \n",
       "48  Aug. 27, 2007 - Sept. 1, 2007     Louis Lauter      Rick Larsen     D   \n",
       "49  Aug. 13, 2007 - Aug. 14, 2007     John Conyers    Conyers, John   NaN   \n",
       "\n",
       "   State / District          Destination  \\\n",
       "0              NV-4          Houston, TX   \n",
       "1              WA-6         New York, NY   \n",
       "2             CA-36         New York, NY   \n",
       "3              AZ-2  Charlottesville, VA   \n",
       "4              NY-3  Charlottesville, VA   \n",
       "..              ...                  ...   \n",
       "45             WA-2              Kashgar   \n",
       "46             WA-2               Narita   \n",
       "47             WA-2            Shanghai,   \n",
       "48             WA-2               Urumqi   \n",
       "49             MI-0         New York, NY   \n",
       "\n",
       "                                       Sponsor Filing Type  \n",
       "0         Congressional Black Caucus Institute    Original  \n",
       "1                    United Nations Foundation    Original  \n",
       "2                                       United    Original  \n",
       "3                        Pew Charitable Trusts    Original  \n",
       "4                        Pew Charitable Trusts    Original  \n",
       "..                                         ...         ...  \n",
       "45  National Committee on U.S./China Relations    Original  \n",
       "46  National Committee on U.S./China Relations    Original  \n",
       "47  National Committee on U.S./China Relations    Original  \n",
       "48  National Committee on U.S./China Relations    Original  \n",
       "49           American Sociological Association   Amendment  \n",
       "\n",
       "[30000 rows x 8 columns]"
      ]
     },
     "execution_count": 14,
     "metadata": {},
     "output_type": "execute_result"
    }
   ],
   "source": [
    "#and check\n",
    "df"
   ]
  },
  {
   "cell_type": "code",
   "execution_count": 15,
   "id": "e6f7bcf5",
   "metadata": {},
   "outputs": [
    {
     "data": {
      "text/html": [
       "<div>\n",
       "<style scoped>\n",
       "    .dataframe tbody tr th:only-of-type {\n",
       "        vertical-align: middle;\n",
       "    }\n",
       "\n",
       "    .dataframe tbody tr th {\n",
       "        vertical-align: top;\n",
       "    }\n",
       "\n",
       "    .dataframe thead th {\n",
       "        text-align: right;\n",
       "    }\n",
       "</style>\n",
       "<table border=\"1\" class=\"dataframe\">\n",
       "  <thead>\n",
       "    <tr style=\"text-align: right;\">\n",
       "      <th></th>\n",
       "      <th>Dates</th>\n",
       "      <th>Traveler</th>\n",
       "      <th>Member</th>\n",
       "      <th>Party</th>\n",
       "      <th>State / District</th>\n",
       "      <th>Destination</th>\n",
       "      <th>Sponsor</th>\n",
       "      <th>Filing Type</th>\n",
       "    </tr>\n",
       "  </thead>\n",
       "  <tbody>\n",
       "    <tr>\n",
       "      <th>45</th>\n",
       "      <td>Aug. 27, 2007 - Sept. 1, 2007</td>\n",
       "      <td>Louis Lauter</td>\n",
       "      <td>Rick Larsen</td>\n",
       "      <td>D</td>\n",
       "      <td>WA-2</td>\n",
       "      <td>Kashgar</td>\n",
       "      <td>National Committee on U.S./China Relations</td>\n",
       "      <td>Original</td>\n",
       "    </tr>\n",
       "    <tr>\n",
       "      <th>46</th>\n",
       "      <td>Aug. 27, 2007 - Sept. 1, 2007</td>\n",
       "      <td>Louis Lauter</td>\n",
       "      <td>Rick Larsen</td>\n",
       "      <td>D</td>\n",
       "      <td>WA-2</td>\n",
       "      <td>Narita</td>\n",
       "      <td>National Committee on U.S./China Relations</td>\n",
       "      <td>Original</td>\n",
       "    </tr>\n",
       "    <tr>\n",
       "      <th>47</th>\n",
       "      <td>Aug. 27, 2007 - Sept. 1, 2007</td>\n",
       "      <td>Louis Lauter</td>\n",
       "      <td>Rick Larsen</td>\n",
       "      <td>D</td>\n",
       "      <td>WA-2</td>\n",
       "      <td>Shanghai,</td>\n",
       "      <td>National Committee on U.S./China Relations</td>\n",
       "      <td>Original</td>\n",
       "    </tr>\n",
       "    <tr>\n",
       "      <th>48</th>\n",
       "      <td>Aug. 27, 2007 - Sept. 1, 2007</td>\n",
       "      <td>Louis Lauter</td>\n",
       "      <td>Rick Larsen</td>\n",
       "      <td>D</td>\n",
       "      <td>WA-2</td>\n",
       "      <td>Urumqi</td>\n",
       "      <td>National Committee on U.S./China Relations</td>\n",
       "      <td>Original</td>\n",
       "    </tr>\n",
       "    <tr>\n",
       "      <th>49</th>\n",
       "      <td>Aug. 13, 2007 - Aug. 14, 2007</td>\n",
       "      <td>John Conyers</td>\n",
       "      <td>Conyers, John</td>\n",
       "      <td>NaN</td>\n",
       "      <td>MI-0</td>\n",
       "      <td>New York, NY</td>\n",
       "      <td>American Sociological Association</td>\n",
       "      <td>Amendment</td>\n",
       "    </tr>\n",
       "  </tbody>\n",
       "</table>\n",
       "</div>"
      ],
      "text/plain": [
       "                            Dates      Traveler         Member Party  \\\n",
       "45  Aug. 27, 2007 - Sept. 1, 2007  Louis Lauter    Rick Larsen     D   \n",
       "46  Aug. 27, 2007 - Sept. 1, 2007  Louis Lauter    Rick Larsen     D   \n",
       "47  Aug. 27, 2007 - Sept. 1, 2007  Louis Lauter    Rick Larsen     D   \n",
       "48  Aug. 27, 2007 - Sept. 1, 2007  Louis Lauter    Rick Larsen     D   \n",
       "49  Aug. 13, 2007 - Aug. 14, 2007  John Conyers  Conyers, John   NaN   \n",
       "\n",
       "   State / District   Destination                                     Sponsor  \\\n",
       "45             WA-2       Kashgar  National Committee on U.S./China Relations   \n",
       "46             WA-2        Narita  National Committee on U.S./China Relations   \n",
       "47             WA-2     Shanghai,  National Committee on U.S./China Relations   \n",
       "48             WA-2        Urumqi  National Committee on U.S./China Relations   \n",
       "49             MI-0  New York, NY           American Sociological Association   \n",
       "\n",
       "   Filing Type  \n",
       "45    Original  \n",
       "46    Original  \n",
       "47    Original  \n",
       "48    Original  \n",
       "49   Amendment  "
      ]
     },
     "execution_count": 15,
     "metadata": {},
     "output_type": "execute_result"
    }
   ],
   "source": [
    "df.tail()"
   ]
  },
  {
   "cell_type": "code",
   "execution_count": 16,
   "id": "1a65d8b4",
   "metadata": {},
   "outputs": [],
   "source": [
    "df.to_csv(\"GiftTripData.csv\")"
   ]
  },
  {
   "cell_type": "code",
   "execution_count": null,
   "id": "a18cd5fb",
   "metadata": {},
   "outputs": [],
   "source": []
  }
 ],
 "metadata": {
  "kernelspec": {
   "display_name": "Python 3 (ipykernel)",
   "language": "python",
   "name": "python3"
  },
  "language_info": {
   "codemirror_mode": {
    "name": "ipython",
    "version": 3
   },
   "file_extension": ".py",
   "mimetype": "text/x-python",
   "name": "python",
   "nbconvert_exporter": "python",
   "pygments_lexer": "ipython3",
   "version": "3.11.4"
  }
 },
 "nbformat": 4,
 "nbformat_minor": 5
}
