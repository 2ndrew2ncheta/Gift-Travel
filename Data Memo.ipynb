{
 "cells": [
  {
   "cell_type": "markdown",
   "id": "35207d70",
   "metadata": {},
   "source": [
    "# Research Memo"
   ]
  },
  {
   "cell_type": "markdown",
   "id": "fde63753",
   "metadata": {},
   "source": [
    "This repository represents several data explorations relating to the influence of the Israel Lobby on U.S. politics and politicians. It contains Python code that can be used to estimate the amount of money spent on free trips for members of Congress, and fundraising for West Bank Settlements. \n",
    "\n",
    "These figures show that millions of dollars are raised by tax-exempt nonprofits and funneled to charities based in the occupied Palestinian Territories, including for purposes of expanding settlements or dislocating Palestinian communities. \n",
    "It contains three major projects:"
   ]
  },
  {
   "cell_type": "markdown",
   "id": "9c5db5e2",
   "metadata": {},
   "source": [
    "# House Gift Travel"
   ]
  },
  {
   "cell_type": "markdown",
   "id": "d28e4af3",
   "metadata": {},
   "source": [
    "The repository contains code for three major projects. *Congressional Gift Travel* represents an investigation into privately funded travel by members of the House of Representatives and their staff, based on records maintained by ProPublica. After scraping through 600+ pages, I created a database of every privately-funded trip by members of the House of Representatives. The vast majority of these are within the United States; of the remainder, about a quarter are to Israel. Based on my research, **Members/staff of the House of representatives took 591 trips to Israel over the past 5 years, spending 3,000 days there in total.**\n",
    "\n",
    "In addition to creating a table, this file also contains code to download the full(pdf) disclosures for every trip to Israel or the Palestinian territories. Because these files are very large they are not included in this repository. "
   ]
  },
  {
   "cell_type": "markdown",
   "id": "33fe18ca",
   "metadata": {},
   "source": [
    "The file Gift Travel 4.csv represents the culmination of that project.After tabulation all the disclosure data, the destinations were cleaned of typos and variations to sort out exactly how many trips were taken to each country."
   ]
  },
  {
   "cell_type": "markdown",
   "id": "f22cab78",
   "metadata": {},
   "source": [
    "# Senate Gift Travel"
   ]
  },
  {
   "cell_type": "markdown",
   "id": "21ad38e4",
   "metadata": {},
   "source": [
    "*Senate Gift Travel Database* Represents a similar attempt to tally privately-funded travel, for members of the Senate. This is a more difficult task, since records are only available in flattened PDFs that cannot be inspected through ordinary Python methods."
   ]
  },
  {
   "cell_type": "markdown",
   "id": "7ea382b8",
   "metadata": {},
   "source": [
    "# Nonprofits"
   ]
  },
  {
   "cell_type": "markdown",
   "id": "1e57bdd0",
   "metadata": {},
   "source": [
    "Finally, *Nonprofits* represents an effort to sum the amount of money raised by certain pro-Israeli nonprofits, which are known to funnel money towards West Bank settlements and other expansionist projects. This is based on 990 forms downloaded through ProPublica's PDF finder. Knowing the general format of the 990 forms, I was able to isolate the specific lines of those forms to determine how much they had raised in the most recent year. These findings show over $72 million raised by certain Israeli interest charities that have historically contributed to West Bank settlements."
   ]
  },
  {
   "cell_type": "code",
   "execution_count": null,
   "id": "cdc5c959",
   "metadata": {},
   "outputs": [],
   "source": []
  },
  {
   "cell_type": "code",
   "execution_count": null,
   "id": "78b74cb6",
   "metadata": {},
   "outputs": [],
   "source": []
  }
 ],
 "metadata": {
  "kernelspec": {
   "display_name": "Python 3 (ipykernel)",
   "language": "python",
   "name": "python3"
  },
  "language_info": {
   "codemirror_mode": {
    "name": "ipython",
    "version": 3
   },
   "file_extension": ".py",
   "mimetype": "text/x-python",
   "name": "python",
   "nbconvert_exporter": "python",
   "pygments_lexer": "ipython3",
   "version": "3.11.4"
  }
 },
 "nbformat": 4,
 "nbformat_minor": 5
}
