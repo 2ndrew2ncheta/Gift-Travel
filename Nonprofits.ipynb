{
 "cells": [
  {
   "cell_type": "code",
   "execution_count": 1,
   "id": "93c4873b",
   "metadata": {},
   "outputs": [],
   "source": [
    "import pandas as pd\n",
    "import tabula\n",
    "import glob\n",
    "import PyPDF2\n",
    "import re\n"
   ]
  },
  {
   "cell_type": "code",
   "execution_count": 2,
   "id": "9c5c2bc0",
   "metadata": {},
   "outputs": [
    {
     "data": {
      "text/plain": [
       "['Nonprofit Files/Friends Of Ir David Inc - Full Filing- Nonprofit Explorer - ProPublica.pdf',\n",
       " 'Nonprofit Files/American Friends Of Bet El Yeshiva Center - Full Filing- Nonprofit Explorer - ProPublica.pdf',\n",
       " 'Nonprofit Files/Central Fund Of Israel - Full Filing- Nonprofit Explorer - ProPublica.pdf',\n",
       " 'Nonprofit Files/Hebron Fund Inc - Full Filing- Nonprofit Explorer - ProPublica.pdf',\n",
       " 'Nonprofit Files/One Israel Fund Ltd - Full Filing- Nonprofit Explorer - ProPublica.pdf',\n",
       " 'Nonprofit Files/American Friends Of Ateret Cohanem Inc - Full Filing- Nonprofit Explorer - ProPublica.pdf',\n",
       " 'Nonprofit Files/American Friends Of Ariel Inc - Full Filing- Nonprofit Explorer - ProPublica.pdf']"
      ]
     },
     "execution_count": 2,
     "metadata": {},
     "output_type": "execute_result"
    }
   ],
   "source": [
    "files=glob.glob(\"Nonprofit Files/*.pdf\") #Already have files downloaded.\n",
    "files"
   ]
  },
  {
   "cell_type": "code",
   "execution_count": 6,
   "id": "60a1d3ea",
   "metadata": {},
   "outputs": [
    {
     "data": {
      "text/plain": [
       "[['Nonprofit Files/Friends Of Ir David Inc - Full Filing- Nonprofit Explorer - ProPublica.pdf',\n",
       "  '8,657,635'],\n",
       " ['Nonprofit Files/American Friends Of Bet El Yeshiva Center - Full Filing- Nonprofit Explorer - ProPublica.pdf',\n",
       "  '2,353,963'],\n",
       " ['Nonprofit Files/Central Fund Of Israel - Full Filing- Nonprofit Explorer - ProPublica.pdf',\n",
       "  '55,221,168'],\n",
       " ['Nonprofit Files/Hebron Fund Inc - Full Filing- Nonprofit Explorer - ProPublica.pdf',\n",
       "  '2,590,536'],\n",
       " ['Nonprofit Files/One Israel Fund Ltd - Full Filing- Nonprofit Explorer - ProPublica.pdf',\n",
       "  '2,451,780'],\n",
       " ['Nonprofit Files/American Friends Of Ateret Cohanem Inc - Full Filing- Nonprofit Explorer - ProPublica.pdf',\n",
       "  '1,118,459'],\n",
       " ['Nonprofit Files/American Friends Of Ariel Inc - Full Filing- Nonprofit Explorer - ProPublica.pdf',\n",
       "  '287,312']]"
      ]
     },
     "execution_count": 6,
     "metadata": {},
     "output_type": "execute_result"
    }
   ],
   "source": [
    "##From experimentation, I know that the total contributions is usually listed on line 19\n",
    "##of a 990 form, after 58 characters\n",
    "total_contributions=[]\n",
    "sum=0\n",
    "linestart=\"8Contributions and grants (Part VIII , line 1h) .........\" #what we expect to see at the start of the line\n",
    "for pdf in files:\n",
    "    pdf_reader = PyPDF2.PdfReader(pdf) #we only need page 1\n",
    "    text = ''\n",
    "    page = pdf_reader.pages[0]\n",
    "    text += page.extract_text()\n",
    "    lines=text.splitlines() #splits a PDF into distinct lines\n",
    "    for line in lines:\n",
    "        if linestart in line:\n",
    "            current_year=line[58:].split()[1] #We are looking for the line that lists contributions and grants\n",
    "            total_contributions.append([pdf,current_year])\n",
    "            sum+=int(current_year.replace(',',''))\n",
    "    #else:\n",
    "        #print(f\"error scraping {pdf}\")\n",
    "total_contributions\n",
    "\n",
    "        \n"
   ]
  },
  {
   "cell_type": "code",
   "execution_count": 7,
   "id": "d8f3fbac",
   "metadata": {},
   "outputs": [
    {
     "data": {
      "text/plain": [
       "72680853"
      ]
     },
     "execution_count": 7,
     "metadata": {},
     "output_type": "execute_result"
    }
   ],
   "source": [
    "sum"
   ]
  },
  {
   "cell_type": "code",
   "execution_count": null,
   "id": "adc322a1",
   "metadata": {},
   "outputs": [],
   "source": []
  }
 ],
 "metadata": {
  "kernelspec": {
   "display_name": "Python 3 (ipykernel)",
   "language": "python",
   "name": "python3"
  },
  "language_info": {
   "codemirror_mode": {
    "name": "ipython",
    "version": 3
   },
   "file_extension": ".py",
   "mimetype": "text/x-python",
   "name": "python",
   "nbconvert_exporter": "python",
   "pygments_lexer": "ipython3",
   "version": "3.11.4"
  }
 },
 "nbformat": 4,
 "nbformat_minor": 5
}
