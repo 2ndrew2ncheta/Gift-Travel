{
 "cells": [
  {
   "cell_type": "code",
   "execution_count": 55,
   "id": "93c4873b",
   "metadata": {},
   "outputs": [],
   "source": [
    "import pandas as pd\n",
    "import tabula\n",
    "import glob\n",
    "import PyPDF2\n",
    "import re\n"
   ]
  },
  {
   "cell_type": "code",
   "execution_count": 56,
   "id": "9c5c2bc0",
   "metadata": {},
   "outputs": [
    {
     "data": {
      "text/plain": [
       "['Nonprofit Files/Friends Of Ir David Inc - Full Filing- Nonprofit Explorer - ProPublica.pdf',\n",
       " 'Nonprofit Files/American Friends Of Bet El Yeshiva Center - Full Filing- Nonprofit Explorer - ProPublica.pdf',\n",
       " 'Nonprofit Files/Central Fund Of Israel - Full Filing- Nonprofit Explorer - ProPublica.pdf',\n",
       " 'Nonprofit Files/Hebron Fund Inc - Full Filing- Nonprofit Explorer - ProPublica.pdf',\n",
       " 'Nonprofit Files/One Israel Fund Ltd - Full Filing- Nonprofit Explorer - ProPublica.pdf',\n",
       " 'Nonprofit Files/American Friends Of Ateret Cohanem Inc - Full Filing- Nonprofit Explorer - ProPublica.pdf',\n",
       " 'Nonprofit Files/American Friends Of Ariel Inc - Full Filing- Nonprofit Explorer - ProPublica.pdf']"
      ]
     },
     "execution_count": 56,
     "metadata": {},
     "output_type": "execute_result"
    }
   ],
   "source": [
    "files=glob.glob(\"Nonprofit Files/*.pdf\")\n",
    "files"
   ]
  },
  {
   "cell_type": "code",
   "execution_count": 67,
   "id": "9b1652fc",
   "metadata": {},
   "outputs": [
    {
     "ename": "TypeError",
     "evalue": "unsupported operand type(s) for +=: 'int' and 'str'",
     "output_type": "error",
     "traceback": [
      "\u001b[0;31m---------------------------------------------------------------------------\u001b[0m",
      "\u001b[0;31mTypeError\u001b[0m                                 Traceback (most recent call last)",
      "Cell \u001b[0;32mIn[67], line 16\u001b[0m\n\u001b[1;32m     14\u001b[0m     current_year\u001b[38;5;241m=\u001b[39mcontributions[\u001b[38;5;241m58\u001b[39m:]\u001b[38;5;241m.\u001b[39msplit()[\u001b[38;5;241m1\u001b[39m]\n\u001b[1;32m     15\u001b[0m     total_contributions\u001b[38;5;241m.\u001b[39mappend([pdf,current_year])\n\u001b[0;32m---> 16\u001b[0m     \u001b[38;5;28msum\u001b[39m\u001b[38;5;241m+\u001b[39m\u001b[38;5;241m=\u001b[39mcurrent_year\n\u001b[1;32m     17\u001b[0m \u001b[38;5;28;01melse\u001b[39;00m:\n\u001b[1;32m     18\u001b[0m     \u001b[38;5;28mprint\u001b[39m(\u001b[38;5;124mf\u001b[39m\u001b[38;5;124m\"\u001b[39m\u001b[38;5;124merror scraping \u001b[39m\u001b[38;5;132;01m{\u001b[39;00mpdf\u001b[38;5;132;01m}\u001b[39;00m\u001b[38;5;124m\"\u001b[39m)\n",
      "\u001b[0;31mTypeError\u001b[0m: unsupported operand type(s) for +=: 'int' and 'str'"
     ]
    }
   ],
   "source": [
    "##From experimentation, I know that the total contributions is usually listed on line 19\n",
    "##of a 990 form, after 58 characters\n",
    "total_contributions=[]\n",
    "sum=0\n",
    "linestart=\"8Contributions and grants (Part VIII , line 1h) .........\" #what we expect to see at the start of the line\n",
    "for pdf in files:\n",
    "    pdf_reader = PyPDF2.PdfReader(pdf)\n",
    "    text = ''\n",
    "    page = pdf_reader.pages[0]\n",
    "    text += page.extract_text()\n",
    "    lines=text.splitlines()\n",
    "    contributions=lines[19]\n",
    "    if linestart in contributions:\n",
    "        current_year=contributions[58:].split()[1]\n",
    "        total_contributions.append([pdf,current_year])\n",
    "    else:\n",
    "        print(f\"error scraping {pdf}\")\n",
    "total_contributions\n",
    "        \n"
   ]
  },
  {
   "cell_type": "code",
   "execution_count": null,
   "id": "1393b132",
   "metadata": {},
   "outputs": [],
   "source": []
  }
 ],
 "metadata": {
  "kernelspec": {
   "display_name": "Python 3 (ipykernel)",
   "language": "python",
   "name": "python3"
  },
  "language_info": {
   "codemirror_mode": {
    "name": "ipython",
    "version": 3
   },
   "file_extension": ".py",
   "mimetype": "text/x-python",
   "name": "python",
   "nbconvert_exporter": "python",
   "pygments_lexer": "ipython3",
   "version": "3.11.4"
  }
 },
 "nbformat": 4,
 "nbformat_minor": 5
}
